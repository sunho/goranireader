{
 "cells": [
  {
   "cell_type": "code",
   "execution_count": 1,
   "metadata": {
    "papermill": {
     "duration": 0.009216,
     "end_time": "2019-06-03T08:42:08.961125",
     "exception": false,
     "start_time": "2019-06-03T08:42:08.951909",
     "status": "completed"
    },
    "tags": []
   },
   "outputs": [],
   "source": [
    "#\n",
    "# Copyright © 2019 Sunho Kim. All rights reserved.\n",
    "#"
   ]
  },
  {
   "cell_type": "code",
   "execution_count": 2,
   "metadata": {
    "papermill": {
     "duration": 0.015281,
     "end_time": "2019-06-03T08:42:08.979815",
     "exception": false,
     "start_time": "2019-06-03T08:42:08.964534",
     "status": "completed"
    },
    "tags": []
   },
   "outputs": [
    {
     "name": "stdout",
     "output_type": "stream",
     "text": [
      "/gorani/gorani/backend\n"
     ]
    }
   ],
   "source": [
    "cd .."
   ]
  },
  {
   "cell_type": "code",
   "execution_count": 3,
   "metadata": {
    "papermill": {
     "duration": 0.010954,
     "end_time": "2019-06-03T08:42:08.994297",
     "exception": false,
     "start_time": "2019-06-03T08:42:08.983343",
     "status": "completed"
    },
    "tags": []
   },
   "outputs": [],
   "source": [
    "from pyspark.sql import SparkSession, DataFrame\n",
    "\n",
    "spark = SparkSession\\\n",
    "    .builder\\\n",
    "    .appName('App Name')\\\n",
    "    .getOrCreate()\n",
    "sc = spark.sparkContext"
   ]
  },
  {
   "cell_type": "code",
   "execution_count": 4,
   "metadata": {
    "papermill": {
     "duration": 0.013565,
     "end_time": "2019-06-03T08:42:09.011323",
     "exception": false,
     "start_time": "2019-06-03T08:42:08.997758",
     "status": "completed"
    },
    "tags": [
     "parameters"
    ]
   },
   "outputs": [],
   "source": [
    "# parameters\n"
   ]
  },
  {
   "cell_type": "code",
   "execution_count": 5,
   "metadata": {
    "papermill": {
     "duration": 0.012203,
     "end_time": "2019-06-03T08:42:09.027024",
     "exception": false,
     "start_time": "2019-06-03T08:42:09.014821",
     "status": "completed"
    },
    "tags": [
     "injected-parameters"
    ]
   },
   "outputs": [],
   "source": [
    "# Parameters\n",
    "alpha = 0.6\n",
    "ratio = 0.1\n"
   ]
  },
  {
   "cell_type": "code",
   "execution_count": 6,
   "metadata": {
    "papermill": {
     "duration": 1.477359,
     "end_time": "2019-06-03T08:42:10.507815",
     "exception": false,
     "start_time": "2019-06-03T08:42:09.030456",
     "status": "completed"
    },
    "tags": []
   },
   "outputs": [],
   "source": [
    "from gorani.spark import read_api_all, read_data_all, write_api\n",
    "\n",
    "cb_df = read_data_all(spark, 'completed_books')\n",
    "\n",
    "post_df = read_api_all(spark, 'sentence_posts').select('book_id', 'id')\n",
    "\n",
    "fp_df = read_api_all(spark, 'feed_posts')"
   ]
  },
  {
   "cell_type": "code",
   "execution_count": 7,
   "metadata": {
    "papermill": {
     "duration": 11.020512,
     "end_time": "2019-06-03T08:42:21.531760",
     "exception": false,
     "start_time": "2019-06-03T08:42:10.511248",
     "status": "completed"
    },
    "tags": []
   },
   "outputs": [],
   "source": [
    "import pyspark.sql.functions as F\n",
    "from gorani.utils import uuid\n",
    "\n",
    "df = cb_df.join(post_df.alias('p'), cb_df['book_id'] == post_df['book_id'], 'inner')\\\n",
    "    .select(F.col('id').alias('post_id'), 'p.book_id', 'user_id')\n",
    "df = df.join(fp_df, (df['post_id'] == fp_df['post_id']) & (df['user_id'] == fp_df['user_id']), 'left_anti')\\\n",
    "        .select('user_id', 'post_id')\\\n",
    "        .withColumn('id', uuid())\\\n",
    "        .withColumn('updated_at', F.current_timestamp())\\\n",
    "        .withColumn('created_at', F.current_timestamp())\n",
    "\n",
    "write_api('feed_posts', df)"
   ]
  },
  {
   "cell_type": "code",
   "execution_count": null,
   "metadata": {
    "papermill": {
     "duration": 0.003831,
     "end_time": "2019-06-03T08:42:21.539700",
     "exception": false,
     "start_time": "2019-06-03T08:42:21.535869",
     "status": "completed"
    },
    "tags": []
   },
   "outputs": [],
   "source": []
  }
 ],
 "metadata": {
  "celltoolbar": "Tags",
  "kernelspec": {
   "display_name": "pyspark",
   "language": "python",
   "name": "pyspark"
  },
  "language_info": {
   "codemirror_mode": {
    "name": "ipython",
    "version": 3
   },
   "file_extension": ".py",
   "mimetype": "text/x-python",
   "name": "python",
   "nbconvert_exporter": "python",
   "pygments_lexer": "ipython3",
   "version": "3.6.7"
  },
  "papermill": {
   "duration": 18.267216,
   "end_time": "2019-06-03T08:42:23.681240",
   "environment_variables": {},
   "exception": null,
   "input_path": "jobs/feed-posts.ipynb",
   "output_path": "out/output.ipynb",
   "parameters": {
    "alpha": 0.6,
    "ratio": 0.1
   },
   "start_time": "2019-06-03T08:42:05.414024",
   "version": "1.0.1"
  }
 },
 "nbformat": 4,
 "nbformat_minor": 2
}