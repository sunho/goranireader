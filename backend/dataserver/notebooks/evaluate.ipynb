{
 "nbformat": 4,
 "nbformat_minor": 2,
 "metadata": {
  "language_info": {
   "name": "python",
   "codemirror_mode": {
    "name": "ipython",
    "version": 3
   },
   "version": "3.7.4-final"
  },
  "orig_nbformat": 2,
  "file_extension": ".py",
  "mimetype": "text/x-python",
  "name": "python",
  "npconvert_exporter": "python",
  "pygments_lexer": "ipython3",
  "version": 3,
  "kernelspec": {
   "name": "python3",
   "display_name": "Python 3"
  }
 },
 "cells": [
  {
   "cell_type": "code",
   "execution_count": 2,
   "metadata": {},
   "outputs": [],
   "source": [
    "from models.simple import SimpleModel\n",
    "\n",
    "dictionary = {\n",
    "    'simple': SimpleModel\n",
    "}"
   ]
  },
  {
   "cell_type": "code",
   "execution_count": 3,
   "metadata": {},
   "outputs": [],
   "source": [
    "import pandas\n",
    "\n",
    "df = pandas.read_csv('data.csv')"
   ]
  },
  {
   "cell_type": "code",
   "execution_count": 4,
   "metadata": {},
   "outputs": [],
   "source": [
    "df2 = df[df['userId'] == 'bmKnPQcO48sDdLAKy5Lu']\n"
   ]
  },
  {
   "cell_type": "code",
   "execution_count": 5,
   "metadata": {},
   "outputs": [],
   "source": [
    "words = df2['word'].to_list()\n",
    "signals = df2['signal'].to_list()"
   ]
  },
  {
   "cell_type": "code",
   "execution_count": 6,
   "metadata": {},
   "outputs": [],
   "source": [
    "train_words = words[:2000]\n",
    "eval_words = words[2000:]\n",
    "train_signals = signals[:2000]\n",
    "eval_signals = signals[2000:]"
   ]
  },
  {
   "cell_type": "code",
   "execution_count": 52,
   "metadata": {},
   "outputs": [
    {
     "name": "stdout",
     "output_type": "stream",
     "text": "0.6212121212121212\n"
    }
   ],
   "source": [
    "import numpy as np\n",
    "from sklearn.metrics import cohen_kappa_score, recall_score\n",
    "\n",
    "for k, f in dictionary.items():\n",
    "    a = f(0.7,0.05,0.1,0.8)\n",
    "    a.fit(train_words, train_signals)\n",
    "    predicted = [a.predict(s) for s in eval_words]\n",
    "    predicted = np.array(predicted)\n",
    "    evalutaed = np.array(eval_signals)\n",
    "    print(recall_score(evalutaed, predicted))"
   ]
  },
  {
   "cell_type": "code",
   "execution_count": null,
   "metadata": {},
   "outputs": [],
   "source": []
  }
 ]
}