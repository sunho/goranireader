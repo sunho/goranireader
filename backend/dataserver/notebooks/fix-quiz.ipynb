{
 "cells": [
  {
   "cell_type": "code",
   "execution_count": 14,
   "metadata": {},
   "outputs": [],
   "source": [
    "import gorani.models.quiz as mquiz\n",
    "with open('book1.quiz', 'r') as f:\n",
    "    buf = f.read()\n",
    "quiz = mquiz.Quiz.fromXML(buf)"
   ]
  },
  {
   "cell_type": "code",
   "execution_count": 15,
   "metadata": {},
   "outputs": [
    {
     "name": "stdout",
     "output_type": "stream",
     "text": [
      "It was a lesser job, night-crew nurturing, assigned to those who lacked the interest or skills or insight for the more vital jobs of the daytime hours. Most of the people on the night crew had not even been given spouses because they lacked, somehow, the essential capacity to connect to others, which was required for the creation of a family unit. “Maybe we could even keep him,” Lily suggested sweetly, trying to look innocent.\n",
      "“You’re last, tonight.” Jonas sighed. This evening he almost would have preferred to keep his feelings hidden.\n",
      "“Well, it’s the last of the Ceremonies, as you know. After Twelve, age isn’t important. Most of us even lose track of how old we are as time passes, though the information is in the Hall of Open Records, and we could go and look it up if we wanted to.\n",
      "“The year we got Lily, we knew, of course, that we’d receive our female, because we’d made our application and been approved. But I’d been wondering and wondering what her name would be.” “I could have sneaked a look at the list prior to the ceremony,” Father confided.\n",
      "He had tossed it several times across the room, watching, and then rolled it around and around on his desktop, waiting for the thing to happen again. But it hadn’t. The only thing that happened was the announcement later that evening over the speaker, the announcement that had singled him out without using his name, that had caused both of his parents to glance meaningfully at his desk where the apple still lay.\n",
      "Not by the announcement or the necessary apology; those were standard procedures, and he had deserved them—but by the incident itself. He probably should have brought up his feeling of bewilderment that very evening when the family unit had shared their feelings of the day. But he had not been able to sort out and put words to the source of his confusion, so he had let it pass.\n",
      "She was a Birthmother, and then she worked in Food Production for years, until she came here. She never even had a family unit.” Larissa lifted her head and looked around to make sure no one else was listening.\n",
      "He had been permitted an additional month in which to complete the hours, and then given his Assignment privately, with no applause, no celebration: a disgrace that had clouded his entire future. “It’s good to have some volunteers here today,” the attendant told him. “We celebrated a release this morning, and that always throws the schedule off a little, so things get backed up.” She looked at a printed sheet.\n",
      "And some of his friends did, he knew. Once he had been heading off to school with Asher, both of them on their bikes, when Asher’s father had called from their dwelling doorway, “You forgot your pill, Asher!” Asher had groaned good-naturedly, turned his bike, and ridden back while Jonas waited. It was the sort of thing one didn’t ask a friend about because it might have fallen into that uncomfortable category of “being different.” Asher took a pill each morning; Jonas did not.\n",
      "“Thank you for your dream, Jonas,” Mother said after a moment. She glanced at Father. “Lily,” Father said, “it’s time to leave for school.\n",
      "Father had not had to release a single newchild this year, so Gabriel would have represented a real failure and sadness. Even Jonas, though he didn’t hover over the little one the way Lily and his father did, was glad that Gabe had not been released. The first Ceremony began right on time, and Jonas watched as one after another each newchild was given a name and handed by the Nurturers to its new family unit.\n",
      "Jonas nodded. It had only been last year. Asher’s parents had waited quite a long time before applying for a second child.\n",
      "It had given him a slight advantage the first year or two, a little more maturity than many of his groupmates who had been born in the later months of that year. But it evened out, as it always did, by Three. After Three, the children progressed at much the same level, though by their first number one could always tell who was a few months older than others in his group.\n",
      "Even the applause, though enthusiastic, seemed serene when Fiona was given the important Assignment of Caretaker of the Old. It was perfect for such a sensitive, gentle girl, and her smile was satisfied and pleased when she took her seat beside him again. Jonas prepared himself to walk to the stage when the applause ended and the Chief Elder picked up the next folder and looked down to the group to call forward the next new Twelve.\n",
      "“It was ten years ago, when Jonas was just a toddler. I will not dwell on the experience because it causes us all terrible discomfort.” Jonas didn’t know what she was referring to, but he could sense the discomfort of the audience.\n",
      "“I accept your apology,” Jonas replied shakily. “Please come to the stage now.” Earlier that day, dressing in his own dwelling, he had practiced the kind of jaunty, self-assured walk that he hoped he could make to the stage when his turn came.\n",
      "When he had crushed his finger in the door, he had quickly, gasping into the speaker, notified his mother; she had hastily requisitioned relief-of-pain medication which had promptly been delivered to his dwelling. Almost instantly the excruciating pain in his hand had diminished to the throb which was, now, all he could recall of the experience. Re-reading rule number 6, he realized that a crushed finger fell into the category of “unrelated to training.” So if it ever happened again—and he was quite certain it wouldn’t; he had been very careful near heavy doors since the accident!—he could still receive medication.\n",
      "[3, 63]\n",
      "1\n",
      "He remembered what the Chief Elder had said: that his training would be alone and apart. But his training had not yet begun and already, upon leaving the Auditorium, he felt the apartness. Holding the folder she had given him, he made his way through the throng, looking for his family unit and for Asher.\n",
      "“It would be difficult if citizens wandered in, looking for the Department of Bicycle Repair, or something.” Jonas laughed, relaxing a little. The woman seemed very friendly, and it was true—in fact it was a joke throughout the community—that the Department of Bicycle Repair, an unimportant little office, was relocated so often that no one ever knew where it was.\n",
      "“This job has aged me. I know I look as if I should be scheduled for release very soon. But actually I have a good deal of time left.\n",
      "He smiled. “I can see that,” he said. “Well, since you asked the question—I think I have enough energy for one more transmission.\n",
      "And the sled itself seemed to be poised at the top of a long, extended mound that rose from the very land where he was. Even as he thought the word “mound,” his new consciousness told him hill. Then the sled, with Jonas himself upon it, began to move through the snowfall, and he understood instantly that now he was going downhill.\n",
      "“And I’d like to ask you about it, if you don’t mind.” “You may ask me anything.” Jonas tried to sort it out in his mind so that he could explain it clearly.\n",
      "But it would have been impossible, anyway. There was no way to describe to his friends what he had experienced there in the Annex room. How could you describe a sled without describing a hill and snow; and how could you describe a hill and snow to someone who had never felt height or wind or that feathery, magical cold?\n",
      "Thirteen DAYS WENT BY, and weeks. Jonas learned, through the memories, the names of colors; and now he began to see them all, in his ordinary life (though he knew it was ordinary no longer, and would never be again).\n",
      "[25, 32]\n",
      "1\n",
      "There would be a glimpse of green—the landscaped lawn around the Central Plaza; a bush on the riverbank. The bright orange of pumpkins being trucked in from the agricultural fields beyond the community boundary—seen in an instant, the flash of brilliant color, but gone again, returning to their flat and hueless shade. The Giver told him that it would be a very long time before he had the colors to keep.\n",
      "Let’s change it!” “How do you suggest we do that? I’ve never been able to think of a way, and I’m supposed to be the one with all the wisdom.”\n",
      "There’s a Birth-mother who’s expecting twin males next month.” “Oh, dear,” Mother said, shaking her head. “If they’re identical, I hope you’re not the one assigned—”\n",
      "“Water,” he begged again. When he spoke, a new spurt of blood drenched the coarse cloth across his chest and sleeve. One of Jonas’s arms was immobilized with pain, and he could see through his own torn sleeve something that looked like ragged flesh and splintery bone.\n",
      "Overwhelmed by pain, he lay there in the fearsome stench for hours, listened to the men and animals die, and learned what warfare meant. Finally, when he knew that he could bear it no longer and would welcome death himself, he opened his eyes and was once again on the bed. The Giver looked away, as if he could not bear to see what he had done to Jonas.\n",
      "[31, 60]\n"
     ]
    },
    {
     "name": "stdout",
     "output_type": "stream",
     "text": [
      "1\n",
      ". . well, I can see that it wasn’t a very practical way to live, with the Old right there in the same place, where maybe they wouldn’t be well taken care of, the way they are now, and that we have a better-arranged way of doing things.\n",
      "“I have a question I want to ask you.” “What is it, Jonas?” his father asked. He made himself say the words, though he felt flushed with embarrassment.\n",
      "Thinking, as he always did, about precision of language, Jonas realized that it was a new depth of feelings that he was experiencing. Somehow they were not at all the same as the feelings that every evening, in every dwelling, every citizen analyzed with endless talk. “I felt angry because someone broke the play area rules,” Lily had said once, making a fist with her small hand to indicate her fury.\n",
      "But he knew he couldn’t go back to the world of no feelings that he had lived in so long. And his new, heightened feelings permeated a greater realm than simply his sleep. Though he knew that his failure to take the pills accounted for some of it, he thought that the feelings came also from the memories.\n",
      "Eighteen “GIVER,” JONAS ASKED the next afternoon, “Do you ever think about release?”\n",
      "She was eager and excited and a little scared. We talked. I tried to explain things as well as I could.”\n",
      "Think how confusing it would be!” Jonas chuckled. “I wish I could watch,” he added, as an afterthought. He liked the thought of seeing his father perform the ceremony, and making the little twin clean and comfy.\n",
      "I think it was this morning.” The Giver’s face took on a solemn look. “I wish they wouldn’t do that,” he said quietly, almost to himself.\n",
      "Please come with me.” He knew the answer even as he made the final plea. “My work will be finished,” The Giver had replied gently, “when I have helped the community to change and become whole. “I’m grateful to you, Jonas, because without you I would never have figured out a way to bring about the change.\n",
      "“I’ve started to share them with you,” Jonas said, trying to cheer him. “That’s true. And having you here with me over the past year has made me realize that things must change.\n",
      "They were really frazzled by the time I got to work.” “Gabe, you naughty thing,” Lily said, with a scolding little cluck toward the grinning toddler on the floor. “So,” Father went on, “we obviously had to make the decision.\n",
      "Together they became cold; and when the planes were gone, they would shiver, holding each other, until sleep came again. Sometimes, urging the memories into Gabriel, Jonas felt that they were more shallow, a little weaker than they had been. It was what he had hoped, and what he and The Giver had planned: that as he moved away from the community, he would shed the memories and leave them behind for the people.\n",
      "But there were desperate fears building in him now as well. The most relentless of his new fears was that they would starve. Now that they had left the cultivated fields behind them, it was almost impossible to find food.\n",
      "After a life of Sameness and predictability, he was awed by the surprises that lay beyond each curve of the road. He slowed the bike again and again to look with wonder at wildflowers, to enjoy the throaty warble of a new bird nearby, or merely to watch the way wind shifted the leaves in the trees. During his twelve years in the community, he had never felt such simple moments of exquisite happiness.\n",
      "He heard no sound ahead. Yet he felt it: felt that Elsewhere was not far away. But he had little hope left that he would be able to reach it.\n",
      "But the memory faded, leaving him colder than before. If only he had had time to receive more warmth from The Giver before he escaped! Maybe there would be more left for him now.\n"
     ]
    }
   ],
   "source": [
    "import re\n",
    "def split_sentence(sen):\n",
    "    out = re.split(\"[^a-zA-Z-]+\",sen)\n",
    "    \n",
    "    if out[0] == '':\n",
    "        if len(out) == 1:\n",
    "            return []\n",
    "        out = out[1:]\n",
    "    if out[len(out) - 1] == '':\n",
    "        if len(out) == 1:\n",
    "            return []\n",
    "        out = out[:-1]\n",
    "    return out\n",
    "\n",
    "newOut = mquiz.Quiz()\n",
    "\n",
    "for chap in quiz.chapters:\n",
    "    items = list()\n",
    "    for item in chap.items:\n",
    "        words = split_sentence(item.sentence)\n",
    "        print(item.sentence)\n",
    "        i = -1\n",
    "        carr = list()\n",
    "        wordIndex = None\n",
    "        for word in words:\n",
    "            i += 1\n",
    "            if word == item.word:\n",
    "                carr.append(i)\n",
    "        if len(carr) == 0:\n",
    "            raise Exception(\"wtf\")\n",
    "        if len(carr) > 1:\n",
    "            print(carr)\n",
    "            s = input()\n",
    "            wordIndex = carr[int(s)]\n",
    "        else:\n",
    "            wordIndex = carr[0]\n",
    "        items.append(mquiz.WordItem(item.id, item.sentence, wordIndex, item.options, item.answer, item.word))\n",
    "    newOut.chapters.append(mquiz.Chapter(chap.id, items))"
   ]
  },
  {
   "cell_type": "code",
   "execution_count": 16,
   "metadata": {},
   "outputs": [],
   "source": [
    "from xml.dom import minidom\n",
    "buf = minidom.parseString(newOut.toXML().decode('utf-8')).toprettyxml(indent=\"   \")\n",
    "with open('book1-new.quiz', 'wb') as f:\n",
    "  f.write(buf.encode('utf-8'))"
   ]
  },
  {
   "cell_type": "code",
   "execution_count": null,
   "metadata": {},
   "outputs": [],
   "source": []
  }
 ],
 "metadata": {
  "kernelspec": {
   "display_name": "Python 3",
   "language": "python",
   "name": "python3"
  }
 },
 "nbformat": 4,
 "nbformat_minor": 2
}
