{
 "cells": [
  {
   "cell_type": "code",
   "execution_count": null,
   "metadata": {},
   "outputs": [],
   "source": [
    "import gorani.models.quiz as mquiz\n",
    "with open('book1.quiz', 'r') as f:\n",
    "    buf = f.read()\n",
    "quiz = mquiz.Quiz.fromXML(buf)"
   ]
  },
  {
   "cell_type": "code",
   "execution_count": null,
   "metadata": {},
   "outputs": [],
   "source": [
    "import re\n",
    "def split_sentence(sen):\n",
    "    out = re.split(\"[^a-zA-Z-]+\",sen)\n",
    "    \n",
    "    if out[0] == '':\n",
    "        if len(out) == 1:\n",
    "            return []\n",
    "        out = out[1:]\n",
    "    if out[len(out) - 1] == '':\n",
    "        if len(out) == 1:\n",
    "            return []\n",
    "        out = out[:-1]\n",
    "    return out\n",
    "\n",
    "newOut = mquiz.Quiz()\n",
    "\n",
    "for chap in quiz.chapters:\n",
    "    items = list()\n",
    "    for item in chap.items:\n",
    "        words = split_sentence(item.sentence)\n",
    "        print(item.sentence)\n",
    "        i = -1\n",
    "        carr = list()\n",
    "        wordIndex = None\n",
    "        for word in words:\n",
    "            i += 1\n",
    "            if word == item.word:\n",
    "                carr.append(i)\n",
    "        if len(carr) == 0:\n",
    "            raise Exception(\"wtf\")\n",
    "        if len(carr) > 1:\n",
    "            print(carr)\n",
    "            s = input()\n",
    "            wordIndex = carr[int(s)]\n",
    "        else:\n",
    "            wordIndex = carr[0]\n",
    "        items.append(mquiz.WordItem(item.id, item.sentence, wordIndex, item.options, item.answer, item.word))\n",
    "    newOut.chapters.append(mquiz.Chapter(chap.id, items))"
   ]
  },
  {
   "cell_type": "code",
   "execution_count": null,
   "metadata": {},
   "outputs": [],
   "source": [
    "from xml.dom import minidom\n",
    "buf = minidom.parseString(newOut.toXML().decode('utf-8')).toprettyxml(indent=\"   \")\n",
    "with open('book1-new.quiz', 'wb') as f:\n",
    "  f.write(buf.encode('utf-8'))"
   ]
  },
  {
   "cell_type": "code",
   "execution_count": null,
   "metadata": {},
   "outputs": [],
   "source": []
  }
 ],
 "metadata": {
  "kernelspec": {
   "display_name": "Python 3",
   "language": "python",
   "name": "python3"
  }
 },
 "nbformat": 4,
 "nbformat_minor": 2
}
