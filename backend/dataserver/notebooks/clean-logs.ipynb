{
 "cells": [
  {
   "cell_type": "code",
   "execution_count": 18,
   "metadata": {},
   "outputs": [
    {
     "ename": "ValueError",
     "evalue": "The default Firebase app already exists. This means you called initialize_app() more than once without providing an app name as the second argument. In most cases you only need to call initialize_app() once. But if you do want to initialize multiple apps, pass a second argument to initialize_app() to give each app a unique name.",
     "output_type": "error",
     "traceback": [
      "\u001b[0;31m---------------------------------------------------------------------------\u001b[0m",
      "\u001b[0;31mValueError\u001b[0m                                Traceback (most recent call last)",
      "\u001b[0;32m<ipython-input-18-659dac5953d8>\u001b[0m in \u001b[0;36m<module>\u001b[0;34m\u001b[0m\n\u001b[1;32m      3\u001b[0m \u001b[0msc\u001b[0m\u001b[0;34m.\u001b[0m\u001b[0maddPyFile\u001b[0m\u001b[0;34m(\u001b[0m\u001b[0;34m'gorani.zip'\u001b[0m\u001b[0;34m)\u001b[0m\u001b[0;34m\u001b[0m\u001b[0;34m\u001b[0m\u001b[0m\n\u001b[1;32m      4\u001b[0m \u001b[0;32mfrom\u001b[0m \u001b[0mgorani\u001b[0m \u001b[0;32mimport\u001b[0m \u001b[0mfirebase\u001b[0m\u001b[0;34m\u001b[0m\u001b[0;34m\u001b[0m\u001b[0m\n\u001b[0;32m----> 5\u001b[0;31m \u001b[0mfirebase\u001b[0m\u001b[0;34m.\u001b[0m\u001b[0minit\u001b[0m\u001b[0;34m(\u001b[0m\u001b[0;34m'spark'\u001b[0m\u001b[0;34m)\u001b[0m\u001b[0;34m\u001b[0m\u001b[0;34m\u001b[0m\u001b[0m\n\u001b[0m\u001b[1;32m      6\u001b[0m \u001b[0mmydb\u001b[0m \u001b[0;34m=\u001b[0m \u001b[0mfirebase\u001b[0m\u001b[0;34m.\u001b[0m\u001b[0mdb\u001b[0m\u001b[0;34m(\u001b[0m\u001b[0;34m)\u001b[0m\u001b[0;34m\u001b[0m\u001b[0;34m\u001b[0m\u001b[0m\n\u001b[1;32m      7\u001b[0m \u001b[0;32mfrom\u001b[0m \u001b[0mgorani\u001b[0m\u001b[0;34m.\u001b[0m\u001b[0mgorani\u001b[0m \u001b[0;32mimport\u001b[0m \u001b[0mGorani\u001b[0m\u001b[0;34m\u001b[0m\u001b[0;34m\u001b[0m\u001b[0m\n",
      "\u001b[0;32m/tmp/spark-c9e7d353-a852-4861-8e80-4490295a4127/userFiles-8d564870-1c50-47b2-a6a0-5847bc7e8a23/gorani.zip/gorani/firebase.py\u001b[0m in \u001b[0;36minit\u001b[0;34m(env)\u001b[0m\n\u001b[1;32m     13\u001b[0m     \u001b[0mcred\u001b[0m \u001b[0;34m=\u001b[0m \u001b[0mcredentials\u001b[0m\u001b[0;34m.\u001b[0m\u001b[0mCertificate\u001b[0m\u001b[0;34m(\u001b[0m\u001b[0;34m\"key.json\"\u001b[0m\u001b[0;34m)\u001b[0m\u001b[0;34m\u001b[0m\u001b[0;34m\u001b[0m\u001b[0m\n\u001b[1;32m     14\u001b[0m     firebase_admin.initialize_app(cred, {\n\u001b[0;32m---> 15\u001b[0;31m         \u001b[0;34m'projectId'\u001b[0m\u001b[0;34m:\u001b[0m \u001b[0;34m\"gorani-reader-249509\"\u001b[0m\u001b[0;34m,\u001b[0m\u001b[0;34m\u001b[0m\u001b[0;34m\u001b[0m\u001b[0m\n\u001b[0m\u001b[1;32m     16\u001b[0m     })\n\u001b[1;32m     17\u001b[0m \u001b[0;34m\u001b[0m\u001b[0m\n",
      "\u001b[0;32m~/miniconda3/lib/python3.7/site-packages/firebase_admin/__init__.py\u001b[0m in \u001b[0;36minitialize_app\u001b[0;34m(credential, options, name)\u001b[0m\n\u001b[1;32m     72\u001b[0m     \u001b[0;32mif\u001b[0m \u001b[0mname\u001b[0m \u001b[0;34m==\u001b[0m \u001b[0m_DEFAULT_APP_NAME\u001b[0m\u001b[0;34m:\u001b[0m\u001b[0;34m\u001b[0m\u001b[0;34m\u001b[0m\u001b[0m\n\u001b[1;32m     73\u001b[0m         raise ValueError((\n\u001b[0;32m---> 74\u001b[0;31m             \u001b[0;34m'The default Firebase app already exists. This means you called '\u001b[0m\u001b[0;34m\u001b[0m\u001b[0;34m\u001b[0m\u001b[0m\n\u001b[0m\u001b[1;32m     75\u001b[0m             \u001b[0;34m'initialize_app() more than once without providing an app name as '\u001b[0m\u001b[0;34m\u001b[0m\u001b[0;34m\u001b[0m\u001b[0m\n\u001b[1;32m     76\u001b[0m             \u001b[0;34m'the second argument. In most cases you only need to call '\u001b[0m\u001b[0;34m\u001b[0m\u001b[0;34m\u001b[0m\u001b[0m\n",
      "\u001b[0;31mValueError\u001b[0m: The default Firebase app already exists. This means you called initialize_app() more than once without providing an app name as the second argument. In most cases you only need to call initialize_app() once. But if you do want to initialize multiple apps, pass a second argument to initialize_app() to give each app a unique name."
     ]
    }
   ],
   "source": [
    "import sys\n",
    "sys.path.append('gorani.zip')\n",
    "sc.addPyFile('gorani.zip')\n",
    "from gorani import firebase\n",
    "firebase.init('spark')\n",
    "mydb = firebase.db()\n",
    "from gorani.gorani import Gorani\n",
    "from gorani.transformer import Transformer\n",
    "from gorani.utils import split_sentence\n",
    "gorani = Gorani(mydb)\n",
    "transformer = Transformer(gorani, spark, sc)"
   ]
  },
  {
   "cell_type": "code",
   "execution_count": 22,
   "metadata": {},
   "outputs": [],
   "source": [
    "spark.conf.set(\"spark.sql.execution.arrow.enabled\", \"true\")"
   ]
  },
  {
   "cell_type": "code",
   "execution_count": 23,
   "metadata": {},
   "outputs": [],
   "source": [
    "import os\n",
    "df = spark.read.csv(\"logs.csv\", header=\"true\", quote='\"', escape='\"')"
   ]
  },
  {
   "cell_type": "code",
   "execution_count": 24,
   "metadata": {},
   "outputs": [],
   "source": [
    "from pyspark.sql.functions import col, pandas_udf, PandasUDFType\n",
    "from pyspark.sql.functions import udf, from_json\n",
    "import pyspark.sql.functions as F\n",
    "from pyspark.sql.types import *\n",
    "\n",
    "PaginateSentence = StructType([\n",
    "    StructField(\"sid\", StringType()),\n",
    "    StructField(\"words\", ArrayType(StringType())),\n",
    "    StructField(\"unknownIndice\", ArrayType(IntegerType())),\n",
    "    StructField(\"unknownWords\", ArrayType(StringType())),\n",
    "    StructField(\"unknown\", BooleanType())\n",
    "])\n",
    "\n",
    "SubmitQuestionPayload = StructType([\n",
    "    StructField(\"bookId\", StringType()),\n",
    "    StructField(\"chapterId\", StringType()),\n",
    "    StructField(\"questionId\", StringType()),\n",
    "    StructField(\"option\", StringType()),\n",
    "    StructField(\"right\", BooleanType()),\n",
    "    StructField(\"time\", IntegerType())\n",
    "])\n",
    "\n",
    "\n",
    "@udf(ArrayType(PaginateSentence))\n",
    "def get_sentences(bookId, chapterId, sids, wordUnknowns, sentenceUnknowns):\n",
    "    out = []\n",
    "    for sid in sids:\n",
    "        wis = []\n",
    "        wus = []\n",
    "        unknown = False\n",
    "        sentence = gorani.get_sentence(bookId, chapterId, sid) or \"\"\n",
    "        words = split_sentence(sentence)\n",
    "        for su in sentenceUnknowns:\n",
    "            if su['sentenceId'] == sid:\n",
    "                unknown = True\n",
    "        for wu in wordUnknowns:\n",
    "            if wu['sentenceId'] == sid:\n",
    "                wi = wu['wordIndex']\n",
    "                if words[wi] != wu['word']:\n",
    "                    raise Exception(sentence + ' ' + sid + ' word mismatch: ' + words[wi]  + ',' + wu['word'])\n",
    "                wis.append(wi)\n",
    "                wus.append(words[wi])\n",
    "        out.append({'sid': sid, 'words': words, 'unknownIndice': wis, 'unknownWords': wus,'unknown': unknown})\n",
    "    return out\n",
    "\n",
    "paginateDf = df.n(transformer.parse_paginate())\\\n",
    "    .n(transformer.filter_cheat())\\\n",
    "    .withColumn('sentences', get_sentences(col('bookId'), col('chapterId'), col('sids'), col('wordUnknowns'), col('sentenceUnknowns')))\\\n",
    "    .select('time', 'classId', 'userId', 'bookId', 'chapterId', 'sentences', 'eltime')\n"
   ]
  },
  {
   "cell_type": "code",
   "execution_count": 25,
   "metadata": {},
   "outputs": [],
   "source": [
    "import pandas as pd\n",
    "import math\n",
    "\n",
    "qDf = df.filter(df['type'] == 'submit_question')\\\n",
    "    .withColumn('payload', from_json(col('payload'), SubmitQuestionPayload))\\\n",
    "    .withColumn('eltime', col('payload.time'))\\\n",
    "    .withColumn('qid', col('payload.questionId'))\\\n",
    "    .withColumn('chapterId', col('payload.chapterId'))\\\n",
    "    .withColumn('bookId', col('payload.bookId'))\\\n",
    "    .withColumn('option', col('payload.option'))\\\n",
    "    .withColumn('right', col('payload.right'))\\\n",
    "    .drop('payload')\n",
    "\n",
    "rawDf = qDf.orderBy('time').dropDuplicates(['qid','userId','chapterId']).drop('time')\\\n",
    "    .withColumn('cr', F.when(col('right') == True, 1).otherwise(0)).groupBy('userId', 'bookId', 'chapterId')\\\n",
    "    .agg(F.sum(col('cr')).alias('score'), F.sum(col('eltime')).alias('time')).drop('cr')\\\n",
    "    .withColumn('total', transformer.get_questions_len(col('bookId'), col('chapterId')))\\\n",
    "    .withColumn('raw', col('score') / col('total'))\n",
    "\n",
    "@pandas_udf(StructType(rawDf.schema.fields + [StructField('timeZ', FloatType()), StructField('scorePerc', FloatType())]), PandasUDFType.GROUPED_MAP)\n",
    "def perc(df):\n",
    "    sz = df['raw'].size-1\n",
    "    df['scorePerc'] = df['raw'].rank(method='max').apply(lambda x: -1 if sz == 0 else (x-1)/sz)\n",
    "    sd = df['time'].std()\n",
    "    if sd == 0 or sd is None or math.isnan(sd):\n",
    "        sd = 1\n",
    "    df['timeZ'] = -(df['time'] - df['time'].mean())/sd\n",
    "    return df\n",
    "\n",
    "percDf = rawDf\\\n",
    "    .groupBy('chapterId').apply(perc)\\\n",
    "    .select('userId', 'timeZ', 'scorePerc', 'chapterId', 'bookId')\n"
   ]
  },
  {
   "cell_type": "code",
   "execution_count": 26,
   "metadata": {},
   "outputs": [],
   "source": [
    "resDf = percDf.join(paginateDf, ['userId','chapterId','bookId'], 'inner')"
   ]
  },
  {
   "cell_type": "code",
   "execution_count": 27,
   "metadata": {},
   "outputs": [],
   "source": [
    "import json\n",
    "result = resDf.rdd.map(lambda row: row.asDict(recursive=True)).collect()\n",
    "with open('clean_logs.json', 'w') as f:\n",
    "    json.dump(result, f)"
   ]
  },
  {
   "cell_type": "code",
   "execution_count": null,
   "metadata": {},
   "outputs": [],
   "source": []
  }
 ],
 "metadata": {
  "kernelspec": {
   "display_name": "PySpark (Spark 2.0)",
   "language": "python",
   "name": "pyspark"
  },
  "language_info": {
   "codemirror_mode": {
    "name": "ipython",
    "version": 3
   },
   "file_extension": ".py",
   "mimetype": "text/x-python",
   "name": "python",
   "nbconvert_exporter": "python",
   "pygments_lexer": "ipython3",
   "version": "3.7.3"
  }
 },
 "nbformat": 4,
 "nbformat_minor": 2
}
