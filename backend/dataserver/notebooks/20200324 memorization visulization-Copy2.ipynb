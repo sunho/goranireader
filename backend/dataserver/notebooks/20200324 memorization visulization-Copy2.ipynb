{
 "cells": [
  {
   "cell_type": "code",
   "execution_count": 11,
   "metadata": {},
   "outputs": [
    {
     "data": {
      "text/plain": [
       "'\\nasdf@[@iasdf.png@[@adasf'"
      ]
     },
     "execution_count": 11,
     "metadata": {},
     "output_type": "execute_result"
    }
   ],
   "source": [
    "from inscriptis import get_text, Inscriptis\n",
    "\n",
    "class InscriptisImg(Inscriptis):\n",
    "    def start_img(self, attrs):\n",
    "        image_text = attrs.get('src', '')\n",
    "        if image_text and not (self.cfg_deduplicate_captions and\n",
    "                               image_text == self.last_caption):\n",
    "            self.current_line[-1].content += '@[@%%{}@[@'.format(image_text)\n",
    "            self.last_caption = image_text\n",
    "\n",
    "from lxml.html import fromstring\n",
    "\n",
    "tree = fromstring('asdf<img src=\"asdf.png\"/>adasf')\n",
    "InscriptisImg(tree, display_images=True).get_text()"
   ]
  },
  {
   "cell_type": "code",
   "execution_count": 1,
   "metadata": {},
   "outputs": [],
   "source": [
    "from gorani.booky.book import Book, read_epub"
   ]
  },
  {
   "cell_type": "code",
   "execution_count": 2,
   "metadata": {},
   "outputs": [],
   "source": [
    "from metaflow import Flow"
   ]
  },
  {
   "cell_type": "code",
   "execution_count": 3,
   "metadata": {},
   "outputs": [],
   "source": [
    "run = Flow('MergeFilterPaginate').latest_successful_run"
   ]
  },
  {
   "cell_type": "code",
   "execution_count": 111,
   "metadata": {},
   "outputs": [],
   "source": [
    "df = run.data.pages"
   ]
  },
  {
   "cell_type": "code",
   "execution_count": 112,
   "metadata": {},
   "outputs": [],
   "source": [
    "import seaborn as sns\n",
    "sns.set()\n",
    "sns.set_palette(sns.color_palette(\"RdBu_r\", 7))"
   ]
  },
  {
   "cell_type": "code",
   "execution_count": 113,
   "metadata": {},
   "outputs": [],
   "source": [
    "eltimes = df.copy()\n",
    "eltimes['count'] = 1\n",
    "eltimes = eltimes.groupby('userId').sum()\n",
    "eltimes = eltimes[['eltime', 'count']]"
   ]
  },
  {
   "cell_type": "code",
   "execution_count": 114,
   "metadata": {},
   "outputs": [],
   "source": [
    "eltimes['cheat'] = eltimes['eltime'].map(lambda x: x <= 665)"
   ]
  },
  {
   "cell_type": "code",
   "execution_count": 122,
   "metadata": {},
   "outputs": [],
   "source": [
    "df = run.data.pages\n",
    "df = df.sort_values(['time'])"
   ]
  },
  {
   "cell_type": "code",
   "execution_count": 123,
   "metadata": {},
   "outputs": [],
   "source": [
    "import numpy as np\n",
    "import pandas as pd"
   ]
  },
  {
   "cell_type": "code",
   "execution_count": 124,
   "metadata": {},
   "outputs": [],
   "source": [
    "df = df.set_index('userId').join(eltimes[['cheat']])"
   ]
  },
  {
   "cell_type": "code",
   "execution_count": 126,
   "metadata": {},
   "outputs": [],
   "source": [
    "df['i'] = np.arange(len(df))\n",
    "df['signalWord'] = df.apply(lambda x: [[x['words'][i].lower(), 0 if (i in x['unknownIndices']) or (x['words'][i].lower() in [y.lower() for y in x['unknownWords']]) else 1] for i in range(len(x['words']))], axis = 1)"
   ]
  },
  {
   "cell_type": "code",
   "execution_count": 133,
   "metadata": {},
   "outputs": [],
   "source": [
    "def handle(value):\n",
    "    words = []\n",
    "    knows = []\n",
    "    times = []\n",
    "    for x, t in zip(value['signalWord'], value['time']):\n",
    "        for y in x:\n",
    "            if len(y) != 2:\n",
    "                continue    \n",
    "            words.append(y[0])\n",
    "            knows.append(y[1])\n",
    "            times.append(t)\n",
    "    return pd.DataFrame({'word': words, 'known': knows, 'time': times}).reset_index()\n",
    "df3 = df.groupby(['userId', 'cheat']).apply(handle).reset_index(level=2, drop=True).reset_index()\n",
    "df3.set_index(['userId', 'cheat', 'word'], inplace=True)\n",
    "df3 = df3.sort_values(['time'])"
   ]
  },
  {
   "cell_type": "code",
   "execution_count": 217,
   "metadata": {},
   "outputs": [],
   "source": [
    "def retention(df):\n",
    "    count = 0\n",
    "    start = 0\n",
    "    total = 0\n",
    "    days = []\n",
    "    maxDay = 0\n",
    "    \n",
    "    for t, k in zip(df['time'], df['known']):\n",
    "        if start == 0:\n",
    "            start = t\n",
    "        dur = t - start\n",
    "        total += k\n",
    "        count += 1\n",
    "        tmp = int(dur/(60*60))\n",
    "        days.append({'day': tmp, 'known': k})\n",
    "        if maxDay < tmp:\n",
    "            maxDay = tmp\n",
    "    df = pd.DataFrame(days).groupby('day').mean().reset_index()\n",
    "    if df.size >=2:\n",
    "        first = df.iloc[0]['known']\n",
    "        last = df.iloc[-1]['known']\n",
    "    else:\n",
    "        first = np.nan\n",
    "        last = np.nan\n",
    "    df = df[['day','known']].T.to_dict().values()\n",
    "    return pd.Series({'count': count, 'days': maxDay + 1, 'avg': total/count, 'first': first, 'last': last, 'df': df})\n",
    "\n",
    "df4 = df3.groupby(['userId','cheat', 'word']).apply(retention)"
   ]
  },
  {
   "cell_type": "code",
   "execution_count": 218,
   "metadata": {},
   "outputs": [],
   "source": [
    "df4['known'] = df4['df'].map(lambda x: [y['known'] for y in x])\n",
    "df4['day'] = df4['df'].map(lambda x: [y['day'] for y in x])"
   ]
  },
  {
   "cell_type": "code",
   "execution_count": 219,
   "metadata": {},
   "outputs": [],
   "source": [
    "def unnesting(df, explode, axis):\n",
    "    if axis==1:\n",
    "        idx = df.index.repeat(df[explode[0]].str.len())\n",
    "        df1 = pd.concat([\n",
    "            pd.DataFrame({x: np.concatenate(df[x].values)}) for x in explode], axis=1)\n",
    "        df1.index = idx\n",
    "\n",
    "        return df1.join(df.drop(explode, 1), how='left')\n",
    "    else :\n",
    "        df1 = pd.concat([\n",
    "                         pd.DataFrame(df[x].tolist(), index=df.index).add_prefix(x) for x in explode], axis=1)\n",
    "        return df1.join(df.drop(explode, 1), how='left')"
   ]
  },
  {
   "cell_type": "code",
   "execution_count": 220,
   "metadata": {},
   "outputs": [],
   "source": [
    "df5 = unnesting(df4[['known','day','first', 'count']],['known','day'], axis=1)\n",
    "df6 = df5.query('cheat != True and count < 20')"
   ]
  },
  {
   "cell_type": "code",
   "execution_count": null,
   "metadata": {},
   "outputs": [],
   "source": [
    "\n",
    "\n",
    "km = TimeSeriesKMeans(n_clusters=3, metric=\"euclidean\", max_iter=5,\n",
    "                      random_state=0).fit(X)\n"
   ]
  },
  {
   "cell_type": "code",
   "execution_count": 12,
   "metadata": {},
   "outputs": [],
   "source": [
    "\n",
    "def parallel_coordinates(frame, value_column, class_column, x_column, colormap=None,\n",
    "                     **kwds):\n",
    "    import matplotlib.pyplot as plt\n",
    "    import matplotlib as mpl\n",
    "    from scipy.interpolate import splrep, splev, interp1d\n",
    "    n = len(frame)\n",
    "    \n",
    "    if isinstance(class_column, list):\n",
    "        frame['class'] = frame.apply(lambda x: '*'.join([x[cla] for cla in class_column]), axis=1)\n",
    "        frame['class'], uniques = pd.factorize(frame['class'], sort=True)\n",
    "        class_col = frame['class']\n",
    "        class_column = 'class'\n",
    "    else:\n",
    "        frame[class_column], uniques = pd.factorize(frame[class_column], sort=True)\n",
    "        class_col = frame[class_column]\n",
    "    class_min = np.amin(class_col)\n",
    "    class_max = np.amax(class_col)\n",
    "    \n",
    "    value_col = frame[value_column]\n",
    "    value_min = np.amin(value_col)\n",
    "    value_max = np.amax(value_col)\n",
    "    \n",
    "    x_col = frame[x_column]\n",
    "    x_min = np.amin(x_col)\n",
    "    x_max = np.amax(x_col)\n",
    "\n",
    "    used_legends = set([])\n",
    "\n",
    "    fig = plt.figure()\n",
    "    ax = plt.gca()\n",
    "\n",
    "    Colorm = plt.get_cmap(colormap)\n",
    "\n",
    "    for i in range(class_max):\n",
    "        df = frame.loc[frame[class_column] == i].sort_values([x_column])\n",
    "        x = df[x_column].reset_index(drop=True)\n",
    "        y = df[value_column].reset_index(drop=True)\n",
    "        if x.size <= 2:\n",
    "            pass\n",
    "        elif y[x.size-1] > 0.5:\n",
    "            ax.plot(x, y, color='green', alpha=0.05)\n",
    "        else:\n",
    "            ax.plot(x, y, color='red', alpha=0.05)  \n",
    "    \n",
    "    ax.legend(loc='upper right')\n",
    "    ax.grid()\n",
    "    \n",
    "    return fig"
   ]
  },
  {
   "cell_type": "code",
   "execution_count": 13,
   "metadata": {},
   "outputs": [
    {
     "ename": "NameError",
     "evalue": "name 'df6' is not defined",
     "output_type": "error",
     "traceback": [
      "\u001b[0;31m---------------------------------------------------------------------------\u001b[0m",
      "\u001b[0;31mNameError\u001b[0m                                 Traceback (most recent call last)",
      "\u001b[0;32m<ipython-input-13-6140be43616c>\u001b[0m in \u001b[0;36m<module>\u001b[0;34m\u001b[0m\n\u001b[0;32m----> 1\u001b[0;31m \u001b[0mparallel_coordinates\u001b[0m\u001b[0;34m(\u001b[0m\u001b[0mdf6\u001b[0m\u001b[0;34m.\u001b[0m\u001b[0mquery\u001b[0m\u001b[0;34m(\u001b[0m\u001b[0;34m'day < 50'\u001b[0m\u001b[0;34m)\u001b[0m\u001b[0;34m.\u001b[0m\u001b[0mreset_index\u001b[0m\u001b[0;34m(\u001b[0m\u001b[0;34m)\u001b[0m\u001b[0;34m,\u001b[0m \u001b[0;34m'known'\u001b[0m\u001b[0;34m,\u001b[0m \u001b[0;34m[\u001b[0m\u001b[0;34m'word'\u001b[0m\u001b[0;34m,\u001b[0m \u001b[0;34m'userId'\u001b[0m\u001b[0;34m]\u001b[0m\u001b[0;34m,\u001b[0m \u001b[0;34m'day'\u001b[0m\u001b[0;34m)\u001b[0m\u001b[0;34m\u001b[0m\u001b[0;34m\u001b[0m\u001b[0m\n\u001b[0m",
      "\u001b[0;31mNameError\u001b[0m: name 'df6' is not defined"
     ]
    }
   ],
   "source": [
    "parallel_coordinates(df6.query('day < 50').reset_index(), 'known', ['word', 'userId'], 'day')"
   ]
  },
  {
   "cell_type": "code",
   "execution_count": null,
   "metadata": {},
   "outputs": [],
   "source": []
  }
 ],
 "metadata": {
  "kernelspec": {
   "display_name": "Python 3",
   "language": "python",
   "name": "python3"
  },
  "language_info": {
   "codemirror_mode": {
    "name": "ipython",
    "version": 3
   },
   "file_extension": ".py",
   "mimetype": "text/x-python",
   "name": "python",
   "nbconvert_exporter": "python",
   "pygments_lexer": "ipython3",
   "version": "3.7.6"
  }
 },
 "nbformat": 4,
 "nbformat_minor": 4
}
