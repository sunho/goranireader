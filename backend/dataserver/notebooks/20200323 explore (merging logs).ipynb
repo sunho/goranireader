{
 "cells": [
  {
   "cell_type": "code",
   "execution_count": 1,
   "metadata": {},
   "outputs": [],
   "source": [
    "from metaflow import Flow"
   ]
  },
  {
   "cell_type": "code",
   "execution_count": 391,
   "metadata": {},
   "outputs": [],
   "source": [
    "run = Flow('ExpandPaginate').latest_successful_run"
   ]
  },
  {
   "cell_type": "code",
   "execution_count": 392,
   "metadata": {},
   "outputs": [],
   "source": [
    "pages_df = run.data.pages"
   ]
  },
  {
   "cell_type": "code",
   "execution_count": 393,
   "metadata": {},
   "outputs": [],
   "source": [
    "import seaborn as sns\n",
    "sns.set()\n",
    "sns.set_palette(sns.color_palette(\"RdBu_r\", 7))"
   ]
  },
  {
   "cell_type": "code",
   "execution_count": 394,
   "metadata": {},
   "outputs": [],
   "source": [
    "pages_df['words'] = pages_df['text'].map(lambda x: x['words'])\n",
    "pages_df['unknownIndices'] = pages_df['text'].map(lambda x: x['unknownIndices'])\n",
    "pages_df['unknownWords'] = pages_df['text'].map(lambda x: x['unknownWords'])\n",
    "pages_df['unknownIndices'] = pages_df['text'].map(lambda x: x['unknownIndices'])\n",
    "pages_df = pages_df.loc[pages_df['eltime'] != 0]\n",
    "\n",
    "pages_df['wpm'] = len(pages_df['words'])/(pages_df['eltime']/1000/60)"
   ]
  },
  {
   "cell_type": "code",
   "execution_count": 395,
   "metadata": {},
   "outputs": [],
   "source": [
    "from gorani.utils import parse_ts\n",
    "pages_df['time'] = pages_df['time'].map(lambda x: parse_ts(x))"
   ]
  },
  {
   "cell_type": "code",
   "execution_count": 396,
   "metadata": {},
   "outputs": [],
   "source": [
    "pages_df = pages_df.sort_values(['time'])\n",
    "pages_df['i'] = pages_df.sort_values(['time']).groupby('userId').cumcount() + 1"
   ]
  },
  {
   "cell_type": "code",
   "execution_count": 397,
   "metadata": {},
   "outputs": [],
   "source": [
    "pages_df['words2'] = pages_df['words'].map(lambda x: ' '.join(x))"
   ]
  },
  {
   "cell_type": "code",
   "execution_count": 398,
   "metadata": {},
   "outputs": [],
   "source": [
    "import pandas as pd\n",
    "words2_df = pd.DataFrame(pages_df['words2'].unique(), columns=['words2'])\n",
    "words2_df = words2_df.reset_index()\n",
    "words2_df = words2_df.rename(columns={'index': 'id'})"
   ]
  },
  {
   "cell_type": "code",
   "execution_count": 399,
   "metadata": {},
   "outputs": [],
   "source": [
    "df = words2_df.join(pages_df.set_index('words2'), on='words2')"
   ]
  },
  {
   "cell_type": "code",
   "execution_count": 400,
   "metadata": {},
   "outputs": [],
   "source": [
    "def clsuter(rows):\n",
    "    out = []\n",
    "    tmp = 0\n",
    "    for t in rows['time']:\n",
    "        if tmp == 0:\n",
    "            tmp = t\n",
    "        out.append(t - tmp)\n",
    "        \n",
    "    return pd.DataFrame({'dt':out})\n",
    "\n",
    "df = df.sort_values(['time']).groupby(['userId', 'id']).apply(clsuter)"
   ]
  },
  {
   "cell_type": "code",
   "execution_count": 401,
   "metadata": {},
   "outputs": [],
   "source": [
    "df = df.loc[df['dt'] != 0]"
   ]
  },
  {
   "cell_type": "code",
   "execution_count": 402,
   "metadata": {},
   "outputs": [],
   "source": [
    "df = df.loc[df['dt'] < 24*60*60]"
   ]
  },
  {
   "cell_type": "code",
   "execution_count": 403,
   "metadata": {},
   "outputs": [],
   "source": [
    "from sklearn.cluster import KMeans\n",
    "kmeans = KMeans(n_clusters=3, random_state=0).fit(df['dt'].to_numpy().reshape(-1,1))\n",
    "\n",
    "df2 = pd.DataFrame({'dt':df['dt'], 'cluster':kmeans.labels_.tolist()})"
   ]
  },
  {
   "cell_type": "code",
   "execution_count": 404,
   "metadata": {},
   "outputs": [],
   "source": [
    "df2['dt'] /= 60"
   ]
  },
  {
   "cell_type": "code",
   "execution_count": 405,
   "metadata": {},
   "outputs": [
    {
     "data": {
      "text/plain": [
       "<seaborn.axisgrid.FacetGrid at 0x16f4df5d0>"
      ]
     },
     "execution_count": 405,
     "metadata": {},
     "output_type": "execute_result"
    },
    {
     "data": {
      "image/png": "[encoded data removed]",
      "text/plain": [
       "<Figure size 360x360 with 1 Axes>"
      ]
     },
     "metadata": {},
     "output_type": "display_data"
    }
   ],
   "source": [
    "ax = sns.catplot(x=\"cluster\", y=\"dt\", kind=\"box\", data=df2)\n",
    "ax.set(xlabel='Cluster', ylabel='Time after the first one (minutes)', title='Time of duplicate paginations')\n"
   ]
  },
  {
   "cell_type": "code",
   "execution_count": 406,
   "metadata": {},
   "outputs": [
    {
     "data": {
      "text/html": [
       "<div>\n",
       "<style scoped>\n",
       "    .dataframe tbody tr th:only-of-type {\n",
       "        vertical-align: middle;\n",
       "    }\n",
       "\n",
       "    .dataframe tbody tr th {\n",
       "        vertical-align: top;\n",
       "    }\n",
       "\n",
       "    .dataframe thead tr th {\n",
       "        text-align: left;\n",
       "    }\n",
       "\n",
       "    .dataframe thead tr:last-of-type th {\n",
       "        text-align: right;\n",
       "    }\n",
       "</style>\n",
       "<table border=\"1\" class=\"dataframe\">\n",
       "  <thead>\n",
       "    <tr>\n",
       "      <th></th>\n",
       "      <th colspan=\"8\" halign=\"left\">dt</th>\n",
       "    </tr>\n",
       "    <tr>\n",
       "      <th></th>\n",
       "      <th>count</th>\n",
       "      <th>mean</th>\n",
       "      <th>std</th>\n",
       "      <th>min</th>\n",
       "      <th>25%</th>\n",
       "      <th>50%</th>\n",
       "      <th>75%</th>\n",
       "      <th>max</th>\n",
       "    </tr>\n",
       "    <tr>\n",
       "      <th>cluster</th>\n",
       "      <th></th>\n",
       "      <th></th>\n",
       "      <th></th>\n",
       "      <th></th>\n",
       "      <th></th>\n",
       "      <th></th>\n",
       "      <th></th>\n",
       "      <th></th>\n",
       "    </tr>\n",
       "  </thead>\n",
       "  <tbody>\n",
       "    <tr>\n",
       "      <th>0</th>\n",
       "      <td>62.0</td>\n",
       "      <td>1130.762366</td>\n",
       "      <td>217.491184</td>\n",
       "      <td>768.516667</td>\n",
       "      <td>916.941667</td>\n",
       "      <td>1196.125000</td>\n",
       "      <td>1212.695833</td>\n",
       "      <td>1438.550000</td>\n",
       "    </tr>\n",
       "    <tr>\n",
       "      <th>1</th>\n",
       "      <td>1803.0</td>\n",
       "      <td>6.632751</td>\n",
       "      <td>12.934952</td>\n",
       "      <td>0.016667</td>\n",
       "      <td>0.116667</td>\n",
       "      <td>0.600000</td>\n",
       "      <td>6.300000</td>\n",
       "      <td>78.166667</td>\n",
       "    </tr>\n",
       "    <tr>\n",
       "      <th>2</th>\n",
       "      <td>151.0</td>\n",
       "      <td>155.749338</td>\n",
       "      <td>83.472676</td>\n",
       "      <td>85.433333</td>\n",
       "      <td>104.475000</td>\n",
       "      <td>114.983333</td>\n",
       "      <td>162.158333</td>\n",
       "      <td>336.033333</td>\n",
       "    </tr>\n",
       "  </tbody>\n",
       "</table>\n",
       "</div>"
      ],
      "text/plain": [
       "             dt                                                                \\\n",
       "          count         mean         std         min         25%          50%   \n",
       "cluster                                                                         \n",
       "0          62.0  1130.762366  217.491184  768.516667  916.941667  1196.125000   \n",
       "1        1803.0     6.632751   12.934952    0.016667    0.116667     0.600000   \n",
       "2         151.0   155.749338   83.472676   85.433333  104.475000   114.983333   \n",
       "\n",
       "                                   \n",
       "                 75%          max  \n",
       "cluster                            \n",
       "0        1212.695833  1438.550000  \n",
       "1           6.300000    78.166667  \n",
       "2         162.158333   336.033333  "
      ]
     },
     "execution_count": 406,
     "metadata": {},
     "output_type": "execute_result"
    }
   ],
   "source": [
    "df2.groupby('cluster').describe()"
   ]
  },
  {
   "cell_type": "code",
   "execution_count": 407,
   "metadata": {},
   "outputs": [],
   "source": [
    "pages_df['eltime'] /= 1000\n",
    "pages_df['wpm'] = pages_df.apply(lambda x: len(x['words'])/x['eltime']*60, axis=1)"
   ]
  },
  {
   "cell_type": "code",
   "execution_count": 411,
   "metadata": {},
   "outputs": [],
   "source": [
    "from sklearn.cluster import KMeans\n",
    "kmeans = KMeans(n_clusters=3, random_state=0).fit(pages_df['wpm'].to_numpy().reshape(-1,1))\n",
    "\n",
    "df2 = pd.DataFrame({'wpm':pages_df['wpm'], 'cluster':kmeans.labels_.tolist()})"
   ]
  },
  {
   "cell_type": "code",
   "execution_count": 412,
   "metadata": {},
   "outputs": [
    {
     "data": {
      "text/plain": [
       "<seaborn.axisgrid.FacetGrid at 0x165f3da90>"
      ]
     },
     "execution_count": 412,
     "metadata": {},
     "output_type": "execute_result"
    },
    {
     "data": {
      "image/png": "[encoded data removed]",
      "text/plain": [
       "<Figure size 360x360 with 1 Axes>"
      ]
     },
     "metadata": {},
     "output_type": "display_data"
    }
   ],
   "source": [
    "ax = sns.catplot(x=\"cluster\", y=\"wpm\", kind=\"box\", data=df2)\n",
    "ax.set(xlabel='Cluster', ylabel='WPM', title='Fast pagination vs Normal Pagination')"
   ]
  },
  {
   "cell_type": "code",
   "execution_count": 413,
   "metadata": {},
   "outputs": [
    {
     "data": {
      "text/html": [
       "<div>\n",
       "<style scoped>\n",
       "    .dataframe tbody tr th:only-of-type {\n",
       "        vertical-align: middle;\n",
       "    }\n",
       "\n",
       "    .dataframe tbody tr th {\n",
       "        vertical-align: top;\n",
       "    }\n",
       "\n",
       "    .dataframe thead tr th {\n",
       "        text-align: left;\n",
       "    }\n",
       "\n",
       "    .dataframe thead tr:last-of-type th {\n",
       "        text-align: right;\n",
       "    }\n",
       "</style>\n",
       "<table border=\"1\" class=\"dataframe\">\n",
       "  <thead>\n",
       "    <tr>\n",
       "      <th></th>\n",
       "      <th colspan=\"8\" halign=\"left\">wpm</th>\n",
       "    </tr>\n",
       "    <tr>\n",
       "      <th></th>\n",
       "      <th>count</th>\n",
       "      <th>mean</th>\n",
       "      <th>std</th>\n",
       "      <th>min</th>\n",
       "      <th>25%</th>\n",
       "      <th>50%</th>\n",
       "      <th>75%</th>\n",
       "      <th>max</th>\n",
       "    </tr>\n",
       "    <tr>\n",
       "      <th>cluster</th>\n",
       "      <th></th>\n",
       "      <th></th>\n",
       "      <th></th>\n",
       "      <th></th>\n",
       "      <th></th>\n",
       "      <th></th>\n",
       "      <th></th>\n",
       "      <th></th>\n",
       "    </tr>\n",
       "  </thead>\n",
       "  <tbody>\n",
       "    <tr>\n",
       "      <th>0</th>\n",
       "      <td>12898.0</td>\n",
       "      <td>1220.157722</td>\n",
       "      <td>2449.799279</td>\n",
       "      <td>0.000000</td>\n",
       "      <td>76.076555</td>\n",
       "      <td>100.746269</td>\n",
       "      <td>900.0</td>\n",
       "      <td>10329.113924</td>\n",
       "    </tr>\n",
       "    <tr>\n",
       "      <th>1</th>\n",
       "      <td>229.0</td>\n",
       "      <td>58250.842725</td>\n",
       "      <td>21453.499702</td>\n",
       "      <td>39066.666667</td>\n",
       "      <td>43350.000000</td>\n",
       "      <td>52200.000000</td>\n",
       "      <td>67800.0</td>\n",
       "      <td>199800.000000</td>\n",
       "    </tr>\n",
       "    <tr>\n",
       "      <th>2</th>\n",
       "      <td>1953.0</td>\n",
       "      <td>19472.229167</td>\n",
       "      <td>7059.296443</td>\n",
       "      <td>10350.000000</td>\n",
       "      <td>13700.000000</td>\n",
       "      <td>17640.000000</td>\n",
       "      <td>24200.0</td>\n",
       "      <td>38700.000000</td>\n",
       "    </tr>\n",
       "  </tbody>\n",
       "</table>\n",
       "</div>"
      ],
      "text/plain": [
       "             wpm                                                          \\\n",
       "           count          mean           std           min           25%   \n",
       "cluster                                                                    \n",
       "0        12898.0   1220.157722   2449.799279      0.000000     76.076555   \n",
       "1          229.0  58250.842725  21453.499702  39066.666667  43350.000000   \n",
       "2         1953.0  19472.229167   7059.296443  10350.000000  13700.000000   \n",
       "\n",
       "                                               \n",
       "                  50%      75%            max  \n",
       "cluster                                        \n",
       "0          100.746269    900.0   10329.113924  \n",
       "1        52200.000000  67800.0  199800.000000  \n",
       "2        17640.000000  24200.0   38700.000000  "
      ]
     },
     "execution_count": 413,
     "metadata": {},
     "output_type": "execute_result"
    }
   ],
   "source": [
    "df2.groupby('cluster').describe()"
   ]
  },
  {
   "cell_type": "code",
   "execution_count": null,
   "metadata": {},
   "outputs": [],
   "source": [
    "7.603361e+04"
   ]
  }
 ],
 "metadata": {
  "kernelspec": {
   "display_name": "Python 3",
   "language": "python",
   "name": "python3"
  },
  "language_info": {
   "codemirror_mode": {
    "name": "ipython",
    "version": 3
   },
   "file_extension": ".py",
   "mimetype": "text/x-python",
   "name": "python",
   "nbconvert_exporter": "python",
   "pygments_lexer": "ipython3",
   "version": "3.7.6"
  }
 },
 "nbformat": 4,
 "nbformat_minor": 4
}
