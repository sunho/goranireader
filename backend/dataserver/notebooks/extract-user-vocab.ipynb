{
 "cells": [
  {
   "cell_type": "code",
   "execution_count": 2,
   "metadata": {},
   "outputs": [],
   "source": [
    "import sys\n",
    "sys.path.append('gorani.zip')\n",
    "sc.addPyFile('gorani.zip')\n",
    "from gorani import firebase\n",
    "firebase.init('spark')\n",
    "mydb = firebase.db()\n",
    "from gorani.gorani import Gorani\n",
    "from gorani.transformer import Transformer\n",
    "from gorani.utils import split_sentence\n",
    "gorani = Gorani(mydb)\n",
    "transformer = Transformer(gorani, spark, sc)"
   ]
  },
  {
   "cell_type": "code",
   "execution_count": 6,
   "metadata": {},
   "outputs": [],
   "source": [
    "df = spark.read.json(\"clean_logs.json\")\n",
    "df = df.filter(df['scorePerc'] >= 0).filter((F.col('bookId') == 'DZf40OcrwD8C') & (F.col('classId') == '19-grade-6'))"
   ]
  },
  {
   "cell_type": "code",
   "execution_count": 7,
   "metadata": {},
   "outputs": [],
   "source": [
    "from pyspark.sql.functions import col\n",
    "from pyspark.sql.functions import udf\n",
    "import pyspark.sql.functions as F\n",
    "from pyspark.sql.types import *\n",
    "\n",
    "df2 = df.toPandas()"
   ]
  },
  {
   "cell_type": "code",
   "execution_count": 8,
   "metadata": {},
   "outputs": [],
   "source": [
    "# df2['z_score'] = df2.groupby('eltime')['eltime'].apply(lambda x: (x - x.mean())/x.std())\n",
    "df2['z_score'] = (df2['eltime'] - df2['eltime'].mean())/df2['eltime'].std()"
   ]
  },
  {
   "cell_type": "code",
   "execution_count": 9,
   "metadata": {},
   "outputs": [
    {
     "data": {
      "text/plain": [
       "<seaborn.axisgrid.JointGrid at 0x7f4b1f4c7898>"
      ]
     },
     "execution_count": 9,
     "metadata": {},
     "output_type": "execute_result"
    }
   ],
   "source": [
    "import seaborn as sns\n",
    "df3 = df2.loc[(df2['z_score'] < 1) & (df2['z_score'] > -1)]\n",
    "sns.jointplot(x=df3['eltime']/1000,y=df3['scorePerc'], kind=\"kde\")"
   ]
  },
  {
   "cell_type": "code",
   "execution_count": 10,
   "metadata": {},
   "outputs": [
    {
     "data": {
      "image/png": "[encoded data removed]",
      "text/plain": [
       "<Figure size 432x288 with 1 Axes>"
      ]
     },
     "metadata": {
      "needs_background": "light"
     },
     "output_type": "display_data"
    }
   ],
   "source": [
    "from matplotlib import pyplot as plt\n",
    "df3 = df2.loc[(df2['z_score'] < 1) & (df2['scorePerc'] > 0.5)]\n",
    "plt.hist(df3['eltime']/1000, cumulative=True, alpha=0.5, label='right', density=True, bins=100)\n",
    "df3 = df2.loc[(df2['z_score'] < 1) & (df2['scorePerc'] <= 0.5)]\n",
    "plt.hist(df3['eltime']/1000, cumulative=True, alpha=0.5, label='noright', density=True, bins=100)\n",
    "plt.legend(loc='upper right')\n",
    "plt.show()"
   ]
  },
  {
   "cell_type": "code",
   "execution_count": 11,
   "metadata": {},
   "outputs": [
    {
     "data": {
      "image/png": "[encoded data removed]",
      "text/plain": [
       "<Figure size 432x288 with 1 Axes>"
      ]
     },
     "metadata": {
      "needs_background": "light"
     },
     "output_type": "display_data"
    }
   ],
   "source": [
    "from matplotlib import pyplot as plt\n",
    "df3 = df2.loc[(df2['z_score'] < 1) & (df2['scorePerc'] >= 0.3)]\n",
    "plt.hist(df3['eltime']/1000, cumulative=False, alpha=0.5, label='right', density=True, bins=100)\n",
    "df3 = df2.loc[(df2['z_score'] < 1) & (df2['scorePerc'] < 0.3)]\n",
    "plt.hist(df3['eltime']/1000, cumulative=False, alpha=0.5, label='noright', density=True, bins=100)\n",
    "plt.legend(loc='upper right')\n",
    "plt.show()"
   ]
  },
  {
   "cell_type": "code",
   "execution_count": 12,
   "metadata": {},
   "outputs": [],
   "source": [
    "senDf = df.withColumn(\"id\", F.monotonically_increasing_id())\\\n",
    "    .withColumn('sentence', F.explode('sentences'))\\\n",
    "    .withColumn('sid', F.col('sentence.sid'))\\\n",
    "    .withColumn('unknown', F.when(F.col('sentence.unknown') == True, 1).otherwise(0))\\\n",
    "    .withColumn('wordCount', F.size('sentence.words'))\\\n",
    "    .withColumn('uwordCount', F.size('sentence.unknownWords'))\\\n",
    "    .groupBy('id', 'userId', 'eltime', 'sentence', 'scorePerc', 'timeZ', 'classId', 'chapterId', 'bookId').agg(F.sum('unknown').alias('usenCount'), \n",
    "                       F.sum('wordCount').alias('wordCount'), \n",
    "                       F.sum('uwordCount').alias('uwordCount'))\\\n",
    "    .drop('id').withColumn('wpm', F.col('wordCount')/(F.col('eltime')/(1000*60))).filter(F.col('wpm') < 1000)\n",
    "\n"
   ]
  },
  {
   "cell_type": "code",
   "execution_count": 39,
   "metadata": {},
   "outputs": [],
   "source": [
    "c = 0\n",
    "@F.udf(IntegerType())\n",
    "def readingScore(ac, wpm):\n",
    "    if ac > 0.7 and wpm > 200 + c:\n",
    "        return 12\n",
    "    elif ac > 0.65 and wpm > 190 + c:\n",
    "        return 11\n",
    "    elif ac > 0.6 and wpm > 180 + c:\n",
    "        return 10\n",
    "    elif ac > 0.55 and wpm > 170 + c: \n",
    "        return 9\n",
    "    elif ac > 0.5 and wpm > 160 + c:\n",
    "        return 8\n",
    "    elif ac > 0.45 and wpm > 150 + c:\n",
    "        return 7\n",
    "    elif ac > 0.4 and wpm > 140 + c:\n",
    "        return 6\n",
    "    elif ac > 0.35 and wpm > 120 + c:\n",
    "        return 5\n",
    "    elif ac > 0.3 and wpm > 100 + c:\n",
    "        return 4\n",
    "    elif ac > 0.25 and wpm > 80 + c:\n",
    "        return 3\n",
    "    elif ac > 0.2 and wpm > 60 + c:\n",
    "        return 2\n",
    "    else:\n",
    "        return 1"
   ]
  },
  {
   "cell_type": "code",
   "execution_count": 40,
   "metadata": {},
   "outputs": [],
   "source": [
    "userDf = senDf.groupBy('classId','bookId','userId')\\\n",
    "    .agg(F.count('*').alias('count'), F.avg('wpm').alias('wpm'), F.avg('scorePerc').alias('scorePerc'), F.sum('uwordCount').alias('uwordCount'))\\\n",
    "    .withColumn('rc', readingScore('scorePerc','wpm'))\\\n",
    "    .withColumn('username', transformer.get_username('userId'))\n"
   ]
  },
  {
   "cell_type": "code",
   "execution_count": 41,
   "metadata": {},
   "outputs": [],
   "source": [
    "df2 = userDf.toPandas()"
   ]
  },
  {
   "cell_type": "code",
   "execution_count": 42,
   "metadata": {},
   "outputs": [
    {
     "data": {
      "text/html": [
       "<div>\n",
       "<style scoped>\n",
       "    .dataframe tbody tr th:only-of-type {\n",
       "        vertical-align: middle;\n",
       "    }\n",
       "\n",
       "    .dataframe tbody tr th {\n",
       "        vertical-align: top;\n",
       "    }\n",
       "\n",
       "    .dataframe thead th {\n",
       "        text-align: right;\n",
       "    }\n",
       "</style>\n",
       "<table border=\"1\" class=\"dataframe\">\n",
       "  <thead>\n",
       "    <tr style=\"text-align: right;\">\n",
       "      <th></th>\n",
       "      <th>classId</th>\n",
       "      <th>bookId</th>\n",
       "      <th>userId</th>\n",
       "      <th>count</th>\n",
       "      <th>wpm</th>\n",
       "      <th>scorePerc</th>\n",
       "      <th>uwordCount</th>\n",
       "      <th>rc</th>\n",
       "      <th>username</th>\n",
       "    </tr>\n",
       "  </thead>\n",
       "  <tbody>\n",
       "    <tr>\n",
       "      <td>0</td>\n",
       "      <td>19-grade-6</td>\n",
       "      <td>DZf40OcrwD8C</td>\n",
       "      <td>3dkoVNdFAoch4sxXEtWo</td>\n",
       "      <td>220</td>\n",
       "      <td>34.388856</td>\n",
       "      <td>0.622186</td>\n",
       "      <td>4</td>\n",
       "      <td>1</td>\n",
       "      <td>Youngwon Jung</td>\n",
       "    </tr>\n",
       "    <tr>\n",
       "      <td>1</td>\n",
       "      <td>19-grade-6</td>\n",
       "      <td>DZf40OcrwD8C</td>\n",
       "      <td>ZYTj0ZyUTpLsaxb0zoSB</td>\n",
       "      <td>118</td>\n",
       "      <td>94.885449</td>\n",
       "      <td>0.418180</td>\n",
       "      <td>52</td>\n",
       "      <td>3</td>\n",
       "      <td>Geonwoo Yi</td>\n",
       "    </tr>\n",
       "    <tr>\n",
       "      <td>2</td>\n",
       "      <td>19-grade-6</td>\n",
       "      <td>DZf40OcrwD8C</td>\n",
       "      <td>VbFRYXiXVyBLWzGDlqqm</td>\n",
       "      <td>254</td>\n",
       "      <td>112.850602</td>\n",
       "      <td>0.530231</td>\n",
       "      <td>22</td>\n",
       "      <td>4</td>\n",
       "      <td>Yoonho Jung</td>\n",
       "    </tr>\n",
       "    <tr>\n",
       "      <td>3</td>\n",
       "      <td>19-grade-6</td>\n",
       "      <td>DZf40OcrwD8C</td>\n",
       "      <td>CvfwJERcCjcXtzFo8Xfe</td>\n",
       "      <td>84</td>\n",
       "      <td>253.749247</td>\n",
       "      <td>0.095238</td>\n",
       "      <td>3</td>\n",
       "      <td>1</td>\n",
       "      <td>Seyeon Kim</td>\n",
       "    </tr>\n",
       "    <tr>\n",
       "      <td>4</td>\n",
       "      <td>19-grade-6</td>\n",
       "      <td>DZf40OcrwD8C</td>\n",
       "      <td>7ksTSrU6NjGGoZqnu7uG</td>\n",
       "      <td>145</td>\n",
       "      <td>194.704656</td>\n",
       "      <td>0.239409</td>\n",
       "      <td>64</td>\n",
       "      <td>2</td>\n",
       "      <td>Jungeun Pyun</td>\n",
       "    </tr>\n",
       "    <tr>\n",
       "      <td>5</td>\n",
       "      <td>19-grade-6</td>\n",
       "      <td>DZf40OcrwD8C</td>\n",
       "      <td>bmKnPQcO48sDdLAKy5Lu</td>\n",
       "      <td>189</td>\n",
       "      <td>110.910458</td>\n",
       "      <td>0.772739</td>\n",
       "      <td>131</td>\n",
       "      <td>4</td>\n",
       "      <td>Ain Lee</td>\n",
       "    </tr>\n",
       "    <tr>\n",
       "      <td>6</td>\n",
       "      <td>19-grade-6</td>\n",
       "      <td>DZf40OcrwD8C</td>\n",
       "      <td>xP0QeRM7qCAi1bOSAt1o</td>\n",
       "      <td>223</td>\n",
       "      <td>115.825247</td>\n",
       "      <td>0.550075</td>\n",
       "      <td>65</td>\n",
       "      <td>4</td>\n",
       "      <td>Hanjun Lee</td>\n",
       "    </tr>\n",
       "    <tr>\n",
       "      <td>7</td>\n",
       "      <td>19-grade-6</td>\n",
       "      <td>DZf40OcrwD8C</td>\n",
       "      <td>0bHdAlU0BUXj4OLRPzTZ</td>\n",
       "      <td>183</td>\n",
       "      <td>57.522413</td>\n",
       "      <td>0.425449</td>\n",
       "      <td>12</td>\n",
       "      <td>1</td>\n",
       "      <td>Yoseop Jeong</td>\n",
       "    </tr>\n",
       "    <tr>\n",
       "      <td>8</td>\n",
       "      <td>19-grade-6</td>\n",
       "      <td>DZf40OcrwD8C</td>\n",
       "      <td>qtW5EhH8cUORCIwwOSiX</td>\n",
       "      <td>204</td>\n",
       "      <td>26.474197</td>\n",
       "      <td>0.251459</td>\n",
       "      <td>115</td>\n",
       "      <td>1</td>\n",
       "      <td>Yeonwoo Na</td>\n",
       "    </tr>\n",
       "    <tr>\n",
       "      <td>9</td>\n",
       "      <td>19-grade-6</td>\n",
       "      <td>DZf40OcrwD8C</td>\n",
       "      <td>AWJ3AzY0AdAUKDqerSwH</td>\n",
       "      <td>89</td>\n",
       "      <td>175.234360</td>\n",
       "      <td>0.333333</td>\n",
       "      <td>14</td>\n",
       "      <td>4</td>\n",
       "      <td>Seojin Moon</td>\n",
       "    </tr>\n",
       "    <tr>\n",
       "      <td>10</td>\n",
       "      <td>19-grade-6</td>\n",
       "      <td>DZf40OcrwD8C</td>\n",
       "      <td>Jj9P1sIqjLLF0wVqDFeX</td>\n",
       "      <td>417</td>\n",
       "      <td>78.461995</td>\n",
       "      <td>0.615679</td>\n",
       "      <td>148</td>\n",
       "      <td>2</td>\n",
       "      <td>Juyoung Kim</td>\n",
       "    </tr>\n",
       "    <tr>\n",
       "      <td>11</td>\n",
       "      <td>19-grade-6</td>\n",
       "      <td>DZf40OcrwD8C</td>\n",
       "      <td>VZoFz6dINEkriPVrpCyH</td>\n",
       "      <td>302</td>\n",
       "      <td>208.459798</td>\n",
       "      <td>0.381504</td>\n",
       "      <td>29</td>\n",
       "      <td>5</td>\n",
       "      <td>Jiseong Lee</td>\n",
       "    </tr>\n",
       "    <tr>\n",
       "      <td>12</td>\n",
       "      <td>19-grade-6</td>\n",
       "      <td>DZf40OcrwD8C</td>\n",
       "      <td>1yz9QcMjyGFMMdC6LPlJ</td>\n",
       "      <td>196</td>\n",
       "      <td>16.901735</td>\n",
       "      <td>0.804786</td>\n",
       "      <td>9</td>\n",
       "      <td>1</td>\n",
       "      <td>Minchan Kim</td>\n",
       "    </tr>\n",
       "    <tr>\n",
       "      <td>13</td>\n",
       "      <td>19-grade-6</td>\n",
       "      <td>DZf40OcrwD8C</td>\n",
       "      <td>g11JTV6am9fleET7bIid</td>\n",
       "      <td>221</td>\n",
       "      <td>114.734648</td>\n",
       "      <td>0.606820</td>\n",
       "      <td>0</td>\n",
       "      <td>4</td>\n",
       "      <td>Hyunseo Jo</td>\n",
       "    </tr>\n",
       "  </tbody>\n",
       "</table>\n",
       "</div>"
      ],
      "text/plain": [
       "       classId        bookId                userId  count         wpm  \\\n",
       "0   19-grade-6  DZf40OcrwD8C  3dkoVNdFAoch4sxXEtWo    220   34.388856   \n",
       "1   19-grade-6  DZf40OcrwD8C  ZYTj0ZyUTpLsaxb0zoSB    118   94.885449   \n",
       "2   19-grade-6  DZf40OcrwD8C  VbFRYXiXVyBLWzGDlqqm    254  112.850602   \n",
       "3   19-grade-6  DZf40OcrwD8C  CvfwJERcCjcXtzFo8Xfe     84  253.749247   \n",
       "4   19-grade-6  DZf40OcrwD8C  7ksTSrU6NjGGoZqnu7uG    145  194.704656   \n",
       "5   19-grade-6  DZf40OcrwD8C  bmKnPQcO48sDdLAKy5Lu    189  110.910458   \n",
       "6   19-grade-6  DZf40OcrwD8C  xP0QeRM7qCAi1bOSAt1o    223  115.825247   \n",
       "7   19-grade-6  DZf40OcrwD8C  0bHdAlU0BUXj4OLRPzTZ    183   57.522413   \n",
       "8   19-grade-6  DZf40OcrwD8C  qtW5EhH8cUORCIwwOSiX    204   26.474197   \n",
       "9   19-grade-6  DZf40OcrwD8C  AWJ3AzY0AdAUKDqerSwH     89  175.234360   \n",
       "10  19-grade-6  DZf40OcrwD8C  Jj9P1sIqjLLF0wVqDFeX    417   78.461995   \n",
       "11  19-grade-6  DZf40OcrwD8C  VZoFz6dINEkriPVrpCyH    302  208.459798   \n",
       "12  19-grade-6  DZf40OcrwD8C  1yz9QcMjyGFMMdC6LPlJ    196   16.901735   \n",
       "13  19-grade-6  DZf40OcrwD8C  g11JTV6am9fleET7bIid    221  114.734648   \n",
       "\n",
       "    scorePerc  uwordCount  rc       username  \n",
       "0    0.622186           4   1  Youngwon Jung  \n",
       "1    0.418180          52   3     Geonwoo Yi  \n",
       "2    0.530231          22   4    Yoonho Jung  \n",
       "3    0.095238           3   1     Seyeon Kim  \n",
       "4    0.239409          64   2   Jungeun Pyun  \n",
       "5    0.772739         131   4        Ain Lee  \n",
       "6    0.550075          65   4     Hanjun Lee  \n",
       "7    0.425449          12   1   Yoseop Jeong  \n",
       "8    0.251459         115   1     Yeonwoo Na  \n",
       "9    0.333333          14   4    Seojin Moon  \n",
       "10   0.615679         148   2    Juyoung Kim  \n",
       "11   0.381504          29   5    Jiseong Lee  \n",
       "12   0.804786           9   1    Minchan Kim  \n",
       "13   0.606820           0   4     Hyunseo Jo  "
      ]
     },
     "execution_count": 42,
     "metadata": {},
     "output_type": "execute_result"
    }
   ],
   "source": [
    "df2"
   ]
  },
  {
   "cell_type": "code",
   "execution_count": 22,
   "metadata": {
    "scrolled": true
   },
   "outputs": [
    {
     "data": {
      "text/plain": [
       "<seaborn.axisgrid.JointGrid at 0x7f4b1f14a400>"
      ]
     },
     "execution_count": 22,
     "metadata": {},
     "output_type": "execute_result"
    },
    {
     "data": {
      "image/png": "[encoded data removed]",
      "text/plain": [
       "<Figure size 432x432 with 3 Axes>"
      ]
     },
     "metadata": {
      "needs_background": "light"
     },
     "output_type": "display_data"
    }
   ],
   "source": [
    "sns.jointplot(x=df2['wpm'],y=df2['scorePerc'], kind='kde').plot_joint(sns.scatterplot, color='r')\n"
   ]
  },
  {
   "cell_type": "code",
   "execution_count": 35,
   "metadata": {},
   "outputs": [],
   "source": [
    "# df2['z_score'] = df2.groupby('eltime')['eltime'].apply(lambda x: (x - x.mean())/x.std())\n",
    "df2 = senDf.toPandas()\n",
    "df2['z_score'] = (df2['wpm'] - df2['wpm'].mean())/df2['wpm'].std()"
   ]
  },
  {
   "cell_type": "code",
   "execution_count": 36,
   "metadata": {},
   "outputs": [
    {
     "data": {
      "text/plain": [
       "False    0.993673\n",
       "True     0.006327\n",
       "Name: more, dtype: float64"
      ]
     },
     "execution_count": 36,
     "metadata": {},
     "output_type": "execute_result"
    }
   ],
   "source": [
    "df2['more'] = df2.apply(lambda row: row['wpm'] > 900, axis=1)\n",
    "\n",
    "df2.more.value_counts(True)"
   ]
  },
  {
   "cell_type": "code",
   "execution_count": 37,
   "metadata": {},
   "outputs": [
    {
     "data": {
      "image/png": "[encoded data removed]",
      "text/plain": [
       "<Figure size 432x288 with 1 Axes>"
      ]
     },
     "metadata": {
      "needs_background": "light"
     },
     "output_type": "display_data"
    }
   ],
   "source": [
    "from matplotlib import pyplot as plt\n",
    "df3 = df2.loc[(df2['scorePerc'] > 0.5)]\n",
    "plt.hist(df3['wpm'], cumulative=True, alpha=0.5, label='right', density=True, bins=100)\n",
    "df3 = df2.loc[(df2['scorePerc'] <= 0.5)]\n",
    "plt.hist(df3['wpm'], cumulative=True, alpha=0.5, label='noright', density=True, bins=100)\n",
    "plt.legend(loc='upper right')\n",
    "plt.show()"
   ]
  },
  {
   "cell_type": "code",
   "execution_count": 38,
   "metadata": {},
   "outputs": [
    {
     "data": {
      "image/png": "[encoded data removed]",
      "text/plain": [
       "<Figure size 432x288 with 1 Axes>"
      ]
     },
     "metadata": {
      "needs_background": "light"
     },
     "output_type": "display_data"
    }
   ],
   "source": [
    "from matplotlib import pyplot as plt\n",
    "df3 = df2.loc[(df2['scorePerc'] > 0.5)]\n",
    "plt.hist(df3['wpm'], cumulative=False, alpha=0.5, label='right', density=True, bins=100)\n",
    "df3 = df2.loc[(df2['scorePerc'] <= 0.5)]\n",
    "plt.hist(df3['wpm'], cumulative=False, alpha=0.5, label='noright', density=True, bins=100)\n",
    "plt.legend(loc='upper right')\n",
    "plt.show()"
   ]
  },
  {
   "cell_type": "code",
   "execution_count": 84,
   "metadata": {
    "scrolled": false
   },
   "outputs": [
    {
     "data": {
      "text/plain": [
       "<seaborn.axisgrid.JointGrid at 0x7ff1621b26a0>"
      ]
     },
     "execution_count": 84,
     "metadata": {},
     "output_type": "execute_result"
    },
    {
     "data": {
      "image/png": "[encoded data removed]",
      "text/plain": [
       "<Figure size 432x432 with 3 Axes>"
      ]
     },
     "metadata": {
      "needs_background": "light"
     },
     "output_type": "display_data"
    }
   ],
   "source": [
    "sns.jointplot(x=df2['wpm'],y=df2['uwordCount'], kind='kde')"
   ]
  },
  {
   "cell_type": "code",
   "execution_count": 45,
   "metadata": {},
   "outputs": [],
   "source": [
    "@F.pandas_udf(IntegerType())\n",
    "def uscore(x,y):\n",
    "    import pandas as pd\n",
    "    return pd.Series([1 if y in x else 0 for x, y in zip(x,y)])"
   ]
  },
  {
   "cell_type": "code",
   "execution_count": 50,
   "metadata": {},
   "outputs": [
    {
     "name": "stdout",
     "output_type": "stream",
     "text": [
      "+--------------------+------------+----------+----------+--------------------+\n",
      "|              userId|      bookId|nwordCount|uwordCount|               uperc|\n",
      "+--------------------+------------+----------+----------+--------------------+\n",
      "|ZYTj0ZyUTpLsaxb0zoSB|DZf40OcrwD8C|      1475|        44|0.028966425279789335|\n",
      "|bmKnPQcO48sDdLAKy5Lu|DZf40OcrwD8C|      2063|       115|0.052800734618916434|\n",
      "|7ksTSrU6NjGGoZqnu7uG|DZf40OcrwD8C|      1559|        57| 0.03527227722772277|\n",
      "|qtW5EhH8cUORCIwwOSiX|DZf40OcrwD8C|      2337|       112|0.045732952225398124|\n",
      "|VbFRYXiXVyBLWzGDlqqm|DZf40OcrwD8C|      3012|        14|0.004626569729015202|\n",
      "|1yz9QcMjyGFMMdC6LPlJ|DZf40OcrwD8C|      2341|         8|0.003405704555129...|\n",
      "|xP0QeRM7qCAi1bOSAt1o|DZf40OcrwD8C|      2447|        59|0.023543495610534718|\n",
      "|3dkoVNdFAoch4sxXEtWo|DZf40OcrwD8C|      2574|         4|0.001551590380139...|\n",
      "|g11JTV6am9fleET7bIid|DZf40OcrwD8C|      2583|         0|                 0.0|\n",
      "|AWJ3AzY0AdAUKDqerSwH|DZf40OcrwD8C|      1050|        12|0.011299435028248588|\n",
      "|VZoFz6dINEkriPVrpCyH|DZf40OcrwD8C|      3632|        24|0.006564551422319475|\n",
      "|CvfwJERcCjcXtzFo8Xfe|DZf40OcrwD8C|       917|         3|0.003260869565217391|\n",
      "|0bHdAlU0BUXj4OLRPzTZ|DZf40OcrwD8C|      2201|        12|0.005422503389064619|\n",
      "|Jj9P1sIqjLLF0wVqDFeX|DZf40OcrwD8C|      4975|       143|0.027940601797577177|\n",
      "+--------------------+------------+----------+----------+--------------------+\n",
      "\n"
     ]
    }
   ],
   "source": [
    "vcDf = senDf.withColumn(\"id\", F.monotonically_increasing_id())\\\n",
    "    .withColumn('sid', F.col('sentence.sid'))\\\n",
    "    .withColumn('wordCount', F.size('sentence.words'))\\\n",
    "    .withColumn('word', F.explode('sentence.words'))\\\n",
    "    .withColumn('no', uscore('sentence.unknownWords', F.col('word')))\\\n",
    "    .withColumn('yes', 1 - F.col('no'))\\\n",
    "    .withColumn('word', F.lower(F.col('word')))\\\n",
    "    .dropDuplicates(['id','sid','word'])\\\n",
    "    .groupBy('id', 'userId', 'bookId')\\\n",
    "    .agg(F.sum('yes').alias('nwordCount'),F.sum('no').alias('uwordCount'))\\\n",
    "    .groupBy('userId', 'bookId').agg(F.sum('nwordCount').alias('nwordCount'), F.sum('uwordCount').alias('uwordCount'))\\\n",
    "    .withColumn('uperc', F.col('uwordCount') / (F.col('uwordCount') + F.col('nwordCount')))\n",
    "vcDf.show()"
   ]
  },
  {
   "cell_type": "code",
   "execution_count": null,
   "metadata": {},
   "outputs": [],
   "source": []
  }
 ],
 "metadata": {
  "kernelspec": {
   "display_name": "PySpark (Spark 2.0)",
   "language": "python",
   "name": "pyspark"
  },
  "language_info": {
   "codemirror_mode": {
    "name": "ipython",
    "version": 3
   },
   "file_extension": ".py",
   "mimetype": "text/x-python",
   "name": "python",
   "nbconvert_exporter": "python",
   "pygments_lexer": "ipython3",
   "version": "3.7.3"
  }
 },
 "nbformat": 4,
 "nbformat_minor": 2
}
