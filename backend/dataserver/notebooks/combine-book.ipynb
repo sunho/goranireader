{
 "cells": [
  {
   "cell_type": "code",
   "execution_count": null,
   "metadata": {},
   "outputs": [],
   "source": [
    "import gorani.models.quiz as mquiz\n",
    "with open('book3.quiz', 'r') as f:\n",
    "    buf = f.read()\n",
    "quiz = mquiz.Quiz.fromXML(buf)\n",
    "\n",
    "import gorani.models.book as mbook\n",
    "import simplejson\n",
    "\n",
    "buf = None\n",
    "bookname='book2'\n",
    "with open('book3.xml', 'r') as f:\n",
    "  buf = f.read()\n",
    "book = mbook.Book.fromXML(buf)\n",
    "def find_chapter(chap_id):\n",
    "    for q in quiz.chapters:\n",
    "        if q.id == chap_id:\n",
    "            return q\n",
    "    return None\n",
    "newChaps = list()\n",
    "for chap in book.chapters:\n",
    "    item = chap._asdict()\n",
    "    chap = find_chapter(chap.id)\n",
    "    if chap is not None:\n",
    "        item['questions'] = [q.toDict() for q in chap.items]\n",
    "    newChaps.append(item)\n",
    "book.chapters = newChaps\n",
    "buf = simplejson.dumps(book.__dict__)\n",
    "with open('book3_combined.book', 'wb') as f:\n",
    "  f.write(buf.encode('utf-8'))\n"
   ]
  },
  {
   "cell_type": "code",
   "execution_count": null,
   "metadata": {},
   "outputs": [],
   "source": []
  },
  {
   "cell_type": "code",
   "execution_count": null,
   "metadata": {},
   "outputs": [],
   "source": []
  }
 ],
 "metadata": {
  "kernelspec": {
   "display_name": "Python 3",
   "language": "python",
   "name": "python3"
  },
  "language_info": {
   "codemirror_mode": {
    "name": "ipython",
    "version": 3
   },
   "file_extension": ".py",
   "mimetype": "text/x-python",
   "name": "python",
   "nbconvert_exporter": "python",
   "pygments_lexer": "ipython3",
   "version": "3.7.4"
  }
 },
 "nbformat": 4,
 "nbformat_minor": 2
}
