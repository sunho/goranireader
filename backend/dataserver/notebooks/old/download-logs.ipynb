{
 "cells": [
  {
   "cell_type": "code",
   "execution_count": null,
   "metadata": {},
   "outputs": [],
   "source": [
    "!rm -rf logs\n",
    "!mkdir logs\n",
    "!gsutil -m cp -R gs://gorani-reader-249509-gorani-reader-event-log/* ./logs\n",
    "!rm -rf books\n",
    "!mkdir books\n",
    "!gsutil -m cp -R gs://gorani-reader-249509.appspot.com/books/* ./book"
   ]
  },
  {
   "cell_type": "code",
   "execution_count": null,
   "metadata": {},
   "outputs": [],
   "source": [
    "!gsutil cp gs://gorani-reader-airflow/gorani.zip .\n",
    "!gsutil cp gs://gorani-reader-airflow/key.json ."
   ]
  },
  {
   "cell_type": "code",
   "execution_count": null,
   "metadata": {},
   "outputs": [],
   "source": [
    "import os, json\n",
    "import pandas as pd\n",
    "\n",
    "path_to_json = './logs/'\n",
    "json_files = [pos_json for pos_json in os.listdir(path_to_json)]\n",
    "\n",
    "df = pd.DataFrame(columns=['userId', 'classId', 'fireId', 'serverTime', 'time', 'type', 'payload'])\n",
    "\n",
    "for index, js in enumerate(json_files):\n",
    "    with open(os.path.join(path_to_json, js)) as json_file:\n",
    "        data = json.load(json_file)\n",
    "        df.loc[index] = [data['userId'], data['classId'], data['fireId'], data['serverTime'], data['time'], data['type'], data['payload']]\n",
    "        "
   ]
  },
  {
   "cell_type": "code",
   "execution_count": null,
   "metadata": {},
   "outputs": [],
   "source": [
    "df.to_csv(\"logs.csv\", mode='w',  index=False)"
   ]
  },
  {
   "cell_type": "code",
   "execution_count": null,
   "metadata": {},
   "outputs": [],
   "source": []
  }
 ],
 "metadata": {
  "kernelspec": {
   "display_name": "Python 3",
   "language": "python",
   "name": "python3"
  },
  "language_info": {
   "codemirror_mode": {
    "name": "ipython",
    "version": 3
   },
   "file_extension": ".py",
   "mimetype": "text/x-python",
   "name": "python",
   "nbconvert_exporter": "python",
   "pygments_lexer": "ipython3",
   "version": "3.7.3"
  }
 },
 "nbformat": 4,
 "nbformat_minor": 2
}
