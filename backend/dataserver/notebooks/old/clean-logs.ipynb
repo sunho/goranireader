{
 "cells": [
  {
   "cell_type": "code",
   "execution_count": null,
   "metadata": {},
   "outputs": [],
   "source": [
    "import sys\n",
    "sys.path.append('gorani.zip')\n",
    "sc.addPyFile('gorani.zip')\n",
    "from gorani import firebase\n",
    "firebase.init('spark')\n",
    "mydb = firebase.db()\n",
    "from gorani.gorani import Gorani\n",
    "from gorani.transformer import Transformer\n",
    "from gorani.utils import split_sentence\n",
    "gorani = Gorani(mydb)\n",
    "transformer = Transformer(gorani, spark, sc)"
   ]
  },
  {
   "cell_type": "code",
   "execution_count": null,
   "metadata": {},
   "outputs": [],
   "source": [
    "spark.conf.set(\"spark.sql.execution.arrow.enabled\", \"true\")"
   ]
  },
  {
   "cell_type": "code",
   "execution_count": null,
   "metadata": {},
   "outputs": [],
   "source": [
    "import os\n",
    "df = spark.read.csv(\"logs.csv\", header=\"true\", quote='\"', escape='\"')"
   ]
  },
  {
   "cell_type": "code",
   "execution_count": null,
   "metadata": {},
   "outputs": [],
   "source": [
    "from pyspark.sql.functions import col, pandas_udf, PandasUDFType\n",
    "from pyspark.sql.functions import udf, from_json\n",
    "import pyspark.sql.functions as F\n",
    "from pyspark.sql.types import *\n",
    "\n",
    "PaginateSentence = StructType([\n",
    "    StructField(\"sid\", StringType()),\n",
    "    StructField(\"words\", ArrayType(StringType())),\n",
    "    StructField(\"unknownIndice\", ArrayType(IntegerType())),\n",
    "    StructField(\"unknownWords\", ArrayType(StringType())),\n",
    "    StructField(\"unknown\", BooleanType())\n",
    "])\n",
    "\n",
    "SubmitQuestionPayload = StructType([\n",
    "    StructField(\"bookId\", StringType()),\n",
    "    StructField(\"chapterId\", StringType()),\n",
    "    StructField(\"questionId\", StringType()),\n",
    "    StructField(\"option\", StringType()),\n",
    "    StructField(\"right\", BooleanType()),\n",
    "    StructField(\"time\", IntegerType())\n",
    "])\n",
    "\n",
    "\n",
    "@udf(ArrayType(PaginateSentence))\n",
    "def get_sentences(bookId, chapterId, sids, wordUnknowns, sentenceUnknowns):\n",
    "    out = []\n",
    "    for sid in sids:\n",
    "        wis = []\n",
    "        wus = []\n",
    "        unknown = False\n",
    "        sentence = gorani.get_sentence(bookId, chapterId, sid) or \"\"\n",
    "        words = split_sentence(sentence)\n",
    "        for su in sentenceUnknowns:\n",
    "            if su['sentenceId'] == sid:\n",
    "                unknown = True\n",
    "        for wu in wordUnknowns:\n",
    "            if wu['sentenceId'] == sid:\n",
    "                wi = wu['wordIndex']\n",
    "                if words[wi] != wu['word']:\n",
    "                    raise Exception(sentence + ' ' + sid + ' word mismatch: ' + words[wi]  + ',' + wu['word'])\n",
    "                wis.append(wi)\n",
    "                wus.append(words[wi])\n",
    "        out.append({'sid': sid, 'words': words, 'unknownIndice': wis, 'unknownWords': wus,'unknown': unknown})\n",
    "    return out\n",
    "\n",
    "paginateDf = df.n(transformer.parse_paginate())\\\n",
    "    .n(transformer.filter_cheat())\\\n",
    "    .withColumn('sentences', get_sentences(col('bookId'), col('chapterId'), col('sids'), col('wordUnknowns'), col('sentenceUnknowns')))\\\n",
    "    .select('time', 'classId', 'userId', 'bookId', 'chapterId', 'sentences', 'eltime')\n"
   ]
  },
  {
   "cell_type": "code",
   "execution_count": null,
   "metadata": {},
   "outputs": [],
   "source": [
    "import pandas as pd\n",
    "import math\n",
    "\n",
    "qDf = df.filter(df['type'] == 'submit_question')\\\n",
    "    .withColumn('payload', from_json(col('payload'), SubmitQuestionPayload))\\\n",
    "    .withColumn('eltime', col('payload.time'))\\\n",
    "    .withColumn('qid', col('payload.questionId'))\\\n",
    "    .withColumn('chapterId', col('payload.chapterId'))\\\n",
    "    .withColumn('bookId', col('payload.bookId'))\\\n",
    "    .withColumn('option', col('payload.option'))\\\n",
    "    .withColumn('right', col('payload.right'))\\\n",
    "    .drop('payload')\n",
    "\n",
    "rawDf = qDf.orderBy('time').dropDuplicates(['qid','userId','chapterId']).drop('time')\\\n",
    "    .withColumn('cr', F.when(col('right') == True, 1).otherwise(0)).groupBy('userId', 'bookId', 'chapterId')\\\n",
    "    .agg(F.sum(col('cr')).alias('score'), F.sum(col('eltime')).alias('time')).drop('cr')\\\n",
    "    .withColumn('total', transformer.get_questions_len(col('bookId'), col('chapterId')))\\\n",
    "    .withColumn('raw', col('score') / col('total'))\n",
    "\n",
    "@pandas_udf(StructType(rawDf.schema.fields + [StructField('timeZ', FloatType()), StructField('scorePerc', FloatType())]), PandasUDFType.GROUPED_MAP)\n",
    "def perc(df):\n",
    "    sz = df['raw'].size-1\n",
    "    df['scorePerc'] = df['raw'].rank(method='max').apply(lambda x: -1 if sz == 0 else (x-1)/sz)\n",
    "    sd = df['time'].std()\n",
    "    if sd == 0 or sd is None or math.isnan(sd):\n",
    "        sd = 1\n",
    "    df['timeZ'] = -(df['time'] - df['time'].mean())/sd\n",
    "    return df\n",
    "\n",
    "percDf = rawDf\\\n",
    "    .groupBy('chapterId').apply(perc)\\\n",
    "    .select('userId', 'timeZ', 'scorePerc', 'chapterId', 'bookId')\n"
   ]
  },
  {
   "cell_type": "code",
   "execution_count": null,
   "metadata": {},
   "outputs": [],
   "source": [
    "resDf = percDf.join(paginateDf, ['userId','chapterId','bookId'], 'inner')"
   ]
  },
  {
   "cell_type": "code",
   "execution_count": null,
   "metadata": {},
   "outputs": [],
   "source": [
    "import json\n",
    "result = resDf.rdd.map(lambda row: row.asDict(recursive=True)).collect()\n",
    "with open('clean_logs.json', 'w') as f:\n",
    "    json.dump(result, f)"
   ]
  },
  {
   "cell_type": "code",
   "execution_count": null,
   "metadata": {},
   "outputs": [],
   "source": []
  }
 ],
 "metadata": {
  "kernelspec": {
   "display_name": "PySpark (Spark 2.0)",
   "language": "python",
   "name": "pyspark"
  },
  "language_info": {
   "codemirror_mode": {
    "name": "ipython",
    "version": 3
   },
   "file_extension": ".py",
   "mimetype": "text/x-python",
   "name": "python",
   "nbconvert_exporter": "python",
   "pygments_lexer": "ipython3",
   "version": "3.7.3"
  }
 },
 "nbformat": 4,
 "nbformat_minor": 2
}
