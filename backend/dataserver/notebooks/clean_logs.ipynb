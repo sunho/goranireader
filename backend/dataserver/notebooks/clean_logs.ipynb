{
 "nbformat": 4,
 "nbformat_minor": 2,
 "metadata": {
  "language_info": {
   "name": "python",
   "codemirror_mode": {
    "name": "ipython",
    "version": 3
   },
   "version": "3.7.4-final"
  },
  "orig_nbformat": 2,
  "file_extension": ".py",
  "mimetype": "text/x-python",
  "name": "python",
  "npconvert_exporter": "python",
  "pygments_lexer": "ipython3",
  "version": 3,
  "kernelspec": {
   "name": "python3",
   "display_name": "Python 3"
  }
 },
 "cells": [
  {
   "cell_type": "code",
   "execution_count": 21,
   "metadata": {},
   "outputs": [],
   "source": [
    "import pandas\n",
    "import os\n",
    "import json\n",
    "import numpy as np\n",
    "df = pandas.read_json('./data/logs.json')\n"
   ]
  },
  {
   "cell_type": "code",
   "execution_count": 22,
   "metadata": {},
   "outputs": [],
   "source": [
    "df2 = df.copy()\n",
    "df2['i'] = np.arange(len(df2))\n",
    "df3 = df2.copy()\n",
    "df2 = df2.explode('sentences')\n",
    "df2['words'] = df2['sentences'].map(lambda x: x['words'])\n",
    "df2['signals'] = df2['sentences'].map(lambda x: [0 if i in x['unknownIndice'] else 1 for i in range(len(x['words']))])\n",
    "df3['words'] = df2.groupby('i')['words'].apply(sum)\n",
    "df3['signals'] = df2.groupby('i')['signals'].apply(sum)\n",
    "del df3['i']"
   ]
  },
  {
   "cell_type": "code",
   "execution_count": 26,
   "metadata": {},
   "outputs": [],
   "source": [
    "df3 = df3.loc[~df3['classId'].isin(['test', 'test2'])]\n",
    "userDf = df3[['userId', 'eltime', 'scorePerc']].groupby('userId').agg('mean')\n",
    "userDf['eltime'] /= 1000\n",
    "whiteUserDf = userDf.loc[userDf['eltime'] > 11].reset_index()\n",
    "df3 = df3.merge(whiteUserDf[['userId']], on='userId', how='inner')"
   ]
  },
  {
   "cell_type": "markdown",
   "metadata": {},
   "source": []
  },
  {
   "cell_type": "code",
   "execution_count": 32,
   "metadata": {},
   "outputs": [],
   "source": [
    "whiteUserDf = whiteUserDf.merge(df3.groupby('userId')['userId'].agg('count').to_frame('c'), on='userId', how='inner')"
   ]
  },
  {
   "cell_type": "code",
   "execution_count": 33,
   "metadata": {},
   "outputs": [
    {
     "data": {
      "text/html": "<div>\n<style scoped>\n    .dataframe tbody tr th:only-of-type {\n        vertical-align: middle;\n    }\n\n    .dataframe tbody tr th {\n        vertical-align: top;\n    }\n\n    .dataframe thead th {\n        text-align: right;\n    }\n</style>\n<table border=\"1\" class=\"dataframe\">\n  <thead>\n    <tr style=\"text-align: right;\">\n      <th></th>\n      <th>userId</th>\n      <th>eltime</th>\n      <th>scorePerc</th>\n      <th>c</th>\n    </tr>\n  </thead>\n  <tbody>\n    <tr>\n      <td>0</td>\n      <td>0bHdAlU0BUXj4OLRPzTZ</td>\n      <td>63.706667</td>\n      <td>0.454369</td>\n      <td>30</td>\n    </tr>\n    <tr>\n      <td>1</td>\n      <td>1yz9QcMjyGFMMdC6LPlJ</td>\n      <td>53.804545</td>\n      <td>0.033136</td>\n      <td>22</td>\n    </tr>\n    <tr>\n      <td>2</td>\n      <td>3dkoVNdFAoch4sxXEtWo</td>\n      <td>26.308000</td>\n      <td>-0.705699</td>\n      <td>100</td>\n    </tr>\n    <tr>\n      <td>3</td>\n      <td>7ksTSrU6NjGGoZqnu7uG</td>\n      <td>111.967742</td>\n      <td>0.180287</td>\n      <td>31</td>\n    </tr>\n    <tr>\n      <td>4</td>\n      <td>AWJ3AzY0AdAUKDqerSwH</td>\n      <td>28.882249</td>\n      <td>-0.821458</td>\n      <td>169</td>\n    </tr>\n    <tr>\n      <td>5</td>\n      <td>GDQqFBeAkT3BM8LaUf4e</td>\n      <td>35.259441</td>\n      <td>-0.449977</td>\n      <td>143</td>\n    </tr>\n    <tr>\n      <td>6</td>\n      <td>Jj9P1sIqjLLF0wVqDFeX</td>\n      <td>57.708163</td>\n      <td>-0.159752</td>\n      <td>147</td>\n    </tr>\n    <tr>\n      <td>7</td>\n      <td>NdlYszQsqy4y8pKYKj8N</td>\n      <td>89.949123</td>\n      <td>-1.780588</td>\n      <td>57</td>\n    </tr>\n    <tr>\n      <td>8</td>\n      <td>OQJ8K3jcLOM3eYaImkyN</td>\n      <td>87.883065</td>\n      <td>-1.682042</td>\n      <td>124</td>\n    </tr>\n    <tr>\n      <td>9</td>\n      <td>VbFRYXiXVyBLWzGDlqqm</td>\n      <td>22.784884</td>\n      <td>-0.299999</td>\n      <td>86</td>\n    </tr>\n    <tr>\n      <td>10</td>\n      <td>YnCBKw1ZLXEgJ4iU2hK0</td>\n      <td>113.909259</td>\n      <td>0.038743</td>\n      <td>54</td>\n    </tr>\n    <tr>\n      <td>11</td>\n      <td>ZYTj0ZyUTpLsaxb0zoSB</td>\n      <td>48.654167</td>\n      <td>0.596771</td>\n      <td>24</td>\n    </tr>\n    <tr>\n      <td>12</td>\n      <td>bmKnPQcO48sDdLAKy5Lu</td>\n      <td>37.462791</td>\n      <td>-0.093548</td>\n      <td>86</td>\n    </tr>\n    <tr>\n      <td>13</td>\n      <td>dlA8HbNeY2c4dyNnK5VL</td>\n      <td>170.485938</td>\n      <td>0.169531</td>\n      <td>64</td>\n    </tr>\n    <tr>\n      <td>14</td>\n      <td>g11JTV6am9fleET7bIid</td>\n      <td>24.598889</td>\n      <td>0.427149</td>\n      <td>180</td>\n    </tr>\n    <tr>\n      <td>15</td>\n      <td>mzQZO80m21TM0C7gRcqb</td>\n      <td>30.072018</td>\n      <td>0.419818</td>\n      <td>218</td>\n    </tr>\n    <tr>\n      <td>16</td>\n      <td>qtW5EhH8cUORCIwwOSiX</td>\n      <td>58.353374</td>\n      <td>-1.137271</td>\n      <td>163</td>\n    </tr>\n    <tr>\n      <td>17</td>\n      <td>xP0QeRM7qCAi1bOSAt1o</td>\n      <td>49.778205</td>\n      <td>0.430633</td>\n      <td>156</td>\n    </tr>\n    <tr>\n      <td>18</td>\n      <td>zdWiLjoIxRDrtMRNjOlk</td>\n      <td>29.962195</td>\n      <td>0.532116</td>\n      <td>82</td>\n    </tr>\n  </tbody>\n</table>\n</div>",
      "text/plain": "                  userId      eltime  scorePerc    c\n0   0bHdAlU0BUXj4OLRPzTZ   63.706667   0.454369   30\n1   1yz9QcMjyGFMMdC6LPlJ   53.804545   0.033136   22\n2   3dkoVNdFAoch4sxXEtWo   26.308000  -0.705699  100\n3   7ksTSrU6NjGGoZqnu7uG  111.967742   0.180287   31\n4   AWJ3AzY0AdAUKDqerSwH   28.882249  -0.821458  169\n5   GDQqFBeAkT3BM8LaUf4e   35.259441  -0.449977  143\n6   Jj9P1sIqjLLF0wVqDFeX   57.708163  -0.159752  147\n7   NdlYszQsqy4y8pKYKj8N   89.949123  -1.780588   57\n8   OQJ8K3jcLOM3eYaImkyN   87.883065  -1.682042  124\n9   VbFRYXiXVyBLWzGDlqqm   22.784884  -0.299999   86\n10  YnCBKw1ZLXEgJ4iU2hK0  113.909259   0.038743   54\n11  ZYTj0ZyUTpLsaxb0zoSB   48.654167   0.596771   24\n12  bmKnPQcO48sDdLAKy5Lu   37.462791  -0.093548   86\n13  dlA8HbNeY2c4dyNnK5VL  170.485938   0.169531   64\n14  g11JTV6am9fleET7bIid   24.598889   0.427149  180\n15  mzQZO80m21TM0C7gRcqb   30.072018   0.419818  218\n16  qtW5EhH8cUORCIwwOSiX   58.353374  -1.137271  163\n17  xP0QeRM7qCAi1bOSAt1o   49.778205   0.430633  156\n18  zdWiLjoIxRDrtMRNjOlk   29.962195   0.532116   82"
     },
     "execution_count": 33,
     "metadata": {},
     "output_type": "execute_result"
    }
   ],
   "source": [
    "whiteUserDf"
   ]
  },
  {
   "cell_type": "code",
   "execution_count": 25,
   "metadata": {},
   "outputs": [],
   "source": [
    "df3.to_csv('logs.csv', index=False)"
   ]
  },
  {
   "cell_type": "code",
   "execution_count": null,
   "metadata": {},
   "outputs": [],
   "source": []
  }
 ]
}