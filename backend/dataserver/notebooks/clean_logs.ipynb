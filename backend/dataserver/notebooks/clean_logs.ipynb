{
 "nbformat": 4,
 "nbformat_minor": 2,
 "metadata": {
  "language_info": {
   "name": "python",
   "codemirror_mode": {
    "name": "ipython",
    "version": 3
   },
   "version": "3.7.4-final"
  },
  "orig_nbformat": 2,
  "file_extension": ".py",
  "mimetype": "text/x-python",
  "name": "python",
  "npconvert_exporter": "python",
  "pygments_lexer": "ipython3",
  "version": 3,
  "kernelspec": {
   "name": "python3",
   "display_name": "Python 3"
  }
 },
 "cells": [
  {
   "cell_type": "code",
   "execution_count": 70,
   "metadata": {},
   "outputs": [],
   "source": [
    "import pandas\n",
    "import os\n",
    "import json\n",
    "import numpy as np\n",
    "df = pandas.read_json('./data/logs.json')\n",
    "from gogorani.timeutil import parse_ts\n",
    "df['time']=df['time'].map(lambda x: parse_ts(x))\n",
    "df = df.sort_values(['time']).reset_index(drop=True)"
   ]
  },
  {
   "cell_type": "code",
   "execution_count": 43,
   "metadata": {},
   "outputs": [],
   "source": [
    "words = df['sentences'].map(lambda x: list(map(lambda y: y['words'], x))).explode().explode().reset_index()\n",
    "words = words[['sentences']].rename(columns={'sentences': 'word'})\n",
    "words = words['word'].map(lambda x: str(x).lower()).unique()"
   ]
  },
  {
   "cell_type": "code",
   "execution_count": 74,
   "metadata": {},
   "outputs": [],
   "source": [
    "df2 = df.copy()\n",
    "df2['i'] = np.arange(len(df2))\n",
    "df3 = df2.copy()\n",
    "df2 = df2.explode('sentences')\n",
    "df2['signalWord'] = df2['sentences'].map(lambda x: [[x['words'][i], 0 if i in x['unknownIndice'] else 1]for i in range(len(x['words']))])\n",
    "df3['signalWord'] = df2.groupby('i')['signalWord'].apply(sum)\n",
    "del df3['i']\n",
    "df2 = df3"
   ]
  },
  {
   "cell_type": "code",
   "execution_count": 76,
   "metadata": {},
   "outputs": [
    {
     "name": "stdout",
     "output_type": "stream",
     "text": "74  [[The, 1], [One, 1], [Hundredth, 1], [Birthday...  \n1475  [[The, 1], [One, 1], [Hundredth, 1], [Birthday...  \n1476  [[Father, 1], [s, 1], [bedroom, 1], [was, 1], ...  \n1477  [[The, 1], [One, 1], [Hundredth, 1], [Birthday...  \n1478                                                 []  \n1479  [[The, 1], [One, 1], [Hundredth, 1], [Birthday...  \n            time classId                userId        bookId  \\\n862   1569609681    test  UpifsWKmy7kckaKo5VrG  BnpeDwAAQBAJ   \n863   1569609682    test  UpifsWKmy7kckaKo5VrG  BnpeDwAAQBAJ   \n1363  1570299856    test  UpifsWKmy7kckaKo5VrG  knkqgp57wJ8C   \n1364  1570299861    test  UpifsWKmy7kckaKo5VrG  knkqgp57wJ8C   \n1365  1570299868    test  UpifsWKmy7kckaKo5VrG  knkqgp57wJ8C   \n1366  1570299871    test  UpifsWKmy7kckaKo5VrG  knkqgp57wJ8C   \n1367  1570299873    test  UpifsWKmy7kckaKo5VrG  knkqgp57wJ8C   \n1368  1570299875    test  UpifsWKmy7kckaKo5VrG  knkqgp57wJ8C   \n1369  1570299882    test  UpifsWKmy7kckaKo5VrG  knkqgp57wJ8C   \n1370  1570299884    test  UpifsWKmy7kckaKo5VrG  knkqgp57wJ8C   \n1371  1570299887    test  UpifsWKmy7kckaKo5VrG  knkqgp57wJ8C   \n1372  1570299903    test  UpifsWKmy7kckaKo5VrG  knkqgp57wJ8C   \n1373  1570299905    test  UpifsWKmy7kckaKo5VrG  knkqgp57wJ8C   \n1374  1570299909    test  UpifsWKmy7kckaKo5VrG  knkqgp57wJ8C   \n1375  1570299911    test  UpifsWKmy7kckaKo5VrG  knkqgp57wJ8C   \n1376  1570299912    test  UpifsWKmy7kckaKo5VrG  knkqgp57wJ8C   \n\n                                 chapterId  \\\n862   2c07bf9c-c074-11e9-8a54-48bf6beb4102   \n863   2c07bf9c-c074-11e9-8a54-48bf6beb4102   \n1363  3ed570ee-dc06-11e9-8569-48bf6beb4102   \n1364  3ed570ee-dc06-11e9-8569-48bf6beb4102   \n1365  3ed570ee-dc06-11e9-8569-48bf6beb4102   \n1366  3ed570ee-dc06-11e9-8569-48bf6beb4102   \n1367  3ed570ee-dc06-11e9-8569-48bf6beb4102   \n1368  3ed570ee-dc06-11e9-8569-48bf6beb4102   \n1369  3ed570ee-dc06-11e9-8569-48bf6beb4102   \n1370  3ed570ee-dc06-11e9-8569-48bf6beb4102   \n1371  3ed570ee-dc06-11e9-8569-48bf6beb4102   \n1372  3ed570ee-dc06-11e9-8569-48bf6beb4102   \n1373  3ed570ee-dc06-11e9-8569-48bf6beb4102   \n1374  3ed570ee-dc06-11e9-8569-48bf6beb4102   \n1375  3ed570ee-dc06-11e9-8569-48bf6beb4102   \n1376  3ed570ee-dc06-11e9-8569-48bf6beb4102   \n\n                                              sentences  eltime  \\\n862   [{'sid': '2c05d1d2-c074-11e9-8a54-48bf6beb4102...    3100   \n863   [{'sid': '2c06805a-c074-11e9-8a54-48bf6beb4102...    1900   \n1363  [{'sid': '3ed3039a-dc06-11e9-8569-48bf6beb4102...    5500   \n1364  [{'sid': '3ed31bf0-dc06-11e9-8569-48bf6beb4102...    4600   \n1365  [{'sid': '3ed3363a-dc06-11e9-8569-48bf6beb4102...    6900   \n1366  [{'sid': '3ed35eda-dc06-11e9-8569-48bf6beb4102...    3500   \n1367  [{'sid': '3ed37b2c-dc06-11e9-8569-48bf6beb4102...    1600   \n1368  [{'sid': '3ed39832-dc06-11e9-8569-48bf6beb4102...    1600   \n1369  [{'sid': '3ed3b2d6-dc06-11e9-8569-48bf6beb4102...    7300   \n1370  [{'sid': '3ed3cfb4-dc06-11e9-8569-48bf6beb4102...    1900   \n1371  [{'sid': '3ed3ee54-dc06-11e9-8569-48bf6beb4102...    3100   \n1372  [{'sid': '3ed416cc-dc06-11e9-8569-48bf6beb4102...   15500   \n1373  [{'sid': '3ed479aa-dc06-11e9-8569-48bf6beb4102...    1000   \n1374  [{'sid': '3ed51680-dc06-11e9-8569-48bf6beb4102...    2900   \n1375  [{'sid': '3ed53516-dc06-11e9-8569-48bf6beb4102...    1400   \n1376  [{'sid': '3ed558b6-dc06-11e9-8569-48bf6beb4102...    1100   \n\n                                             signalWord  \n862   [[Project, 1], [Gutenberg's, 1], [Alice's, 1],...  \n863   [[Produced, 1], [by, 1], [Jana, 1], [Srna, 1],...  \n1363  [[One, 1], [IT, 1], [WAS, 1], [ALMOST, 1], [De...  \n1364  [[Occasionally, 1], [when, 1], [supplies, 1], ...  \n1365  [[His, 1], [parents, 1], [were, 1], [both, 1],...  \n1366  [[NEEDLESS, 1], [TO, 1], [SAY, 1], [HE, 1], [W...  \n1367  [[Now, 1], [thinking, 1], [about, 1], [the, 1]...  \n1368  [[I, 1], [apologize, 1], [for, 1], [inconvenie...  \n1369  [[And, 1], [I, 1], [thank, 1], [you, 1], [beca...  \n1370  [[That, 1], [s, 1], [what, 1], [I, 1], [am, 1]...  \n1371  [[I, 1], [felt, 1], [very, 1], [angry, 1], [th...  \n1372  [[Where, 1], [were, 1], [the, 1], [visitors, 1...  \n1373  [[Jonas, 1], [smiled, 1], [back, 1], [at, 1], ...  \n1374  [[Well, 1], [she, 1], [said, 1], [I, 1], [thou...  \n1375  [[Lily, 1], [stood, 1], [up, 1], [and, 1], [we...  \n1376  [[I, 1], [know, 1], [there, 1], [s, 1], [reall...  \n           time     classId                userId        bookId  \\\n507  1569446503  19-grade-6  VZoFz6dINEkriPVrpCyH  DZf40OcrwD8C   \n508  1569446522  19-grade-6  VZoFz6dINEkriPVrpCyH  DZf40OcrwD8C   \n509  1569446546  19-grade-6  VZoFz6dINEkriPVrpCyH  DZf40OcrwD8C   \n510  1569446551  19-grade-6  VZoFz6dINEkriPVrpCyH  DZf40OcrwD8C   \n511  1569446556  19-grade-6  VZoFz6dINEkriPVrpCyH  DZf40OcrwD8C   \n..          ...         ...                   ...           ...   \n825  1569450236  19-grade-6  VZoFz6dINEkriPVrpCyH  DZf40OcrwD8C   \n826  1569450240  19-grade-6  VZoFz6dINEkriPVrpCyH  DZf40OcrwD8C   \n827  1569450245  19-grade-6  VZoFz6dINEkriPVrpCyH  DZf40OcrwD8C   \n828  1569450247  19-grade-6  VZoFz6dINEkriPVrpCyH  DZf40OcrwD8C   \n829  1569450252  19-grade-6  VZoFz6dINEkriPVrpCyH  DZf40OcrwD8C   \n\n                                chapterId  \\\n507  b4d951a6-dc52-11e9-8b48-48bf6beb4102   \n508  b4d951a6-dc52-11e9-8b48-48bf6beb4102   \n509  b4d951a6-dc52-11e9-8b48-48bf6beb4102   \n510  b4d951a6-dc52-11e9-8b48-48bf6beb4102   \n511  b4d951a6-dc52-11e9-8b48-48bf6beb4102   \n..                                    ...   \n825  b4f90d52-dc52-11e9-8b48-48bf6beb4102   \n826  b4f90d52-dc52-11e9-8b48-48bf6beb4102   \n827  b4f90d52-dc52-11e9-8b48-48bf6beb4102   \n828  b4f90d52-dc52-11e9-8b48-48bf6beb4102   \n829  b4d6d764-dc52-11e9-8b48-48bf6beb4102   \n\n                                             sentences  eltime  \\\n507  [{'sid': 'b4d720a2-dc52-11e9-8b48-48bf6beb4102...    8900   \n508  [{'sid': 'b4d78c2c-dc52-11e9-8b48-48bf6beb4102...   18300   \n509  [{'sid': 'b4d7aaae-dc52-11e9-8b48-48bf6beb4102...   24100   \n510  [{'sid': 'b4d7cc78-dc52-11e9-8b48-48bf6beb4102...    5200   \n511  [{'sid': 'b4d801e8-dc52-11e9-8b48-48bf6beb4102...    4400   \n..                                                 ...     ...   \n825  [{'sid': 'b4f8b6fe-dc52-11e9-8b48-48bf6beb4102...    1200   \n826  [{'sid': 'b4f8e57a-dc52-11e9-8b48-48bf6beb4102...    4500   \n827  [{'sid': 'b4f8ef48-dc52-11e9-8b48-48bf6beb4102...    4800   \n828  [{'sid': 'b4f90564-dc52-11e9-8b48-48bf6beb4102...    1800   \n829  [{'sid': 'b4d534f4-dc52-11e9-8b48-48bf6beb4102...    2400   \n\n                                            signalWord  \n507  [[Brushes, 1], [and, 1], [Ashes, 1], [Is, 1], ...  \n508  [[Two, 1], [dozen, 1], [rabbit-hair, 1], [writ...  \n509  [[Hurry, 1], [begged, 1], [Willow, 1], [handin...  \n510  [[Rolling, 1], [the, 1], [untidy, 1], [parcel,...  \n511  [[Both, 1], [the, 1], [handles, 1], [and, 1], ...  \n..                                                 ...  \n825  [[I, 1], [like, 1], [to, 1], [think, 1], [that...  \n826  [[The, 1], [standing, 1], [and, 1], [jumping, ...  \n827  [[As, 1], [indicated, 1], [by, 1], [Bear, 1], ...  \n828  [[When, 1], [I, 1], [was, 1], [growing, 1], [u...  \n829  [[Clarion, 1], [Books, 1], [Park, 1], [Avenue,...  \n\n[323 rows x 8 columns]\n            time     classId                userId        bookId  \\\n182   1569281432  19-grade-6  VbFRYXiXVyBLWzGDlqqm  DZf40OcrwD8C   \n185   1569282068  19-grade-6  VbFRYXiXVyBLWzGDlqqm  DZf40OcrwD8C   \n186   1569282081  19-grade-6  VbFRYXiXVyBLWzGDlqqm  DZf40OcrwD8C   \n187   1569282083  19-grade-6  VbFRYXiXVyBLWzGDlqqm  DZf40OcrwD8C   \n188   1569282121  19-grade-6  VbFRYXiXVyBLWzGDlqqm  DZf40OcrwD8C   \n...          ...         ...                   ...           ...   \n2256  1571188880  19-grade-6  VbFRYXiXVyBLWzGDlqqm  DZf40OcrwD8C   \n2257  1571188891  19-grade-6  VbFRYXiXVyBLWzGDlqqm  DZf40OcrwD8C   \n2258  1571188913  19-grade-6  VbFRYXiXVyBLWzGDlqqm  DZf40OcrwD8C   \n2259  1571188928  19-grade-6  VbFRYXiXVyBLWzGDlqqm  DZf40OcrwD8C   \n2372  1571523129  19-grade-6  VbFRYXiXVyBLWzGDlqqm  DZf40OcrwD8C   \n\n                                 chapterId  \\\n182   b4d951a6-dc52-11e9-8b48-48bf6beb4102   \n185   b4d951a6-dc52-11e9-8b48-48bf6beb4102   \n186   b4d951a6-dc52-11e9-8b48-48bf6beb4102   \n187   b4d951a6-dc52-11e9-8b48-48bf6beb4102   \n188   b4d951a6-dc52-11e9-8b48-48bf6beb4102   \n...                                    ...   \n2256  b4e28910-dc52-11e9-8b48-48bf6beb4102   \n2257  b4e28910-dc52-11e9-8b48-48bf6beb4102   \n2258  b4e28910-dc52-11e9-8b48-48bf6beb4102   \n2259  b4e28910-dc52-11e9-8b48-48bf6beb4102   \n2372  b4e44930-dc52-11e9-8b48-48bf6beb4102   \n\n                                              sentences  eltime  \\\n182   [{'sid': 'b4d720a2-dc52-11e9-8b48-48bf6beb4102...   28100   \n185   [{'sid': 'b4d720a2-dc52-11e9-8b48-48bf6beb4102...   60300   \n186   [{'sid': 'b4d720a2-dc52-11e9-8b48-48bf6beb4102...    9900   \n187   [{'sid': 'b4d720a2-dc52-11e9-8b48-48bf6beb4102...    1000   \n188   [{'sid': 'b4d7aaae-dc52-11e9-8b48-48bf6beb4102...   38500   \n...                                                 ...     ...   \n2256  [{'sid': 'b4e15c8e-dc52-11e9-8b48-48bf6beb4102...    2100   \n2257  [{'sid': 'b4e1e7c6-dc52-11e9-8b48-48bf6beb4102...   10100   \n2258  [{'sid': 'b4e20e40-dc52-11e9-8b48-48bf6beb4102...   22500   \n2259  [{'sid': 'b4e1e7c6-dc52-11e9-8b48-48bf6beb4102...    1000   \n2372  [{'sid': 'b4e2ae22-dc52-11e9-8b48-48bf6beb4102...    2100   \n\n                                             signalWord  \n182   [[Brushes, 1], [and, 1], [Ashes, 1], [Is, 1], ...  \n185   [[Brushes, 1], [and, 1], [Ashes, 1], [Is, 1], ...  \n186   [[Brushes, 1], [and, 1], [Ashes, 1], [Is, 1], ...  \n187   [[Brushes, 1], [and, 1], [Ashes, 1], [Is, 1], ...  \n188   [[Hurry, 1], [begged, 1], [Willow, 1], [handin...  \n...                                                 ...  \n2256  [[It, 1], [was, 1], [almost, 1], [worse, 1], [...  \n2257  [[No, 1], [Jade, 1], [said, 1], [Tiger, 1], [T...  \n2258  [[He, 1], [began, 1], [running, 1], [around, 1...  \n2259  [[No, 1], [Jade, 1], [said, 1], [Tiger, 1], [T...  \n2372  [[Baskets, 1], [to, 1], [Market, 1], [More, 1]...  \n\n[86 rows x 8 columns]\n           time     classId                userId        bookId  \\\n117  1569270353  19-grade-8  Y29JrA6ygETo9ZXoTXCq  knkqgp57wJ8C   \n118  1569270382  19-grade-8  Y29JrA6ygETo9ZXoTXCq  knkqgp57wJ8C   \n119  1569270401  19-grade-8  Y29JrA6ygETo9ZXoTXCq  knkqgp57wJ8C   \n120  1569270420  19-grade-8  Y29JrA6ygETo9ZXoTXCq  knkqgp57wJ8C   \n121  1569270437  19-grade-8  Y29JrA6ygETo9ZXoTXCq  knkqgp57wJ8C   \n122  1569270441  19-grade-8  Y29JrA6ygETo9ZXoTXCq  knkqgp57wJ8C   \n123  1569270448  19-grade-8  Y29JrA6ygETo9ZXoTXCq  knkqgp57wJ8C   \n124  1569270474  19-grade-8  Y29JrA6ygETo9ZXoTXCq  knkqgp57wJ8C   \n125  1569270513  19-grade-8  Y29JrA6ygETo9ZXoTXCq  knkqgp57wJ8C   \n126  1569270515  19-grade-8  Y29JrA6ygETo9ZXoTXCq  knkqgp57wJ8C   \n127  1569270538  19-grade-8  Y29JrA6ygETo9ZXoTXCq  knkqgp57wJ8C   \n128  1569270903  19-grade-8  Y29JrA6ygETo9ZXoTXCq  knkqgp57wJ8C   \n129  1569270985  19-grade-8  Y29JrA6ygETo9ZXoTXCq  knkqgp57wJ8C   \n130  1569271193  19-grade-8  Y29JrA6ygETo9ZXoTXCq  knkqgp57wJ8C   \n248  1569285092  19-grade-8  Y29JrA6ygETo9ZXoTXCq  knkqgp57wJ8C   \n249  1569285150  19-grade-8  Y29JrA6ygETo9ZXoTXCq  knkqgp57wJ8C   \n250  1569285210  19-grade-8  Y29JrA6ygETo9ZXoTXCq  knkqgp57wJ8C   \n251  1569285275  19-grade-8  Y29JrA6ygETo9ZXoTXCq  knkqgp57wJ8C   \n254  1569285415  19-grade-8  Y29JrA6ygETo9ZXoTXCq  knkqgp57wJ8C   \n256  1569285478  19-grade-8  Y29JrA6ygETo9ZXoTXCq  knkqgp57wJ8C   \n259  1569285613  19-grade-8  Y29JrA6ygETo9ZXoTXCq  knkqgp57wJ8C   \n261  1569285666  19-grade-8  Y29JrA6ygETo9ZXoTXCq  knkqgp57wJ8C   \n262  1569285682  19-grade-8  Y29JrA6ygETo9ZXoTXCq  knkqgp57wJ8C   \n267  1569285732  19-grade-8  Y29JrA6ygETo9ZXoTXCq  knkqgp57wJ8C   \n269  1569285781  19-grade-8  Y29JrA6ygETo9ZXoTXCq  knkqgp57wJ8C   \n270  1569285789  19-grade-8  Y29JrA6ygETo9ZXoTXCq  knkqgp57wJ8C   \n271  1569285834  19-grade-8  Y29JrA6ygETo9ZXoTXCq  knkqgp57wJ8C   \n273  1569285939  19-grade-8  Y29JrA6ygETo9ZXoTXCq  knkqgp57wJ8C   \n274  1569285979  19-grade-8  Y29JrA6ygETo9ZXoTXCq  knkqgp57wJ8C   \n275  1569286036  19-grade-8  Y29JrA6ygETo9ZXoTXCq  knkqgp57wJ8C   \n276  1569286088  19-grade-8  Y29JrA6ygETo9ZXoTXCq  knkqgp57wJ8C   \n277  1569286132  19-grade-8  Y29JrA6ygETo9ZXoTXCq  knkqgp57wJ8C   \n278  1569286144  19-grade-8  Y29JrA6ygETo9ZXoTXCq  knkqgp57wJ8C   \n279  1569286173  19-grade-8  Y29JrA6ygETo9ZXoTXCq  knkqgp57wJ8C   \n280  1569286195  19-grade-8  Y29JrA6ygETo9ZXoTXCq  knkqgp57wJ8C   \n281  1569286214  19-grade-8  Y29JrA6ygETo9ZXoTXCq  knkqgp57wJ8C   \n282  1569286216  19-grade-8  Y29JrA6ygETo9ZXoTXCq  knkqgp57wJ8C   \n283  1569286348  19-grade-8  Y29JrA6ygETo9ZXoTXCq  knkqgp57wJ8C   \n284  1569286360  19-grade-8  Y29JrA6ygETo9ZXoTXCq  knkqgp57wJ8C   \n901  1569632453  19-grade-8  Y29JrA6ygETo9ZXoTXCq  knkqgp57wJ8C   \n902  1569632456  19-grade-8  Y29JrA6ygETo9ZXoTXCq  knkqgp57wJ8C   \n\n                                chapterId  \\\n117  3ed570ee-dc06-11e9-8569-48bf6beb4102   \n118  3ed570ee-dc06-11e9-8569-48bf6beb4102   \n119  3ed570ee-dc06-11e9-8569-48bf6beb4102   \n120  3ed570ee-dc06-11e9-8569-48bf6beb4102   \n121  3ed570ee-dc06-11e9-8569-48bf6beb4102   \n122  3ed570ee-dc06-11e9-8569-48bf6beb4102   \n123  3ed570ee-dc06-11e9-8569-48bf6beb4102   \n124  3ed570ee-dc06-11e9-8569-48bf6beb4102   \n125  3ed570ee-dc06-11e9-8569-48bf6beb4102   \n126  3ed570ee-dc06-11e9-8569-48bf6beb4102   \n127  3ed570ee-dc06-11e9-8569-48bf6beb4102   \n128  3ed570ee-dc06-11e9-8569-48bf6beb4102   \n129  3ed570ee-dc06-11e9-8569-48bf6beb4102   \n130  3ed570ee-dc06-11e9-8569-48bf6beb4102   \n248  3ed570ee-dc06-11e9-8569-48bf6beb4102   \n249  3ed570ee-dc06-11e9-8569-48bf6beb4102   \n250  3ed570ee-dc06-11e9-8569-48bf6beb4102   \n251  3ed570ee-dc06-11e9-8569-48bf6beb4102   \n254  3ed570ee-dc06-11e9-8569-48bf6beb4102   \n256  3ed570ee-dc06-11e9-8569-48bf6beb4102   \n259  3ed570ee-dc06-11e9-8569-48bf6beb4102   \n261  3ed570ee-dc06-11e9-8569-48bf6beb4102   \n262  3ed570ee-dc06-11e9-8569-48bf6beb4102   \n267  3ed570ee-dc06-11e9-8569-48bf6beb4102   \n269  3ed570ee-dc06-11e9-8569-48bf6beb4102   \n270  3ed570ee-dc06-11e9-8569-48bf6beb4102   \n271  3ed570ee-dc06-11e9-8569-48bf6beb4102   \n273  3ed570ee-dc06-11e9-8569-48bf6beb4102   \n274  3ed570ee-dc06-11e9-8569-48bf6beb4102   \n275  3ed570ee-dc06-11e9-8569-48bf6beb4102   \n276  3ed570ee-dc06-11e9-8569-48bf6beb4102   \n277  3ed570ee-dc06-11e9-8569-48bf6beb4102   \n278  3ed570ee-dc06-11e9-8569-48bf6beb4102   \n279  3ed570ee-dc06-11e9-8569-48bf6beb4102   \n280  3ed570ee-dc06-11e9-8569-48bf6beb4102   \n281  3ed570ee-dc06-11e9-8569-48bf6beb4102   \n282  3ed570ee-dc06-11e9-8569-48bf6beb4102   \n283  3ed570ee-dc06-11e9-8569-48bf6beb4102   \n284  3ed570ee-dc06-11e9-8569-48bf6beb4102   \n901  3ed570ee-dc06-11e9-8569-48bf6beb4102   \n902  3ed570ee-dc06-11e9-8569-48bf6beb4102   \n\n                                             sentences   eltime  \\\n117  [{'sid': '3ed3039a-dc06-11e9-8569-48bf6beb4102...  3267900   \n118  [{'sid': '3ed3039a-dc06-11e9-8569-48bf6beb4102...    11700   \n119  [{'sid': '3ed3039a-dc06-11e9-8569-48bf6beb4102...     1000   \n120  [{'sid': '3ed3039a-dc06-11e9-8569-48bf6beb4102...     1100   \n121  [{'sid': '3ed31b28-dc06-11e9-8569-48bf6beb4102...    16800   \n122  [{'sid': '3ed31b28-dc06-11e9-8569-48bf6beb4102...     1000   \n123  [{'sid': '3ed3039a-dc06-11e9-8569-48bf6beb4102...     1900   \n124  [{'sid': '3ed3039a-dc06-11e9-8569-48bf6beb4102...     1000   \n125  [{'sid': '3ed3039a-dc06-11e9-8569-48bf6beb4102...     4000   \n126  [{'sid': '3ed31b28-dc06-11e9-8569-48bf6beb4102...     2500   \n127  [{'sid': '3ed3039a-dc06-11e9-8569-48bf6beb4102...    10900   \n128  [{'sid': '3ed31b28-dc06-11e9-8569-48bf6beb4102...   364900   \n129  [{'sid': '3ed3039a-dc06-11e9-8569-48bf6beb4102...     5500   \n130  [{'sid': '3ed31b28-dc06-11e9-8569-48bf6beb4102...   207600   \n248  [{'sid': '3ed31b28-dc06-11e9-8569-48bf6beb4102...    14200   \n249  [{'sid': '3ed3238e-dc06-11e9-8569-48bf6beb4102...    58100   \n250  [{'sid': '3ed33fa4-dc06-11e9-8569-48bf6beb4102...    60000   \n251  [{'sid': '3ed35340-dc06-11e9-8569-48bf6beb4102...    64800   \n254  [{'sid': '3ed35fde-dc06-11e9-8569-48bf6beb4102...   140700   \n256  [{'sid': '3ed35fde-dc06-11e9-8569-48bf6beb4102...    12400   \n259  [{'sid': '3ed37b2c-dc06-11e9-8569-48bf6beb4102...   135300   \n261  [{'sid': '3ed37b2c-dc06-11e9-8569-48bf6beb4102...     6200   \n262  [{'sid': '3ed39076-dc06-11e9-8569-48bf6beb4102...    16200   \n267  [{'sid': '3ed39904-dc06-11e9-8569-48bf6beb4102...    50300   \n269  [{'sid': '3ed39904-dc06-11e9-8569-48bf6beb4102...    26700   \n270  [{'sid': '3ed3b024-dc06-11e9-8569-48bf6beb4102...     8500   \n271  [{'sid': '3ed39904-dc06-11e9-8569-48bf6beb4102...    27300   \n273  [{'sid': '3ed39904-dc06-11e9-8569-48bf6beb4102...    79200   \n274  [{'sid': '3ed3b024-dc06-11e9-8569-48bf6beb4102...    39900   \n275  [{'sid': '3ed3c6ea-dc06-11e9-8569-48bf6beb4102...    57100   \n276  [{'sid': '3ed3da04-dc06-11e9-8569-48bf6beb4102...    51200   \n277  [{'sid': '3ed3e468-dc06-11e9-8569-48bf6beb4102...    44500   \n278  [{'sid': '3ed3f1ec-dc06-11e9-8569-48bf6beb4102...    11600   \n279  [{'sid': '3ed4220c-dc06-11e9-8569-48bf6beb4102...    29600   \n280  [{'sid': '3ed43a58-dc06-11e9-8569-48bf6beb4102...    21600   \n281  [{'sid': '3ed43a58-dc06-11e9-8569-48bf6beb4102...     1400   \n282  [{'sid': '3ed46258-dc06-11e9-8569-48bf6beb4102...     2700   \n283  [{'sid': '3ed43a58-dc06-11e9-8569-48bf6beb4102...     1400   \n284  [{'sid': '3ed46258-dc06-11e9-8569-48bf6beb4102...    11600   \n901  [{'sid': '3ed47b58-dc06-11e9-8569-48bf6beb4102...    35200   \n902  [{'sid': '3ed4ada8-dc06-11e9-8569-48bf6beb4102...     3000   \n\n                                            signalWord  \n117  [[One, 1], [IT, 1], [WAS, 1], [ALMOST, 1], [De...  \n118  [[One, 1], [IT, 1], [WAS, 1], [ALMOST, 1], [De...  \n119  [[One, 1], [IT, 1], [WAS, 1], [ALMOST, 1], [De...  \n120  [[One, 1], [IT, 1], [WAS, 1], [ALMOST, 1], [De...  \n121  [[At, 1], [first, 1], [he, 1], [had, 1], [been...  \n122  [[At, 1], [first, 1], [he, 1], [had, 1], [been...  \n123  [[One, 1], [IT, 1], [WAS, 1], [ALMOST, 1], [De...  \n124  [[One, 1], [IT, 1], [WAS, 1], [ALMOST, 1], [De...  \n125  [[One, 1], [IT, 1], [WAS, 1], [ALMOST, 1], [De...  \n126  [[At, 1], [first, 1], [he, 1], [had, 1], [been...  \n127  [[One, 1], [IT, 1], [WAS, 1], [ALMOST, 1], [De...  \n128  [[At, 1], [first, 1], [he, 1], [had, 1], [been...  \n129  [[One, 1], [IT, 1], [WAS, 1], [ALMOST, 1], [De...  \n130  [[At, 1], [first, 1], [he, 1], [had, 1], [been...  \n248  [[At, 1], [first, 1], [he, 1], [had, 1], [been...  \n249  [[Jonas, 1], [looking, 1], [around, 1], [anxio...  \n250  [[Looking, 1], [through, 1], [the, 1], [front,...  \n251  [[Within, 1], [minutes, 1], [the, 1], [speaker...  \n254  [[For, 1], [a, 1], [contributing, 1], [citizen...  \n256  [[For, 1], [a, 1], [contributing, 1], [citizen...  \n259  [[Now, 1], [thinking, 1], [about, 1], [the, 1]...  \n261  [[Now, 1], [thinking, 1], [about, 1], [the, 1]...  \n262  [[Jonas, 1], [grinned, 1], [remembering, 1], [...  \n267  [[The, 1], [students, 1], [had, 1], [all, 1], ...  \n269  [[The, 1], [students, 1], [had, 1], [all, 1], ...  \n270  [[I, 1], [accept, 1], [your, 1], [apology, 1],...  \n271  [[The, 1], [students, 1], [had, 1], [all, 1], ...  \n273  [[The, 1], [students, 1], [had, 1], [all, 1], ...  \n274  [[I, 1], [accept, 1], [your, 1], [apology, 1],...  \n275  [[He, 1], [had, 1], [waited, 1], [a, 1], [long...  \n276  [[It, 1], [was, 1], [one, 1], [of, 1], [the, 1...  \n277  [[You, 1], [go, 1], [Lily, 1], [he, 1], [said,...  \n278  [[Why, 1], [do, 1], [you, 1], [think, 1], [the...  \n279  [[Our, 1], [leader, 1], [told, 1], [us, 1], [w...  \n280  [[When, 1], [we, 1], [were, 1], [Sixes, 1], [w...  \n281  [[When, 1], [we, 1], [were, 1], [Sixes, 1], [w...  \n282  [[Yes, 1], [she, 1], [said, 1], [finally, 1], ...  \n283  [[When, 1], [we, 1], [were, 1], [Sixes, 1], [w...  \n284  [[Yes, 1], [she, 1], [said, 1], [finally, 1], ...  \n901  [[He, 1], [guessed, 1], [that, 1], [his, 1], [...  \n902  [[He, 1], [s, 1], [a, 1], [sweet, 1], [little,...  \n"
    }
   ],
   "source": [
    "df2.groupby('userId').apply(lambda x: print(x))"
   ]
  },
  {
   "cell_type": "code",
   "execution_count": 57,
   "metadata": {},
   "outputs": [],
   "source": [
    "df = df.sort_values(['time']).reset_index()"
   ]
  },
  {
   "cell_type": "code",
   "execution_count": 2,
   "metadata": {},
   "outputs": [],
   "source": [
    "df2 = df.copy()\n",
    "df2['i'] = np.arange(len(df2))\n",
    "df3 = df2.copy()\n",
    "df2 = df2.explode('sentences')\n",
    "df2['signalWord'] = df2['sentences'].map(lambda x: [[x['words'][i], 0 if i in x['unknownIndice'] else 1]for i in range(len(x['words']))])\n",
    "df3['signalWord'] = df2.groupby('i')['signalWord'].apply(sum)\n",
    "del df3['i']"
   ]
  },
  {
   "cell_type": "code",
   "execution_count": 53,
   "metadata": {},
   "outputs": [
    {
     "data": {
      "text/html": "<div>\n<style scoped>\n    .dataframe tbody tr th:only-of-type {\n        vertical-align: middle;\n    }\n\n    .dataframe tbody tr th {\n        vertical-align: top;\n    }\n\n    .dataframe thead th {\n        text-align: right;\n    }\n</style>\n<table border=\"1\" class=\"dataframe\">\n  <thead>\n    <tr style=\"text-align: right;\">\n      <th></th>\n      <th>classId</th>\n      <th>timeZ</th>\n      <th>eltime</th>\n      <th>scorePerc</th>\n      <th>userId</th>\n      <th>bookId</th>\n      <th>sentences</th>\n      <th>chapterId</th>\n      <th>time</th>\n      <th>signalWord</th>\n    </tr>\n  </thead>\n  <tbody>\n    <tr>\n      <td>0</td>\n      <td>test</td>\n      <td>1.000000</td>\n      <td>121800</td>\n      <td>-0.867770</td>\n      <td>SutG8ZQfC0HYGsbcZahj</td>\n      <td>knkqgp57wJ8C</td>\n      <td>[{'unknownWords': [], 'sid': '3ed4b2ee-dc06-11...</td>\n      <td>3ed570ee-dc06-11e9-8569-48bf6beb4102</td>\n      <td>2019-09-24T4:46:38+09:00</td>\n      <td>[[We, 1], [have, 1], [him, 1], [in, 1], [the, ...</td>\n    </tr>\n    <tr>\n      <td>1</td>\n      <td>19-grade-8</td>\n      <td>0.454545</td>\n      <td>1300</td>\n      <td>-2.934042</td>\n      <td>OQJ8K3jcLOM3eYaImkyN</td>\n      <td>knkqgp57wJ8C</td>\n      <td>[{'unknownWords': [], 'sid': '3ed3e184-dc06-11...</td>\n      <td>3ed570ee-dc06-11e9-8569-48bf6beb4102</td>\n      <td>2019-09-25T5:3:01+09:00</td>\n      <td>[[His, 1], [feelings, 1], [were, 1], [too, 1],...</td>\n    </tr>\n    <tr>\n      <td>2</td>\n      <td>19-grade-6</td>\n      <td>0.266667</td>\n      <td>60000</td>\n      <td>0.420139</td>\n      <td>0bHdAlU0BUXj4OLRPzTZ</td>\n      <td>DZf40OcrwD8C</td>\n      <td>[{'unknownWords': [], 'sid': 'b4daef16-dc52-11...</td>\n      <td>b4db68f6-dc52-11e9-8b48-48bf6beb4102</td>\n      <td>2019-09-29T7:17:37+09:00</td>\n      <td>[[Then, 1], [we, 1], [d, 1], [really, 1], [get...</td>\n    </tr>\n    <tr>\n      <td>3</td>\n      <td>19-grade-7-joy</td>\n      <td>0.500000</td>\n      <td>30800</td>\n      <td>0.476856</td>\n      <td>zdWiLjoIxRDrtMRNjOlk</td>\n      <td>RfSsXCi9FxoC</td>\n      <td>[{'unknownWords': [], 'sid': '882f212c-dc51-11...</td>\n      <td>88302ed2-dc51-11e9-8285-48bf6beb4102</td>\n      <td>2019-10-06T09:58:48.512Z</td>\n      <td>[[Father, 1], [would, 1], [stand, 1], [at, 1],...</td>\n    </tr>\n    <tr>\n      <td>4</td>\n      <td>19-grade-6</td>\n      <td>1.000000</td>\n      <td>31300</td>\n      <td>0.503747</td>\n      <td>ZYTj0ZyUTpLsaxb0zoSB</td>\n      <td>DZf40OcrwD8C</td>\n      <td>[{'unknownWords': [], 'sid': 'b4e06fea-dc52-11...</td>\n      <td>b4e28910-dc52-11e9-8b48-48bf6beb4102</td>\n      <td>2019-10-14T10:19:25.910Z</td>\n      <td>[[There, 1], [they, 1], [visited, 1], [the, 1]...</td>\n    </tr>\n    <tr>\n      <td>...</td>\n      <td>...</td>\n      <td>...</td>\n      <td>...</td>\n      <td>...</td>\n      <td>...</td>\n      <td>...</td>\n      <td>...</td>\n      <td>...</td>\n      <td>...</td>\n      <td>...</td>\n    </tr>\n    <tr>\n      <td>2453</td>\n      <td>19-grade-6</td>\n      <td>0.833333</td>\n      <td>66500</td>\n      <td>-1.362777</td>\n      <td>qtW5EhH8cUORCIwwOSiX</td>\n      <td>DZf40OcrwD8C</td>\n      <td>[{'unknownWords': ['assembled'], 'sid': 'b4de7...</td>\n      <td>b4df1e2e-dc52-11e9-8b48-48bf6beb4102</td>\n      <td>2019-10-10T9:24:09+09:00</td>\n      <td>[[When, 1], [the, 1], [groom, 1], [s, 1], [fam...</td>\n    </tr>\n    <tr>\n      <td>2454</td>\n      <td>19-grade-6</td>\n      <td>0.833333</td>\n      <td>16800</td>\n      <td>-0.491493</td>\n      <td>xP0QeRM7qCAi1bOSAt1o</td>\n      <td>DZf40OcrwD8C</td>\n      <td>[{'unknownWords': [], 'sid': 'b4de0dae-dc52-11...</td>\n      <td>b4df1e2e-dc52-11e9-8b48-48bf6beb4102</td>\n      <td>2019-10-12T09:54:29.824Z</td>\n      <td>[[The, 1], [groom, 1], [s, 1], [parents, 1], [...</td>\n    </tr>\n    <tr>\n      <td>2455</td>\n      <td>19-grade-6</td>\n      <td>0.714286</td>\n      <td>567700</td>\n      <td>-1.543713</td>\n      <td>AWJ3AzY0AdAUKDqerSwH</td>\n      <td>DZf40OcrwD8C</td>\n      <td>[{'unknownWords': ['homemade'], 'sid': 'b4e52e...</td>\n      <td>b4e6e64a-dc52-11e9-8b48-48bf6beb4102</td>\n      <td>2019-10-19T7:46:07+09:00</td>\n      <td>[[She, 1], [saw, 1], [a, 1], [crowd, 1], [of, ...</td>\n    </tr>\n    <tr>\n      <td>2456</td>\n      <td>19-grade-6</td>\n      <td>1.000000</td>\n      <td>140200</td>\n      <td>0.525148</td>\n      <td>g11JTV6am9fleET7bIid</td>\n      <td>DZf40OcrwD8C</td>\n      <td>[{'unknownWords': [], 'sid': 'b4e5a4d8-dc52-11...</td>\n      <td>b4e6e64a-dc52-11e9-8b48-48bf6beb4102</td>\n      <td>2019-10-22T09:49:00.141Z</td>\n      <td>[[And, 1], [I, 1], [ve, 1], [met, 1], [lots, 1...</td>\n    </tr>\n    <tr>\n      <td>2457</td>\n      <td>19-grade-7-joy</td>\n      <td>-1.000000</td>\n      <td>2800</td>\n      <td>-0.000000</td>\n      <td>GDQqFBeAkT3BM8LaUf4e</td>\n      <td>RfSsXCi9FxoC</td>\n      <td>[{'unknownWords': [], 'sid': '88642610-dc51-11...</td>\n      <td>8867f948-dc51-11e9-8285-48bf6beb4102</td>\n      <td>2019-11-12T10:26:02+09:00</td>\n      <td>[[Tomorrow, 1], [the, 1], [new, 1], [ration, 1...</td>\n    </tr>\n  </tbody>\n</table>\n<p>2458 rows × 10 columns</p>\n</div>",
      "text/plain": "             classId     timeZ  eltime  scorePerc                userId  \\\n0               test  1.000000  121800  -0.867770  SutG8ZQfC0HYGsbcZahj   \n1         19-grade-8  0.454545    1300  -2.934042  OQJ8K3jcLOM3eYaImkyN   \n2         19-grade-6  0.266667   60000   0.420139  0bHdAlU0BUXj4OLRPzTZ   \n3     19-grade-7-joy  0.500000   30800   0.476856  zdWiLjoIxRDrtMRNjOlk   \n4         19-grade-6  1.000000   31300   0.503747  ZYTj0ZyUTpLsaxb0zoSB   \n...              ...       ...     ...        ...                   ...   \n2453      19-grade-6  0.833333   66500  -1.362777  qtW5EhH8cUORCIwwOSiX   \n2454      19-grade-6  0.833333   16800  -0.491493  xP0QeRM7qCAi1bOSAt1o   \n2455      19-grade-6  0.714286  567700  -1.543713  AWJ3AzY0AdAUKDqerSwH   \n2456      19-grade-6  1.000000  140200   0.525148  g11JTV6am9fleET7bIid   \n2457  19-grade-7-joy -1.000000    2800  -0.000000  GDQqFBeAkT3BM8LaUf4e   \n\n            bookId                                          sentences  \\\n0     knkqgp57wJ8C  [{'unknownWords': [], 'sid': '3ed4b2ee-dc06-11...   \n1     knkqgp57wJ8C  [{'unknownWords': [], 'sid': '3ed3e184-dc06-11...   \n2     DZf40OcrwD8C  [{'unknownWords': [], 'sid': 'b4daef16-dc52-11...   \n3     RfSsXCi9FxoC  [{'unknownWords': [], 'sid': '882f212c-dc51-11...   \n4     DZf40OcrwD8C  [{'unknownWords': [], 'sid': 'b4e06fea-dc52-11...   \n...            ...                                                ...   \n2453  DZf40OcrwD8C  [{'unknownWords': ['assembled'], 'sid': 'b4de7...   \n2454  DZf40OcrwD8C  [{'unknownWords': [], 'sid': 'b4de0dae-dc52-11...   \n2455  DZf40OcrwD8C  [{'unknownWords': ['homemade'], 'sid': 'b4e52e...   \n2456  DZf40OcrwD8C  [{'unknownWords': [], 'sid': 'b4e5a4d8-dc52-11...   \n2457  RfSsXCi9FxoC  [{'unknownWords': [], 'sid': '88642610-dc51-11...   \n\n                                 chapterId                       time  \\\n0     3ed570ee-dc06-11e9-8569-48bf6beb4102   2019-09-24T4:46:38+09:00   \n1     3ed570ee-dc06-11e9-8569-48bf6beb4102    2019-09-25T5:3:01+09:00   \n2     b4db68f6-dc52-11e9-8b48-48bf6beb4102   2019-09-29T7:17:37+09:00   \n3     88302ed2-dc51-11e9-8285-48bf6beb4102   2019-10-06T09:58:48.512Z   \n4     b4e28910-dc52-11e9-8b48-48bf6beb4102   2019-10-14T10:19:25.910Z   \n...                                    ...                        ...   \n2453  b4df1e2e-dc52-11e9-8b48-48bf6beb4102   2019-10-10T9:24:09+09:00   \n2454  b4df1e2e-dc52-11e9-8b48-48bf6beb4102   2019-10-12T09:54:29.824Z   \n2455  b4e6e64a-dc52-11e9-8b48-48bf6beb4102   2019-10-19T7:46:07+09:00   \n2456  b4e6e64a-dc52-11e9-8b48-48bf6beb4102   2019-10-22T09:49:00.141Z   \n2457  8867f948-dc51-11e9-8285-48bf6beb4102  2019-11-12T10:26:02+09:00   \n\n                                             signalWord  \n0     [[We, 1], [have, 1], [him, 1], [in, 1], [the, ...  \n1     [[His, 1], [feelings, 1], [were, 1], [too, 1],...  \n2     [[Then, 1], [we, 1], [d, 1], [really, 1], [get...  \n3     [[Father, 1], [would, 1], [stand, 1], [at, 1],...  \n4     [[There, 1], [they, 1], [visited, 1], [the, 1]...  \n...                                                 ...  \n2453  [[When, 1], [the, 1], [groom, 1], [s, 1], [fam...  \n2454  [[The, 1], [groom, 1], [s, 1], [parents, 1], [...  \n2455  [[She, 1], [saw, 1], [a, 1], [crowd, 1], [of, ...  \n2456  [[And, 1], [I, 1], [ve, 1], [met, 1], [lots, 1...  \n2457  [[Tomorrow, 1], [the, 1], [new, 1], [ration, 1...  \n\n[2458 rows x 10 columns]"
     },
     "execution_count": 53,
     "metadata": {},
     "output_type": "execute_result"
    }
   ],
   "source": [
    "df3"
   ]
  },
  {
   "cell_type": "code",
   "execution_count": 54,
   "metadata": {},
   "outputs": [],
   "source": [
    "df3 = df3.loc[~df3['classId'].isin(['test', 'test2'])]\n",
    "df3['len'] = df3['signalWord'].map(lambda x: len(x))\n",
    "userDf = df3[['userId', 'classId', 'eltime', 'scorePerc', 'len']].groupby(['userId', 'classId']).agg('mean')\n",
    "userDf['eltime'] /= 1000\n",
    "whiteUserDf = userDf.loc[userDf['eltime'] > 11].reset_index()\n",
    "df3 = df3.merge(whiteUserDf[['userId']], on='userId', how='inner')"
   ]
  },
  {
   "cell_type": "markdown",
   "metadata": {},
   "source": []
  },
  {
   "cell_type": "code",
   "execution_count": 55,
   "metadata": {},
   "outputs": [
    {
     "data": {
      "text/html": "<div>\n<style scoped>\n    .dataframe tbody tr th:only-of-type {\n        vertical-align: middle;\n    }\n\n    .dataframe tbody tr th {\n        vertical-align: top;\n    }\n\n    .dataframe thead th {\n        text-align: right;\n    }\n</style>\n<table border=\"1\" class=\"dataframe\">\n  <thead>\n    <tr style=\"text-align: right;\">\n      <th></th>\n      <th>userId</th>\n      <th>classId</th>\n      <th>eltime</th>\n      <th>scorePerc</th>\n      <th>len</th>\n    </tr>\n  </thead>\n  <tbody>\n    <tr>\n      <td>0</td>\n      <td>0bHdAlU0BUXj4OLRPzTZ</td>\n      <td>19-grade-6</td>\n      <td>63.706667</td>\n      <td>0.454369</td>\n      <td>158.266667</td>\n    </tr>\n    <tr>\n      <td>1</td>\n      <td>1yz9QcMjyGFMMdC6LPlJ</td>\n      <td>19-grade-6</td>\n      <td>53.804545</td>\n      <td>0.033136</td>\n      <td>115.136364</td>\n    </tr>\n    <tr>\n      <td>2</td>\n      <td>3dkoVNdFAoch4sxXEtWo</td>\n      <td>19-grade-6</td>\n      <td>26.308000</td>\n      <td>-0.705699</td>\n      <td>109.100000</td>\n    </tr>\n    <tr>\n      <td>3</td>\n      <td>7ksTSrU6NjGGoZqnu7uG</td>\n      <td>19-grade-6</td>\n      <td>111.967742</td>\n      <td>0.180287</td>\n      <td>155.032258</td>\n    </tr>\n    <tr>\n      <td>4</td>\n      <td>AWJ3AzY0AdAUKDqerSwH</td>\n      <td>19-grade-6</td>\n      <td>28.882249</td>\n      <td>-0.821458</td>\n      <td>76.106509</td>\n    </tr>\n    <tr>\n      <td>5</td>\n      <td>GDQqFBeAkT3BM8LaUf4e</td>\n      <td>19-grade-7-joy</td>\n      <td>35.259441</td>\n      <td>-0.449977</td>\n      <td>84.090909</td>\n    </tr>\n    <tr>\n      <td>6</td>\n      <td>Jj9P1sIqjLLF0wVqDFeX</td>\n      <td>19-grade-6</td>\n      <td>57.708163</td>\n      <td>-0.159752</td>\n      <td>117.312925</td>\n    </tr>\n    <tr>\n      <td>7</td>\n      <td>NdlYszQsqy4y8pKYKj8N</td>\n      <td>19-grade-7-joy</td>\n      <td>89.949123</td>\n      <td>-1.780588</td>\n      <td>122.982456</td>\n    </tr>\n    <tr>\n      <td>8</td>\n      <td>OQJ8K3jcLOM3eYaImkyN</td>\n      <td>19-grade-8</td>\n      <td>87.883065</td>\n      <td>-1.682042</td>\n      <td>120.588710</td>\n    </tr>\n    <tr>\n      <td>9</td>\n      <td>VbFRYXiXVyBLWzGDlqqm</td>\n      <td>19-grade-6</td>\n      <td>22.784884</td>\n      <td>-0.299999</td>\n      <td>89.197674</td>\n    </tr>\n    <tr>\n      <td>10</td>\n      <td>YnCBKw1ZLXEgJ4iU2hK0</td>\n      <td>19-grade-8</td>\n      <td>113.909259</td>\n      <td>0.038743</td>\n      <td>117.481481</td>\n    </tr>\n    <tr>\n      <td>11</td>\n      <td>ZYTj0ZyUTpLsaxb0zoSB</td>\n      <td>19-grade-6</td>\n      <td>48.654167</td>\n      <td>0.596771</td>\n      <td>122.750000</td>\n    </tr>\n    <tr>\n      <td>12</td>\n      <td>bmKnPQcO48sDdLAKy5Lu</td>\n      <td>19-grade-6</td>\n      <td>37.462791</td>\n      <td>-0.093548</td>\n      <td>53.965116</td>\n    </tr>\n    <tr>\n      <td>13</td>\n      <td>dlA8HbNeY2c4dyNnK5VL</td>\n      <td>19-grade-7-joy</td>\n      <td>170.485938</td>\n      <td>0.169531</td>\n      <td>299.843750</td>\n    </tr>\n    <tr>\n      <td>14</td>\n      <td>g11JTV6am9fleET7bIid</td>\n      <td>19-grade-6</td>\n      <td>24.598889</td>\n      <td>0.427149</td>\n      <td>142.705556</td>\n    </tr>\n    <tr>\n      <td>15</td>\n      <td>mzQZO80m21TM0C7gRcqb</td>\n      <td>19-grade-8</td>\n      <td>30.072018</td>\n      <td>0.419818</td>\n      <td>115.403670</td>\n    </tr>\n    <tr>\n      <td>16</td>\n      <td>qtW5EhH8cUORCIwwOSiX</td>\n      <td>19-grade-6</td>\n      <td>58.353374</td>\n      <td>-1.137271</td>\n      <td>83.938650</td>\n    </tr>\n    <tr>\n      <td>17</td>\n      <td>xP0QeRM7qCAi1bOSAt1o</td>\n      <td>19-grade-6</td>\n      <td>49.778205</td>\n      <td>0.430633</td>\n      <td>84.833333</td>\n    </tr>\n    <tr>\n      <td>18</td>\n      <td>zdWiLjoIxRDrtMRNjOlk</td>\n      <td>19-grade-7-joy</td>\n      <td>29.962195</td>\n      <td>0.532116</td>\n      <td>158.487805</td>\n    </tr>\n  </tbody>\n</table>\n</div>",
      "text/plain": "                  userId         classId      eltime  scorePerc         len\n0   0bHdAlU0BUXj4OLRPzTZ      19-grade-6   63.706667   0.454369  158.266667\n1   1yz9QcMjyGFMMdC6LPlJ      19-grade-6   53.804545   0.033136  115.136364\n2   3dkoVNdFAoch4sxXEtWo      19-grade-6   26.308000  -0.705699  109.100000\n3   7ksTSrU6NjGGoZqnu7uG      19-grade-6  111.967742   0.180287  155.032258\n4   AWJ3AzY0AdAUKDqerSwH      19-grade-6   28.882249  -0.821458   76.106509\n5   GDQqFBeAkT3BM8LaUf4e  19-grade-7-joy   35.259441  -0.449977   84.090909\n6   Jj9P1sIqjLLF0wVqDFeX      19-grade-6   57.708163  -0.159752  117.312925\n7   NdlYszQsqy4y8pKYKj8N  19-grade-7-joy   89.949123  -1.780588  122.982456\n8   OQJ8K3jcLOM3eYaImkyN      19-grade-8   87.883065  -1.682042  120.588710\n9   VbFRYXiXVyBLWzGDlqqm      19-grade-6   22.784884  -0.299999   89.197674\n10  YnCBKw1ZLXEgJ4iU2hK0      19-grade-8  113.909259   0.038743  117.481481\n11  ZYTj0ZyUTpLsaxb0zoSB      19-grade-6   48.654167   0.596771  122.750000\n12  bmKnPQcO48sDdLAKy5Lu      19-grade-6   37.462791  -0.093548   53.965116\n13  dlA8HbNeY2c4dyNnK5VL  19-grade-7-joy  170.485938   0.169531  299.843750\n14  g11JTV6am9fleET7bIid      19-grade-6   24.598889   0.427149  142.705556\n15  mzQZO80m21TM0C7gRcqb      19-grade-8   30.072018   0.419818  115.403670\n16  qtW5EhH8cUORCIwwOSiX      19-grade-6   58.353374  -1.137271   83.938650\n17  xP0QeRM7qCAi1bOSAt1o      19-grade-6   49.778205   0.430633   84.833333\n18  zdWiLjoIxRDrtMRNjOlk  19-grade-7-joy   29.962195   0.532116  158.487805"
     },
     "execution_count": 55,
     "metadata": {},
     "output_type": "execute_result"
    }
   ],
   "source": [
    "whiteUserDf"
   ]
  },
  {
   "cell_type": "code",
   "execution_count": 56,
   "metadata": {},
   "outputs": [],
   "source": [
    "whiteUserDf = whiteUserDf.merge(df3.groupby('userId')['userId'].agg('count').to_frame('c'), on='userId', how='inner')"
   ]
  },
  {
   "cell_type": "code",
   "execution_count": 57,
   "metadata": {},
   "outputs": [
    {
     "data": {
      "text/plain": "218641.0"
     },
     "execution_count": 57,
     "metadata": {},
     "output_type": "execute_result"
    }
   ],
   "source": [
    "whiteUserDf['len2'] = whiteUserDf['len'] * whiteUserDf['c']\n",
    "sum(whiteUserDf['len2'])"
   ]
  },
  {
   "cell_type": "code",
   "execution_count": 58,
   "metadata": {},
   "outputs": [],
   "source": [
    "df3[['time', 'userId', 'eltime', 'scorePerc', 'classId', 'signalWord']].to_csv('logs.csv', index=False)"
   ]
  },
  {
   "cell_type": "code",
   "execution_count": null,
   "metadata": {},
   "outputs": [],
   "source": []
  }
 ]
}