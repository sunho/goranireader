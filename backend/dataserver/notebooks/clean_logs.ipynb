{
 "nbformat": 4,
 "nbformat_minor": 2,
 "metadata": {
  "language_info": {
   "name": "python",
   "codemirror_mode": {
    "name": "ipython",
    "version": 3
   },
   "version": "3.7.4-final"
  },
  "orig_nbformat": 2,
  "file_extension": ".py",
  "mimetype": "text/x-python",
  "name": "python",
  "npconvert_exporter": "python",
  "pygments_lexer": "ipython3",
  "version": 3,
  "kernelspec": {
   "name": "python3",
   "display_name": "Python 3"
  }
 },
 "cells": [
  {
   "cell_type": "code",
   "execution_count": 1,
   "metadata": {},
   "outputs": [],
   "source": [
    "import pandas\n",
    "import os\n",
    "import json\n",
    "import numpy as np\n",
    "df = pandas.read_json('./data/logs.json')\n"
   ]
  },
  {
   "cell_type": "code",
   "execution_count": 22,
   "metadata": {},
   "outputs": [],
   "source": [
    "df2 = df.copy()\n",
    "df2['i'] = np.arange(len(df2))\n",
    "df3 = df2.copy()\n",
    "df2 = df2.explode('sentences')\n",
    "df2['signalWord'] = df2['sentences'].map(lambda x: [[x['words'][i], 0 if i in x['unknownIndice'] else 1]for i in range(len(x['words']))])\n",
    "df3['signalWord'] = df2.groupby('i')['signalWord'].apply(sum)\n",
    "del df3['i']"
   ]
  },
  {
   "cell_type": "code",
   "execution_count": 23,
   "metadata": {},
   "outputs": [
    {
     "data": {
      "text/html": "<div>\n<style scoped>\n    .dataframe tbody tr th:only-of-type {\n        vertical-align: middle;\n    }\n\n    .dataframe tbody tr th {\n        vertical-align: top;\n    }\n\n    .dataframe thead th {\n        text-align: right;\n    }\n</style>\n<table border=\"1\" class=\"dataframe\">\n  <thead>\n    <tr style=\"text-align: right;\">\n      <th></th>\n      <th>classId</th>\n      <th>timeZ</th>\n      <th>eltime</th>\n      <th>scorePerc</th>\n      <th>userId</th>\n      <th>bookId</th>\n      <th>sentences</th>\n      <th>chapterId</th>\n      <th>time</th>\n      <th>signalWord</th>\n    </tr>\n  </thead>\n  <tbody>\n    <tr>\n      <td>0</td>\n      <td>test</td>\n      <td>1.000000</td>\n      <td>121800</td>\n      <td>-0.867770</td>\n      <td>SutG8ZQfC0HYGsbcZahj</td>\n      <td>knkqgp57wJ8C</td>\n      <td>[{'unknownWords': [], 'sid': '3ed4b2ee-dc06-11...</td>\n      <td>3ed570ee-dc06-11e9-8569-48bf6beb4102</td>\n      <td>2019-09-24T4:46:38+09:00</td>\n      <td>[[We, 1], [have, 1], [him, 1], [in, 1], [the, ...</td>\n    </tr>\n    <tr>\n      <td>1</td>\n      <td>19-grade-8</td>\n      <td>0.454545</td>\n      <td>1300</td>\n      <td>-2.934042</td>\n      <td>OQJ8K3jcLOM3eYaImkyN</td>\n      <td>knkqgp57wJ8C</td>\n      <td>[{'unknownWords': [], 'sid': '3ed3e184-dc06-11...</td>\n      <td>3ed570ee-dc06-11e9-8569-48bf6beb4102</td>\n      <td>2019-09-25T5:3:01+09:00</td>\n      <td>[[His, 1], [feelings, 1], [were, 1], [too, 1],...</td>\n    </tr>\n    <tr>\n      <td>2</td>\n      <td>19-grade-6</td>\n      <td>0.266667</td>\n      <td>60000</td>\n      <td>0.420139</td>\n      <td>0bHdAlU0BUXj4OLRPzTZ</td>\n      <td>DZf40OcrwD8C</td>\n      <td>[{'unknownWords': [], 'sid': 'b4daef16-dc52-11...</td>\n      <td>b4db68f6-dc52-11e9-8b48-48bf6beb4102</td>\n      <td>2019-09-29T7:17:37+09:00</td>\n      <td>[[Then, 1], [we, 1], [d, 1], [really, 1], [get...</td>\n    </tr>\n    <tr>\n      <td>3</td>\n      <td>19-grade-7-joy</td>\n      <td>0.500000</td>\n      <td>30800</td>\n      <td>0.476856</td>\n      <td>zdWiLjoIxRDrtMRNjOlk</td>\n      <td>RfSsXCi9FxoC</td>\n      <td>[{'unknownWords': [], 'sid': '882f212c-dc51-11...</td>\n      <td>88302ed2-dc51-11e9-8285-48bf6beb4102</td>\n      <td>2019-10-06T09:58:48.512Z</td>\n      <td>[[Father, 1], [would, 1], [stand, 1], [at, 1],...</td>\n    </tr>\n    <tr>\n      <td>4</td>\n      <td>19-grade-6</td>\n      <td>1.000000</td>\n      <td>31300</td>\n      <td>0.503747</td>\n      <td>ZYTj0ZyUTpLsaxb0zoSB</td>\n      <td>DZf40OcrwD8C</td>\n      <td>[{'unknownWords': [], 'sid': 'b4e06fea-dc52-11...</td>\n      <td>b4e28910-dc52-11e9-8b48-48bf6beb4102</td>\n      <td>2019-10-14T10:19:25.910Z</td>\n      <td>[[There, 1], [they, 1], [visited, 1], [the, 1]...</td>\n    </tr>\n    <tr>\n      <td>...</td>\n      <td>...</td>\n      <td>...</td>\n      <td>...</td>\n      <td>...</td>\n      <td>...</td>\n      <td>...</td>\n      <td>...</td>\n      <td>...</td>\n      <td>...</td>\n      <td>...</td>\n    </tr>\n    <tr>\n      <td>2453</td>\n      <td>19-grade-6</td>\n      <td>0.833333</td>\n      <td>66500</td>\n      <td>-1.362777</td>\n      <td>qtW5EhH8cUORCIwwOSiX</td>\n      <td>DZf40OcrwD8C</td>\n      <td>[{'unknownWords': ['assembled'], 'sid': 'b4de7...</td>\n      <td>b4df1e2e-dc52-11e9-8b48-48bf6beb4102</td>\n      <td>2019-10-10T9:24:09+09:00</td>\n      <td>[[When, 1], [the, 1], [groom, 1], [s, 1], [fam...</td>\n    </tr>\n    <tr>\n      <td>2454</td>\n      <td>19-grade-6</td>\n      <td>0.833333</td>\n      <td>16800</td>\n      <td>-0.491493</td>\n      <td>xP0QeRM7qCAi1bOSAt1o</td>\n      <td>DZf40OcrwD8C</td>\n      <td>[{'unknownWords': [], 'sid': 'b4de0dae-dc52-11...</td>\n      <td>b4df1e2e-dc52-11e9-8b48-48bf6beb4102</td>\n      <td>2019-10-12T09:54:29.824Z</td>\n      <td>[[The, 1], [groom, 1], [s, 1], [parents, 1], [...</td>\n    </tr>\n    <tr>\n      <td>2455</td>\n      <td>19-grade-6</td>\n      <td>0.714286</td>\n      <td>567700</td>\n      <td>-1.543713</td>\n      <td>AWJ3AzY0AdAUKDqerSwH</td>\n      <td>DZf40OcrwD8C</td>\n      <td>[{'unknownWords': ['homemade'], 'sid': 'b4e52e...</td>\n      <td>b4e6e64a-dc52-11e9-8b48-48bf6beb4102</td>\n      <td>2019-10-19T7:46:07+09:00</td>\n      <td>[[She, 1], [saw, 1], [a, 1], [crowd, 1], [of, ...</td>\n    </tr>\n    <tr>\n      <td>2456</td>\n      <td>19-grade-6</td>\n      <td>1.000000</td>\n      <td>140200</td>\n      <td>0.525148</td>\n      <td>g11JTV6am9fleET7bIid</td>\n      <td>DZf40OcrwD8C</td>\n      <td>[{'unknownWords': [], 'sid': 'b4e5a4d8-dc52-11...</td>\n      <td>b4e6e64a-dc52-11e9-8b48-48bf6beb4102</td>\n      <td>2019-10-22T09:49:00.141Z</td>\n      <td>[[And, 1], [I, 1], [ve, 1], [met, 1], [lots, 1...</td>\n    </tr>\n    <tr>\n      <td>2457</td>\n      <td>19-grade-7-joy</td>\n      <td>-1.000000</td>\n      <td>2800</td>\n      <td>-0.000000</td>\n      <td>GDQqFBeAkT3BM8LaUf4e</td>\n      <td>RfSsXCi9FxoC</td>\n      <td>[{'unknownWords': [], 'sid': '88642610-dc51-11...</td>\n      <td>8867f948-dc51-11e9-8285-48bf6beb4102</td>\n      <td>2019-11-12T10:26:02+09:00</td>\n      <td>[[Tomorrow, 1], [the, 1], [new, 1], [ration, 1...</td>\n    </tr>\n  </tbody>\n</table>\n<p>2458 rows × 10 columns</p>\n</div>",
      "text/plain": "             classId     timeZ  eltime  scorePerc                userId  \\\n0               test  1.000000  121800  -0.867770  SutG8ZQfC0HYGsbcZahj   \n1         19-grade-8  0.454545    1300  -2.934042  OQJ8K3jcLOM3eYaImkyN   \n2         19-grade-6  0.266667   60000   0.420139  0bHdAlU0BUXj4OLRPzTZ   \n3     19-grade-7-joy  0.500000   30800   0.476856  zdWiLjoIxRDrtMRNjOlk   \n4         19-grade-6  1.000000   31300   0.503747  ZYTj0ZyUTpLsaxb0zoSB   \n...              ...       ...     ...        ...                   ...   \n2453      19-grade-6  0.833333   66500  -1.362777  qtW5EhH8cUORCIwwOSiX   \n2454      19-grade-6  0.833333   16800  -0.491493  xP0QeRM7qCAi1bOSAt1o   \n2455      19-grade-6  0.714286  567700  -1.543713  AWJ3AzY0AdAUKDqerSwH   \n2456      19-grade-6  1.000000  140200   0.525148  g11JTV6am9fleET7bIid   \n2457  19-grade-7-joy -1.000000    2800  -0.000000  GDQqFBeAkT3BM8LaUf4e   \n\n            bookId                                          sentences  \\\n0     knkqgp57wJ8C  [{'unknownWords': [], 'sid': '3ed4b2ee-dc06-11...   \n1     knkqgp57wJ8C  [{'unknownWords': [], 'sid': '3ed3e184-dc06-11...   \n2     DZf40OcrwD8C  [{'unknownWords': [], 'sid': 'b4daef16-dc52-11...   \n3     RfSsXCi9FxoC  [{'unknownWords': [], 'sid': '882f212c-dc51-11...   \n4     DZf40OcrwD8C  [{'unknownWords': [], 'sid': 'b4e06fea-dc52-11...   \n...            ...                                                ...   \n2453  DZf40OcrwD8C  [{'unknownWords': ['assembled'], 'sid': 'b4de7...   \n2454  DZf40OcrwD8C  [{'unknownWords': [], 'sid': 'b4de0dae-dc52-11...   \n2455  DZf40OcrwD8C  [{'unknownWords': ['homemade'], 'sid': 'b4e52e...   \n2456  DZf40OcrwD8C  [{'unknownWords': [], 'sid': 'b4e5a4d8-dc52-11...   \n2457  RfSsXCi9FxoC  [{'unknownWords': [], 'sid': '88642610-dc51-11...   \n\n                                 chapterId                       time  \\\n0     3ed570ee-dc06-11e9-8569-48bf6beb4102   2019-09-24T4:46:38+09:00   \n1     3ed570ee-dc06-11e9-8569-48bf6beb4102    2019-09-25T5:3:01+09:00   \n2     b4db68f6-dc52-11e9-8b48-48bf6beb4102   2019-09-29T7:17:37+09:00   \n3     88302ed2-dc51-11e9-8285-48bf6beb4102   2019-10-06T09:58:48.512Z   \n4     b4e28910-dc52-11e9-8b48-48bf6beb4102   2019-10-14T10:19:25.910Z   \n...                                    ...                        ...   \n2453  b4df1e2e-dc52-11e9-8b48-48bf6beb4102   2019-10-10T9:24:09+09:00   \n2454  b4df1e2e-dc52-11e9-8b48-48bf6beb4102   2019-10-12T09:54:29.824Z   \n2455  b4e6e64a-dc52-11e9-8b48-48bf6beb4102   2019-10-19T7:46:07+09:00   \n2456  b4e6e64a-dc52-11e9-8b48-48bf6beb4102   2019-10-22T09:49:00.141Z   \n2457  8867f948-dc51-11e9-8285-48bf6beb4102  2019-11-12T10:26:02+09:00   \n\n                                             signalWord  \n0     [[We, 1], [have, 1], [him, 1], [in, 1], [the, ...  \n1     [[His, 1], [feelings, 1], [were, 1], [too, 1],...  \n2     [[Then, 1], [we, 1], [d, 1], [really, 1], [get...  \n3     [[Father, 1], [would, 1], [stand, 1], [at, 1],...  \n4     [[There, 1], [they, 1], [visited, 1], [the, 1]...  \n...                                                 ...  \n2453  [[When, 1], [the, 1], [groom, 1], [s, 1], [fam...  \n2454  [[The, 1], [groom, 1], [s, 1], [parents, 1], [...  \n2455  [[She, 1], [saw, 1], [a, 1], [crowd, 1], [of, ...  \n2456  [[And, 1], [I, 1], [ve, 1], [met, 1], [lots, 1...  \n2457  [[Tomorrow, 1], [the, 1], [new, 1], [ration, 1...  \n\n[2458 rows x 10 columns]"
     },
     "execution_count": 23,
     "metadata": {},
     "output_type": "execute_result"
    }
   ],
   "source": [
    "df3"
   ]
  },
  {
   "cell_type": "code",
   "execution_count": 30,
   "metadata": {},
   "outputs": [],
   "source": [
    "df3 = df3.loc[~df3['classId'].isin(['test', 'test2'])]\n",
    "df3['len'] = len(df3['signalWord'])\n",
    "userDf = df3[['userId', 'classId', 'eltime', 'scorePerc', 'len']].groupby(['userId', 'classId']).agg('mean')\n",
    "userDf['eltime'] /= 1000\n",
    "whiteUserDf = userDf.loc[userDf['eltime'] > 11].reset_index()\n",
    "df3 = df3.merge(whiteUserDf[['userId']], on='userId', how='inner')"
   ]
  },
  {
   "cell_type": "markdown",
   "metadata": {},
   "source": []
  },
  {
   "cell_type": "code",
   "execution_count": 31,
   "metadata": {},
   "outputs": [
    {
     "data": {
      "text/html": "<div>\n<style scoped>\n    .dataframe tbody tr th:only-of-type {\n        vertical-align: middle;\n    }\n\n    .dataframe tbody tr th {\n        vertical-align: top;\n    }\n\n    .dataframe thead th {\n        text-align: right;\n    }\n</style>\n<table border=\"1\" class=\"dataframe\">\n  <thead>\n    <tr style=\"text-align: right;\">\n      <th></th>\n      <th>userId</th>\n      <th>classId</th>\n      <th>eltime</th>\n      <th>scorePerc</th>\n      <th>len</th>\n    </tr>\n  </thead>\n  <tbody>\n    <tr>\n      <td>0</td>\n      <td>0bHdAlU0BUXj4OLRPzTZ</td>\n      <td>19-grade-6</td>\n      <td>63.706667</td>\n      <td>0.454369</td>\n      <td>1936.0</td>\n    </tr>\n    <tr>\n      <td>1</td>\n      <td>1yz9QcMjyGFMMdC6LPlJ</td>\n      <td>19-grade-6</td>\n      <td>53.804545</td>\n      <td>0.033136</td>\n      <td>1936.0</td>\n    </tr>\n    <tr>\n      <td>2</td>\n      <td>3dkoVNdFAoch4sxXEtWo</td>\n      <td>19-grade-6</td>\n      <td>26.308000</td>\n      <td>-0.705699</td>\n      <td>1936.0</td>\n    </tr>\n    <tr>\n      <td>3</td>\n      <td>7ksTSrU6NjGGoZqnu7uG</td>\n      <td>19-grade-6</td>\n      <td>111.967742</td>\n      <td>0.180287</td>\n      <td>1936.0</td>\n    </tr>\n    <tr>\n      <td>4</td>\n      <td>AWJ3AzY0AdAUKDqerSwH</td>\n      <td>19-grade-6</td>\n      <td>28.882249</td>\n      <td>-0.821458</td>\n      <td>1936.0</td>\n    </tr>\n    <tr>\n      <td>5</td>\n      <td>GDQqFBeAkT3BM8LaUf4e</td>\n      <td>19-grade-7-joy</td>\n      <td>35.259441</td>\n      <td>-0.449977</td>\n      <td>1936.0</td>\n    </tr>\n    <tr>\n      <td>6</td>\n      <td>Jj9P1sIqjLLF0wVqDFeX</td>\n      <td>19-grade-6</td>\n      <td>57.708163</td>\n      <td>-0.159752</td>\n      <td>1936.0</td>\n    </tr>\n    <tr>\n      <td>7</td>\n      <td>NdlYszQsqy4y8pKYKj8N</td>\n      <td>19-grade-7-joy</td>\n      <td>89.949123</td>\n      <td>-1.780588</td>\n      <td>1936.0</td>\n    </tr>\n    <tr>\n      <td>8</td>\n      <td>OQJ8K3jcLOM3eYaImkyN</td>\n      <td>19-grade-8</td>\n      <td>87.883065</td>\n      <td>-1.682042</td>\n      <td>1936.0</td>\n    </tr>\n    <tr>\n      <td>9</td>\n      <td>VbFRYXiXVyBLWzGDlqqm</td>\n      <td>19-grade-6</td>\n      <td>22.784884</td>\n      <td>-0.299999</td>\n      <td>1936.0</td>\n    </tr>\n    <tr>\n      <td>10</td>\n      <td>YnCBKw1ZLXEgJ4iU2hK0</td>\n      <td>19-grade-8</td>\n      <td>113.909259</td>\n      <td>0.038743</td>\n      <td>1936.0</td>\n    </tr>\n    <tr>\n      <td>11</td>\n      <td>ZYTj0ZyUTpLsaxb0zoSB</td>\n      <td>19-grade-6</td>\n      <td>48.654167</td>\n      <td>0.596771</td>\n      <td>1936.0</td>\n    </tr>\n    <tr>\n      <td>12</td>\n      <td>bmKnPQcO48sDdLAKy5Lu</td>\n      <td>19-grade-6</td>\n      <td>37.462791</td>\n      <td>-0.093548</td>\n      <td>1936.0</td>\n    </tr>\n    <tr>\n      <td>13</td>\n      <td>dlA8HbNeY2c4dyNnK5VL</td>\n      <td>19-grade-7-joy</td>\n      <td>170.485938</td>\n      <td>0.169531</td>\n      <td>1936.0</td>\n    </tr>\n    <tr>\n      <td>14</td>\n      <td>g11JTV6am9fleET7bIid</td>\n      <td>19-grade-6</td>\n      <td>24.598889</td>\n      <td>0.427149</td>\n      <td>1936.0</td>\n    </tr>\n    <tr>\n      <td>15</td>\n      <td>mzQZO80m21TM0C7gRcqb</td>\n      <td>19-grade-8</td>\n      <td>30.072018</td>\n      <td>0.419818</td>\n      <td>1936.0</td>\n    </tr>\n    <tr>\n      <td>16</td>\n      <td>qtW5EhH8cUORCIwwOSiX</td>\n      <td>19-grade-6</td>\n      <td>58.353374</td>\n      <td>-1.137271</td>\n      <td>1936.0</td>\n    </tr>\n    <tr>\n      <td>17</td>\n      <td>xP0QeRM7qCAi1bOSAt1o</td>\n      <td>19-grade-6</td>\n      <td>49.778205</td>\n      <td>0.430633</td>\n      <td>1936.0</td>\n    </tr>\n    <tr>\n      <td>18</td>\n      <td>zdWiLjoIxRDrtMRNjOlk</td>\n      <td>19-grade-7-joy</td>\n      <td>29.962195</td>\n      <td>0.532116</td>\n      <td>1936.0</td>\n    </tr>\n  </tbody>\n</table>\n</div>",
      "text/plain": "                  userId         classId      eltime  scorePerc     len\n0   0bHdAlU0BUXj4OLRPzTZ      19-grade-6   63.706667   0.454369  1936.0\n1   1yz9QcMjyGFMMdC6LPlJ      19-grade-6   53.804545   0.033136  1936.0\n2   3dkoVNdFAoch4sxXEtWo      19-grade-6   26.308000  -0.705699  1936.0\n3   7ksTSrU6NjGGoZqnu7uG      19-grade-6  111.967742   0.180287  1936.0\n4   AWJ3AzY0AdAUKDqerSwH      19-grade-6   28.882249  -0.821458  1936.0\n5   GDQqFBeAkT3BM8LaUf4e  19-grade-7-joy   35.259441  -0.449977  1936.0\n6   Jj9P1sIqjLLF0wVqDFeX      19-grade-6   57.708163  -0.159752  1936.0\n7   NdlYszQsqy4y8pKYKj8N  19-grade-7-joy   89.949123  -1.780588  1936.0\n8   OQJ8K3jcLOM3eYaImkyN      19-grade-8   87.883065  -1.682042  1936.0\n9   VbFRYXiXVyBLWzGDlqqm      19-grade-6   22.784884  -0.299999  1936.0\n10  YnCBKw1ZLXEgJ4iU2hK0      19-grade-8  113.909259   0.038743  1936.0\n11  ZYTj0ZyUTpLsaxb0zoSB      19-grade-6   48.654167   0.596771  1936.0\n12  bmKnPQcO48sDdLAKy5Lu      19-grade-6   37.462791  -0.093548  1936.0\n13  dlA8HbNeY2c4dyNnK5VL  19-grade-7-joy  170.485938   0.169531  1936.0\n14  g11JTV6am9fleET7bIid      19-grade-6   24.598889   0.427149  1936.0\n15  mzQZO80m21TM0C7gRcqb      19-grade-8   30.072018   0.419818  1936.0\n16  qtW5EhH8cUORCIwwOSiX      19-grade-6   58.353374  -1.137271  1936.0\n17  xP0QeRM7qCAi1bOSAt1o      19-grade-6   49.778205   0.430633  1936.0\n18  zdWiLjoIxRDrtMRNjOlk  19-grade-7-joy   29.962195   0.532116  1936.0"
     },
     "execution_count": 31,
     "metadata": {},
     "output_type": "execute_result"
    }
   ],
   "source": [
    "whiteUserDf"
   ]
  },
  {
   "cell_type": "code",
   "execution_count": 32,
   "metadata": {},
   "outputs": [],
   "source": [
    "whiteUserDf = whiteUserDf.merge(df3.groupby('userId')['userId'].agg('count').to_frame('c'), on='userId', how='inner')"
   ]
  },
  {
   "cell_type": "code",
   "execution_count": 33,
   "metadata": {},
   "outputs": [
    {
     "data": {
      "text/html": "<div>\n<style scoped>\n    .dataframe tbody tr th:only-of-type {\n        vertical-align: middle;\n    }\n\n    .dataframe tbody tr th {\n        vertical-align: top;\n    }\n\n    .dataframe thead th {\n        text-align: right;\n    }\n</style>\n<table border=\"1\" class=\"dataframe\">\n  <thead>\n    <tr style=\"text-align: right;\">\n      <th></th>\n      <th>userId</th>\n      <th>classId</th>\n      <th>eltime</th>\n      <th>scorePerc</th>\n      <th>len</th>\n      <th>c</th>\n    </tr>\n  </thead>\n  <tbody>\n    <tr>\n      <td>0</td>\n      <td>0bHdAlU0BUXj4OLRPzTZ</td>\n      <td>19-grade-6</td>\n      <td>63.706667</td>\n      <td>0.454369</td>\n      <td>1936.0</td>\n      <td>30</td>\n    </tr>\n    <tr>\n      <td>1</td>\n      <td>1yz9QcMjyGFMMdC6LPlJ</td>\n      <td>19-grade-6</td>\n      <td>53.804545</td>\n      <td>0.033136</td>\n      <td>1936.0</td>\n      <td>22</td>\n    </tr>\n    <tr>\n      <td>2</td>\n      <td>3dkoVNdFAoch4sxXEtWo</td>\n      <td>19-grade-6</td>\n      <td>26.308000</td>\n      <td>-0.705699</td>\n      <td>1936.0</td>\n      <td>100</td>\n    </tr>\n    <tr>\n      <td>3</td>\n      <td>7ksTSrU6NjGGoZqnu7uG</td>\n      <td>19-grade-6</td>\n      <td>111.967742</td>\n      <td>0.180287</td>\n      <td>1936.0</td>\n      <td>31</td>\n    </tr>\n    <tr>\n      <td>4</td>\n      <td>AWJ3AzY0AdAUKDqerSwH</td>\n      <td>19-grade-6</td>\n      <td>28.882249</td>\n      <td>-0.821458</td>\n      <td>1936.0</td>\n      <td>169</td>\n    </tr>\n    <tr>\n      <td>5</td>\n      <td>GDQqFBeAkT3BM8LaUf4e</td>\n      <td>19-grade-7-joy</td>\n      <td>35.259441</td>\n      <td>-0.449977</td>\n      <td>1936.0</td>\n      <td>143</td>\n    </tr>\n    <tr>\n      <td>6</td>\n      <td>Jj9P1sIqjLLF0wVqDFeX</td>\n      <td>19-grade-6</td>\n      <td>57.708163</td>\n      <td>-0.159752</td>\n      <td>1936.0</td>\n      <td>147</td>\n    </tr>\n    <tr>\n      <td>7</td>\n      <td>NdlYszQsqy4y8pKYKj8N</td>\n      <td>19-grade-7-joy</td>\n      <td>89.949123</td>\n      <td>-1.780588</td>\n      <td>1936.0</td>\n      <td>57</td>\n    </tr>\n    <tr>\n      <td>8</td>\n      <td>OQJ8K3jcLOM3eYaImkyN</td>\n      <td>19-grade-8</td>\n      <td>87.883065</td>\n      <td>-1.682042</td>\n      <td>1936.0</td>\n      <td>124</td>\n    </tr>\n    <tr>\n      <td>9</td>\n      <td>VbFRYXiXVyBLWzGDlqqm</td>\n      <td>19-grade-6</td>\n      <td>22.784884</td>\n      <td>-0.299999</td>\n      <td>1936.0</td>\n      <td>86</td>\n    </tr>\n    <tr>\n      <td>10</td>\n      <td>YnCBKw1ZLXEgJ4iU2hK0</td>\n      <td>19-grade-8</td>\n      <td>113.909259</td>\n      <td>0.038743</td>\n      <td>1936.0</td>\n      <td>54</td>\n    </tr>\n    <tr>\n      <td>11</td>\n      <td>ZYTj0ZyUTpLsaxb0zoSB</td>\n      <td>19-grade-6</td>\n      <td>48.654167</td>\n      <td>0.596771</td>\n      <td>1936.0</td>\n      <td>24</td>\n    </tr>\n    <tr>\n      <td>12</td>\n      <td>bmKnPQcO48sDdLAKy5Lu</td>\n      <td>19-grade-6</td>\n      <td>37.462791</td>\n      <td>-0.093548</td>\n      <td>1936.0</td>\n      <td>86</td>\n    </tr>\n    <tr>\n      <td>13</td>\n      <td>dlA8HbNeY2c4dyNnK5VL</td>\n      <td>19-grade-7-joy</td>\n      <td>170.485938</td>\n      <td>0.169531</td>\n      <td>1936.0</td>\n      <td>64</td>\n    </tr>\n    <tr>\n      <td>14</td>\n      <td>g11JTV6am9fleET7bIid</td>\n      <td>19-grade-6</td>\n      <td>24.598889</td>\n      <td>0.427149</td>\n      <td>1936.0</td>\n      <td>180</td>\n    </tr>\n    <tr>\n      <td>15</td>\n      <td>mzQZO80m21TM0C7gRcqb</td>\n      <td>19-grade-8</td>\n      <td>30.072018</td>\n      <td>0.419818</td>\n      <td>1936.0</td>\n      <td>218</td>\n    </tr>\n    <tr>\n      <td>16</td>\n      <td>qtW5EhH8cUORCIwwOSiX</td>\n      <td>19-grade-6</td>\n      <td>58.353374</td>\n      <td>-1.137271</td>\n      <td>1936.0</td>\n      <td>163</td>\n    </tr>\n    <tr>\n      <td>17</td>\n      <td>xP0QeRM7qCAi1bOSAt1o</td>\n      <td>19-grade-6</td>\n      <td>49.778205</td>\n      <td>0.430633</td>\n      <td>1936.0</td>\n      <td>156</td>\n    </tr>\n    <tr>\n      <td>18</td>\n      <td>zdWiLjoIxRDrtMRNjOlk</td>\n      <td>19-grade-7-joy</td>\n      <td>29.962195</td>\n      <td>0.532116</td>\n      <td>1936.0</td>\n      <td>82</td>\n    </tr>\n  </tbody>\n</table>\n</div>",
      "text/plain": "                  userId         classId      eltime  scorePerc     len    c\n0   0bHdAlU0BUXj4OLRPzTZ      19-grade-6   63.706667   0.454369  1936.0   30\n1   1yz9QcMjyGFMMdC6LPlJ      19-grade-6   53.804545   0.033136  1936.0   22\n2   3dkoVNdFAoch4sxXEtWo      19-grade-6   26.308000  -0.705699  1936.0  100\n3   7ksTSrU6NjGGoZqnu7uG      19-grade-6  111.967742   0.180287  1936.0   31\n4   AWJ3AzY0AdAUKDqerSwH      19-grade-6   28.882249  -0.821458  1936.0  169\n5   GDQqFBeAkT3BM8LaUf4e  19-grade-7-joy   35.259441  -0.449977  1936.0  143\n6   Jj9P1sIqjLLF0wVqDFeX      19-grade-6   57.708163  -0.159752  1936.0  147\n7   NdlYszQsqy4y8pKYKj8N  19-grade-7-joy   89.949123  -1.780588  1936.0   57\n8   OQJ8K3jcLOM3eYaImkyN      19-grade-8   87.883065  -1.682042  1936.0  124\n9   VbFRYXiXVyBLWzGDlqqm      19-grade-6   22.784884  -0.299999  1936.0   86\n10  YnCBKw1ZLXEgJ4iU2hK0      19-grade-8  113.909259   0.038743  1936.0   54\n11  ZYTj0ZyUTpLsaxb0zoSB      19-grade-6   48.654167   0.596771  1936.0   24\n12  bmKnPQcO48sDdLAKy5Lu      19-grade-6   37.462791  -0.093548  1936.0   86\n13  dlA8HbNeY2c4dyNnK5VL  19-grade-7-joy  170.485938   0.169531  1936.0   64\n14  g11JTV6am9fleET7bIid      19-grade-6   24.598889   0.427149  1936.0  180\n15  mzQZO80m21TM0C7gRcqb      19-grade-8   30.072018   0.419818  1936.0  218\n16  qtW5EhH8cUORCIwwOSiX      19-grade-6   58.353374  -1.137271  1936.0  163\n17  xP0QeRM7qCAi1bOSAt1o      19-grade-6   49.778205   0.430633  1936.0  156\n18  zdWiLjoIxRDrtMRNjOlk  19-grade-7-joy   29.962195   0.532116  1936.0   82"
     },
     "execution_count": 33,
     "metadata": {},
     "output_type": "execute_result"
    }
   ],
   "source": [
    "whiteUserDf"
   ]
  },
  {
   "cell_type": "code",
   "execution_count": 59,
   "metadata": {},
   "outputs": [],
   "source": [
    "df3[['time', 'userId', 'eltime', 'scorePerc', 'classId', 'signalWord']].to_csv('logs.csv', index=False)"
   ]
  },
  {
   "cell_type": "code",
   "execution_count": null,
   "metadata": {},
   "outputs": [],
   "source": []
  }
 ]
}