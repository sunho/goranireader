{
 "cells": [
  {
   "cell_type": "code",
   "execution_count": 1,
   "metadata": {},
   "outputs": [
    {
     "name": "stderr",
     "output_type": "stream",
     "text": [
      "/Users/sunho/anaconda3/envs/dataserver/lib/python3.7/site-packages/tensorflow/python/framework/dtypes.py:526: FutureWarning: Passing (type, 1) or '1type' as a synonym of type is deprecated; in a future version of numpy, it will be understood as (type, (1,)) / '(1,)type'.\n",
      "  _np_qint8 = np.dtype([(\"qint8\", np.int8, 1)])\n",
      "/Users/sunho/anaconda3/envs/dataserver/lib/python3.7/site-packages/tensorflow/python/framework/dtypes.py:527: FutureWarning: Passing (type, 1) or '1type' as a synonym of type is deprecated; in a future version of numpy, it will be understood as (type, (1,)) / '(1,)type'.\n",
      "  _np_quint8 = np.dtype([(\"quint8\", np.uint8, 1)])\n",
      "/Users/sunho/anaconda3/envs/dataserver/lib/python3.7/site-packages/tensorflow/python/framework/dtypes.py:528: FutureWarning: Passing (type, 1) or '1type' as a synonym of type is deprecated; in a future version of numpy, it will be understood as (type, (1,)) / '(1,)type'.\n",
      "  _np_qint16 = np.dtype([(\"qint16\", np.int16, 1)])\n",
      "/Users/sunho/anaconda3/envs/dataserver/lib/python3.7/site-packages/tensorflow/python/framework/dtypes.py:529: FutureWarning: Passing (type, 1) or '1type' as a synonym of type is deprecated; in a future version of numpy, it will be understood as (type, (1,)) / '(1,)type'.\n",
      "  _np_quint16 = np.dtype([(\"quint16\", np.uint16, 1)])\n",
      "/Users/sunho/anaconda3/envs/dataserver/lib/python3.7/site-packages/tensorflow/python/framework/dtypes.py:530: FutureWarning: Passing (type, 1) or '1type' as a synonym of type is deprecated; in a future version of numpy, it will be understood as (type, (1,)) / '(1,)type'.\n",
      "  _np_qint32 = np.dtype([(\"qint32\", np.int32, 1)])\n",
      "/Users/sunho/anaconda3/envs/dataserver/lib/python3.7/site-packages/tensorflow/python/framework/dtypes.py:535: FutureWarning: Passing (type, 1) or '1type' as a synonym of type is deprecated; in a future version of numpy, it will be understood as (type, (1,)) / '(1,)type'.\n",
      "  np_resource = np.dtype([(\"resource\", np.ubyte, 1)])\n"
     ]
    },
    {
     "data": {
      "text/html": [
       "        <script type=\"text/javascript\">\n",
       "        window.PlotlyConfig = {MathJaxConfig: 'local'};\n",
       "        if (window.MathJax) {MathJax.Hub.Config({SVG: {font: \"STIX-Web\"}});}\n",
       "        if (typeof require !== 'undefined') {\n",
       "        require.undef(\"plotly\");\n",
       "        requirejs.config({\n",
       "            paths: {\n",
       "                'plotly': ['https://cdn.plot.ly/plotly-latest.min']\n",
       "            }\n",
       "        });\n",
       "        require(['plotly'], function(Plotly) {\n",
       "            window._Plotly = Plotly;\n",
       "        });\n",
       "        }\n",
       "        </script>\n",
       "        "
      ]
     },
     "metadata": {},
     "output_type": "display_data"
    }
   ],
   "source": [
    "import numpy as np\n",
    "\n",
    "import tensorflow as tf\n",
    "\n",
    "import plotly.offline as py\n",
    "py.init_notebook_mode(connected=True)\n",
    "import plotly.graph_objs as go\n",
    "import plotly.tools as tls\n",
    "\n",
    "from tensorflow import keras\n",
    "from tensorflow.keras.wrappers.scikit_learn import KerasClassifier\n",
    "from tensorflow.keras import layers\n",
    "\n",
    "tf.keras.backend.clear_session()"
   ]
  },
  {
   "cell_type": "code",
   "execution_count": 2,
   "metadata": {},
   "outputs": [],
   "source": [
    "import gensim\n",
    "vec_model = gensim.models.KeyedVectors.load_word2vec_format('GoogleNews-vectors-negative300.bin', binary = True)"
   ]
  },
  {
   "cell_type": "code",
   "execution_count": 540,
   "metadata": {},
   "outputs": [],
   "source": [
    "from metaflow import Flow\n",
    "flow = Flow('PrepareFeatures').latest_successful_run\n",
    "raw_df = flow.data.clean_series_features"
   ]
  },
  {
   "cell_type": "code",
   "execution_count": 541,
   "metadata": {},
   "outputs": [],
   "source": [
    "nouse_vec = 2\n",
    "estimators = 100\n",
    "k = 30\n",
    "perplexity = 13\n",
    "n_iter = 300"
   ]
  },
  {
   "cell_type": "code",
   "execution_count": 544,
   "metadata": {
    "scrolled": true
   },
   "outputs": [],
   "source": [
    "import xgboost as xgb\n",
    "import pandas as pd\n",
    "from sklearn.decomposition import PCA\n",
    "from sklearn.manifold import TSNE\n",
    "from sklearn.cluster import MeanShift, KMeans, estimate_bandwidth\n",
    "\n",
    "words = raw_df['word'].unique()\n",
    "vector_list = [vec_model[word] for word in words if word in vec_model.vocab]\n",
    "words_filtered = [word for word in words if word in vec_model.vocab]\n",
    "word_vec_zip = zip(words_filtered, vector_list)\n",
    "word_vec_dict = dict(word_vec_zip)\n",
    "df2 = pd.DataFrame.from_dict(word_vec_dict, orient='index')\n",
    "# .set_index('word').join(df2, how='right').reset_index().rename(columns={'index': 'word'})\n",
    "\n",
    "df = raw_df.copy().set_index('word')\\\n",
    "    .join(df2[[]], how='right').reset_index().rename(columns={'index': 'word'})\n",
    "df3 = raw_df[['word']].copy().set_index('word')\\\n",
    "    .join(df2, how='right').reset_index(drop=True)\n",
    "kmeans = KMeans(n_clusters=5).fit(df3)\n",
    "df = df.join(pd.get_dummies(kmeans.predict(df3)))\n",
    "df = df.join(pd.get_dummies(df['pos']))\n",
    "df = df.loc[df['userId'] == '8ACCQYz8NMc4Lc9Nze3R']\n",
    "del df['userId']\n",
    "import pyphen\n",
    "\n",
    "dic = pyphen.Pyphen(lang='en_US')\n",
    "\n",
    "data_df = df\n",
    "data_df['len'] = data_df['word'].map(lambda x: len(str(x)))\n",
    "data_df['syl'] = data_df['word'].map(lambda x: len(dic.inserted(str(x)).split('-')))\n",
    "data_df = data_df.iloc[:, (df.columns != 'word') & (df.columns != 'pos')]\n",
    "y = 1 - data_df['signal']\n",
    "x = data_df.iloc[:, data_df.columns != 'signal']\n",
    "from sklearn.model_selection import train_test_split\n",
    "from sklearn.ensemble import AdaBoostClassifier\n",
    "from sklearn.ensemble import RandomForestClassifier\n",
    "\n",
    "x_train, x_test, y_train, y_test = train_test_split(x, y, test_size = 0.2, random_state = 40)"
   ]
  },
  {
   "cell_type": "code",
   "execution_count": 545,
   "metadata": {},
   "outputs": [],
   "source": [
    "from sklearn.ensemble import (RandomForestClassifier, AdaBoostClassifier, \n",
    "                              GradientBoostingClassifier, ExtraTreesClassifier)\n",
    "from sklearn.svm import SVC\n",
    "from sklearn.model_selection import KFold"
   ]
  },
  {
   "cell_type": "code",
   "execution_count": 546,
   "metadata": {},
   "outputs": [],
   "source": [
    "x_train = x_train.to_numpy()\n",
    "x_test = x_test.to_numpy()\n",
    "y_train = y_train.to_numpy()\n",
    "y_test = y_test.to_numpy()"
   ]
  },
  {
   "cell_type": "code",
   "execution_count": 547,
   "metadata": {},
   "outputs": [],
   "source": [
    "from sklearn import preprocessing\n",
    "\n",
    "min_max_scaler = preprocessing.MinMaxScaler()\n",
    "x_train = min_max_scaler.fit_transform(x_train)\n",
    "x_test = min_max_scaler.transform(x_test)\n"
   ]
  },
  {
   "cell_type": "code",
   "execution_count": 548,
   "metadata": {},
   "outputs": [],
   "source": [
    "SEED = 2\n",
    "NFOLDS = 5"
   ]
  },
  {
   "cell_type": "code",
   "execution_count": 549,
   "metadata": {},
   "outputs": [],
   "source": [
    "rf_params = {\n",
    "    'n_jobs': -1,\n",
    "    'n_estimators': 300,\n",
    "     #'max_features': 0.2,\n",
    "    'max_depth': 6,\n",
    "    'min_samples_leaf': 2,\n",
    "    'max_features' : 'sqrt',\n",
    "    'verbose': 0\n",
    "}\n",
    "\n",
    "# Extra Trees Parameters\n",
    "et_params = {\n",
    "    'n_jobs': -1,\n",
    "    'n_estimators': 300,\n",
    "    #'max_features': 0.5,\n",
    "    'max_depth': 8,\n",
    "    'min_samples_leaf': 2,\n",
    "    'verbose': 0\n",
    "}\n",
    "\n",
    "# AdaBoost parameters\n",
    "ada_params = {\n",
    "    'n_estimators': 300,\n",
    "    'learning_rate' : 0.75\n",
    "}\n",
    "\n",
    "# Gradient Boosting parameters\n",
    "gb_params = {\n",
    "    'n_estimators': 100,\n",
    "     #'max_features': 0.2,\n",
    "    'max_depth': 5,\n",
    "    'min_samples_leaf': 2,\n",
    "    'verbose': 0\n",
    "}\n",
    "\n",
    "# Support Vector Classifier parameters \n",
    "svc_params = {\n",
    "    'kernel' : 'linear',\n",
    "    'C' : 0.025\n",
    "    }"
   ]
  },
  {
   "cell_type": "code",
   "execution_count": 550,
   "metadata": {},
   "outputs": [],
   "source": [
    "def get_oof(clf, x_train, y_train, x_test):\n",
    "    oof_train = np.zeros((ntrain,))\n",
    "    oof_test = np.zeros((ntest,))\n",
    "    oof_test_skf = np.empty((NFOLDS, ntest))\n",
    "\n",
    "    for i, (train_index, test_index) in enumerate(kf.split(x_train)):\n",
    "        x_tr = x_train[train_index]\n",
    "        y_tr = y_train[train_index]\n",
    "        x_te = x_train[test_index]\n",
    "\n",
    "        clf.train(x_tr, y_tr)\n",
    "\n",
    "        oof_train[test_index] = clf.predict(x_te)\n",
    "        oof_test_skf[i, :] = clf.predict(x_test)\n",
    "\n",
    "    oof_test[:] = oof_test_skf.mean(axis=0)\n",
    "    return oof_train.reshape(-1, 1), oof_test.reshape(-1, 1)"
   ]
  },
  {
   "cell_type": "code",
   "execution_count": 551,
   "metadata": {},
   "outputs": [
    {
     "name": "stderr",
     "output_type": "stream",
     "text": [
      "/Users/sunho/anaconda3/envs/dataserver/lib/python3.7/site-packages/sklearn/model_selection/_split.py:296: FutureWarning:\n",
      "\n",
      "Setting a random_state has no effect since shuffle is False. This will raise an error in 0.24. You should leave random_state to its default (None), or set shuffle=True.\n",
      "\n"
     ]
    }
   ],
   "source": [
    "ntrain = x_train.shape[0]\n",
    "ntest = x_test.shape[0]\n",
    "SEED = 0 # for reproducibility\n",
    "NFOLDS = 5 # set folds for out-of-fold prediction\n",
    "kf = KFold(n_splits = NFOLDS, random_state = SEED)\n",
    "\n",
    "# Class to extend the Sklearn classifier\n",
    "class SklearnHelper(object):\n",
    "    def __init__(self, clf, seed=0, params=None):\n",
    "        params['random_state'] = seed\n",
    "        self.clf = clf(**params)\n",
    "\n",
    "    def train(self, x_train, y_train):\n",
    "        self.clf.fit(x_train, y_train)\n",
    "\n",
    "    def predict(self, x):\n",
    "        return self.clf.predict(x)\n",
    "    \n",
    "    def fit(self,x,y):\n",
    "        return self.clf.fit(x,y)\n",
    "    \n",
    "    def feature_importances(self,x,y):\n",
    "        return self.clf.fit(x,y).feature_importances_\n"
   ]
  },
  {
   "cell_type": "code",
   "execution_count": 552,
   "metadata": {},
   "outputs": [],
   "source": [
    "rf = SklearnHelper(clf=RandomForestClassifier, seed=SEED, params=rf_params)\n",
    "et = SklearnHelper(clf=ExtraTreesClassifier, seed=SEED, params=et_params)\n",
    "ada = SklearnHelper(clf=AdaBoostClassifier, seed=SEED, params=ada_params)\n",
    "gb = SklearnHelper(clf=GradientBoostingClassifier, seed=SEED, params=gb_params)\n",
    "svc = SklearnHelper(clf=SVC, seed=SEED, params=svc_params)"
   ]
  },
  {
   "cell_type": "code",
   "execution_count": 553,
   "metadata": {},
   "outputs": [],
   "source": [
    "et_oof_train, et_oof_test = get_oof(et, x_train, y_train, x_test) # Extra Trees\n",
    "rf_oof_train, rf_oof_test = get_oof(rf,x_train, y_train, x_test) # Random Forest\n",
    "ada_oof_train, ada_oof_test = get_oof(ada, x_train, y_train, x_test) # AdaBoost \n",
    "gb_oof_train, gb_oof_test = get_oof(gb,x_train, y_train, x_test) # Gradient Boost\n",
    "svc_oof_train, svc_oof_test = get_oof(svc,x_train, y_train, x_test) # Support Vector Classifier"
   ]
  },
  {
   "cell_type": "code",
   "execution_count": 554,
   "metadata": {},
   "outputs": [],
   "source": [
    "rf_feature = rf.feature_importances(x_train,y_train)\n",
    "et_feature = et.feature_importances(x_train, y_train)\n",
    "ada_feature = ada.feature_importances(x_train, y_train)\n",
    "gb_feature = gb.feature_importances(x_train,y_train)"
   ]
  },
  {
   "cell_type": "code",
   "execution_count": 555,
   "metadata": {},
   "outputs": [],
   "source": [
    "cols = x.columns.values\n",
    "# Create a dataframe with features\n",
    "feature_dataframe = pd.DataFrame( {'features': [str(col) for col in cols],\n",
    "     'Random Forest feature importances': rf_feature,\n",
    "     'Extra Trees  feature importances': et_feature,\n",
    "      'AdaBoost feature importances': ada_feature,\n",
    "    'Gradient Boost feature importances': gb_feature\n",
    "    })\n"
   ]
  },
  {
   "cell_type": "code",
   "execution_count": 556,
   "metadata": {},
   "outputs": [
    {
     "data": {
      "application/vnd.plotly.v1+json": {
       "config": {
        "linkText": "Export to plot.ly",
        "plotlyServerURL": "https://plot.ly",
        "showLink": false
       },
       "data": [
        {
         "marker": {
          "color": [
           0.029533659942519913,
           0.06163041652260052,
           0.24711847136170587,
           0.0713142746961721,
           0.1120351622514684,
           0.0715104021265177,
           0.10976094864834549,
           0.1370135675897272,
           0.00206415758430931,
           0,
           0.008124267034922852,
           0.0037885207985498045,
           0.01372606584600826,
           1.3530163756641467e-05,
           0.0005374289833155226,
           7.590893938437983e-05,
           0.0014389221676878825,
           0.005824780569330757,
           0.0003112354358807057,
           0.00030931942886874684,
           0.0002774955018177573,
           0.005112345270538672,
           0.00495795664701,
           3.632667781426296e-07,
           0.0022794331314714713,
           0,
           0,
           0.004658818088506424,
           2.8988729603364606e-05,
           0,
           0.00022827522624845943,
           0,
           0.0026046211053024227,
           0.005007402376586303,
           0.004709890744258217,
           0.003974724910042093,
           0.0005506681458094807,
           0.00047685600388721797,
           0,
           0.0564258464634217,
           0.03257527429764617
          ],
          "colorscale": [
           [
            0,
            "rgb(12,51,131)"
           ],
           [
            0.25,
            "rgb(10,136,186)"
           ],
           [
            0.5,
            "rgb(242,211,56)"
           ],
           [
            0.75,
            "rgb(242,143,56)"
           ],
           [
            1,
            "rgb(217,30,30)"
           ]
          ],
          "showscale": true,
          "size": 25,
          "sizemode": "diameter",
          "sizeref": 1
         },
         "mode": "markers",
         "text": [
          "words",
          "time",
          "count",
          "wpm",
          "signal0",
          "diff0",
          "signal1",
          "diff1",
          "0",
          "1",
          "2",
          "3",
          "4",
          "CC",
          "CD",
          "DT",
          "IN",
          "JJ",
          "JJR",
          "JJS",
          "MD",
          "NN",
          "NNP",
          "NNPS",
          "NNS",
          "PDT",
          "PRP$",
          "RB",
          "RBR",
          "RBS",
          "RP",
          "UH",
          "VB",
          "VBD",
          "VBG",
          "VBN",
          "VBP",
          "VBZ",
          "WRB",
          "len",
          "syl"
         ],
         "type": "scatter",
         "x": [
          "words",
          "time",
          "count",
          "wpm",
          "signal0",
          "diff0",
          "signal1",
          "diff1",
          "0",
          "1",
          "2",
          "3",
          "4",
          "CC",
          "CD",
          "DT",
          "IN",
          "JJ",
          "JJR",
          "JJS",
          "MD",
          "NN",
          "NNP",
          "NNPS",
          "NNS",
          "PDT",
          "PRP$",
          "RB",
          "RBR",
          "RBS",
          "RP",
          "UH",
          "VB",
          "VBD",
          "VBG",
          "VBN",
          "VBP",
          "VBZ",
          "WRB",
          "len",
          "syl"
         ],
         "y": [
          0.029533659942519913,
          0.06163041652260052,
          0.24711847136170587,
          0.0713142746961721,
          0.1120351622514684,
          0.0715104021265177,
          0.10976094864834549,
          0.1370135675897272,
          0.00206415758430931,
          0,
          0.008124267034922852,
          0.0037885207985498045,
          0.01372606584600826,
          1.3530163756641467e-05,
          0.0005374289833155226,
          7.590893938437983e-05,
          0.0014389221676878825,
          0.005824780569330757,
          0.0003112354358807057,
          0.00030931942886874684,
          0.0002774955018177573,
          0.005112345270538672,
          0.00495795664701,
          3.632667781426296e-07,
          0.0022794331314714713,
          0,
          0,
          0.004658818088506424,
          2.8988729603364606e-05,
          0,
          0.00022827522624845943,
          0,
          0.0026046211053024227,
          0.005007402376586303,
          0.004709890744258217,
          0.003974724910042093,
          0.0005506681458094807,
          0.00047685600388721797,
          0,
          0.0564258464634217,
          0.03257527429764617
         ]
        }
       ],
       "layout": {
        "autosize": true,
        "hovermode": "closest",
        "showlegend": false,
        "template": {
         "data": {
          "bar": [
           {
            "error_x": {
             "color": "#2a3f5f"
            },
            "error_y": {
             "color": "#2a3f5f"
            },
            "marker": {
             "line": {
              "color": "#E5ECF6",
              "width": 0.5
             }
            },
            "type": "bar"
           }
          ],
          "barpolar": [
           {
            "marker": {
             "line": {
              "color": "#E5ECF6",
              "width": 0.5
             }
            },
            "type": "barpolar"
           }
          ],
          "carpet": [
           {
            "aaxis": {
             "endlinecolor": "#2a3f5f",
             "gridcolor": "white",
             "linecolor": "white",
             "minorgridcolor": "white",
             "startlinecolor": "#2a3f5f"
            },
            "baxis": {
             "endlinecolor": "#2a3f5f",
             "gridcolor": "white",
             "linecolor": "white",
             "minorgridcolor": "white",
             "startlinecolor": "#2a3f5f"
            },
            "type": "carpet"
           }
          ],
          "choropleth": [
           {
            "colorbar": {
             "outlinewidth": 0,
             "ticks": ""
            },
            "type": "choropleth"
           }
          ],
          "contour": [
           {
            "colorbar": {
             "outlinewidth": 0,
             "ticks": ""
            },
            "colorscale": [
             [
              0,
              "#0d0887"
             ],
             [
              0.1111111111111111,
              "#46039f"
             ],
             [
              0.2222222222222222,
              "#7201a8"
             ],
             [
              0.3333333333333333,
              "#9c179e"
             ],
             [
              0.4444444444444444,
              "#bd3786"
             ],
             [
              0.5555555555555556,
              "#d8576b"
             ],
             [
              0.6666666666666666,
              "#ed7953"
             ],
             [
              0.7777777777777778,
              "#fb9f3a"
             ],
             [
              0.8888888888888888,
              "#fdca26"
             ],
             [
              1,
              "#f0f921"
             ]
            ],
            "type": "contour"
           }
          ],
          "contourcarpet": [
           {
            "colorbar": {
             "outlinewidth": 0,
             "ticks": ""
            },
            "type": "contourcarpet"
           }
          ],
          "heatmap": [
           {
            "colorbar": {
             "outlinewidth": 0,
             "ticks": ""
            },
            "colorscale": [
             [
              0,
              "#0d0887"
             ],
             [
              0.1111111111111111,
              "#46039f"
             ],
             [
              0.2222222222222222,
              "#7201a8"
             ],
             [
              0.3333333333333333,
              "#9c179e"
             ],
             [
              0.4444444444444444,
              "#bd3786"
             ],
             [
              0.5555555555555556,
              "#d8576b"
             ],
             [
              0.6666666666666666,
              "#ed7953"
             ],
             [
              0.7777777777777778,
              "#fb9f3a"
             ],
             [
              0.8888888888888888,
              "#fdca26"
             ],
             [
              1,
              "#f0f921"
             ]
            ],
            "type": "heatmap"
           }
          ],
          "heatmapgl": [
           {
            "colorbar": {
             "outlinewidth": 0,
             "ticks": ""
            },
            "colorscale": [
             [
              0,
              "#0d0887"
             ],
             [
              0.1111111111111111,
              "#46039f"
             ],
             [
              0.2222222222222222,
              "#7201a8"
             ],
             [
              0.3333333333333333,
              "#9c179e"
             ],
             [
              0.4444444444444444,
              "#bd3786"
             ],
             [
              0.5555555555555556,
              "#d8576b"
             ],
             [
              0.6666666666666666,
              "#ed7953"
             ],
             [
              0.7777777777777778,
              "#fb9f3a"
             ],
             [
              0.8888888888888888,
              "#fdca26"
             ],
             [
              1,
              "#f0f921"
             ]
            ],
            "type": "heatmapgl"
           }
          ],
          "histogram": [
           {
            "marker": {
             "colorbar": {
              "outlinewidth": 0,
              "ticks": ""
             }
            },
            "type": "histogram"
           }
          ],
          "histogram2d": [
           {
            "colorbar": {
             "outlinewidth": 0,
             "ticks": ""
            },
            "colorscale": [
             [
              0,
              "#0d0887"
             ],
             [
              0.1111111111111111,
              "#46039f"
             ],
             [
              0.2222222222222222,
              "#7201a8"
             ],
             [
              0.3333333333333333,
              "#9c179e"
             ],
             [
              0.4444444444444444,
              "#bd3786"
             ],
             [
              0.5555555555555556,
              "#d8576b"
             ],
             [
              0.6666666666666666,
              "#ed7953"
             ],
             [
              0.7777777777777778,
              "#fb9f3a"
             ],
             [
              0.8888888888888888,
              "#fdca26"
             ],
             [
              1,
              "#f0f921"
             ]
            ],
            "type": "histogram2d"
           }
          ],
          "histogram2dcontour": [
           {
            "colorbar": {
             "outlinewidth": 0,
             "ticks": ""
            },
            "colorscale": [
             [
              0,
              "#0d0887"
             ],
             [
              0.1111111111111111,
              "#46039f"
             ],
             [
              0.2222222222222222,
              "#7201a8"
             ],
             [
              0.3333333333333333,
              "#9c179e"
             ],
             [
              0.4444444444444444,
              "#bd3786"
             ],
             [
              0.5555555555555556,
              "#d8576b"
             ],
             [
              0.6666666666666666,
              "#ed7953"
             ],
             [
              0.7777777777777778,
              "#fb9f3a"
             ],
             [
              0.8888888888888888,
              "#fdca26"
             ],
             [
              1,
              "#f0f921"
             ]
            ],
            "type": "histogram2dcontour"
           }
          ],
          "mesh3d": [
           {
            "colorbar": {
             "outlinewidth": 0,
             "ticks": ""
            },
            "type": "mesh3d"
           }
          ],
          "parcoords": [
           {
            "line": {
             "colorbar": {
              "outlinewidth": 0,
              "ticks": ""
             }
            },
            "type": "parcoords"
           }
          ],
          "pie": [
           {
            "automargin": true,
            "type": "pie"
           }
          ],
          "scatter": [
           {
            "marker": {
             "colorbar": {
              "outlinewidth": 0,
              "ticks": ""
             }
            },
            "type": "scatter"
           }
          ],
          "scatter3d": [
           {
            "line": {
             "colorbar": {
              "outlinewidth": 0,
              "ticks": ""
             }
            },
            "marker": {
             "colorbar": {
              "outlinewidth": 0,
              "ticks": ""
             }
            },
            "type": "scatter3d"
           }
          ],
          "scattercarpet": [
           {
            "marker": {
             "colorbar": {
              "outlinewidth": 0,
              "ticks": ""
             }
            },
            "type": "scattercarpet"
           }
          ],
          "scattergeo": [
           {
            "marker": {
             "colorbar": {
              "outlinewidth": 0,
              "ticks": ""
             }
            },
            "type": "scattergeo"
           }
          ],
          "scattergl": [
           {
            "marker": {
             "colorbar": {
              "outlinewidth": 0,
              "ticks": ""
             }
            },
            "type": "scattergl"
           }
          ],
          "scattermapbox": [
           {
            "marker": {
             "colorbar": {
              "outlinewidth": 0,
              "ticks": ""
             }
            },
            "type": "scattermapbox"
           }
          ],
          "scatterpolar": [
           {
            "marker": {
             "colorbar": {
              "outlinewidth": 0,
              "ticks": ""
             }
            },
            "type": "scatterpolar"
           }
          ],
          "scatterpolargl": [
           {
            "marker": {
             "colorbar": {
              "outlinewidth": 0,
              "ticks": ""
             }
            },
            "type": "scatterpolargl"
           }
          ],
          "scatterternary": [
           {
            "marker": {
             "colorbar": {
              "outlinewidth": 0,
              "ticks": ""
             }
            },
            "type": "scatterternary"
           }
          ],
          "surface": [
           {
            "colorbar": {
             "outlinewidth": 0,
             "ticks": ""
            },
            "colorscale": [
             [
              0,
              "#0d0887"
             ],
             [
              0.1111111111111111,
              "#46039f"
             ],
             [
              0.2222222222222222,
              "#7201a8"
             ],
             [
              0.3333333333333333,
              "#9c179e"
             ],
             [
              0.4444444444444444,
              "#bd3786"
             ],
             [
              0.5555555555555556,
              "#d8576b"
             ],
             [
              0.6666666666666666,
              "#ed7953"
             ],
             [
              0.7777777777777778,
              "#fb9f3a"
             ],
             [
              0.8888888888888888,
              "#fdca26"
             ],
             [
              1,
              "#f0f921"
             ]
            ],
            "type": "surface"
           }
          ],
          "table": [
           {
            "cells": {
             "fill": {
              "color": "#EBF0F8"
             },
             "line": {
              "color": "white"
             }
            },
            "header": {
             "fill": {
              "color": "#C8D4E3"
             },
             "line": {
              "color": "white"
             }
            },
            "type": "table"
           }
          ]
         },
         "layout": {
          "annotationdefaults": {
           "arrowcolor": "#2a3f5f",
           "arrowhead": 0,
           "arrowwidth": 1
          },
          "coloraxis": {
           "colorbar": {
            "outlinewidth": 0,
            "ticks": ""
           }
          },
          "colorscale": {
           "diverging": [
            [
             0,
             "#8e0152"
            ],
            [
             0.1,
             "#c51b7d"
            ],
            [
             0.2,
             "#de77ae"
            ],
            [
             0.3,
             "#f1b6da"
            ],
            [
             0.4,
             "#fde0ef"
            ],
            [
             0.5,
             "#f7f7f7"
            ],
            [
             0.6,
             "#e6f5d0"
            ],
            [
             0.7,
             "#b8e186"
            ],
            [
             0.8,
             "#7fbc41"
            ],
            [
             0.9,
             "#4d9221"
            ],
            [
             1,
             "#276419"
            ]
           ],
           "sequential": [
            [
             0,
             "#0d0887"
            ],
            [
             0.1111111111111111,
             "#46039f"
            ],
            [
             0.2222222222222222,
             "#7201a8"
            ],
            [
             0.3333333333333333,
             "#9c179e"
            ],
            [
             0.4444444444444444,
             "#bd3786"
            ],
            [
             0.5555555555555556,
             "#d8576b"
            ],
            [
             0.6666666666666666,
             "#ed7953"
            ],
            [
             0.7777777777777778,
             "#fb9f3a"
            ],
            [
             0.8888888888888888,
             "#fdca26"
            ],
            [
             1,
             "#f0f921"
            ]
           ],
           "sequentialminus": [
            [
             0,
             "#0d0887"
            ],
            [
             0.1111111111111111,
             "#46039f"
            ],
            [
             0.2222222222222222,
             "#7201a8"
            ],
            [
             0.3333333333333333,
             "#9c179e"
            ],
            [
             0.4444444444444444,
             "#bd3786"
            ],
            [
             0.5555555555555556,
             "#d8576b"
            ],
            [
             0.6666666666666666,
             "#ed7953"
            ],
            [
             0.7777777777777778,
             "#fb9f3a"
            ],
            [
             0.8888888888888888,
             "#fdca26"
            ],
            [
             1,
             "#f0f921"
            ]
           ]
          },
          "colorway": [
           "#636efa",
           "#EF553B",
           "#00cc96",
           "#ab63fa",
           "#FFA15A",
           "#19d3f3",
           "#FF6692",
           "#B6E880",
           "#FF97FF",
           "#FECB52"
          ],
          "font": {
           "color": "#2a3f5f"
          },
          "geo": {
           "bgcolor": "white",
           "lakecolor": "white",
           "landcolor": "#E5ECF6",
           "showlakes": true,
           "showland": true,
           "subunitcolor": "white"
          },
          "hoverlabel": {
           "align": "left"
          },
          "hovermode": "closest",
          "mapbox": {
           "style": "light"
          },
          "paper_bgcolor": "white",
          "plot_bgcolor": "#E5ECF6",
          "polar": {
           "angularaxis": {
            "gridcolor": "white",
            "linecolor": "white",
            "ticks": ""
           },
           "bgcolor": "#E5ECF6",
           "radialaxis": {
            "gridcolor": "white",
            "linecolor": "white",
            "ticks": ""
           }
          },
          "scene": {
           "xaxis": {
            "backgroundcolor": "#E5ECF6",
            "gridcolor": "white",
            "gridwidth": 2,
            "linecolor": "white",
            "showbackground": true,
            "ticks": "",
            "zerolinecolor": "white"
           },
           "yaxis": {
            "backgroundcolor": "#E5ECF6",
            "gridcolor": "white",
            "gridwidth": 2,
            "linecolor": "white",
            "showbackground": true,
            "ticks": "",
            "zerolinecolor": "white"
           },
           "zaxis": {
            "backgroundcolor": "#E5ECF6",
            "gridcolor": "white",
            "gridwidth": 2,
            "linecolor": "white",
            "showbackground": true,
            "ticks": "",
            "zerolinecolor": "white"
           }
          },
          "shapedefaults": {
           "line": {
            "color": "#2a3f5f"
           }
          },
          "ternary": {
           "aaxis": {
            "gridcolor": "white",
            "linecolor": "white",
            "ticks": ""
           },
           "baxis": {
            "gridcolor": "white",
            "linecolor": "white",
            "ticks": ""
           },
           "bgcolor": "#E5ECF6",
           "caxis": {
            "gridcolor": "white",
            "linecolor": "white",
            "ticks": ""
           }
          },
          "title": {
           "x": 0.05
          },
          "xaxis": {
           "automargin": true,
           "gridcolor": "white",
           "linecolor": "white",
           "ticks": "",
           "title": {
            "standoff": 15
           },
           "zerolinecolor": "white",
           "zerolinewidth": 2
          },
          "yaxis": {
           "automargin": true,
           "gridcolor": "white",
           "linecolor": "white",
           "ticks": "",
           "title": {
            "standoff": 15
           },
           "zerolinecolor": "white",
           "zerolinewidth": 2
          }
         }
        },
        "title": {
         "text": "Random Forest feature importances"
        },
        "xaxis": {
         "type": "category"
        },
        "yaxis": {
         "gridwidth": 2,
         "ticklen": 5,
         "title": {
          "text": "Feature Importance"
         }
        }
       }
      },
      "text/html": [
       "<div>\n",
       "        \n",
       "        \n",
       "            <div id=\"8750a2a4-f6ec-4645-a1d1-f153429e7f16\" class=\"plotly-graph-div\" style=\"height:525px; width:100%;\"></div>\n",
       "            <script type=\"text/javascript\">\n",
       "                require([\"plotly\"], function(Plotly) {\n",
       "                    window.PLOTLYENV=window.PLOTLYENV || {};\n",
       "                    \n",
       "                if (document.getElementById(\"8750a2a4-f6ec-4645-a1d1-f153429e7f16\")) {\n",
       "                    Plotly.newPlot(\n",
       "                        '8750a2a4-f6ec-4645-a1d1-f153429e7f16',\n",
       "                        [{\"marker\": {\"color\": [0.029533659942519913, 0.06163041652260052, 0.24711847136170587, 0.0713142746961721, 0.1120351622514684, 0.0715104021265177, 0.10976094864834549, 0.1370135675897272, 0.00206415758430931, 0.0, 0.008124267034922852, 0.0037885207985498045, 0.01372606584600826, 1.3530163756641467e-05, 0.0005374289833155226, 7.590893938437983e-05, 0.0014389221676878825, 0.005824780569330757, 0.0003112354358807057, 0.00030931942886874684, 0.0002774955018177573, 0.005112345270538672, 0.00495795664701, 3.632667781426296e-07, 0.0022794331314714713, 0.0, 0.0, 0.004658818088506424, 2.8988729603364606e-05, 0.0, 0.00022827522624845943, 0.0, 0.0026046211053024227, 0.005007402376586303, 0.004709890744258217, 0.003974724910042093, 0.0005506681458094807, 0.00047685600388721797, 0.0, 0.0564258464634217, 0.03257527429764617], \"colorscale\": [[0.0, \"rgb(12,51,131)\"], [0.25, \"rgb(10,136,186)\"], [0.5, \"rgb(242,211,56)\"], [0.75, \"rgb(242,143,56)\"], [1.0, \"rgb(217,30,30)\"]], \"showscale\": true, \"size\": 25, \"sizemode\": \"diameter\", \"sizeref\": 1}, \"mode\": \"markers\", \"text\": [\"words\", \"time\", \"count\", \"wpm\", \"signal0\", \"diff0\", \"signal1\", \"diff1\", \"0\", \"1\", \"2\", \"3\", \"4\", \"CC\", \"CD\", \"DT\", \"IN\", \"JJ\", \"JJR\", \"JJS\", \"MD\", \"NN\", \"NNP\", \"NNPS\", \"NNS\", \"PDT\", \"PRP$\", \"RB\", \"RBR\", \"RBS\", \"RP\", \"UH\", \"VB\", \"VBD\", \"VBG\", \"VBN\", \"VBP\", \"VBZ\", \"WRB\", \"len\", \"syl\"], \"type\": \"scatter\", \"x\": [\"words\", \"time\", \"count\", \"wpm\", \"signal0\", \"diff0\", \"signal1\", \"diff1\", \"0\", \"1\", \"2\", \"3\", \"4\", \"CC\", \"CD\", \"DT\", \"IN\", \"JJ\", \"JJR\", \"JJS\", \"MD\", \"NN\", \"NNP\", \"NNPS\", \"NNS\", \"PDT\", \"PRP$\", \"RB\", \"RBR\", \"RBS\", \"RP\", \"UH\", \"VB\", \"VBD\", \"VBG\", \"VBN\", \"VBP\", \"VBZ\", \"WRB\", \"len\", \"syl\"], \"y\": [0.029533659942519913, 0.06163041652260052, 0.24711847136170587, 0.0713142746961721, 0.1120351622514684, 0.0715104021265177, 0.10976094864834549, 0.1370135675897272, 0.00206415758430931, 0.0, 0.008124267034922852, 0.0037885207985498045, 0.01372606584600826, 1.3530163756641467e-05, 0.0005374289833155226, 7.590893938437983e-05, 0.0014389221676878825, 0.005824780569330757, 0.0003112354358807057, 0.00030931942886874684, 0.0002774955018177573, 0.005112345270538672, 0.00495795664701, 3.632667781426296e-07, 0.0022794331314714713, 0.0, 0.0, 0.004658818088506424, 2.8988729603364606e-05, 0.0, 0.00022827522624845943, 0.0, 0.0026046211053024227, 0.005007402376586303, 0.004709890744258217, 0.003974724910042093, 0.0005506681458094807, 0.00047685600388721797, 0.0, 0.0564258464634217, 0.03257527429764617]}],\n",
       "                        {\"autosize\": true, \"hovermode\": \"closest\", \"showlegend\": false, \"template\": {\"data\": {\"bar\": [{\"error_x\": {\"color\": \"#2a3f5f\"}, \"error_y\": {\"color\": \"#2a3f5f\"}, \"marker\": {\"line\": {\"color\": \"#E5ECF6\", \"width\": 0.5}}, \"type\": \"bar\"}], \"barpolar\": [{\"marker\": {\"line\": {\"color\": \"#E5ECF6\", \"width\": 0.5}}, \"type\": \"barpolar\"}], \"carpet\": [{\"aaxis\": {\"endlinecolor\": \"#2a3f5f\", \"gridcolor\": \"white\", \"linecolor\": \"white\", \"minorgridcolor\": \"white\", \"startlinecolor\": \"#2a3f5f\"}, \"baxis\": {\"endlinecolor\": \"#2a3f5f\", \"gridcolor\": \"white\", \"linecolor\": \"white\", \"minorgridcolor\": \"white\", \"startlinecolor\": \"#2a3f5f\"}, \"type\": \"carpet\"}], \"choropleth\": [{\"colorbar\": {\"outlinewidth\": 0, \"ticks\": \"\"}, \"type\": \"choropleth\"}], \"contour\": [{\"colorbar\": {\"outlinewidth\": 0, \"ticks\": \"\"}, \"colorscale\": [[0.0, \"#0d0887\"], [0.1111111111111111, \"#46039f\"], [0.2222222222222222, \"#7201a8\"], [0.3333333333333333, \"#9c179e\"], [0.4444444444444444, \"#bd3786\"], [0.5555555555555556, \"#d8576b\"], [0.6666666666666666, \"#ed7953\"], [0.7777777777777778, \"#fb9f3a\"], [0.8888888888888888, \"#fdca26\"], [1.0, \"#f0f921\"]], \"type\": \"contour\"}], \"contourcarpet\": [{\"colorbar\": {\"outlinewidth\": 0, \"ticks\": \"\"}, \"type\": \"contourcarpet\"}], \"heatmap\": [{\"colorbar\": {\"outlinewidth\": 0, \"ticks\": \"\"}, \"colorscale\": [[0.0, \"#0d0887\"], [0.1111111111111111, \"#46039f\"], [0.2222222222222222, \"#7201a8\"], [0.3333333333333333, \"#9c179e\"], [0.4444444444444444, \"#bd3786\"], [0.5555555555555556, \"#d8576b\"], [0.6666666666666666, \"#ed7953\"], [0.7777777777777778, \"#fb9f3a\"], [0.8888888888888888, \"#fdca26\"], [1.0, \"#f0f921\"]], \"type\": \"heatmap\"}], \"heatmapgl\": [{\"colorbar\": {\"outlinewidth\": 0, \"ticks\": \"\"}, \"colorscale\": [[0.0, \"#0d0887\"], [0.1111111111111111, \"#46039f\"], [0.2222222222222222, \"#7201a8\"], [0.3333333333333333, \"#9c179e\"], [0.4444444444444444, \"#bd3786\"], [0.5555555555555556, \"#d8576b\"], [0.6666666666666666, \"#ed7953\"], [0.7777777777777778, \"#fb9f3a\"], [0.8888888888888888, \"#fdca26\"], [1.0, \"#f0f921\"]], \"type\": \"heatmapgl\"}], \"histogram\": [{\"marker\": {\"colorbar\": {\"outlinewidth\": 0, \"ticks\": \"\"}}, \"type\": \"histogram\"}], \"histogram2d\": [{\"colorbar\": {\"outlinewidth\": 0, \"ticks\": \"\"}, \"colorscale\": [[0.0, \"#0d0887\"], [0.1111111111111111, \"#46039f\"], [0.2222222222222222, \"#7201a8\"], [0.3333333333333333, \"#9c179e\"], [0.4444444444444444, \"#bd3786\"], [0.5555555555555556, \"#d8576b\"], [0.6666666666666666, \"#ed7953\"], [0.7777777777777778, \"#fb9f3a\"], [0.8888888888888888, \"#fdca26\"], [1.0, \"#f0f921\"]], \"type\": \"histogram2d\"}], \"histogram2dcontour\": [{\"colorbar\": {\"outlinewidth\": 0, \"ticks\": \"\"}, \"colorscale\": [[0.0, \"#0d0887\"], [0.1111111111111111, \"#46039f\"], [0.2222222222222222, \"#7201a8\"], [0.3333333333333333, \"#9c179e\"], [0.4444444444444444, \"#bd3786\"], [0.5555555555555556, \"#d8576b\"], [0.6666666666666666, \"#ed7953\"], [0.7777777777777778, \"#fb9f3a\"], [0.8888888888888888, \"#fdca26\"], [1.0, \"#f0f921\"]], \"type\": \"histogram2dcontour\"}], \"mesh3d\": [{\"colorbar\": {\"outlinewidth\": 0, \"ticks\": \"\"}, \"type\": \"mesh3d\"}], \"parcoords\": [{\"line\": {\"colorbar\": {\"outlinewidth\": 0, \"ticks\": \"\"}}, \"type\": \"parcoords\"}], \"pie\": [{\"automargin\": true, \"type\": \"pie\"}], \"scatter\": [{\"marker\": {\"colorbar\": {\"outlinewidth\": 0, \"ticks\": \"\"}}, \"type\": \"scatter\"}], \"scatter3d\": [{\"line\": {\"colorbar\": {\"outlinewidth\": 0, \"ticks\": \"\"}}, \"marker\": {\"colorbar\": {\"outlinewidth\": 0, \"ticks\": \"\"}}, \"type\": \"scatter3d\"}], \"scattercarpet\": [{\"marker\": {\"colorbar\": {\"outlinewidth\": 0, \"ticks\": \"\"}}, \"type\": \"scattercarpet\"}], \"scattergeo\": [{\"marker\": {\"colorbar\": {\"outlinewidth\": 0, \"ticks\": \"\"}}, \"type\": \"scattergeo\"}], \"scattergl\": [{\"marker\": {\"colorbar\": {\"outlinewidth\": 0, \"ticks\": \"\"}}, \"type\": \"scattergl\"}], \"scattermapbox\": [{\"marker\": {\"colorbar\": {\"outlinewidth\": 0, \"ticks\": \"\"}}, \"type\": \"scattermapbox\"}], \"scatterpolar\": [{\"marker\": {\"colorbar\": {\"outlinewidth\": 0, \"ticks\": \"\"}}, \"type\": \"scatterpolar\"}], \"scatterpolargl\": [{\"marker\": {\"colorbar\": {\"outlinewidth\": 0, \"ticks\": \"\"}}, \"type\": \"scatterpolargl\"}], \"scatterternary\": [{\"marker\": {\"colorbar\": {\"outlinewidth\": 0, \"ticks\": \"\"}}, \"type\": \"scatterternary\"}], \"surface\": [{\"colorbar\": {\"outlinewidth\": 0, \"ticks\": \"\"}, \"colorscale\": [[0.0, \"#0d0887\"], [0.1111111111111111, \"#46039f\"], [0.2222222222222222, \"#7201a8\"], [0.3333333333333333, \"#9c179e\"], [0.4444444444444444, \"#bd3786\"], [0.5555555555555556, \"#d8576b\"], [0.6666666666666666, \"#ed7953\"], [0.7777777777777778, \"#fb9f3a\"], [0.8888888888888888, \"#fdca26\"], [1.0, \"#f0f921\"]], \"type\": \"surface\"}], \"table\": [{\"cells\": {\"fill\": {\"color\": \"#EBF0F8\"}, \"line\": {\"color\": \"white\"}}, \"header\": {\"fill\": {\"color\": \"#C8D4E3\"}, \"line\": {\"color\": \"white\"}}, \"type\": \"table\"}]}, \"layout\": {\"annotationdefaults\": {\"arrowcolor\": \"#2a3f5f\", \"arrowhead\": 0, \"arrowwidth\": 1}, \"coloraxis\": {\"colorbar\": {\"outlinewidth\": 0, \"ticks\": \"\"}}, \"colorscale\": {\"diverging\": [[0, \"#8e0152\"], [0.1, \"#c51b7d\"], [0.2, \"#de77ae\"], [0.3, \"#f1b6da\"], [0.4, \"#fde0ef\"], [0.5, \"#f7f7f7\"], [0.6, \"#e6f5d0\"], [0.7, \"#b8e186\"], [0.8, \"#7fbc41\"], [0.9, \"#4d9221\"], [1, \"#276419\"]], \"sequential\": [[0.0, \"#0d0887\"], [0.1111111111111111, \"#46039f\"], [0.2222222222222222, \"#7201a8\"], [0.3333333333333333, \"#9c179e\"], [0.4444444444444444, \"#bd3786\"], [0.5555555555555556, \"#d8576b\"], [0.6666666666666666, \"#ed7953\"], [0.7777777777777778, \"#fb9f3a\"], [0.8888888888888888, \"#fdca26\"], [1.0, \"#f0f921\"]], \"sequentialminus\": [[0.0, \"#0d0887\"], [0.1111111111111111, \"#46039f\"], [0.2222222222222222, \"#7201a8\"], [0.3333333333333333, \"#9c179e\"], [0.4444444444444444, \"#bd3786\"], [0.5555555555555556, \"#d8576b\"], [0.6666666666666666, \"#ed7953\"], [0.7777777777777778, \"#fb9f3a\"], [0.8888888888888888, \"#fdca26\"], [1.0, \"#f0f921\"]]}, \"colorway\": [\"#636efa\", \"#EF553B\", \"#00cc96\", \"#ab63fa\", \"#FFA15A\", \"#19d3f3\", \"#FF6692\", \"#B6E880\", \"#FF97FF\", \"#FECB52\"], \"font\": {\"color\": \"#2a3f5f\"}, \"geo\": {\"bgcolor\": \"white\", \"lakecolor\": \"white\", \"landcolor\": \"#E5ECF6\", \"showlakes\": true, \"showland\": true, \"subunitcolor\": \"white\"}, \"hoverlabel\": {\"align\": \"left\"}, \"hovermode\": \"closest\", \"mapbox\": {\"style\": \"light\"}, \"paper_bgcolor\": \"white\", \"plot_bgcolor\": \"#E5ECF6\", \"polar\": {\"angularaxis\": {\"gridcolor\": \"white\", \"linecolor\": \"white\", \"ticks\": \"\"}, \"bgcolor\": \"#E5ECF6\", \"radialaxis\": {\"gridcolor\": \"white\", \"linecolor\": \"white\", \"ticks\": \"\"}}, \"scene\": {\"xaxis\": {\"backgroundcolor\": \"#E5ECF6\", \"gridcolor\": \"white\", \"gridwidth\": 2, \"linecolor\": \"white\", \"showbackground\": true, \"ticks\": \"\", \"zerolinecolor\": \"white\"}, \"yaxis\": {\"backgroundcolor\": \"#E5ECF6\", \"gridcolor\": \"white\", \"gridwidth\": 2, \"linecolor\": \"white\", \"showbackground\": true, \"ticks\": \"\", \"zerolinecolor\": \"white\"}, \"zaxis\": {\"backgroundcolor\": \"#E5ECF6\", \"gridcolor\": \"white\", \"gridwidth\": 2, \"linecolor\": \"white\", \"showbackground\": true, \"ticks\": \"\", \"zerolinecolor\": \"white\"}}, \"shapedefaults\": {\"line\": {\"color\": \"#2a3f5f\"}}, \"ternary\": {\"aaxis\": {\"gridcolor\": \"white\", \"linecolor\": \"white\", \"ticks\": \"\"}, \"baxis\": {\"gridcolor\": \"white\", \"linecolor\": \"white\", \"ticks\": \"\"}, \"bgcolor\": \"#E5ECF6\", \"caxis\": {\"gridcolor\": \"white\", \"linecolor\": \"white\", \"ticks\": \"\"}}, \"title\": {\"x\": 0.05}, \"xaxis\": {\"automargin\": true, \"gridcolor\": \"white\", \"linecolor\": \"white\", \"ticks\": \"\", \"title\": {\"standoff\": 15}, \"zerolinecolor\": \"white\", \"zerolinewidth\": 2}, \"yaxis\": {\"automargin\": true, \"gridcolor\": \"white\", \"linecolor\": \"white\", \"ticks\": \"\", \"title\": {\"standoff\": 15}, \"zerolinecolor\": \"white\", \"zerolinewidth\": 2}}}, \"title\": {\"text\": \"Random Forest feature importances\"}, \"xaxis\": {\"type\": \"category\"}, \"yaxis\": {\"gridwidth\": 2, \"ticklen\": 5, \"title\": {\"text\": \"Feature Importance\"}}},\n",
       "                        {\"responsive\": true}\n",
       "                    ).then(function(){\n",
       "                            \n",
       "var gd = document.getElementById('8750a2a4-f6ec-4645-a1d1-f153429e7f16');\n",
       "var x = new MutationObserver(function (mutations, observer) {{\n",
       "        var display = window.getComputedStyle(gd).display;\n",
       "        if (!display || display === 'none') {{\n",
       "            console.log([gd, 'removed!']);\n",
       "            Plotly.purge(gd);\n",
       "            observer.disconnect();\n",
       "        }}\n",
       "}});\n",
       "\n",
       "// Listen for the removal of the full notebook cells\n",
       "var notebookContainer = gd.closest('#notebook-container');\n",
       "if (notebookContainer) {{\n",
       "    x.observe(notebookContainer, {childList: true});\n",
       "}}\n",
       "\n",
       "// Listen for the clearing of the current output cell\n",
       "var outputEl = gd.closest('.output');\n",
       "if (outputEl) {{\n",
       "    x.observe(outputEl, {childList: true});\n",
       "}}\n",
       "\n",
       "                        })\n",
       "                };\n",
       "                });\n",
       "            </script>\n",
       "        </div>"
      ]
     },
     "metadata": {},
     "output_type": "display_data"
    },
    {
     "data": {
      "application/vnd.plotly.v1+json": {
       "config": {
        "linkText": "Export to plot.ly",
        "plotlyServerURL": "https://plot.ly",
        "showLink": false
       },
       "data": [
        {
         "marker": {
          "color": [
           0.03072400320953727,
           0.02928237805229359,
           0.0745159026029299,
           0.02965714721008342,
           0.2209013054132047,
           0.035709044644108005,
           0.24361468734592448,
           0.08550663460938179,
           0.003201026868111628,
           0,
           0.01902412498506947,
           0.012232072076507831,
           0.035240269408266085,
           5.213307986151903e-05,
           0.001784220541232239,
           0.00011853217179181893,
           0.004054170261462552,
           0.013187233774433838,
           0.00020631351233485118,
           0.0001804576150216642,
           0.000386398415484275,
           0.011262179750468134,
           0.01602471686813024,
           1.3875786845245112e-05,
           0.005377436426859493,
           0,
           0,
           0.01193422717622057,
           7.559499101073328e-05,
           0,
           8.523224588984325e-05,
           0,
           0.004790195406469536,
           0.00964129749747352,
           0.01263308804830577,
           0.007329021706331451,
           0.0013848457300147555,
           0.0006002635155433071,
           0,
           0.04044349708279124,
           0.03882647197060538
          ],
          "colorscale": [
           [
            0,
            "rgb(12,51,131)"
           ],
           [
            0.25,
            "rgb(10,136,186)"
           ],
           [
            0.5,
            "rgb(242,211,56)"
           ],
           [
            0.75,
            "rgb(242,143,56)"
           ],
           [
            1,
            "rgb(217,30,30)"
           ]
          ],
          "showscale": true,
          "size": 25,
          "sizemode": "diameter",
          "sizeref": 1
         },
         "mode": "markers",
         "text": [
          "words",
          "time",
          "count",
          "wpm",
          "signal0",
          "diff0",
          "signal1",
          "diff1",
          "0",
          "1",
          "2",
          "3",
          "4",
          "CC",
          "CD",
          "DT",
          "IN",
          "JJ",
          "JJR",
          "JJS",
          "MD",
          "NN",
          "NNP",
          "NNPS",
          "NNS",
          "PDT",
          "PRP$",
          "RB",
          "RBR",
          "RBS",
          "RP",
          "UH",
          "VB",
          "VBD",
          "VBG",
          "VBN",
          "VBP",
          "VBZ",
          "WRB",
          "len",
          "syl"
         ],
         "type": "scatter",
         "x": [
          "words",
          "time",
          "count",
          "wpm",
          "signal0",
          "diff0",
          "signal1",
          "diff1",
          "0",
          "1",
          "2",
          "3",
          "4",
          "CC",
          "CD",
          "DT",
          "IN",
          "JJ",
          "JJR",
          "JJS",
          "MD",
          "NN",
          "NNP",
          "NNPS",
          "NNS",
          "PDT",
          "PRP$",
          "RB",
          "RBR",
          "RBS",
          "RP",
          "UH",
          "VB",
          "VBD",
          "VBG",
          "VBN",
          "VBP",
          "VBZ",
          "WRB",
          "len",
          "syl"
         ],
         "y": [
          0.03072400320953727,
          0.02928237805229359,
          0.0745159026029299,
          0.02965714721008342,
          0.2209013054132047,
          0.035709044644108005,
          0.24361468734592448,
          0.08550663460938179,
          0.003201026868111628,
          0,
          0.01902412498506947,
          0.012232072076507831,
          0.035240269408266085,
          5.213307986151903e-05,
          0.001784220541232239,
          0.00011853217179181893,
          0.004054170261462552,
          0.013187233774433838,
          0.00020631351233485118,
          0.0001804576150216642,
          0.000386398415484275,
          0.011262179750468134,
          0.01602471686813024,
          1.3875786845245112e-05,
          0.005377436426859493,
          0,
          0,
          0.01193422717622057,
          7.559499101073328e-05,
          0,
          8.523224588984325e-05,
          0,
          0.004790195406469536,
          0.00964129749747352,
          0.01263308804830577,
          0.007329021706331451,
          0.0013848457300147555,
          0.0006002635155433071,
          0,
          0.04044349708279124,
          0.03882647197060538
         ]
        }
       ],
       "layout": {
        "autosize": true,
        "hovermode": "closest",
        "showlegend": false,
        "template": {
         "data": {
          "bar": [
           {
            "error_x": {
             "color": "#2a3f5f"
            },
            "error_y": {
             "color": "#2a3f5f"
            },
            "marker": {
             "line": {
              "color": "#E5ECF6",
              "width": 0.5
             }
            },
            "type": "bar"
           }
          ],
          "barpolar": [
           {
            "marker": {
             "line": {
              "color": "#E5ECF6",
              "width": 0.5
             }
            },
            "type": "barpolar"
           }
          ],
          "carpet": [
           {
            "aaxis": {
             "endlinecolor": "#2a3f5f",
             "gridcolor": "white",
             "linecolor": "white",
             "minorgridcolor": "white",
             "startlinecolor": "#2a3f5f"
            },
            "baxis": {
             "endlinecolor": "#2a3f5f",
             "gridcolor": "white",
             "linecolor": "white",
             "minorgridcolor": "white",
             "startlinecolor": "#2a3f5f"
            },
            "type": "carpet"
           }
          ],
          "choropleth": [
           {
            "colorbar": {
             "outlinewidth": 0,
             "ticks": ""
            },
            "type": "choropleth"
           }
          ],
          "contour": [
           {
            "colorbar": {
             "outlinewidth": 0,
             "ticks": ""
            },
            "colorscale": [
             [
              0,
              "#0d0887"
             ],
             [
              0.1111111111111111,
              "#46039f"
             ],
             [
              0.2222222222222222,
              "#7201a8"
             ],
             [
              0.3333333333333333,
              "#9c179e"
             ],
             [
              0.4444444444444444,
              "#bd3786"
             ],
             [
              0.5555555555555556,
              "#d8576b"
             ],
             [
              0.6666666666666666,
              "#ed7953"
             ],
             [
              0.7777777777777778,
              "#fb9f3a"
             ],
             [
              0.8888888888888888,
              "#fdca26"
             ],
             [
              1,
              "#f0f921"
             ]
            ],
            "type": "contour"
           }
          ],
          "contourcarpet": [
           {
            "colorbar": {
             "outlinewidth": 0,
             "ticks": ""
            },
            "type": "contourcarpet"
           }
          ],
          "heatmap": [
           {
            "colorbar": {
             "outlinewidth": 0,
             "ticks": ""
            },
            "colorscale": [
             [
              0,
              "#0d0887"
             ],
             [
              0.1111111111111111,
              "#46039f"
             ],
             [
              0.2222222222222222,
              "#7201a8"
             ],
             [
              0.3333333333333333,
              "#9c179e"
             ],
             [
              0.4444444444444444,
              "#bd3786"
             ],
             [
              0.5555555555555556,
              "#d8576b"
             ],
             [
              0.6666666666666666,
              "#ed7953"
             ],
             [
              0.7777777777777778,
              "#fb9f3a"
             ],
             [
              0.8888888888888888,
              "#fdca26"
             ],
             [
              1,
              "#f0f921"
             ]
            ],
            "type": "heatmap"
           }
          ],
          "heatmapgl": [
           {
            "colorbar": {
             "outlinewidth": 0,
             "ticks": ""
            },
            "colorscale": [
             [
              0,
              "#0d0887"
             ],
             [
              0.1111111111111111,
              "#46039f"
             ],
             [
              0.2222222222222222,
              "#7201a8"
             ],
             [
              0.3333333333333333,
              "#9c179e"
             ],
             [
              0.4444444444444444,
              "#bd3786"
             ],
             [
              0.5555555555555556,
              "#d8576b"
             ],
             [
              0.6666666666666666,
              "#ed7953"
             ],
             [
              0.7777777777777778,
              "#fb9f3a"
             ],
             [
              0.8888888888888888,
              "#fdca26"
             ],
             [
              1,
              "#f0f921"
             ]
            ],
            "type": "heatmapgl"
           }
          ],
          "histogram": [
           {
            "marker": {
             "colorbar": {
              "outlinewidth": 0,
              "ticks": ""
             }
            },
            "type": "histogram"
           }
          ],
          "histogram2d": [
           {
            "colorbar": {
             "outlinewidth": 0,
             "ticks": ""
            },
            "colorscale": [
             [
              0,
              "#0d0887"
             ],
             [
              0.1111111111111111,
              "#46039f"
             ],
             [
              0.2222222222222222,
              "#7201a8"
             ],
             [
              0.3333333333333333,
              "#9c179e"
             ],
             [
              0.4444444444444444,
              "#bd3786"
             ],
             [
              0.5555555555555556,
              "#d8576b"
             ],
             [
              0.6666666666666666,
              "#ed7953"
             ],
             [
              0.7777777777777778,
              "#fb9f3a"
             ],
             [
              0.8888888888888888,
              "#fdca26"
             ],
             [
              1,
              "#f0f921"
             ]
            ],
            "type": "histogram2d"
           }
          ],
          "histogram2dcontour": [
           {
            "colorbar": {
             "outlinewidth": 0,
             "ticks": ""
            },
            "colorscale": [
             [
              0,
              "#0d0887"
             ],
             [
              0.1111111111111111,
              "#46039f"
             ],
             [
              0.2222222222222222,
              "#7201a8"
             ],
             [
              0.3333333333333333,
              "#9c179e"
             ],
             [
              0.4444444444444444,
              "#bd3786"
             ],
             [
              0.5555555555555556,
              "#d8576b"
             ],
             [
              0.6666666666666666,
              "#ed7953"
             ],
             [
              0.7777777777777778,
              "#fb9f3a"
             ],
             [
              0.8888888888888888,
              "#fdca26"
             ],
             [
              1,
              "#f0f921"
             ]
            ],
            "type": "histogram2dcontour"
           }
          ],
          "mesh3d": [
           {
            "colorbar": {
             "outlinewidth": 0,
             "ticks": ""
            },
            "type": "mesh3d"
           }
          ],
          "parcoords": [
           {
            "line": {
             "colorbar": {
              "outlinewidth": 0,
              "ticks": ""
             }
            },
            "type": "parcoords"
           }
          ],
          "pie": [
           {
            "automargin": true,
            "type": "pie"
           }
          ],
          "scatter": [
           {
            "marker": {
             "colorbar": {
              "outlinewidth": 0,
              "ticks": ""
             }
            },
            "type": "scatter"
           }
          ],
          "scatter3d": [
           {
            "line": {
             "colorbar": {
              "outlinewidth": 0,
              "ticks": ""
             }
            },
            "marker": {
             "colorbar": {
              "outlinewidth": 0,
              "ticks": ""
             }
            },
            "type": "scatter3d"
           }
          ],
          "scattercarpet": [
           {
            "marker": {
             "colorbar": {
              "outlinewidth": 0,
              "ticks": ""
             }
            },
            "type": "scattercarpet"
           }
          ],
          "scattergeo": [
           {
            "marker": {
             "colorbar": {
              "outlinewidth": 0,
              "ticks": ""
             }
            },
            "type": "scattergeo"
           }
          ],
          "scattergl": [
           {
            "marker": {
             "colorbar": {
              "outlinewidth": 0,
              "ticks": ""
             }
            },
            "type": "scattergl"
           }
          ],
          "scattermapbox": [
           {
            "marker": {
             "colorbar": {
              "outlinewidth": 0,
              "ticks": ""
             }
            },
            "type": "scattermapbox"
           }
          ],
          "scatterpolar": [
           {
            "marker": {
             "colorbar": {
              "outlinewidth": 0,
              "ticks": ""
             }
            },
            "type": "scatterpolar"
           }
          ],
          "scatterpolargl": [
           {
            "marker": {
             "colorbar": {
              "outlinewidth": 0,
              "ticks": ""
             }
            },
            "type": "scatterpolargl"
           }
          ],
          "scatterternary": [
           {
            "marker": {
             "colorbar": {
              "outlinewidth": 0,
              "ticks": ""
             }
            },
            "type": "scatterternary"
           }
          ],
          "surface": [
           {
            "colorbar": {
             "outlinewidth": 0,
             "ticks": ""
            },
            "colorscale": [
             [
              0,
              "#0d0887"
             ],
             [
              0.1111111111111111,
              "#46039f"
             ],
             [
              0.2222222222222222,
              "#7201a8"
             ],
             [
              0.3333333333333333,
              "#9c179e"
             ],
             [
              0.4444444444444444,
              "#bd3786"
             ],
             [
              0.5555555555555556,
              "#d8576b"
             ],
             [
              0.6666666666666666,
              "#ed7953"
             ],
             [
              0.7777777777777778,
              "#fb9f3a"
             ],
             [
              0.8888888888888888,
              "#fdca26"
             ],
             [
              1,
              "#f0f921"
             ]
            ],
            "type": "surface"
           }
          ],
          "table": [
           {
            "cells": {
             "fill": {
              "color": "#EBF0F8"
             },
             "line": {
              "color": "white"
             }
            },
            "header": {
             "fill": {
              "color": "#C8D4E3"
             },
             "line": {
              "color": "white"
             }
            },
            "type": "table"
           }
          ]
         },
         "layout": {
          "annotationdefaults": {
           "arrowcolor": "#2a3f5f",
           "arrowhead": 0,
           "arrowwidth": 1
          },
          "coloraxis": {
           "colorbar": {
            "outlinewidth": 0,
            "ticks": ""
           }
          },
          "colorscale": {
           "diverging": [
            [
             0,
             "#8e0152"
            ],
            [
             0.1,
             "#c51b7d"
            ],
            [
             0.2,
             "#de77ae"
            ],
            [
             0.3,
             "#f1b6da"
            ],
            [
             0.4,
             "#fde0ef"
            ],
            [
             0.5,
             "#f7f7f7"
            ],
            [
             0.6,
             "#e6f5d0"
            ],
            [
             0.7,
             "#b8e186"
            ],
            [
             0.8,
             "#7fbc41"
            ],
            [
             0.9,
             "#4d9221"
            ],
            [
             1,
             "#276419"
            ]
           ],
           "sequential": [
            [
             0,
             "#0d0887"
            ],
            [
             0.1111111111111111,
             "#46039f"
            ],
            [
             0.2222222222222222,
             "#7201a8"
            ],
            [
             0.3333333333333333,
             "#9c179e"
            ],
            [
             0.4444444444444444,
             "#bd3786"
            ],
            [
             0.5555555555555556,
             "#d8576b"
            ],
            [
             0.6666666666666666,
             "#ed7953"
            ],
            [
             0.7777777777777778,
             "#fb9f3a"
            ],
            [
             0.8888888888888888,
             "#fdca26"
            ],
            [
             1,
             "#f0f921"
            ]
           ],
           "sequentialminus": [
            [
             0,
             "#0d0887"
            ],
            [
             0.1111111111111111,
             "#46039f"
            ],
            [
             0.2222222222222222,
             "#7201a8"
            ],
            [
             0.3333333333333333,
             "#9c179e"
            ],
            [
             0.4444444444444444,
             "#bd3786"
            ],
            [
             0.5555555555555556,
             "#d8576b"
            ],
            [
             0.6666666666666666,
             "#ed7953"
            ],
            [
             0.7777777777777778,
             "#fb9f3a"
            ],
            [
             0.8888888888888888,
             "#fdca26"
            ],
            [
             1,
             "#f0f921"
            ]
           ]
          },
          "colorway": [
           "#636efa",
           "#EF553B",
           "#00cc96",
           "#ab63fa",
           "#FFA15A",
           "#19d3f3",
           "#FF6692",
           "#B6E880",
           "#FF97FF",
           "#FECB52"
          ],
          "font": {
           "color": "#2a3f5f"
          },
          "geo": {
           "bgcolor": "white",
           "lakecolor": "white",
           "landcolor": "#E5ECF6",
           "showlakes": true,
           "showland": true,
           "subunitcolor": "white"
          },
          "hoverlabel": {
           "align": "left"
          },
          "hovermode": "closest",
          "mapbox": {
           "style": "light"
          },
          "paper_bgcolor": "white",
          "plot_bgcolor": "#E5ECF6",
          "polar": {
           "angularaxis": {
            "gridcolor": "white",
            "linecolor": "white",
            "ticks": ""
           },
           "bgcolor": "#E5ECF6",
           "radialaxis": {
            "gridcolor": "white",
            "linecolor": "white",
            "ticks": ""
           }
          },
          "scene": {
           "xaxis": {
            "backgroundcolor": "#E5ECF6",
            "gridcolor": "white",
            "gridwidth": 2,
            "linecolor": "white",
            "showbackground": true,
            "ticks": "",
            "zerolinecolor": "white"
           },
           "yaxis": {
            "backgroundcolor": "#E5ECF6",
            "gridcolor": "white",
            "gridwidth": 2,
            "linecolor": "white",
            "showbackground": true,
            "ticks": "",
            "zerolinecolor": "white"
           },
           "zaxis": {
            "backgroundcolor": "#E5ECF6",
            "gridcolor": "white",
            "gridwidth": 2,
            "linecolor": "white",
            "showbackground": true,
            "ticks": "",
            "zerolinecolor": "white"
           }
          },
          "shapedefaults": {
           "line": {
            "color": "#2a3f5f"
           }
          },
          "ternary": {
           "aaxis": {
            "gridcolor": "white",
            "linecolor": "white",
            "ticks": ""
           },
           "baxis": {
            "gridcolor": "white",
            "linecolor": "white",
            "ticks": ""
           },
           "bgcolor": "#E5ECF6",
           "caxis": {
            "gridcolor": "white",
            "linecolor": "white",
            "ticks": ""
           }
          },
          "title": {
           "x": 0.05
          },
          "xaxis": {
           "automargin": true,
           "gridcolor": "white",
           "linecolor": "white",
           "ticks": "",
           "title": {
            "standoff": 15
           },
           "zerolinecolor": "white",
           "zerolinewidth": 2
          },
          "yaxis": {
           "automargin": true,
           "gridcolor": "white",
           "linecolor": "white",
           "ticks": "",
           "title": {
            "standoff": 15
           },
           "zerolinecolor": "white",
           "zerolinewidth": 2
          }
         }
        },
        "title": {
         "text": "Extra Trees  feature importances"
        },
        "xaxis": {
         "type": "category"
        },
        "yaxis": {
         "gridwidth": 2,
         "ticklen": 5,
         "title": {
          "text": "Feature Importance"
         }
        }
       }
      },
      "text/html": [
       "<div>\n",
       "        \n",
       "        \n",
       "            <div id=\"b8804df6-a446-4e78-9547-59103505da46\" class=\"plotly-graph-div\" style=\"height:525px; width:100%;\"></div>\n",
       "            <script type=\"text/javascript\">\n",
       "                require([\"plotly\"], function(Plotly) {\n",
       "                    window.PLOTLYENV=window.PLOTLYENV || {};\n",
       "                    \n",
       "                if (document.getElementById(\"b8804df6-a446-4e78-9547-59103505da46\")) {\n",
       "                    Plotly.newPlot(\n",
       "                        'b8804df6-a446-4e78-9547-59103505da46',\n",
       "                        [{\"marker\": {\"color\": [0.03072400320953727, 0.02928237805229359, 0.0745159026029299, 0.02965714721008342, 0.2209013054132047, 0.035709044644108005, 0.24361468734592448, 0.08550663460938179, 0.003201026868111628, 0.0, 0.01902412498506947, 0.012232072076507831, 0.035240269408266085, 5.213307986151903e-05, 0.001784220541232239, 0.00011853217179181893, 0.004054170261462552, 0.013187233774433838, 0.00020631351233485118, 0.0001804576150216642, 0.000386398415484275, 0.011262179750468134, 0.01602471686813024, 1.3875786845245112e-05, 0.005377436426859493, 0.0, 0.0, 0.01193422717622057, 7.559499101073328e-05, 0.0, 8.523224588984325e-05, 0.0, 0.004790195406469536, 0.00964129749747352, 0.01263308804830577, 0.007329021706331451, 0.0013848457300147555, 0.0006002635155433071, 0.0, 0.04044349708279124, 0.03882647197060538], \"colorscale\": [[0.0, \"rgb(12,51,131)\"], [0.25, \"rgb(10,136,186)\"], [0.5, \"rgb(242,211,56)\"], [0.75, \"rgb(242,143,56)\"], [1.0, \"rgb(217,30,30)\"]], \"showscale\": true, \"size\": 25, \"sizemode\": \"diameter\", \"sizeref\": 1}, \"mode\": \"markers\", \"text\": [\"words\", \"time\", \"count\", \"wpm\", \"signal0\", \"diff0\", \"signal1\", \"diff1\", \"0\", \"1\", \"2\", \"3\", \"4\", \"CC\", \"CD\", \"DT\", \"IN\", \"JJ\", \"JJR\", \"JJS\", \"MD\", \"NN\", \"NNP\", \"NNPS\", \"NNS\", \"PDT\", \"PRP$\", \"RB\", \"RBR\", \"RBS\", \"RP\", \"UH\", \"VB\", \"VBD\", \"VBG\", \"VBN\", \"VBP\", \"VBZ\", \"WRB\", \"len\", \"syl\"], \"type\": \"scatter\", \"x\": [\"words\", \"time\", \"count\", \"wpm\", \"signal0\", \"diff0\", \"signal1\", \"diff1\", \"0\", \"1\", \"2\", \"3\", \"4\", \"CC\", \"CD\", \"DT\", \"IN\", \"JJ\", \"JJR\", \"JJS\", \"MD\", \"NN\", \"NNP\", \"NNPS\", \"NNS\", \"PDT\", \"PRP$\", \"RB\", \"RBR\", \"RBS\", \"RP\", \"UH\", \"VB\", \"VBD\", \"VBG\", \"VBN\", \"VBP\", \"VBZ\", \"WRB\", \"len\", \"syl\"], \"y\": [0.03072400320953727, 0.02928237805229359, 0.0745159026029299, 0.02965714721008342, 0.2209013054132047, 0.035709044644108005, 0.24361468734592448, 0.08550663460938179, 0.003201026868111628, 0.0, 0.01902412498506947, 0.012232072076507831, 0.035240269408266085, 5.213307986151903e-05, 0.001784220541232239, 0.00011853217179181893, 0.004054170261462552, 0.013187233774433838, 0.00020631351233485118, 0.0001804576150216642, 0.000386398415484275, 0.011262179750468134, 0.01602471686813024, 1.3875786845245112e-05, 0.005377436426859493, 0.0, 0.0, 0.01193422717622057, 7.559499101073328e-05, 0.0, 8.523224588984325e-05, 0.0, 0.004790195406469536, 0.00964129749747352, 0.01263308804830577, 0.007329021706331451, 0.0013848457300147555, 0.0006002635155433071, 0.0, 0.04044349708279124, 0.03882647197060538]}],\n",
       "                        {\"autosize\": true, \"hovermode\": \"closest\", \"showlegend\": false, \"template\": {\"data\": {\"bar\": [{\"error_x\": {\"color\": \"#2a3f5f\"}, \"error_y\": {\"color\": \"#2a3f5f\"}, \"marker\": {\"line\": {\"color\": \"#E5ECF6\", \"width\": 0.5}}, \"type\": \"bar\"}], \"barpolar\": [{\"marker\": {\"line\": {\"color\": \"#E5ECF6\", \"width\": 0.5}}, \"type\": \"barpolar\"}], \"carpet\": [{\"aaxis\": {\"endlinecolor\": \"#2a3f5f\", \"gridcolor\": \"white\", \"linecolor\": \"white\", \"minorgridcolor\": \"white\", \"startlinecolor\": \"#2a3f5f\"}, \"baxis\": {\"endlinecolor\": \"#2a3f5f\", \"gridcolor\": \"white\", \"linecolor\": \"white\", \"minorgridcolor\": \"white\", \"startlinecolor\": \"#2a3f5f\"}, \"type\": \"carpet\"}], \"choropleth\": [{\"colorbar\": {\"outlinewidth\": 0, \"ticks\": \"\"}, \"type\": \"choropleth\"}], \"contour\": [{\"colorbar\": {\"outlinewidth\": 0, \"ticks\": \"\"}, \"colorscale\": [[0.0, \"#0d0887\"], [0.1111111111111111, \"#46039f\"], [0.2222222222222222, \"#7201a8\"], [0.3333333333333333, \"#9c179e\"], [0.4444444444444444, \"#bd3786\"], [0.5555555555555556, \"#d8576b\"], [0.6666666666666666, \"#ed7953\"], [0.7777777777777778, \"#fb9f3a\"], [0.8888888888888888, \"#fdca26\"], [1.0, \"#f0f921\"]], \"type\": \"contour\"}], \"contourcarpet\": [{\"colorbar\": {\"outlinewidth\": 0, \"ticks\": \"\"}, \"type\": \"contourcarpet\"}], \"heatmap\": [{\"colorbar\": {\"outlinewidth\": 0, \"ticks\": \"\"}, \"colorscale\": [[0.0, \"#0d0887\"], [0.1111111111111111, \"#46039f\"], [0.2222222222222222, \"#7201a8\"], [0.3333333333333333, \"#9c179e\"], [0.4444444444444444, \"#bd3786\"], [0.5555555555555556, \"#d8576b\"], [0.6666666666666666, \"#ed7953\"], [0.7777777777777778, \"#fb9f3a\"], [0.8888888888888888, \"#fdca26\"], [1.0, \"#f0f921\"]], \"type\": \"heatmap\"}], \"heatmapgl\": [{\"colorbar\": {\"outlinewidth\": 0, \"ticks\": \"\"}, \"colorscale\": [[0.0, \"#0d0887\"], [0.1111111111111111, \"#46039f\"], [0.2222222222222222, \"#7201a8\"], [0.3333333333333333, \"#9c179e\"], [0.4444444444444444, \"#bd3786\"], [0.5555555555555556, \"#d8576b\"], [0.6666666666666666, \"#ed7953\"], [0.7777777777777778, \"#fb9f3a\"], [0.8888888888888888, \"#fdca26\"], [1.0, \"#f0f921\"]], \"type\": \"heatmapgl\"}], \"histogram\": [{\"marker\": {\"colorbar\": {\"outlinewidth\": 0, \"ticks\": \"\"}}, \"type\": \"histogram\"}], \"histogram2d\": [{\"colorbar\": {\"outlinewidth\": 0, \"ticks\": \"\"}, \"colorscale\": [[0.0, \"#0d0887\"], [0.1111111111111111, \"#46039f\"], [0.2222222222222222, \"#7201a8\"], [0.3333333333333333, \"#9c179e\"], [0.4444444444444444, \"#bd3786\"], [0.5555555555555556, \"#d8576b\"], [0.6666666666666666, \"#ed7953\"], [0.7777777777777778, \"#fb9f3a\"], [0.8888888888888888, \"#fdca26\"], [1.0, \"#f0f921\"]], \"type\": \"histogram2d\"}], \"histogram2dcontour\": [{\"colorbar\": {\"outlinewidth\": 0, \"ticks\": \"\"}, \"colorscale\": [[0.0, \"#0d0887\"], [0.1111111111111111, \"#46039f\"], [0.2222222222222222, \"#7201a8\"], [0.3333333333333333, \"#9c179e\"], [0.4444444444444444, \"#bd3786\"], [0.5555555555555556, \"#d8576b\"], [0.6666666666666666, \"#ed7953\"], [0.7777777777777778, \"#fb9f3a\"], [0.8888888888888888, \"#fdca26\"], [1.0, \"#f0f921\"]], \"type\": \"histogram2dcontour\"}], \"mesh3d\": [{\"colorbar\": {\"outlinewidth\": 0, \"ticks\": \"\"}, \"type\": \"mesh3d\"}], \"parcoords\": [{\"line\": {\"colorbar\": {\"outlinewidth\": 0, \"ticks\": \"\"}}, \"type\": \"parcoords\"}], \"pie\": [{\"automargin\": true, \"type\": \"pie\"}], \"scatter\": [{\"marker\": {\"colorbar\": {\"outlinewidth\": 0, \"ticks\": \"\"}}, \"type\": \"scatter\"}], \"scatter3d\": [{\"line\": {\"colorbar\": {\"outlinewidth\": 0, \"ticks\": \"\"}}, \"marker\": {\"colorbar\": {\"outlinewidth\": 0, \"ticks\": \"\"}}, \"type\": \"scatter3d\"}], \"scattercarpet\": [{\"marker\": {\"colorbar\": {\"outlinewidth\": 0, \"ticks\": \"\"}}, \"type\": \"scattercarpet\"}], \"scattergeo\": [{\"marker\": {\"colorbar\": {\"outlinewidth\": 0, \"ticks\": \"\"}}, \"type\": \"scattergeo\"}], \"scattergl\": [{\"marker\": {\"colorbar\": {\"outlinewidth\": 0, \"ticks\": \"\"}}, \"type\": \"scattergl\"}], \"scattermapbox\": [{\"marker\": {\"colorbar\": {\"outlinewidth\": 0, \"ticks\": \"\"}}, \"type\": \"scattermapbox\"}], \"scatterpolar\": [{\"marker\": {\"colorbar\": {\"outlinewidth\": 0, \"ticks\": \"\"}}, \"type\": \"scatterpolar\"}], \"scatterpolargl\": [{\"marker\": {\"colorbar\": {\"outlinewidth\": 0, \"ticks\": \"\"}}, \"type\": \"scatterpolargl\"}], \"scatterternary\": [{\"marker\": {\"colorbar\": {\"outlinewidth\": 0, \"ticks\": \"\"}}, \"type\": \"scatterternary\"}], \"surface\": [{\"colorbar\": {\"outlinewidth\": 0, \"ticks\": \"\"}, \"colorscale\": [[0.0, \"#0d0887\"], [0.1111111111111111, \"#46039f\"], [0.2222222222222222, \"#7201a8\"], [0.3333333333333333, \"#9c179e\"], [0.4444444444444444, \"#bd3786\"], [0.5555555555555556, \"#d8576b\"], [0.6666666666666666, \"#ed7953\"], [0.7777777777777778, \"#fb9f3a\"], [0.8888888888888888, \"#fdca26\"], [1.0, \"#f0f921\"]], \"type\": \"surface\"}], \"table\": [{\"cells\": {\"fill\": {\"color\": \"#EBF0F8\"}, \"line\": {\"color\": \"white\"}}, \"header\": {\"fill\": {\"color\": \"#C8D4E3\"}, \"line\": {\"color\": \"white\"}}, \"type\": \"table\"}]}, \"layout\": {\"annotationdefaults\": {\"arrowcolor\": \"#2a3f5f\", \"arrowhead\": 0, \"arrowwidth\": 1}, \"coloraxis\": {\"colorbar\": {\"outlinewidth\": 0, \"ticks\": \"\"}}, \"colorscale\": {\"diverging\": [[0, \"#8e0152\"], [0.1, \"#c51b7d\"], [0.2, \"#de77ae\"], [0.3, \"#f1b6da\"], [0.4, \"#fde0ef\"], [0.5, \"#f7f7f7\"], [0.6, \"#e6f5d0\"], [0.7, \"#b8e186\"], [0.8, \"#7fbc41\"], [0.9, \"#4d9221\"], [1, \"#276419\"]], \"sequential\": [[0.0, \"#0d0887\"], [0.1111111111111111, \"#46039f\"], [0.2222222222222222, \"#7201a8\"], [0.3333333333333333, \"#9c179e\"], [0.4444444444444444, \"#bd3786\"], [0.5555555555555556, \"#d8576b\"], [0.6666666666666666, \"#ed7953\"], [0.7777777777777778, \"#fb9f3a\"], [0.8888888888888888, \"#fdca26\"], [1.0, \"#f0f921\"]], \"sequentialminus\": [[0.0, \"#0d0887\"], [0.1111111111111111, \"#46039f\"], [0.2222222222222222, \"#7201a8\"], [0.3333333333333333, \"#9c179e\"], [0.4444444444444444, \"#bd3786\"], [0.5555555555555556, \"#d8576b\"], [0.6666666666666666, \"#ed7953\"], [0.7777777777777778, \"#fb9f3a\"], [0.8888888888888888, \"#fdca26\"], [1.0, \"#f0f921\"]]}, \"colorway\": [\"#636efa\", \"#EF553B\", \"#00cc96\", \"#ab63fa\", \"#FFA15A\", \"#19d3f3\", \"#FF6692\", \"#B6E880\", \"#FF97FF\", \"#FECB52\"], \"font\": {\"color\": \"#2a3f5f\"}, \"geo\": {\"bgcolor\": \"white\", \"lakecolor\": \"white\", \"landcolor\": \"#E5ECF6\", \"showlakes\": true, \"showland\": true, \"subunitcolor\": \"white\"}, \"hoverlabel\": {\"align\": \"left\"}, \"hovermode\": \"closest\", \"mapbox\": {\"style\": \"light\"}, \"paper_bgcolor\": \"white\", \"plot_bgcolor\": \"#E5ECF6\", \"polar\": {\"angularaxis\": {\"gridcolor\": \"white\", \"linecolor\": \"white\", \"ticks\": \"\"}, \"bgcolor\": \"#E5ECF6\", \"radialaxis\": {\"gridcolor\": \"white\", \"linecolor\": \"white\", \"ticks\": \"\"}}, \"scene\": {\"xaxis\": {\"backgroundcolor\": \"#E5ECF6\", \"gridcolor\": \"white\", \"gridwidth\": 2, \"linecolor\": \"white\", \"showbackground\": true, \"ticks\": \"\", \"zerolinecolor\": \"white\"}, \"yaxis\": {\"backgroundcolor\": \"#E5ECF6\", \"gridcolor\": \"white\", \"gridwidth\": 2, \"linecolor\": \"white\", \"showbackground\": true, \"ticks\": \"\", \"zerolinecolor\": \"white\"}, \"zaxis\": {\"backgroundcolor\": \"#E5ECF6\", \"gridcolor\": \"white\", \"gridwidth\": 2, \"linecolor\": \"white\", \"showbackground\": true, \"ticks\": \"\", \"zerolinecolor\": \"white\"}}, \"shapedefaults\": {\"line\": {\"color\": \"#2a3f5f\"}}, \"ternary\": {\"aaxis\": {\"gridcolor\": \"white\", \"linecolor\": \"white\", \"ticks\": \"\"}, \"baxis\": {\"gridcolor\": \"white\", \"linecolor\": \"white\", \"ticks\": \"\"}, \"bgcolor\": \"#E5ECF6\", \"caxis\": {\"gridcolor\": \"white\", \"linecolor\": \"white\", \"ticks\": \"\"}}, \"title\": {\"x\": 0.05}, \"xaxis\": {\"automargin\": true, \"gridcolor\": \"white\", \"linecolor\": \"white\", \"ticks\": \"\", \"title\": {\"standoff\": 15}, \"zerolinecolor\": \"white\", \"zerolinewidth\": 2}, \"yaxis\": {\"automargin\": true, \"gridcolor\": \"white\", \"linecolor\": \"white\", \"ticks\": \"\", \"title\": {\"standoff\": 15}, \"zerolinecolor\": \"white\", \"zerolinewidth\": 2}}}, \"title\": {\"text\": \"Extra Trees  feature importances\"}, \"xaxis\": {\"type\": \"category\"}, \"yaxis\": {\"gridwidth\": 2, \"ticklen\": 5, \"title\": {\"text\": \"Feature Importance\"}}},\n",
       "                        {\"responsive\": true}\n",
       "                    ).then(function(){\n",
       "                            \n",
       "var gd = document.getElementById('b8804df6-a446-4e78-9547-59103505da46');\n",
       "var x = new MutationObserver(function (mutations, observer) {{\n",
       "        var display = window.getComputedStyle(gd).display;\n",
       "        if (!display || display === 'none') {{\n",
       "            console.log([gd, 'removed!']);\n",
       "            Plotly.purge(gd);\n",
       "            observer.disconnect();\n",
       "        }}\n",
       "}});\n",
       "\n",
       "// Listen for the removal of the full notebook cells\n",
       "var notebookContainer = gd.closest('#notebook-container');\n",
       "if (notebookContainer) {{\n",
       "    x.observe(notebookContainer, {childList: true});\n",
       "}}\n",
       "\n",
       "// Listen for the clearing of the current output cell\n",
       "var outputEl = gd.closest('.output');\n",
       "if (outputEl) {{\n",
       "    x.observe(outputEl, {childList: true});\n",
       "}}\n",
       "\n",
       "                        })\n",
       "                };\n",
       "                });\n",
       "            </script>\n",
       "        </div>"
      ]
     },
     "metadata": {},
     "output_type": "display_data"
    },
    {
     "data": {
      "application/vnd.plotly.v1+json": {
       "config": {
        "linkText": "Export to plot.ly",
        "plotlyServerURL": "https://plot.ly",
        "showLink": false
       },
       "data": [
        {
         "marker": {
          "color": [
           0.02,
           0.14666666666666667,
           0.22666666666666666,
           0.17,
           0.006666666666666667,
           0.15,
           0.0033333333333333335,
           0.19666666666666666,
           0.006666666666666667,
           0,
           0.0033333333333333335,
           0,
           0.0033333333333333335,
           0.0033333333333333335,
           0.0033333333333333335,
           0,
           0,
           0.0033333333333333335,
           0,
           0,
           0,
           0.0033333333333333335,
           0,
           0,
           0.0033333333333333335,
           0,
           0,
           0,
           0.0033333333333333335,
           0,
           0,
           0,
           0,
           0.0033333333333333335,
           0,
           0,
           0.0033333333333333335,
           0,
           0.0033333333333333335,
           0.03333333333333333,
           0.0033333333333333335
          ],
          "colorscale": [
           [
            0,
            "rgb(12,51,131)"
           ],
           [
            0.25,
            "rgb(10,136,186)"
           ],
           [
            0.5,
            "rgb(242,211,56)"
           ],
           [
            0.75,
            "rgb(242,143,56)"
           ],
           [
            1,
            "rgb(217,30,30)"
           ]
          ],
          "showscale": true,
          "size": 25,
          "sizemode": "diameter",
          "sizeref": 1
         },
         "mode": "markers",
         "text": [
          "words",
          "time",
          "count",
          "wpm",
          "signal0",
          "diff0",
          "signal1",
          "diff1",
          "0",
          "1",
          "2",
          "3",
          "4",
          "CC",
          "CD",
          "DT",
          "IN",
          "JJ",
          "JJR",
          "JJS",
          "MD",
          "NN",
          "NNP",
          "NNPS",
          "NNS",
          "PDT",
          "PRP$",
          "RB",
          "RBR",
          "RBS",
          "RP",
          "UH",
          "VB",
          "VBD",
          "VBG",
          "VBN",
          "VBP",
          "VBZ",
          "WRB",
          "len",
          "syl"
         ],
         "type": "scatter",
         "x": [
          "words",
          "time",
          "count",
          "wpm",
          "signal0",
          "diff0",
          "signal1",
          "diff1",
          "0",
          "1",
          "2",
          "3",
          "4",
          "CC",
          "CD",
          "DT",
          "IN",
          "JJ",
          "JJR",
          "JJS",
          "MD",
          "NN",
          "NNP",
          "NNPS",
          "NNS",
          "PDT",
          "PRP$",
          "RB",
          "RBR",
          "RBS",
          "RP",
          "UH",
          "VB",
          "VBD",
          "VBG",
          "VBN",
          "VBP",
          "VBZ",
          "WRB",
          "len",
          "syl"
         ],
         "y": [
          0.02,
          0.14666666666666667,
          0.22666666666666666,
          0.17,
          0.006666666666666667,
          0.15,
          0.0033333333333333335,
          0.19666666666666666,
          0.006666666666666667,
          0,
          0.0033333333333333335,
          0,
          0.0033333333333333335,
          0.0033333333333333335,
          0.0033333333333333335,
          0,
          0,
          0.0033333333333333335,
          0,
          0,
          0,
          0.0033333333333333335,
          0,
          0,
          0.0033333333333333335,
          0,
          0,
          0,
          0.0033333333333333335,
          0,
          0,
          0,
          0,
          0.0033333333333333335,
          0,
          0,
          0.0033333333333333335,
          0,
          0.0033333333333333335,
          0.03333333333333333,
          0.0033333333333333335
         ]
        }
       ],
       "layout": {
        "autosize": true,
        "hovermode": "closest",
        "showlegend": false,
        "template": {
         "data": {
          "bar": [
           {
            "error_x": {
             "color": "#2a3f5f"
            },
            "error_y": {
             "color": "#2a3f5f"
            },
            "marker": {
             "line": {
              "color": "#E5ECF6",
              "width": 0.5
             }
            },
            "type": "bar"
           }
          ],
          "barpolar": [
           {
            "marker": {
             "line": {
              "color": "#E5ECF6",
              "width": 0.5
             }
            },
            "type": "barpolar"
           }
          ],
          "carpet": [
           {
            "aaxis": {
             "endlinecolor": "#2a3f5f",
             "gridcolor": "white",
             "linecolor": "white",
             "minorgridcolor": "white",
             "startlinecolor": "#2a3f5f"
            },
            "baxis": {
             "endlinecolor": "#2a3f5f",
             "gridcolor": "white",
             "linecolor": "white",
             "minorgridcolor": "white",
             "startlinecolor": "#2a3f5f"
            },
            "type": "carpet"
           }
          ],
          "choropleth": [
           {
            "colorbar": {
             "outlinewidth": 0,
             "ticks": ""
            },
            "type": "choropleth"
           }
          ],
          "contour": [
           {
            "colorbar": {
             "outlinewidth": 0,
             "ticks": ""
            },
            "colorscale": [
             [
              0,
              "#0d0887"
             ],
             [
              0.1111111111111111,
              "#46039f"
             ],
             [
              0.2222222222222222,
              "#7201a8"
             ],
             [
              0.3333333333333333,
              "#9c179e"
             ],
             [
              0.4444444444444444,
              "#bd3786"
             ],
             [
              0.5555555555555556,
              "#d8576b"
             ],
             [
              0.6666666666666666,
              "#ed7953"
             ],
             [
              0.7777777777777778,
              "#fb9f3a"
             ],
             [
              0.8888888888888888,
              "#fdca26"
             ],
             [
              1,
              "#f0f921"
             ]
            ],
            "type": "contour"
           }
          ],
          "contourcarpet": [
           {
            "colorbar": {
             "outlinewidth": 0,
             "ticks": ""
            },
            "type": "contourcarpet"
           }
          ],
          "heatmap": [
           {
            "colorbar": {
             "outlinewidth": 0,
             "ticks": ""
            },
            "colorscale": [
             [
              0,
              "#0d0887"
             ],
             [
              0.1111111111111111,
              "#46039f"
             ],
             [
              0.2222222222222222,
              "#7201a8"
             ],
             [
              0.3333333333333333,
              "#9c179e"
             ],
             [
              0.4444444444444444,
              "#bd3786"
             ],
             [
              0.5555555555555556,
              "#d8576b"
             ],
             [
              0.6666666666666666,
              "#ed7953"
             ],
             [
              0.7777777777777778,
              "#fb9f3a"
             ],
             [
              0.8888888888888888,
              "#fdca26"
             ],
             [
              1,
              "#f0f921"
             ]
            ],
            "type": "heatmap"
           }
          ],
          "heatmapgl": [
           {
            "colorbar": {
             "outlinewidth": 0,
             "ticks": ""
            },
            "colorscale": [
             [
              0,
              "#0d0887"
             ],
             [
              0.1111111111111111,
              "#46039f"
             ],
             [
              0.2222222222222222,
              "#7201a8"
             ],
             [
              0.3333333333333333,
              "#9c179e"
             ],
             [
              0.4444444444444444,
              "#bd3786"
             ],
             [
              0.5555555555555556,
              "#d8576b"
             ],
             [
              0.6666666666666666,
              "#ed7953"
             ],
             [
              0.7777777777777778,
              "#fb9f3a"
             ],
             [
              0.8888888888888888,
              "#fdca26"
             ],
             [
              1,
              "#f0f921"
             ]
            ],
            "type": "heatmapgl"
           }
          ],
          "histogram": [
           {
            "marker": {
             "colorbar": {
              "outlinewidth": 0,
              "ticks": ""
             }
            },
            "type": "histogram"
           }
          ],
          "histogram2d": [
           {
            "colorbar": {
             "outlinewidth": 0,
             "ticks": ""
            },
            "colorscale": [
             [
              0,
              "#0d0887"
             ],
             [
              0.1111111111111111,
              "#46039f"
             ],
             [
              0.2222222222222222,
              "#7201a8"
             ],
             [
              0.3333333333333333,
              "#9c179e"
             ],
             [
              0.4444444444444444,
              "#bd3786"
             ],
             [
              0.5555555555555556,
              "#d8576b"
             ],
             [
              0.6666666666666666,
              "#ed7953"
             ],
             [
              0.7777777777777778,
              "#fb9f3a"
             ],
             [
              0.8888888888888888,
              "#fdca26"
             ],
             [
              1,
              "#f0f921"
             ]
            ],
            "type": "histogram2d"
           }
          ],
          "histogram2dcontour": [
           {
            "colorbar": {
             "outlinewidth": 0,
             "ticks": ""
            },
            "colorscale": [
             [
              0,
              "#0d0887"
             ],
             [
              0.1111111111111111,
              "#46039f"
             ],
             [
              0.2222222222222222,
              "#7201a8"
             ],
             [
              0.3333333333333333,
              "#9c179e"
             ],
             [
              0.4444444444444444,
              "#bd3786"
             ],
             [
              0.5555555555555556,
              "#d8576b"
             ],
             [
              0.6666666666666666,
              "#ed7953"
             ],
             [
              0.7777777777777778,
              "#fb9f3a"
             ],
             [
              0.8888888888888888,
              "#fdca26"
             ],
             [
              1,
              "#f0f921"
             ]
            ],
            "type": "histogram2dcontour"
           }
          ],
          "mesh3d": [
           {
            "colorbar": {
             "outlinewidth": 0,
             "ticks": ""
            },
            "type": "mesh3d"
           }
          ],
          "parcoords": [
           {
            "line": {
             "colorbar": {
              "outlinewidth": 0,
              "ticks": ""
             }
            },
            "type": "parcoords"
           }
          ],
          "pie": [
           {
            "automargin": true,
            "type": "pie"
           }
          ],
          "scatter": [
           {
            "marker": {
             "colorbar": {
              "outlinewidth": 0,
              "ticks": ""
             }
            },
            "type": "scatter"
           }
          ],
          "scatter3d": [
           {
            "line": {
             "colorbar": {
              "outlinewidth": 0,
              "ticks": ""
             }
            },
            "marker": {
             "colorbar": {
              "outlinewidth": 0,
              "ticks": ""
             }
            },
            "type": "scatter3d"
           }
          ],
          "scattercarpet": [
           {
            "marker": {
             "colorbar": {
              "outlinewidth": 0,
              "ticks": ""
             }
            },
            "type": "scattercarpet"
           }
          ],
          "scattergeo": [
           {
            "marker": {
             "colorbar": {
              "outlinewidth": 0,
              "ticks": ""
             }
            },
            "type": "scattergeo"
           }
          ],
          "scattergl": [
           {
            "marker": {
             "colorbar": {
              "outlinewidth": 0,
              "ticks": ""
             }
            },
            "type": "scattergl"
           }
          ],
          "scattermapbox": [
           {
            "marker": {
             "colorbar": {
              "outlinewidth": 0,
              "ticks": ""
             }
            },
            "type": "scattermapbox"
           }
          ],
          "scatterpolar": [
           {
            "marker": {
             "colorbar": {
              "outlinewidth": 0,
              "ticks": ""
             }
            },
            "type": "scatterpolar"
           }
          ],
          "scatterpolargl": [
           {
            "marker": {
             "colorbar": {
              "outlinewidth": 0,
              "ticks": ""
             }
            },
            "type": "scatterpolargl"
           }
          ],
          "scatterternary": [
           {
            "marker": {
             "colorbar": {
              "outlinewidth": 0,
              "ticks": ""
             }
            },
            "type": "scatterternary"
           }
          ],
          "surface": [
           {
            "colorbar": {
             "outlinewidth": 0,
             "ticks": ""
            },
            "colorscale": [
             [
              0,
              "#0d0887"
             ],
             [
              0.1111111111111111,
              "#46039f"
             ],
             [
              0.2222222222222222,
              "#7201a8"
             ],
             [
              0.3333333333333333,
              "#9c179e"
             ],
             [
              0.4444444444444444,
              "#bd3786"
             ],
             [
              0.5555555555555556,
              "#d8576b"
             ],
             [
              0.6666666666666666,
              "#ed7953"
             ],
             [
              0.7777777777777778,
              "#fb9f3a"
             ],
             [
              0.8888888888888888,
              "#fdca26"
             ],
             [
              1,
              "#f0f921"
             ]
            ],
            "type": "surface"
           }
          ],
          "table": [
           {
            "cells": {
             "fill": {
              "color": "#EBF0F8"
             },
             "line": {
              "color": "white"
             }
            },
            "header": {
             "fill": {
              "color": "#C8D4E3"
             },
             "line": {
              "color": "white"
             }
            },
            "type": "table"
           }
          ]
         },
         "layout": {
          "annotationdefaults": {
           "arrowcolor": "#2a3f5f",
           "arrowhead": 0,
           "arrowwidth": 1
          },
          "coloraxis": {
           "colorbar": {
            "outlinewidth": 0,
            "ticks": ""
           }
          },
          "colorscale": {
           "diverging": [
            [
             0,
             "#8e0152"
            ],
            [
             0.1,
             "#c51b7d"
            ],
            [
             0.2,
             "#de77ae"
            ],
            [
             0.3,
             "#f1b6da"
            ],
            [
             0.4,
             "#fde0ef"
            ],
            [
             0.5,
             "#f7f7f7"
            ],
            [
             0.6,
             "#e6f5d0"
            ],
            [
             0.7,
             "#b8e186"
            ],
            [
             0.8,
             "#7fbc41"
            ],
            [
             0.9,
             "#4d9221"
            ],
            [
             1,
             "#276419"
            ]
           ],
           "sequential": [
            [
             0,
             "#0d0887"
            ],
            [
             0.1111111111111111,
             "#46039f"
            ],
            [
             0.2222222222222222,
             "#7201a8"
            ],
            [
             0.3333333333333333,
             "#9c179e"
            ],
            [
             0.4444444444444444,
             "#bd3786"
            ],
            [
             0.5555555555555556,
             "#d8576b"
            ],
            [
             0.6666666666666666,
             "#ed7953"
            ],
            [
             0.7777777777777778,
             "#fb9f3a"
            ],
            [
             0.8888888888888888,
             "#fdca26"
            ],
            [
             1,
             "#f0f921"
            ]
           ],
           "sequentialminus": [
            [
             0,
             "#0d0887"
            ],
            [
             0.1111111111111111,
             "#46039f"
            ],
            [
             0.2222222222222222,
             "#7201a8"
            ],
            [
             0.3333333333333333,
             "#9c179e"
            ],
            [
             0.4444444444444444,
             "#bd3786"
            ],
            [
             0.5555555555555556,
             "#d8576b"
            ],
            [
             0.6666666666666666,
             "#ed7953"
            ],
            [
             0.7777777777777778,
             "#fb9f3a"
            ],
            [
             0.8888888888888888,
             "#fdca26"
            ],
            [
             1,
             "#f0f921"
            ]
           ]
          },
          "colorway": [
           "#636efa",
           "#EF553B",
           "#00cc96",
           "#ab63fa",
           "#FFA15A",
           "#19d3f3",
           "#FF6692",
           "#B6E880",
           "#FF97FF",
           "#FECB52"
          ],
          "font": {
           "color": "#2a3f5f"
          },
          "geo": {
           "bgcolor": "white",
           "lakecolor": "white",
           "landcolor": "#E5ECF6",
           "showlakes": true,
           "showland": true,
           "subunitcolor": "white"
          },
          "hoverlabel": {
           "align": "left"
          },
          "hovermode": "closest",
          "mapbox": {
           "style": "light"
          },
          "paper_bgcolor": "white",
          "plot_bgcolor": "#E5ECF6",
          "polar": {
           "angularaxis": {
            "gridcolor": "white",
            "linecolor": "white",
            "ticks": ""
           },
           "bgcolor": "#E5ECF6",
           "radialaxis": {
            "gridcolor": "white",
            "linecolor": "white",
            "ticks": ""
           }
          },
          "scene": {
           "xaxis": {
            "backgroundcolor": "#E5ECF6",
            "gridcolor": "white",
            "gridwidth": 2,
            "linecolor": "white",
            "showbackground": true,
            "ticks": "",
            "zerolinecolor": "white"
           },
           "yaxis": {
            "backgroundcolor": "#E5ECF6",
            "gridcolor": "white",
            "gridwidth": 2,
            "linecolor": "white",
            "showbackground": true,
            "ticks": "",
            "zerolinecolor": "white"
           },
           "zaxis": {
            "backgroundcolor": "#E5ECF6",
            "gridcolor": "white",
            "gridwidth": 2,
            "linecolor": "white",
            "showbackground": true,
            "ticks": "",
            "zerolinecolor": "white"
           }
          },
          "shapedefaults": {
           "line": {
            "color": "#2a3f5f"
           }
          },
          "ternary": {
           "aaxis": {
            "gridcolor": "white",
            "linecolor": "white",
            "ticks": ""
           },
           "baxis": {
            "gridcolor": "white",
            "linecolor": "white",
            "ticks": ""
           },
           "bgcolor": "#E5ECF6",
           "caxis": {
            "gridcolor": "white",
            "linecolor": "white",
            "ticks": ""
           }
          },
          "title": {
           "x": 0.05
          },
          "xaxis": {
           "automargin": true,
           "gridcolor": "white",
           "linecolor": "white",
           "ticks": "",
           "title": {
            "standoff": 15
           },
           "zerolinecolor": "white",
           "zerolinewidth": 2
          },
          "yaxis": {
           "automargin": true,
           "gridcolor": "white",
           "linecolor": "white",
           "ticks": "",
           "title": {
            "standoff": 15
           },
           "zerolinecolor": "white",
           "zerolinewidth": 2
          }
         }
        },
        "title": {
         "text": "AdaBoost feature importances"
        },
        "xaxis": {
         "type": "category"
        },
        "yaxis": {
         "gridwidth": 2,
         "ticklen": 5,
         "title": {
          "text": "Feature Importance"
         }
        }
       }
      },
      "text/html": [
       "<div>\n",
       "        \n",
       "        \n",
       "            <div id=\"2fc8deac-020b-4fb9-8a4e-178b3fc48466\" class=\"plotly-graph-div\" style=\"height:525px; width:100%;\"></div>\n",
       "            <script type=\"text/javascript\">\n",
       "                require([\"plotly\"], function(Plotly) {\n",
       "                    window.PLOTLYENV=window.PLOTLYENV || {};\n",
       "                    \n",
       "                if (document.getElementById(\"2fc8deac-020b-4fb9-8a4e-178b3fc48466\")) {\n",
       "                    Plotly.newPlot(\n",
       "                        '2fc8deac-020b-4fb9-8a4e-178b3fc48466',\n",
       "                        [{\"marker\": {\"color\": [0.02, 0.14666666666666667, 0.22666666666666666, 0.17, 0.006666666666666667, 0.15, 0.0033333333333333335, 0.19666666666666666, 0.006666666666666667, 0.0, 0.0033333333333333335, 0.0, 0.0033333333333333335, 0.0033333333333333335, 0.0033333333333333335, 0.0, 0.0, 0.0033333333333333335, 0.0, 0.0, 0.0, 0.0033333333333333335, 0.0, 0.0, 0.0033333333333333335, 0.0, 0.0, 0.0, 0.0033333333333333335, 0.0, 0.0, 0.0, 0.0, 0.0033333333333333335, 0.0, 0.0, 0.0033333333333333335, 0.0, 0.0033333333333333335, 0.03333333333333333, 0.0033333333333333335], \"colorscale\": [[0.0, \"rgb(12,51,131)\"], [0.25, \"rgb(10,136,186)\"], [0.5, \"rgb(242,211,56)\"], [0.75, \"rgb(242,143,56)\"], [1.0, \"rgb(217,30,30)\"]], \"showscale\": true, \"size\": 25, \"sizemode\": \"diameter\", \"sizeref\": 1}, \"mode\": \"markers\", \"text\": [\"words\", \"time\", \"count\", \"wpm\", \"signal0\", \"diff0\", \"signal1\", \"diff1\", \"0\", \"1\", \"2\", \"3\", \"4\", \"CC\", \"CD\", \"DT\", \"IN\", \"JJ\", \"JJR\", \"JJS\", \"MD\", \"NN\", \"NNP\", \"NNPS\", \"NNS\", \"PDT\", \"PRP$\", \"RB\", \"RBR\", \"RBS\", \"RP\", \"UH\", \"VB\", \"VBD\", \"VBG\", \"VBN\", \"VBP\", \"VBZ\", \"WRB\", \"len\", \"syl\"], \"type\": \"scatter\", \"x\": [\"words\", \"time\", \"count\", \"wpm\", \"signal0\", \"diff0\", \"signal1\", \"diff1\", \"0\", \"1\", \"2\", \"3\", \"4\", \"CC\", \"CD\", \"DT\", \"IN\", \"JJ\", \"JJR\", \"JJS\", \"MD\", \"NN\", \"NNP\", \"NNPS\", \"NNS\", \"PDT\", \"PRP$\", \"RB\", \"RBR\", \"RBS\", \"RP\", \"UH\", \"VB\", \"VBD\", \"VBG\", \"VBN\", \"VBP\", \"VBZ\", \"WRB\", \"len\", \"syl\"], \"y\": [0.02, 0.14666666666666667, 0.22666666666666666, 0.17, 0.006666666666666667, 0.15, 0.0033333333333333335, 0.19666666666666666, 0.006666666666666667, 0.0, 0.0033333333333333335, 0.0, 0.0033333333333333335, 0.0033333333333333335, 0.0033333333333333335, 0.0, 0.0, 0.0033333333333333335, 0.0, 0.0, 0.0, 0.0033333333333333335, 0.0, 0.0, 0.0033333333333333335, 0.0, 0.0, 0.0, 0.0033333333333333335, 0.0, 0.0, 0.0, 0.0, 0.0033333333333333335, 0.0, 0.0, 0.0033333333333333335, 0.0, 0.0033333333333333335, 0.03333333333333333, 0.0033333333333333335]}],\n",
       "                        {\"autosize\": true, \"hovermode\": \"closest\", \"showlegend\": false, \"template\": {\"data\": {\"bar\": [{\"error_x\": {\"color\": \"#2a3f5f\"}, \"error_y\": {\"color\": \"#2a3f5f\"}, \"marker\": {\"line\": {\"color\": \"#E5ECF6\", \"width\": 0.5}}, \"type\": \"bar\"}], \"barpolar\": [{\"marker\": {\"line\": {\"color\": \"#E5ECF6\", \"width\": 0.5}}, \"type\": \"barpolar\"}], \"carpet\": [{\"aaxis\": {\"endlinecolor\": \"#2a3f5f\", \"gridcolor\": \"white\", \"linecolor\": \"white\", \"minorgridcolor\": \"white\", \"startlinecolor\": \"#2a3f5f\"}, \"baxis\": {\"endlinecolor\": \"#2a3f5f\", \"gridcolor\": \"white\", \"linecolor\": \"white\", \"minorgridcolor\": \"white\", \"startlinecolor\": \"#2a3f5f\"}, \"type\": \"carpet\"}], \"choropleth\": [{\"colorbar\": {\"outlinewidth\": 0, \"ticks\": \"\"}, \"type\": \"choropleth\"}], \"contour\": [{\"colorbar\": {\"outlinewidth\": 0, \"ticks\": \"\"}, \"colorscale\": [[0.0, \"#0d0887\"], [0.1111111111111111, \"#46039f\"], [0.2222222222222222, \"#7201a8\"], [0.3333333333333333, \"#9c179e\"], [0.4444444444444444, \"#bd3786\"], [0.5555555555555556, \"#d8576b\"], [0.6666666666666666, \"#ed7953\"], [0.7777777777777778, \"#fb9f3a\"], [0.8888888888888888, \"#fdca26\"], [1.0, \"#f0f921\"]], \"type\": \"contour\"}], \"contourcarpet\": [{\"colorbar\": {\"outlinewidth\": 0, \"ticks\": \"\"}, \"type\": \"contourcarpet\"}], \"heatmap\": [{\"colorbar\": {\"outlinewidth\": 0, \"ticks\": \"\"}, \"colorscale\": [[0.0, \"#0d0887\"], [0.1111111111111111, \"#46039f\"], [0.2222222222222222, \"#7201a8\"], [0.3333333333333333, \"#9c179e\"], [0.4444444444444444, \"#bd3786\"], [0.5555555555555556, \"#d8576b\"], [0.6666666666666666, \"#ed7953\"], [0.7777777777777778, \"#fb9f3a\"], [0.8888888888888888, \"#fdca26\"], [1.0, \"#f0f921\"]], \"type\": \"heatmap\"}], \"heatmapgl\": [{\"colorbar\": {\"outlinewidth\": 0, \"ticks\": \"\"}, \"colorscale\": [[0.0, \"#0d0887\"], [0.1111111111111111, \"#46039f\"], [0.2222222222222222, \"#7201a8\"], [0.3333333333333333, \"#9c179e\"], [0.4444444444444444, \"#bd3786\"], [0.5555555555555556, \"#d8576b\"], [0.6666666666666666, \"#ed7953\"], [0.7777777777777778, \"#fb9f3a\"], [0.8888888888888888, \"#fdca26\"], [1.0, \"#f0f921\"]], \"type\": \"heatmapgl\"}], \"histogram\": [{\"marker\": {\"colorbar\": {\"outlinewidth\": 0, \"ticks\": \"\"}}, \"type\": \"histogram\"}], \"histogram2d\": [{\"colorbar\": {\"outlinewidth\": 0, \"ticks\": \"\"}, \"colorscale\": [[0.0, \"#0d0887\"], [0.1111111111111111, \"#46039f\"], [0.2222222222222222, \"#7201a8\"], [0.3333333333333333, \"#9c179e\"], [0.4444444444444444, \"#bd3786\"], [0.5555555555555556, \"#d8576b\"], [0.6666666666666666, \"#ed7953\"], [0.7777777777777778, \"#fb9f3a\"], [0.8888888888888888, \"#fdca26\"], [1.0, \"#f0f921\"]], \"type\": \"histogram2d\"}], \"histogram2dcontour\": [{\"colorbar\": {\"outlinewidth\": 0, \"ticks\": \"\"}, \"colorscale\": [[0.0, \"#0d0887\"], [0.1111111111111111, \"#46039f\"], [0.2222222222222222, \"#7201a8\"], [0.3333333333333333, \"#9c179e\"], [0.4444444444444444, \"#bd3786\"], [0.5555555555555556, \"#d8576b\"], [0.6666666666666666, \"#ed7953\"], [0.7777777777777778, \"#fb9f3a\"], [0.8888888888888888, \"#fdca26\"], [1.0, \"#f0f921\"]], \"type\": \"histogram2dcontour\"}], \"mesh3d\": [{\"colorbar\": {\"outlinewidth\": 0, \"ticks\": \"\"}, \"type\": \"mesh3d\"}], \"parcoords\": [{\"line\": {\"colorbar\": {\"outlinewidth\": 0, \"ticks\": \"\"}}, \"type\": \"parcoords\"}], \"pie\": [{\"automargin\": true, \"type\": \"pie\"}], \"scatter\": [{\"marker\": {\"colorbar\": {\"outlinewidth\": 0, \"ticks\": \"\"}}, \"type\": \"scatter\"}], \"scatter3d\": [{\"line\": {\"colorbar\": {\"outlinewidth\": 0, \"ticks\": \"\"}}, \"marker\": {\"colorbar\": {\"outlinewidth\": 0, \"ticks\": \"\"}}, \"type\": \"scatter3d\"}], \"scattercarpet\": [{\"marker\": {\"colorbar\": {\"outlinewidth\": 0, \"ticks\": \"\"}}, \"type\": \"scattercarpet\"}], \"scattergeo\": [{\"marker\": {\"colorbar\": {\"outlinewidth\": 0, \"ticks\": \"\"}}, \"type\": \"scattergeo\"}], \"scattergl\": [{\"marker\": {\"colorbar\": {\"outlinewidth\": 0, \"ticks\": \"\"}}, \"type\": \"scattergl\"}], \"scattermapbox\": [{\"marker\": {\"colorbar\": {\"outlinewidth\": 0, \"ticks\": \"\"}}, \"type\": \"scattermapbox\"}], \"scatterpolar\": [{\"marker\": {\"colorbar\": {\"outlinewidth\": 0, \"ticks\": \"\"}}, \"type\": \"scatterpolar\"}], \"scatterpolargl\": [{\"marker\": {\"colorbar\": {\"outlinewidth\": 0, \"ticks\": \"\"}}, \"type\": \"scatterpolargl\"}], \"scatterternary\": [{\"marker\": {\"colorbar\": {\"outlinewidth\": 0, \"ticks\": \"\"}}, \"type\": \"scatterternary\"}], \"surface\": [{\"colorbar\": {\"outlinewidth\": 0, \"ticks\": \"\"}, \"colorscale\": [[0.0, \"#0d0887\"], [0.1111111111111111, \"#46039f\"], [0.2222222222222222, \"#7201a8\"], [0.3333333333333333, \"#9c179e\"], [0.4444444444444444, \"#bd3786\"], [0.5555555555555556, \"#d8576b\"], [0.6666666666666666, \"#ed7953\"], [0.7777777777777778, \"#fb9f3a\"], [0.8888888888888888, \"#fdca26\"], [1.0, \"#f0f921\"]], \"type\": \"surface\"}], \"table\": [{\"cells\": {\"fill\": {\"color\": \"#EBF0F8\"}, \"line\": {\"color\": \"white\"}}, \"header\": {\"fill\": {\"color\": \"#C8D4E3\"}, \"line\": {\"color\": \"white\"}}, \"type\": \"table\"}]}, \"layout\": {\"annotationdefaults\": {\"arrowcolor\": \"#2a3f5f\", \"arrowhead\": 0, \"arrowwidth\": 1}, \"coloraxis\": {\"colorbar\": {\"outlinewidth\": 0, \"ticks\": \"\"}}, \"colorscale\": {\"diverging\": [[0, \"#8e0152\"], [0.1, \"#c51b7d\"], [0.2, \"#de77ae\"], [0.3, \"#f1b6da\"], [0.4, \"#fde0ef\"], [0.5, \"#f7f7f7\"], [0.6, \"#e6f5d0\"], [0.7, \"#b8e186\"], [0.8, \"#7fbc41\"], [0.9, \"#4d9221\"], [1, \"#276419\"]], \"sequential\": [[0.0, \"#0d0887\"], [0.1111111111111111, \"#46039f\"], [0.2222222222222222, \"#7201a8\"], [0.3333333333333333, \"#9c179e\"], [0.4444444444444444, \"#bd3786\"], [0.5555555555555556, \"#d8576b\"], [0.6666666666666666, \"#ed7953\"], [0.7777777777777778, \"#fb9f3a\"], [0.8888888888888888, \"#fdca26\"], [1.0, \"#f0f921\"]], \"sequentialminus\": [[0.0, \"#0d0887\"], [0.1111111111111111, \"#46039f\"], [0.2222222222222222, \"#7201a8\"], [0.3333333333333333, \"#9c179e\"], [0.4444444444444444, \"#bd3786\"], [0.5555555555555556, \"#d8576b\"], [0.6666666666666666, \"#ed7953\"], [0.7777777777777778, \"#fb9f3a\"], [0.8888888888888888, \"#fdca26\"], [1.0, \"#f0f921\"]]}, \"colorway\": [\"#636efa\", \"#EF553B\", \"#00cc96\", \"#ab63fa\", \"#FFA15A\", \"#19d3f3\", \"#FF6692\", \"#B6E880\", \"#FF97FF\", \"#FECB52\"], \"font\": {\"color\": \"#2a3f5f\"}, \"geo\": {\"bgcolor\": \"white\", \"lakecolor\": \"white\", \"landcolor\": \"#E5ECF6\", \"showlakes\": true, \"showland\": true, \"subunitcolor\": \"white\"}, \"hoverlabel\": {\"align\": \"left\"}, \"hovermode\": \"closest\", \"mapbox\": {\"style\": \"light\"}, \"paper_bgcolor\": \"white\", \"plot_bgcolor\": \"#E5ECF6\", \"polar\": {\"angularaxis\": {\"gridcolor\": \"white\", \"linecolor\": \"white\", \"ticks\": \"\"}, \"bgcolor\": \"#E5ECF6\", \"radialaxis\": {\"gridcolor\": \"white\", \"linecolor\": \"white\", \"ticks\": \"\"}}, \"scene\": {\"xaxis\": {\"backgroundcolor\": \"#E5ECF6\", \"gridcolor\": \"white\", \"gridwidth\": 2, \"linecolor\": \"white\", \"showbackground\": true, \"ticks\": \"\", \"zerolinecolor\": \"white\"}, \"yaxis\": {\"backgroundcolor\": \"#E5ECF6\", \"gridcolor\": \"white\", \"gridwidth\": 2, \"linecolor\": \"white\", \"showbackground\": true, \"ticks\": \"\", \"zerolinecolor\": \"white\"}, \"zaxis\": {\"backgroundcolor\": \"#E5ECF6\", \"gridcolor\": \"white\", \"gridwidth\": 2, \"linecolor\": \"white\", \"showbackground\": true, \"ticks\": \"\", \"zerolinecolor\": \"white\"}}, \"shapedefaults\": {\"line\": {\"color\": \"#2a3f5f\"}}, \"ternary\": {\"aaxis\": {\"gridcolor\": \"white\", \"linecolor\": \"white\", \"ticks\": \"\"}, \"baxis\": {\"gridcolor\": \"white\", \"linecolor\": \"white\", \"ticks\": \"\"}, \"bgcolor\": \"#E5ECF6\", \"caxis\": {\"gridcolor\": \"white\", \"linecolor\": \"white\", \"ticks\": \"\"}}, \"title\": {\"x\": 0.05}, \"xaxis\": {\"automargin\": true, \"gridcolor\": \"white\", \"linecolor\": \"white\", \"ticks\": \"\", \"title\": {\"standoff\": 15}, \"zerolinecolor\": \"white\", \"zerolinewidth\": 2}, \"yaxis\": {\"automargin\": true, \"gridcolor\": \"white\", \"linecolor\": \"white\", \"ticks\": \"\", \"title\": {\"standoff\": 15}, \"zerolinecolor\": \"white\", \"zerolinewidth\": 2}}}, \"title\": {\"text\": \"AdaBoost feature importances\"}, \"xaxis\": {\"type\": \"category\"}, \"yaxis\": {\"gridwidth\": 2, \"ticklen\": 5, \"title\": {\"text\": \"Feature Importance\"}}},\n",
       "                        {\"responsive\": true}\n",
       "                    ).then(function(){\n",
       "                            \n",
       "var gd = document.getElementById('2fc8deac-020b-4fb9-8a4e-178b3fc48466');\n",
       "var x = new MutationObserver(function (mutations, observer) {{\n",
       "        var display = window.getComputedStyle(gd).display;\n",
       "        if (!display || display === 'none') {{\n",
       "            console.log([gd, 'removed!']);\n",
       "            Plotly.purge(gd);\n",
       "            observer.disconnect();\n",
       "        }}\n",
       "}});\n",
       "\n",
       "// Listen for the removal of the full notebook cells\n",
       "var notebookContainer = gd.closest('#notebook-container');\n",
       "if (notebookContainer) {{\n",
       "    x.observe(notebookContainer, {childList: true});\n",
       "}}\n",
       "\n",
       "// Listen for the clearing of the current output cell\n",
       "var outputEl = gd.closest('.output');\n",
       "if (outputEl) {{\n",
       "    x.observe(outputEl, {childList: true});\n",
       "}}\n",
       "\n",
       "                        })\n",
       "                };\n",
       "                });\n",
       "            </script>\n",
       "        </div>"
      ]
     },
     "metadata": {},
     "output_type": "display_data"
    },
    {
     "data": {
      "application/vnd.plotly.v1+json": {
       "config": {
        "linkText": "Export to plot.ly",
        "plotlyServerURL": "https://plot.ly",
        "showLink": false
       },
       "data": [
        {
         "marker": {
          "color": [
           0.03546181053591829,
           0.11443916384125571,
           0.28300362251746103,
           0.12419160307044996,
           0.03116569467614195,
           0.0810384790848076,
           0.04455713635885707,
           0.1726332683106538,
           8.749202177144727e-05,
           0,
           0.007326544419462925,
           0.0007037223772672118,
           0.007358167657100748,
           0,
           0,
           0,
           0.0016272825732652628,
           0.006111547540455977,
           7.128545524462237e-05,
           0,
           0.0008830262594388763,
           0.005886334745068599,
           0.0013066500657582182,
           0,
           0.003290377604936373,
           0,
           0,
           0.004952424432268506,
           0,
           0,
           0.00012672900605539242,
           0,
           0.001166094771270321,
           0.0024419459460086933,
           0.0041688776960158375,
           0.005464120978113263,
           0.0007525571665680518,
           0.0006650039123338694,
           0,
           0.04215588791553639,
           0.016963149060514018
          ],
          "colorscale": [
           [
            0,
            "rgb(12,51,131)"
           ],
           [
            0.25,
            "rgb(10,136,186)"
           ],
           [
            0.5,
            "rgb(242,211,56)"
           ],
           [
            0.75,
            "rgb(242,143,56)"
           ],
           [
            1,
            "rgb(217,30,30)"
           ]
          ],
          "showscale": true,
          "size": 25,
          "sizemode": "diameter",
          "sizeref": 1
         },
         "mode": "markers",
         "text": [
          "words",
          "time",
          "count",
          "wpm",
          "signal0",
          "diff0",
          "signal1",
          "diff1",
          "0",
          "1",
          "2",
          "3",
          "4",
          "CC",
          "CD",
          "DT",
          "IN",
          "JJ",
          "JJR",
          "JJS",
          "MD",
          "NN",
          "NNP",
          "NNPS",
          "NNS",
          "PDT",
          "PRP$",
          "RB",
          "RBR",
          "RBS",
          "RP",
          "UH",
          "VB",
          "VBD",
          "VBG",
          "VBN",
          "VBP",
          "VBZ",
          "WRB",
          "len",
          "syl"
         ],
         "type": "scatter",
         "x": [
          "words",
          "time",
          "count",
          "wpm",
          "signal0",
          "diff0",
          "signal1",
          "diff1",
          "0",
          "1",
          "2",
          "3",
          "4",
          "CC",
          "CD",
          "DT",
          "IN",
          "JJ",
          "JJR",
          "JJS",
          "MD",
          "NN",
          "NNP",
          "NNPS",
          "NNS",
          "PDT",
          "PRP$",
          "RB",
          "RBR",
          "RBS",
          "RP",
          "UH",
          "VB",
          "VBD",
          "VBG",
          "VBN",
          "VBP",
          "VBZ",
          "WRB",
          "len",
          "syl"
         ],
         "y": [
          0.03546181053591829,
          0.11443916384125571,
          0.28300362251746103,
          0.12419160307044996,
          0.03116569467614195,
          0.0810384790848076,
          0.04455713635885707,
          0.1726332683106538,
          8.749202177144727e-05,
          0,
          0.007326544419462925,
          0.0007037223772672118,
          0.007358167657100748,
          0,
          0,
          0,
          0.0016272825732652628,
          0.006111547540455977,
          7.128545524462237e-05,
          0,
          0.0008830262594388763,
          0.005886334745068599,
          0.0013066500657582182,
          0,
          0.003290377604936373,
          0,
          0,
          0.004952424432268506,
          0,
          0,
          0.00012672900605539242,
          0,
          0.001166094771270321,
          0.0024419459460086933,
          0.0041688776960158375,
          0.005464120978113263,
          0.0007525571665680518,
          0.0006650039123338694,
          0,
          0.04215588791553639,
          0.016963149060514018
         ]
        }
       ],
       "layout": {
        "autosize": true,
        "hovermode": "closest",
        "showlegend": false,
        "template": {
         "data": {
          "bar": [
           {
            "error_x": {
             "color": "#2a3f5f"
            },
            "error_y": {
             "color": "#2a3f5f"
            },
            "marker": {
             "line": {
              "color": "#E5ECF6",
              "width": 0.5
             }
            },
            "type": "bar"
           }
          ],
          "barpolar": [
           {
            "marker": {
             "line": {
              "color": "#E5ECF6",
              "width": 0.5
             }
            },
            "type": "barpolar"
           }
          ],
          "carpet": [
           {
            "aaxis": {
             "endlinecolor": "#2a3f5f",
             "gridcolor": "white",
             "linecolor": "white",
             "minorgridcolor": "white",
             "startlinecolor": "#2a3f5f"
            },
            "baxis": {
             "endlinecolor": "#2a3f5f",
             "gridcolor": "white",
             "linecolor": "white",
             "minorgridcolor": "white",
             "startlinecolor": "#2a3f5f"
            },
            "type": "carpet"
           }
          ],
          "choropleth": [
           {
            "colorbar": {
             "outlinewidth": 0,
             "ticks": ""
            },
            "type": "choropleth"
           }
          ],
          "contour": [
           {
            "colorbar": {
             "outlinewidth": 0,
             "ticks": ""
            },
            "colorscale": [
             [
              0,
              "#0d0887"
             ],
             [
              0.1111111111111111,
              "#46039f"
             ],
             [
              0.2222222222222222,
              "#7201a8"
             ],
             [
              0.3333333333333333,
              "#9c179e"
             ],
             [
              0.4444444444444444,
              "#bd3786"
             ],
             [
              0.5555555555555556,
              "#d8576b"
             ],
             [
              0.6666666666666666,
              "#ed7953"
             ],
             [
              0.7777777777777778,
              "#fb9f3a"
             ],
             [
              0.8888888888888888,
              "#fdca26"
             ],
             [
              1,
              "#f0f921"
             ]
            ],
            "type": "contour"
           }
          ],
          "contourcarpet": [
           {
            "colorbar": {
             "outlinewidth": 0,
             "ticks": ""
            },
            "type": "contourcarpet"
           }
          ],
          "heatmap": [
           {
            "colorbar": {
             "outlinewidth": 0,
             "ticks": ""
            },
            "colorscale": [
             [
              0,
              "#0d0887"
             ],
             [
              0.1111111111111111,
              "#46039f"
             ],
             [
              0.2222222222222222,
              "#7201a8"
             ],
             [
              0.3333333333333333,
              "#9c179e"
             ],
             [
              0.4444444444444444,
              "#bd3786"
             ],
             [
              0.5555555555555556,
              "#d8576b"
             ],
             [
              0.6666666666666666,
              "#ed7953"
             ],
             [
              0.7777777777777778,
              "#fb9f3a"
             ],
             [
              0.8888888888888888,
              "#fdca26"
             ],
             [
              1,
              "#f0f921"
             ]
            ],
            "type": "heatmap"
           }
          ],
          "heatmapgl": [
           {
            "colorbar": {
             "outlinewidth": 0,
             "ticks": ""
            },
            "colorscale": [
             [
              0,
              "#0d0887"
             ],
             [
              0.1111111111111111,
              "#46039f"
             ],
             [
              0.2222222222222222,
              "#7201a8"
             ],
             [
              0.3333333333333333,
              "#9c179e"
             ],
             [
              0.4444444444444444,
              "#bd3786"
             ],
             [
              0.5555555555555556,
              "#d8576b"
             ],
             [
              0.6666666666666666,
              "#ed7953"
             ],
             [
              0.7777777777777778,
              "#fb9f3a"
             ],
             [
              0.8888888888888888,
              "#fdca26"
             ],
             [
              1,
              "#f0f921"
             ]
            ],
            "type": "heatmapgl"
           }
          ],
          "histogram": [
           {
            "marker": {
             "colorbar": {
              "outlinewidth": 0,
              "ticks": ""
             }
            },
            "type": "histogram"
           }
          ],
          "histogram2d": [
           {
            "colorbar": {
             "outlinewidth": 0,
             "ticks": ""
            },
            "colorscale": [
             [
              0,
              "#0d0887"
             ],
             [
              0.1111111111111111,
              "#46039f"
             ],
             [
              0.2222222222222222,
              "#7201a8"
             ],
             [
              0.3333333333333333,
              "#9c179e"
             ],
             [
              0.4444444444444444,
              "#bd3786"
             ],
             [
              0.5555555555555556,
              "#d8576b"
             ],
             [
              0.6666666666666666,
              "#ed7953"
             ],
             [
              0.7777777777777778,
              "#fb9f3a"
             ],
             [
              0.8888888888888888,
              "#fdca26"
             ],
             [
              1,
              "#f0f921"
             ]
            ],
            "type": "histogram2d"
           }
          ],
          "histogram2dcontour": [
           {
            "colorbar": {
             "outlinewidth": 0,
             "ticks": ""
            },
            "colorscale": [
             [
              0,
              "#0d0887"
             ],
             [
              0.1111111111111111,
              "#46039f"
             ],
             [
              0.2222222222222222,
              "#7201a8"
             ],
             [
              0.3333333333333333,
              "#9c179e"
             ],
             [
              0.4444444444444444,
              "#bd3786"
             ],
             [
              0.5555555555555556,
              "#d8576b"
             ],
             [
              0.6666666666666666,
              "#ed7953"
             ],
             [
              0.7777777777777778,
              "#fb9f3a"
             ],
             [
              0.8888888888888888,
              "#fdca26"
             ],
             [
              1,
              "#f0f921"
             ]
            ],
            "type": "histogram2dcontour"
           }
          ],
          "mesh3d": [
           {
            "colorbar": {
             "outlinewidth": 0,
             "ticks": ""
            },
            "type": "mesh3d"
           }
          ],
          "parcoords": [
           {
            "line": {
             "colorbar": {
              "outlinewidth": 0,
              "ticks": ""
             }
            },
            "type": "parcoords"
           }
          ],
          "pie": [
           {
            "automargin": true,
            "type": "pie"
           }
          ],
          "scatter": [
           {
            "marker": {
             "colorbar": {
              "outlinewidth": 0,
              "ticks": ""
             }
            },
            "type": "scatter"
           }
          ],
          "scatter3d": [
           {
            "line": {
             "colorbar": {
              "outlinewidth": 0,
              "ticks": ""
             }
            },
            "marker": {
             "colorbar": {
              "outlinewidth": 0,
              "ticks": ""
             }
            },
            "type": "scatter3d"
           }
          ],
          "scattercarpet": [
           {
            "marker": {
             "colorbar": {
              "outlinewidth": 0,
              "ticks": ""
             }
            },
            "type": "scattercarpet"
           }
          ],
          "scattergeo": [
           {
            "marker": {
             "colorbar": {
              "outlinewidth": 0,
              "ticks": ""
             }
            },
            "type": "scattergeo"
           }
          ],
          "scattergl": [
           {
            "marker": {
             "colorbar": {
              "outlinewidth": 0,
              "ticks": ""
             }
            },
            "type": "scattergl"
           }
          ],
          "scattermapbox": [
           {
            "marker": {
             "colorbar": {
              "outlinewidth": 0,
              "ticks": ""
             }
            },
            "type": "scattermapbox"
           }
          ],
          "scatterpolar": [
           {
            "marker": {
             "colorbar": {
              "outlinewidth": 0,
              "ticks": ""
             }
            },
            "type": "scatterpolar"
           }
          ],
          "scatterpolargl": [
           {
            "marker": {
             "colorbar": {
              "outlinewidth": 0,
              "ticks": ""
             }
            },
            "type": "scatterpolargl"
           }
          ],
          "scatterternary": [
           {
            "marker": {
             "colorbar": {
              "outlinewidth": 0,
              "ticks": ""
             }
            },
            "type": "scatterternary"
           }
          ],
          "surface": [
           {
            "colorbar": {
             "outlinewidth": 0,
             "ticks": ""
            },
            "colorscale": [
             [
              0,
              "#0d0887"
             ],
             [
              0.1111111111111111,
              "#46039f"
             ],
             [
              0.2222222222222222,
              "#7201a8"
             ],
             [
              0.3333333333333333,
              "#9c179e"
             ],
             [
              0.4444444444444444,
              "#bd3786"
             ],
             [
              0.5555555555555556,
              "#d8576b"
             ],
             [
              0.6666666666666666,
              "#ed7953"
             ],
             [
              0.7777777777777778,
              "#fb9f3a"
             ],
             [
              0.8888888888888888,
              "#fdca26"
             ],
             [
              1,
              "#f0f921"
             ]
            ],
            "type": "surface"
           }
          ],
          "table": [
           {
            "cells": {
             "fill": {
              "color": "#EBF0F8"
             },
             "line": {
              "color": "white"
             }
            },
            "header": {
             "fill": {
              "color": "#C8D4E3"
             },
             "line": {
              "color": "white"
             }
            },
            "type": "table"
           }
          ]
         },
         "layout": {
          "annotationdefaults": {
           "arrowcolor": "#2a3f5f",
           "arrowhead": 0,
           "arrowwidth": 1
          },
          "coloraxis": {
           "colorbar": {
            "outlinewidth": 0,
            "ticks": ""
           }
          },
          "colorscale": {
           "diverging": [
            [
             0,
             "#8e0152"
            ],
            [
             0.1,
             "#c51b7d"
            ],
            [
             0.2,
             "#de77ae"
            ],
            [
             0.3,
             "#f1b6da"
            ],
            [
             0.4,
             "#fde0ef"
            ],
            [
             0.5,
             "#f7f7f7"
            ],
            [
             0.6,
             "#e6f5d0"
            ],
            [
             0.7,
             "#b8e186"
            ],
            [
             0.8,
             "#7fbc41"
            ],
            [
             0.9,
             "#4d9221"
            ],
            [
             1,
             "#276419"
            ]
           ],
           "sequential": [
            [
             0,
             "#0d0887"
            ],
            [
             0.1111111111111111,
             "#46039f"
            ],
            [
             0.2222222222222222,
             "#7201a8"
            ],
            [
             0.3333333333333333,
             "#9c179e"
            ],
            [
             0.4444444444444444,
             "#bd3786"
            ],
            [
             0.5555555555555556,
             "#d8576b"
            ],
            [
             0.6666666666666666,
             "#ed7953"
            ],
            [
             0.7777777777777778,
             "#fb9f3a"
            ],
            [
             0.8888888888888888,
             "#fdca26"
            ],
            [
             1,
             "#f0f921"
            ]
           ],
           "sequentialminus": [
            [
             0,
             "#0d0887"
            ],
            [
             0.1111111111111111,
             "#46039f"
            ],
            [
             0.2222222222222222,
             "#7201a8"
            ],
            [
             0.3333333333333333,
             "#9c179e"
            ],
            [
             0.4444444444444444,
             "#bd3786"
            ],
            [
             0.5555555555555556,
             "#d8576b"
            ],
            [
             0.6666666666666666,
             "#ed7953"
            ],
            [
             0.7777777777777778,
             "#fb9f3a"
            ],
            [
             0.8888888888888888,
             "#fdca26"
            ],
            [
             1,
             "#f0f921"
            ]
           ]
          },
          "colorway": [
           "#636efa",
           "#EF553B",
           "#00cc96",
           "#ab63fa",
           "#FFA15A",
           "#19d3f3",
           "#FF6692",
           "#B6E880",
           "#FF97FF",
           "#FECB52"
          ],
          "font": {
           "color": "#2a3f5f"
          },
          "geo": {
           "bgcolor": "white",
           "lakecolor": "white",
           "landcolor": "#E5ECF6",
           "showlakes": true,
           "showland": true,
           "subunitcolor": "white"
          },
          "hoverlabel": {
           "align": "left"
          },
          "hovermode": "closest",
          "mapbox": {
           "style": "light"
          },
          "paper_bgcolor": "white",
          "plot_bgcolor": "#E5ECF6",
          "polar": {
           "angularaxis": {
            "gridcolor": "white",
            "linecolor": "white",
            "ticks": ""
           },
           "bgcolor": "#E5ECF6",
           "radialaxis": {
            "gridcolor": "white",
            "linecolor": "white",
            "ticks": ""
           }
          },
          "scene": {
           "xaxis": {
            "backgroundcolor": "#E5ECF6",
            "gridcolor": "white",
            "gridwidth": 2,
            "linecolor": "white",
            "showbackground": true,
            "ticks": "",
            "zerolinecolor": "white"
           },
           "yaxis": {
            "backgroundcolor": "#E5ECF6",
            "gridcolor": "white",
            "gridwidth": 2,
            "linecolor": "white",
            "showbackground": true,
            "ticks": "",
            "zerolinecolor": "white"
           },
           "zaxis": {
            "backgroundcolor": "#E5ECF6",
            "gridcolor": "white",
            "gridwidth": 2,
            "linecolor": "white",
            "showbackground": true,
            "ticks": "",
            "zerolinecolor": "white"
           }
          },
          "shapedefaults": {
           "line": {
            "color": "#2a3f5f"
           }
          },
          "ternary": {
           "aaxis": {
            "gridcolor": "white",
            "linecolor": "white",
            "ticks": ""
           },
           "baxis": {
            "gridcolor": "white",
            "linecolor": "white",
            "ticks": ""
           },
           "bgcolor": "#E5ECF6",
           "caxis": {
            "gridcolor": "white",
            "linecolor": "white",
            "ticks": ""
           }
          },
          "title": {
           "x": 0.05
          },
          "xaxis": {
           "automargin": true,
           "gridcolor": "white",
           "linecolor": "white",
           "ticks": "",
           "title": {
            "standoff": 15
           },
           "zerolinecolor": "white",
           "zerolinewidth": 2
          },
          "yaxis": {
           "automargin": true,
           "gridcolor": "white",
           "linecolor": "white",
           "ticks": "",
           "title": {
            "standoff": 15
           },
           "zerolinecolor": "white",
           "zerolinewidth": 2
          }
         }
        },
        "title": {
         "text": "Gradient Boost feature importances"
        },
        "xaxis": {
         "type": "category"
        },
        "yaxis": {
         "gridwidth": 2,
         "ticklen": 5,
         "title": {
          "text": "Feature Importance"
         }
        }
       }
      },
      "text/html": [
       "<div>\n",
       "        \n",
       "        \n",
       "            <div id=\"a8466993-de68-4284-b8da-20d67e94fcf0\" class=\"plotly-graph-div\" style=\"height:525px; width:100%;\"></div>\n",
       "            <script type=\"text/javascript\">\n",
       "                require([\"plotly\"], function(Plotly) {\n",
       "                    window.PLOTLYENV=window.PLOTLYENV || {};\n",
       "                    \n",
       "                if (document.getElementById(\"a8466993-de68-4284-b8da-20d67e94fcf0\")) {\n",
       "                    Plotly.newPlot(\n",
       "                        'a8466993-de68-4284-b8da-20d67e94fcf0',\n",
       "                        [{\"marker\": {\"color\": [0.03546181053591829, 0.11443916384125571, 0.28300362251746103, 0.12419160307044996, 0.03116569467614195, 0.0810384790848076, 0.04455713635885707, 0.1726332683106538, 8.749202177144727e-05, 0.0, 0.007326544419462925, 0.0007037223772672118, 0.007358167657100748, 0.0, 0.0, 0.0, 0.0016272825732652628, 0.006111547540455977, 7.128545524462237e-05, 0.0, 0.0008830262594388763, 0.005886334745068599, 0.0013066500657582182, 0.0, 0.003290377604936373, 0.0, 0.0, 0.004952424432268506, 0.0, 0.0, 0.00012672900605539242, 0.0, 0.001166094771270321, 0.0024419459460086933, 0.0041688776960158375, 0.005464120978113263, 0.0007525571665680518, 0.0006650039123338694, 0.0, 0.04215588791553639, 0.016963149060514018], \"colorscale\": [[0.0, \"rgb(12,51,131)\"], [0.25, \"rgb(10,136,186)\"], [0.5, \"rgb(242,211,56)\"], [0.75, \"rgb(242,143,56)\"], [1.0, \"rgb(217,30,30)\"]], \"showscale\": true, \"size\": 25, \"sizemode\": \"diameter\", \"sizeref\": 1}, \"mode\": \"markers\", \"text\": [\"words\", \"time\", \"count\", \"wpm\", \"signal0\", \"diff0\", \"signal1\", \"diff1\", \"0\", \"1\", \"2\", \"3\", \"4\", \"CC\", \"CD\", \"DT\", \"IN\", \"JJ\", \"JJR\", \"JJS\", \"MD\", \"NN\", \"NNP\", \"NNPS\", \"NNS\", \"PDT\", \"PRP$\", \"RB\", \"RBR\", \"RBS\", \"RP\", \"UH\", \"VB\", \"VBD\", \"VBG\", \"VBN\", \"VBP\", \"VBZ\", \"WRB\", \"len\", \"syl\"], \"type\": \"scatter\", \"x\": [\"words\", \"time\", \"count\", \"wpm\", \"signal0\", \"diff0\", \"signal1\", \"diff1\", \"0\", \"1\", \"2\", \"3\", \"4\", \"CC\", \"CD\", \"DT\", \"IN\", \"JJ\", \"JJR\", \"JJS\", \"MD\", \"NN\", \"NNP\", \"NNPS\", \"NNS\", \"PDT\", \"PRP$\", \"RB\", \"RBR\", \"RBS\", \"RP\", \"UH\", \"VB\", \"VBD\", \"VBG\", \"VBN\", \"VBP\", \"VBZ\", \"WRB\", \"len\", \"syl\"], \"y\": [0.03546181053591829, 0.11443916384125571, 0.28300362251746103, 0.12419160307044996, 0.03116569467614195, 0.0810384790848076, 0.04455713635885707, 0.1726332683106538, 8.749202177144727e-05, 0.0, 0.007326544419462925, 0.0007037223772672118, 0.007358167657100748, 0.0, 0.0, 0.0, 0.0016272825732652628, 0.006111547540455977, 7.128545524462237e-05, 0.0, 0.0008830262594388763, 0.005886334745068599, 0.0013066500657582182, 0.0, 0.003290377604936373, 0.0, 0.0, 0.004952424432268506, 0.0, 0.0, 0.00012672900605539242, 0.0, 0.001166094771270321, 0.0024419459460086933, 0.0041688776960158375, 0.005464120978113263, 0.0007525571665680518, 0.0006650039123338694, 0.0, 0.04215588791553639, 0.016963149060514018]}],\n",
       "                        {\"autosize\": true, \"hovermode\": \"closest\", \"showlegend\": false, \"template\": {\"data\": {\"bar\": [{\"error_x\": {\"color\": \"#2a3f5f\"}, \"error_y\": {\"color\": \"#2a3f5f\"}, \"marker\": {\"line\": {\"color\": \"#E5ECF6\", \"width\": 0.5}}, \"type\": \"bar\"}], \"barpolar\": [{\"marker\": {\"line\": {\"color\": \"#E5ECF6\", \"width\": 0.5}}, \"type\": \"barpolar\"}], \"carpet\": [{\"aaxis\": {\"endlinecolor\": \"#2a3f5f\", \"gridcolor\": \"white\", \"linecolor\": \"white\", \"minorgridcolor\": \"white\", \"startlinecolor\": \"#2a3f5f\"}, \"baxis\": {\"endlinecolor\": \"#2a3f5f\", \"gridcolor\": \"white\", \"linecolor\": \"white\", \"minorgridcolor\": \"white\", \"startlinecolor\": \"#2a3f5f\"}, \"type\": \"carpet\"}], \"choropleth\": [{\"colorbar\": {\"outlinewidth\": 0, \"ticks\": \"\"}, \"type\": \"choropleth\"}], \"contour\": [{\"colorbar\": {\"outlinewidth\": 0, \"ticks\": \"\"}, \"colorscale\": [[0.0, \"#0d0887\"], [0.1111111111111111, \"#46039f\"], [0.2222222222222222, \"#7201a8\"], [0.3333333333333333, \"#9c179e\"], [0.4444444444444444, \"#bd3786\"], [0.5555555555555556, \"#d8576b\"], [0.6666666666666666, \"#ed7953\"], [0.7777777777777778, \"#fb9f3a\"], [0.8888888888888888, \"#fdca26\"], [1.0, \"#f0f921\"]], \"type\": \"contour\"}], \"contourcarpet\": [{\"colorbar\": {\"outlinewidth\": 0, \"ticks\": \"\"}, \"type\": \"contourcarpet\"}], \"heatmap\": [{\"colorbar\": {\"outlinewidth\": 0, \"ticks\": \"\"}, \"colorscale\": [[0.0, \"#0d0887\"], [0.1111111111111111, \"#46039f\"], [0.2222222222222222, \"#7201a8\"], [0.3333333333333333, \"#9c179e\"], [0.4444444444444444, \"#bd3786\"], [0.5555555555555556, \"#d8576b\"], [0.6666666666666666, \"#ed7953\"], [0.7777777777777778, \"#fb9f3a\"], [0.8888888888888888, \"#fdca26\"], [1.0, \"#f0f921\"]], \"type\": \"heatmap\"}], \"heatmapgl\": [{\"colorbar\": {\"outlinewidth\": 0, \"ticks\": \"\"}, \"colorscale\": [[0.0, \"#0d0887\"], [0.1111111111111111, \"#46039f\"], [0.2222222222222222, \"#7201a8\"], [0.3333333333333333, \"#9c179e\"], [0.4444444444444444, \"#bd3786\"], [0.5555555555555556, \"#d8576b\"], [0.6666666666666666, \"#ed7953\"], [0.7777777777777778, \"#fb9f3a\"], [0.8888888888888888, \"#fdca26\"], [1.0, \"#f0f921\"]], \"type\": \"heatmapgl\"}], \"histogram\": [{\"marker\": {\"colorbar\": {\"outlinewidth\": 0, \"ticks\": \"\"}}, \"type\": \"histogram\"}], \"histogram2d\": [{\"colorbar\": {\"outlinewidth\": 0, \"ticks\": \"\"}, \"colorscale\": [[0.0, \"#0d0887\"], [0.1111111111111111, \"#46039f\"], [0.2222222222222222, \"#7201a8\"], [0.3333333333333333, \"#9c179e\"], [0.4444444444444444, \"#bd3786\"], [0.5555555555555556, \"#d8576b\"], [0.6666666666666666, \"#ed7953\"], [0.7777777777777778, \"#fb9f3a\"], [0.8888888888888888, \"#fdca26\"], [1.0, \"#f0f921\"]], \"type\": \"histogram2d\"}], \"histogram2dcontour\": [{\"colorbar\": {\"outlinewidth\": 0, \"ticks\": \"\"}, \"colorscale\": [[0.0, \"#0d0887\"], [0.1111111111111111, \"#46039f\"], [0.2222222222222222, \"#7201a8\"], [0.3333333333333333, \"#9c179e\"], [0.4444444444444444, \"#bd3786\"], [0.5555555555555556, \"#d8576b\"], [0.6666666666666666, \"#ed7953\"], [0.7777777777777778, \"#fb9f3a\"], [0.8888888888888888, \"#fdca26\"], [1.0, \"#f0f921\"]], \"type\": \"histogram2dcontour\"}], \"mesh3d\": [{\"colorbar\": {\"outlinewidth\": 0, \"ticks\": \"\"}, \"type\": \"mesh3d\"}], \"parcoords\": [{\"line\": {\"colorbar\": {\"outlinewidth\": 0, \"ticks\": \"\"}}, \"type\": \"parcoords\"}], \"pie\": [{\"automargin\": true, \"type\": \"pie\"}], \"scatter\": [{\"marker\": {\"colorbar\": {\"outlinewidth\": 0, \"ticks\": \"\"}}, \"type\": \"scatter\"}], \"scatter3d\": [{\"line\": {\"colorbar\": {\"outlinewidth\": 0, \"ticks\": \"\"}}, \"marker\": {\"colorbar\": {\"outlinewidth\": 0, \"ticks\": \"\"}}, \"type\": \"scatter3d\"}], \"scattercarpet\": [{\"marker\": {\"colorbar\": {\"outlinewidth\": 0, \"ticks\": \"\"}}, \"type\": \"scattercarpet\"}], \"scattergeo\": [{\"marker\": {\"colorbar\": {\"outlinewidth\": 0, \"ticks\": \"\"}}, \"type\": \"scattergeo\"}], \"scattergl\": [{\"marker\": {\"colorbar\": {\"outlinewidth\": 0, \"ticks\": \"\"}}, \"type\": \"scattergl\"}], \"scattermapbox\": [{\"marker\": {\"colorbar\": {\"outlinewidth\": 0, \"ticks\": \"\"}}, \"type\": \"scattermapbox\"}], \"scatterpolar\": [{\"marker\": {\"colorbar\": {\"outlinewidth\": 0, \"ticks\": \"\"}}, \"type\": \"scatterpolar\"}], \"scatterpolargl\": [{\"marker\": {\"colorbar\": {\"outlinewidth\": 0, \"ticks\": \"\"}}, \"type\": \"scatterpolargl\"}], \"scatterternary\": [{\"marker\": {\"colorbar\": {\"outlinewidth\": 0, \"ticks\": \"\"}}, \"type\": \"scatterternary\"}], \"surface\": [{\"colorbar\": {\"outlinewidth\": 0, \"ticks\": \"\"}, \"colorscale\": [[0.0, \"#0d0887\"], [0.1111111111111111, \"#46039f\"], [0.2222222222222222, \"#7201a8\"], [0.3333333333333333, \"#9c179e\"], [0.4444444444444444, \"#bd3786\"], [0.5555555555555556, \"#d8576b\"], [0.6666666666666666, \"#ed7953\"], [0.7777777777777778, \"#fb9f3a\"], [0.8888888888888888, \"#fdca26\"], [1.0, \"#f0f921\"]], \"type\": \"surface\"}], \"table\": [{\"cells\": {\"fill\": {\"color\": \"#EBF0F8\"}, \"line\": {\"color\": \"white\"}}, \"header\": {\"fill\": {\"color\": \"#C8D4E3\"}, \"line\": {\"color\": \"white\"}}, \"type\": \"table\"}]}, \"layout\": {\"annotationdefaults\": {\"arrowcolor\": \"#2a3f5f\", \"arrowhead\": 0, \"arrowwidth\": 1}, \"coloraxis\": {\"colorbar\": {\"outlinewidth\": 0, \"ticks\": \"\"}}, \"colorscale\": {\"diverging\": [[0, \"#8e0152\"], [0.1, \"#c51b7d\"], [0.2, \"#de77ae\"], [0.3, \"#f1b6da\"], [0.4, \"#fde0ef\"], [0.5, \"#f7f7f7\"], [0.6, \"#e6f5d0\"], [0.7, \"#b8e186\"], [0.8, \"#7fbc41\"], [0.9, \"#4d9221\"], [1, \"#276419\"]], \"sequential\": [[0.0, \"#0d0887\"], [0.1111111111111111, \"#46039f\"], [0.2222222222222222, \"#7201a8\"], [0.3333333333333333, \"#9c179e\"], [0.4444444444444444, \"#bd3786\"], [0.5555555555555556, \"#d8576b\"], [0.6666666666666666, \"#ed7953\"], [0.7777777777777778, \"#fb9f3a\"], [0.8888888888888888, \"#fdca26\"], [1.0, \"#f0f921\"]], \"sequentialminus\": [[0.0, \"#0d0887\"], [0.1111111111111111, \"#46039f\"], [0.2222222222222222, \"#7201a8\"], [0.3333333333333333, \"#9c179e\"], [0.4444444444444444, \"#bd3786\"], [0.5555555555555556, \"#d8576b\"], [0.6666666666666666, \"#ed7953\"], [0.7777777777777778, \"#fb9f3a\"], [0.8888888888888888, \"#fdca26\"], [1.0, \"#f0f921\"]]}, \"colorway\": [\"#636efa\", \"#EF553B\", \"#00cc96\", \"#ab63fa\", \"#FFA15A\", \"#19d3f3\", \"#FF6692\", \"#B6E880\", \"#FF97FF\", \"#FECB52\"], \"font\": {\"color\": \"#2a3f5f\"}, \"geo\": {\"bgcolor\": \"white\", \"lakecolor\": \"white\", \"landcolor\": \"#E5ECF6\", \"showlakes\": true, \"showland\": true, \"subunitcolor\": \"white\"}, \"hoverlabel\": {\"align\": \"left\"}, \"hovermode\": \"closest\", \"mapbox\": {\"style\": \"light\"}, \"paper_bgcolor\": \"white\", \"plot_bgcolor\": \"#E5ECF6\", \"polar\": {\"angularaxis\": {\"gridcolor\": \"white\", \"linecolor\": \"white\", \"ticks\": \"\"}, \"bgcolor\": \"#E5ECF6\", \"radialaxis\": {\"gridcolor\": \"white\", \"linecolor\": \"white\", \"ticks\": \"\"}}, \"scene\": {\"xaxis\": {\"backgroundcolor\": \"#E5ECF6\", \"gridcolor\": \"white\", \"gridwidth\": 2, \"linecolor\": \"white\", \"showbackground\": true, \"ticks\": \"\", \"zerolinecolor\": \"white\"}, \"yaxis\": {\"backgroundcolor\": \"#E5ECF6\", \"gridcolor\": \"white\", \"gridwidth\": 2, \"linecolor\": \"white\", \"showbackground\": true, \"ticks\": \"\", \"zerolinecolor\": \"white\"}, \"zaxis\": {\"backgroundcolor\": \"#E5ECF6\", \"gridcolor\": \"white\", \"gridwidth\": 2, \"linecolor\": \"white\", \"showbackground\": true, \"ticks\": \"\", \"zerolinecolor\": \"white\"}}, \"shapedefaults\": {\"line\": {\"color\": \"#2a3f5f\"}}, \"ternary\": {\"aaxis\": {\"gridcolor\": \"white\", \"linecolor\": \"white\", \"ticks\": \"\"}, \"baxis\": {\"gridcolor\": \"white\", \"linecolor\": \"white\", \"ticks\": \"\"}, \"bgcolor\": \"#E5ECF6\", \"caxis\": {\"gridcolor\": \"white\", \"linecolor\": \"white\", \"ticks\": \"\"}}, \"title\": {\"x\": 0.05}, \"xaxis\": {\"automargin\": true, \"gridcolor\": \"white\", \"linecolor\": \"white\", \"ticks\": \"\", \"title\": {\"standoff\": 15}, \"zerolinecolor\": \"white\", \"zerolinewidth\": 2}, \"yaxis\": {\"automargin\": true, \"gridcolor\": \"white\", \"linecolor\": \"white\", \"ticks\": \"\", \"title\": {\"standoff\": 15}, \"zerolinecolor\": \"white\", \"zerolinewidth\": 2}}}, \"title\": {\"text\": \"Gradient Boost feature importances\"}, \"xaxis\": {\"type\": \"category\"}, \"yaxis\": {\"gridwidth\": 2, \"ticklen\": 5, \"title\": {\"text\": \"Feature Importance\"}}},\n",
       "                        {\"responsive\": true}\n",
       "                    ).then(function(){\n",
       "                            \n",
       "var gd = document.getElementById('a8466993-de68-4284-b8da-20d67e94fcf0');\n",
       "var x = new MutationObserver(function (mutations, observer) {{\n",
       "        var display = window.getComputedStyle(gd).display;\n",
       "        if (!display || display === 'none') {{\n",
       "            console.log([gd, 'removed!']);\n",
       "            Plotly.purge(gd);\n",
       "            observer.disconnect();\n",
       "        }}\n",
       "}});\n",
       "\n",
       "// Listen for the removal of the full notebook cells\n",
       "var notebookContainer = gd.closest('#notebook-container');\n",
       "if (notebookContainer) {{\n",
       "    x.observe(notebookContainer, {childList: true});\n",
       "}}\n",
       "\n",
       "// Listen for the clearing of the current output cell\n",
       "var outputEl = gd.closest('.output');\n",
       "if (outputEl) {{\n",
       "    x.observe(outputEl, {childList: true});\n",
       "}}\n",
       "\n",
       "                        })\n",
       "                };\n",
       "                });\n",
       "            </script>\n",
       "        </div>"
      ]
     },
     "metadata": {},
     "output_type": "display_data"
    }
   ],
   "source": [
    "def plot_features(text):\n",
    "    trace = go.Scatter(\n",
    "        y = feature_dataframe[text].values,\n",
    "        x = feature_dataframe['features'].values,\n",
    "        mode='markers',\n",
    "        marker=dict(\n",
    "            sizemode = 'diameter',\n",
    "            sizeref = 1,\n",
    "            size = 25,\n",
    "            color = feature_dataframe[text].values,\n",
    "            colorscale='Portland',\n",
    "            showscale=True\n",
    "        ),\n",
    "        text = feature_dataframe['features'].values\n",
    "    )\n",
    "    data = [trace]\n",
    "\n",
    "    layout= go.Layout(\n",
    "        autosize= True,\n",
    "        title= text,\n",
    "        hovermode= 'closest',\n",
    "        xaxis={'type': 'category'},\n",
    "        yaxis=dict(\n",
    "            title= 'Feature Importance',\n",
    "            ticklen= 5,\n",
    "            gridwidth= 2\n",
    "        ),\n",
    "        showlegend= False\n",
    "    )\n",
    "    fig = go.Figure(data=data, layout=layout)\n",
    "    py.iplot(fig,filename='scatter2010')\n",
    "plot_features('Random Forest feature importances')\n",
    "plot_features('Extra Trees  feature importances')\n",
    "plot_features('AdaBoost feature importances')\n",
    "plot_features('Gradient Boost feature importances')"
   ]
  },
  {
   "cell_type": "code",
   "execution_count": 557,
   "metadata": {},
   "outputs": [],
   "source": [
    "x_train2 = np.concatenate(( et_oof_train, rf_oof_train, ada_oof_train, gb_oof_train,svc_oof_train), axis=1)\n",
    "x_test2 = np.concatenate(( et_oof_test, rf_oof_test, ada_oof_test, gb_oof_test, svc_oof_test), axis=1)"
   ]
  },
  {
   "cell_type": "code",
   "execution_count": 575,
   "metadata": {},
   "outputs": [],
   "source": [
    "gbm = xgb.XGBClassifier(\n",
    " learning_rate = 0.01,\n",
    " n_estimators= 1500,\n",
    " max_depth= 8,\n",
    " min_child_weight= 1,\n",
    " #gamma=1,\n",
    " gamma=0.9,                        \n",
    " subsample=0.8,\n",
    " colsample_bytree=0.8,\n",
    " objective= 'binary:logistic',\n",
    " nthread= -1,\n",
    " scale_pos_weight=1).fit(x_train2, y_train)\n",
    "predictions = gbm.predict_proba(x_test2)"
   ]
  },
  {
   "cell_type": "code",
   "execution_count": 576,
   "metadata": {},
   "outputs": [
    {
     "data": {
      "text/plain": [
       "[<matplotlib.lines.Line2D at 0x2664b6d50>]"
      ]
     },
     "execution_count": 576,
     "metadata": {},
     "output_type": "execute_result"
    },
    {
     "data": {
      "image/png": "[encoded data removed]",
      "text/plain": [
       "<Figure size 432x288 with 1 Axes>"
      ]
     },
     "metadata": {
      "needs_background": "light"
     },
     "output_type": "display_data"
    }
   ],
   "source": [
    "from sklearn.metrics import precision_recall_curve\n",
    "from sklearn.metrics import plot_precision_recall_curve\n",
    "import matplotlib.pyplot as plt\n",
    "precision, recall ,_ = precision_recall_curve(y_test, predictions[:, 1])\n",
    "plt.plot(recall, precision)"
   ]
  },
  {
   "cell_type": "code",
   "execution_count": 562,
   "metadata": {},
   "outputs": [
    {
     "data": {
      "text/html": [
       "<div>\n",
       "<style scoped>\n",
       "    .dataframe tbody tr th:only-of-type {\n",
       "        vertical-align: middle;\n",
       "    }\n",
       "\n",
       "    .dataframe tbody tr th {\n",
       "        vertical-align: top;\n",
       "    }\n",
       "\n",
       "    .dataframe thead th {\n",
       "        text-align: right;\n",
       "    }\n",
       "</style>\n",
       "<table border=\"1\" class=\"dataframe\">\n",
       "  <thead>\n",
       "    <tr style=\"text-align: right;\">\n",
       "      <th></th>\n",
       "      <th>words</th>\n",
       "      <th>time</th>\n",
       "      <th>count</th>\n",
       "      <th>wpm</th>\n",
       "      <th>signal0</th>\n",
       "      <th>diff0</th>\n",
       "      <th>signal1</th>\n",
       "      <th>diff1</th>\n",
       "      <th>0</th>\n",
       "      <th>1</th>\n",
       "      <th>...</th>\n",
       "      <th>UH</th>\n",
       "      <th>VB</th>\n",
       "      <th>VBD</th>\n",
       "      <th>VBG</th>\n",
       "      <th>VBN</th>\n",
       "      <th>VBP</th>\n",
       "      <th>VBZ</th>\n",
       "      <th>WRB</th>\n",
       "      <th>len</th>\n",
       "      <th>syl</th>\n",
       "    </tr>\n",
       "  </thead>\n",
       "  <tbody>\n",
       "    <tr>\n",
       "      <th>0</th>\n",
       "      <td>0.034368</td>\n",
       "      <td>0.748043</td>\n",
       "      <td>0.005348</td>\n",
       "      <td>0.143211</td>\n",
       "      <td>1.0</td>\n",
       "      <td>0.006307</td>\n",
       "      <td>0.0</td>\n",
       "      <td>0.618698</td>\n",
       "      <td>0.0</td>\n",
       "      <td>0.0</td>\n",
       "      <td>...</td>\n",
       "      <td>0.0</td>\n",
       "      <td>0.0</td>\n",
       "      <td>1.0</td>\n",
       "      <td>0.0</td>\n",
       "      <td>0.0</td>\n",
       "      <td>0.0</td>\n",
       "      <td>0.0</td>\n",
       "      <td>0.0</td>\n",
       "      <td>0.357143</td>\n",
       "      <td>0.0</td>\n",
       "    </tr>\n",
       "    <tr>\n",
       "      <th>1</th>\n",
       "      <td>1.000000</td>\n",
       "      <td>0.571836</td>\n",
       "      <td>0.002674</td>\n",
       "      <td>0.103603</td>\n",
       "      <td>1.0</td>\n",
       "      <td>0.159833</td>\n",
       "      <td>0.0</td>\n",
       "      <td>0.468039</td>\n",
       "      <td>0.0</td>\n",
       "      <td>0.0</td>\n",
       "      <td>...</td>\n",
       "      <td>0.0</td>\n",
       "      <td>0.0</td>\n",
       "      <td>0.0</td>\n",
       "      <td>0.0</td>\n",
       "      <td>0.0</td>\n",
       "      <td>0.0</td>\n",
       "      <td>0.0</td>\n",
       "      <td>0.0</td>\n",
       "      <td>0.428571</td>\n",
       "      <td>0.4</td>\n",
       "    </tr>\n",
       "    <tr>\n",
       "      <th>2</th>\n",
       "      <td>0.077963</td>\n",
       "      <td>0.727748</td>\n",
       "      <td>0.002674</td>\n",
       "      <td>0.104242</td>\n",
       "      <td>1.0</td>\n",
       "      <td>0.159326</td>\n",
       "      <td>0.0</td>\n",
       "      <td>0.597560</td>\n",
       "      <td>0.0</td>\n",
       "      <td>0.0</td>\n",
       "      <td>...</td>\n",
       "      <td>0.0</td>\n",
       "      <td>0.0</td>\n",
       "      <td>0.0</td>\n",
       "      <td>0.0</td>\n",
       "      <td>0.0</td>\n",
       "      <td>0.0</td>\n",
       "      <td>0.0</td>\n",
       "      <td>0.0</td>\n",
       "      <td>0.714286</td>\n",
       "      <td>0.8</td>\n",
       "    </tr>\n",
       "    <tr>\n",
       "      <th>3</th>\n",
       "      <td>1.000000</td>\n",
       "      <td>0.498583</td>\n",
       "      <td>0.000000</td>\n",
       "      <td>0.095003</td>\n",
       "      <td>0.0</td>\n",
       "      <td>0.111386</td>\n",
       "      <td>0.0</td>\n",
       "      <td>0.432010</td>\n",
       "      <td>0.0</td>\n",
       "      <td>0.0</td>\n",
       "      <td>...</td>\n",
       "      <td>0.0</td>\n",
       "      <td>0.0</td>\n",
       "      <td>0.0</td>\n",
       "      <td>0.0</td>\n",
       "      <td>0.0</td>\n",
       "      <td>0.0</td>\n",
       "      <td>0.0</td>\n",
       "      <td>0.0</td>\n",
       "      <td>0.142857</td>\n",
       "      <td>0.0</td>\n",
       "    </tr>\n",
       "    <tr>\n",
       "      <th>4</th>\n",
       "      <td>1.000000</td>\n",
       "      <td>0.455118</td>\n",
       "      <td>0.000000</td>\n",
       "      <td>0.067741</td>\n",
       "      <td>0.0</td>\n",
       "      <td>0.041617</td>\n",
       "      <td>0.0</td>\n",
       "      <td>0.443772</td>\n",
       "      <td>0.0</td>\n",
       "      <td>0.0</td>\n",
       "      <td>...</td>\n",
       "      <td>0.0</td>\n",
       "      <td>0.0</td>\n",
       "      <td>0.0</td>\n",
       "      <td>1.0</td>\n",
       "      <td>0.0</td>\n",
       "      <td>0.0</td>\n",
       "      <td>0.0</td>\n",
       "      <td>0.0</td>\n",
       "      <td>0.571429</td>\n",
       "      <td>0.6</td>\n",
       "    </tr>\n",
       "    <tr>\n",
       "      <th>5</th>\n",
       "      <td>0.102784</td>\n",
       "      <td>0.793652</td>\n",
       "      <td>0.000000</td>\n",
       "      <td>0.046588</td>\n",
       "      <td>1.0</td>\n",
       "      <td>0.039311</td>\n",
       "      <td>0.0</td>\n",
       "      <td>0.801219</td>\n",
       "      <td>0.0</td>\n",
       "      <td>0.0</td>\n",
       "      <td>...</td>\n",
       "      <td>0.0</td>\n",
       "      <td>0.0</td>\n",
       "      <td>0.0</td>\n",
       "      <td>1.0</td>\n",
       "      <td>0.0</td>\n",
       "      <td>0.0</td>\n",
       "      <td>0.0</td>\n",
       "      <td>0.0</td>\n",
       "      <td>0.571429</td>\n",
       "      <td>0.4</td>\n",
       "    </tr>\n",
       "    <tr>\n",
       "      <th>6</th>\n",
       "      <td>1.000000</td>\n",
       "      <td>0.709561</td>\n",
       "      <td>0.000000</td>\n",
       "      <td>0.071933</td>\n",
       "      <td>0.0</td>\n",
       "      <td>0.260620</td>\n",
       "      <td>1.0</td>\n",
       "      <td>0.530789</td>\n",
       "      <td>0.0</td>\n",
       "      <td>0.0</td>\n",
       "      <td>...</td>\n",
       "      <td>0.0</td>\n",
       "      <td>0.0</td>\n",
       "      <td>0.0</td>\n",
       "      <td>0.0</td>\n",
       "      <td>1.0</td>\n",
       "      <td>0.0</td>\n",
       "      <td>0.0</td>\n",
       "      <td>0.0</td>\n",
       "      <td>0.357143</td>\n",
       "      <td>0.0</td>\n",
       "    </tr>\n",
       "    <tr>\n",
       "      <th>7</th>\n",
       "      <td>1.000000</td>\n",
       "      <td>0.455891</td>\n",
       "      <td>0.000000</td>\n",
       "      <td>0.120935</td>\n",
       "      <td>0.0</td>\n",
       "      <td>0.203978</td>\n",
       "      <td>0.0</td>\n",
       "      <td>0.310980</td>\n",
       "      <td>0.0</td>\n",
       "      <td>0.0</td>\n",
       "      <td>...</td>\n",
       "      <td>0.0</td>\n",
       "      <td>0.0</td>\n",
       "      <td>0.0</td>\n",
       "      <td>0.0</td>\n",
       "      <td>1.0</td>\n",
       "      <td>0.0</td>\n",
       "      <td>0.0</td>\n",
       "      <td>0.0</td>\n",
       "      <td>0.285714</td>\n",
       "      <td>0.2</td>\n",
       "    </tr>\n",
       "    <tr>\n",
       "      <th>8</th>\n",
       "      <td>1.000000</td>\n",
       "      <td>0.157364</td>\n",
       "      <td>0.000000</td>\n",
       "      <td>0.148599</td>\n",
       "      <td>0.0</td>\n",
       "      <td>0.197485</td>\n",
       "      <td>0.0</td>\n",
       "      <td>0.002792</td>\n",
       "      <td>0.0</td>\n",
       "      <td>0.0</td>\n",
       "      <td>...</td>\n",
       "      <td>0.0</td>\n",
       "      <td>0.0</td>\n",
       "      <td>0.0</td>\n",
       "      <td>0.0</td>\n",
       "      <td>0.0</td>\n",
       "      <td>0.0</td>\n",
       "      <td>0.0</td>\n",
       "      <td>0.0</td>\n",
       "      <td>0.428571</td>\n",
       "      <td>0.0</td>\n",
       "    </tr>\n",
       "    <tr>\n",
       "      <th>9</th>\n",
       "      <td>1.000000</td>\n",
       "      <td>0.549743</td>\n",
       "      <td>0.000000</td>\n",
       "      <td>0.121190</td>\n",
       "      <td>0.0</td>\n",
       "      <td>0.049057</td>\n",
       "      <td>1.0</td>\n",
       "      <td>0.537031</td>\n",
       "      <td>0.0</td>\n",
       "      <td>0.0</td>\n",
       "      <td>...</td>\n",
       "      <td>0.0</td>\n",
       "      <td>0.0</td>\n",
       "      <td>0.0</td>\n",
       "      <td>1.0</td>\n",
       "      <td>0.0</td>\n",
       "      <td>0.0</td>\n",
       "      <td>0.0</td>\n",
       "      <td>0.0</td>\n",
       "      <td>0.428571</td>\n",
       "      <td>0.0</td>\n",
       "    </tr>\n",
       "    <tr>\n",
       "      <th>10</th>\n",
       "      <td>1.000000</td>\n",
       "      <td>0.412013</td>\n",
       "      <td>0.000000</td>\n",
       "      <td>0.129936</td>\n",
       "      <td>0.0</td>\n",
       "      <td>0.001654</td>\n",
       "      <td>1.0</td>\n",
       "      <td>0.431386</td>\n",
       "      <td>0.0</td>\n",
       "      <td>0.0</td>\n",
       "      <td>...</td>\n",
       "      <td>0.0</td>\n",
       "      <td>0.0</td>\n",
       "      <td>0.0</td>\n",
       "      <td>0.0</td>\n",
       "      <td>0.0</td>\n",
       "      <td>0.0</td>\n",
       "      <td>0.0</td>\n",
       "      <td>0.0</td>\n",
       "      <td>0.214286</td>\n",
       "      <td>0.0</td>\n",
       "    </tr>\n",
       "  </tbody>\n",
       "</table>\n",
       "<p>11 rows × 41 columns</p>\n",
       "</div>"
      ],
      "text/plain": [
       "       words      time     count       wpm  signal0     diff0  signal1  \\\n",
       "0   0.034368  0.748043  0.005348  0.143211      1.0  0.006307      0.0   \n",
       "1   1.000000  0.571836  0.002674  0.103603      1.0  0.159833      0.0   \n",
       "2   0.077963  0.727748  0.002674  0.104242      1.0  0.159326      0.0   \n",
       "3   1.000000  0.498583  0.000000  0.095003      0.0  0.111386      0.0   \n",
       "4   1.000000  0.455118  0.000000  0.067741      0.0  0.041617      0.0   \n",
       "5   0.102784  0.793652  0.000000  0.046588      1.0  0.039311      0.0   \n",
       "6   1.000000  0.709561  0.000000  0.071933      0.0  0.260620      1.0   \n",
       "7   1.000000  0.455891  0.000000  0.120935      0.0  0.203978      0.0   \n",
       "8   1.000000  0.157364  0.000000  0.148599      0.0  0.197485      0.0   \n",
       "9   1.000000  0.549743  0.000000  0.121190      0.0  0.049057      1.0   \n",
       "10  1.000000  0.412013  0.000000  0.129936      0.0  0.001654      1.0   \n",
       "\n",
       "       diff1    0    1  ...   UH   VB  VBD  VBG  VBN  VBP  VBZ  WRB       len  \\\n",
       "0   0.618698  0.0  0.0  ...  0.0  0.0  1.0  0.0  0.0  0.0  0.0  0.0  0.357143   \n",
       "1   0.468039  0.0  0.0  ...  0.0  0.0  0.0  0.0  0.0  0.0  0.0  0.0  0.428571   \n",
       "2   0.597560  0.0  0.0  ...  0.0  0.0  0.0  0.0  0.0  0.0  0.0  0.0  0.714286   \n",
       "3   0.432010  0.0  0.0  ...  0.0  0.0  0.0  0.0  0.0  0.0  0.0  0.0  0.142857   \n",
       "4   0.443772  0.0  0.0  ...  0.0  0.0  0.0  1.0  0.0  0.0  0.0  0.0  0.571429   \n",
       "5   0.801219  0.0  0.0  ...  0.0  0.0  0.0  1.0  0.0  0.0  0.0  0.0  0.571429   \n",
       "6   0.530789  0.0  0.0  ...  0.0  0.0  0.0  0.0  1.0  0.0  0.0  0.0  0.357143   \n",
       "7   0.310980  0.0  0.0  ...  0.0  0.0  0.0  0.0  1.0  0.0  0.0  0.0  0.285714   \n",
       "8   0.002792  0.0  0.0  ...  0.0  0.0  0.0  0.0  0.0  0.0  0.0  0.0  0.428571   \n",
       "9   0.537031  0.0  0.0  ...  0.0  0.0  0.0  1.0  0.0  0.0  0.0  0.0  0.428571   \n",
       "10  0.431386  0.0  0.0  ...  0.0  0.0  0.0  0.0  0.0  0.0  0.0  0.0  0.214286   \n",
       "\n",
       "    syl  \n",
       "0   0.0  \n",
       "1   0.4  \n",
       "2   0.8  \n",
       "3   0.0  \n",
       "4   0.6  \n",
       "5   0.4  \n",
       "6   0.0  \n",
       "7   0.2  \n",
       "8   0.0  \n",
       "9   0.0  \n",
       "10  0.0  \n",
       "\n",
       "[11 rows x 41 columns]"
      ]
     },
     "execution_count": 562,
     "metadata": {},
     "output_type": "execute_result"
    }
   ],
   "source": [
    "\n",
    "wrong_df = pd.DataFrame(x_test[(y_test - (predictions[:, 1] > 0.5)) == -1])\n",
    "\n",
    "wrong_df.columns = x.columns.values\n",
    "wrong_df"
   ]
  },
  {
   "cell_type": "code",
   "execution_count": 121,
   "metadata": {},
   "outputs": [],
   "source": [
    "from sklearn import preprocessing\n",
    "\n",
    "min_max_scaler = preprocessing.MinMaxScaler()\n",
    "x_scaled = min_max_scaler.fit_transform(x)"
   ]
  },
  {
   "cell_type": "code",
   "execution_count": 1125,
   "metadata": {},
   "outputs": [
    {
     "name": "stdout",
     "output_type": "stream",
     "text": [
      "Best parameters set found on development set:\n",
      "\n",
      "{'colsample_bytree': 0.6, 'eta': 0.2, 'gamma': 0.2, 'max_depth': 7, 'min_child_weight': 2, 'n_estimators': 100, 'subsample': 0.6}\n",
      "0.478 (+/-0.048) for {'colsample_bytree': 0.5, 'eta': 0.2, 'gamma': 0, 'max_depth': 3, 'min_child_weight': 0.5, 'n_estimators': 100, 'subsample': 0.5}\n",
      "0.482 (+/-0.038) for {'colsample_bytree': 0.5, 'eta': 0.2, 'gamma': 0, 'max_depth': 3, 'min_child_weight': 0.5, 'n_estimators': 100, 'subsample': 0.6}\n",
      "0.480 (+/-0.052) for {'colsample_bytree': 0.5, 'eta': 0.2, 'gamma': 0, 'max_depth': 3, 'min_child_weight': 0.5, 'n_estimators': 100, 'subsample': 0.8}\n",
      "0.473 (+/-0.027) for {'colsample_bytree': 0.5, 'eta': 0.2, 'gamma': 0, 'max_depth': 3, 'min_child_weight': 1, 'n_estimators': 100, 'subsample': 0.5}\n",
      "0.478 (+/-0.043) for {'colsample_bytree': 0.5, 'eta': 0.2, 'gamma': 0, 'max_depth': 3, 'min_child_weight': 1, 'n_estimators': 100, 'subsample': 0.6}\n",
      "0.474 (+/-0.045) for {'colsample_bytree': 0.5, 'eta': 0.2, 'gamma': 0, 'max_depth': 3, 'min_child_weight': 1, 'n_estimators': 100, 'subsample': 0.8}\n",
      "0.454 (+/-0.048) for {'colsample_bytree': 0.5, 'eta': 0.2, 'gamma': 0, 'max_depth': 3, 'min_child_weight': 1.5, 'n_estimators': 100, 'subsample': 0.5}\n",
      "0.473 (+/-0.038) for {'colsample_bytree': 0.5, 'eta': 0.2, 'gamma': 0, 'max_depth': 3, 'min_child_weight': 1.5, 'n_estimators': 100, 'subsample': 0.6}\n",
      "0.487 (+/-0.047) for {'colsample_bytree': 0.5, 'eta': 0.2, 'gamma': 0, 'max_depth': 3, 'min_child_weight': 1.5, 'n_estimators': 100, 'subsample': 0.8}\n",
      "0.451 (+/-0.044) for {'colsample_bytree': 0.5, 'eta': 0.2, 'gamma': 0, 'max_depth': 3, 'min_child_weight': 2, 'n_estimators': 100, 'subsample': 0.5}\n",
      "0.465 (+/-0.055) for {'colsample_bytree': 0.5, 'eta': 0.2, 'gamma': 0, 'max_depth': 3, 'min_child_weight': 2, 'n_estimators': 100, 'subsample': 0.6}\n",
      "0.485 (+/-0.040) for {'colsample_bytree': 0.5, 'eta': 0.2, 'gamma': 0, 'max_depth': 3, 'min_child_weight': 2, 'n_estimators': 100, 'subsample': 0.8}\n",
      "0.468 (+/-0.027) for {'colsample_bytree': 0.5, 'eta': 0.2, 'gamma': 0, 'max_depth': 3, 'min_child_weight': 10, 'n_estimators': 100, 'subsample': 0.5}\n",
      "0.463 (+/-0.060) for {'colsample_bytree': 0.5, 'eta': 0.2, 'gamma': 0, 'max_depth': 3, 'min_child_weight': 10, 'n_estimators': 100, 'subsample': 0.6}\n",
      "0.487 (+/-0.063) for {'colsample_bytree': 0.5, 'eta': 0.2, 'gamma': 0, 'max_depth': 3, 'min_child_weight': 10, 'n_estimators': 100, 'subsample': 0.8}\n",
      "0.474 (+/-0.046) for {'colsample_bytree': 0.5, 'eta': 0.2, 'gamma': 0, 'max_depth': 5, 'min_child_weight': 0.5, 'n_estimators': 100, 'subsample': 0.5}\n",
      "0.482 (+/-0.026) for {'colsample_bytree': 0.5, 'eta': 0.2, 'gamma': 0, 'max_depth': 5, 'min_child_weight': 0.5, 'n_estimators': 100, 'subsample': 0.6}\n",
      "0.481 (+/-0.053) for {'colsample_bytree': 0.5, 'eta': 0.2, 'gamma': 0, 'max_depth': 5, 'min_child_weight': 0.5, 'n_estimators': 100, 'subsample': 0.8}\n",
      "0.475 (+/-0.044) for {'colsample_bytree': 0.5, 'eta': 0.2, 'gamma': 0, 'max_depth': 5, 'min_child_weight': 1, 'n_estimators': 100, 'subsample': 0.5}\n",
      "0.493 (+/-0.043) for {'colsample_bytree': 0.5, 'eta': 0.2, 'gamma': 0, 'max_depth': 5, 'min_child_weight': 1, 'n_estimators': 100, 'subsample': 0.6}\n",
      "0.487 (+/-0.057) for {'colsample_bytree': 0.5, 'eta': 0.2, 'gamma': 0, 'max_depth': 5, 'min_child_weight': 1, 'n_estimators': 100, 'subsample': 0.8}\n",
      "0.489 (+/-0.048) for {'colsample_bytree': 0.5, 'eta': 0.2, 'gamma': 0, 'max_depth': 5, 'min_child_weight': 1.5, 'n_estimators': 100, 'subsample': 0.5}\n",
      "0.485 (+/-0.049) for {'colsample_bytree': 0.5, 'eta': 0.2, 'gamma': 0, 'max_depth': 5, 'min_child_weight': 1.5, 'n_estimators': 100, 'subsample': 0.6}\n",
      "0.488 (+/-0.036) for {'colsample_bytree': 0.5, 'eta': 0.2, 'gamma': 0, 'max_depth': 5, 'min_child_weight': 1.5, 'n_estimators': 100, 'subsample': 0.8}\n",
      "0.485 (+/-0.033) for {'colsample_bytree': 0.5, 'eta': 0.2, 'gamma': 0, 'max_depth': 5, 'min_child_weight': 2, 'n_estimators': 100, 'subsample': 0.5}\n",
      "0.473 (+/-0.039) for {'colsample_bytree': 0.5, 'eta': 0.2, 'gamma': 0, 'max_depth': 5, 'min_child_weight': 2, 'n_estimators': 100, 'subsample': 0.6}\n",
      "0.492 (+/-0.068) for {'colsample_bytree': 0.5, 'eta': 0.2, 'gamma': 0, 'max_depth': 5, 'min_child_weight': 2, 'n_estimators': 100, 'subsample': 0.8}\n",
      "0.478 (+/-0.031) for {'colsample_bytree': 0.5, 'eta': 0.2, 'gamma': 0, 'max_depth': 5, 'min_child_weight': 10, 'n_estimators': 100, 'subsample': 0.5}\n",
      "0.486 (+/-0.043) for {'colsample_bytree': 0.5, 'eta': 0.2, 'gamma': 0, 'max_depth': 5, 'min_child_weight': 10, 'n_estimators': 100, 'subsample': 0.6}\n",
      "0.486 (+/-0.051) for {'colsample_bytree': 0.5, 'eta': 0.2, 'gamma': 0, 'max_depth': 5, 'min_child_weight': 10, 'n_estimators': 100, 'subsample': 0.8}\n",
      "0.473 (+/-0.048) for {'colsample_bytree': 0.5, 'eta': 0.2, 'gamma': 0, 'max_depth': 7, 'min_child_weight': 0.5, 'n_estimators': 100, 'subsample': 0.5}\n",
      "0.484 (+/-0.049) for {'colsample_bytree': 0.5, 'eta': 0.2, 'gamma': 0, 'max_depth': 7, 'min_child_weight': 0.5, 'n_estimators': 100, 'subsample': 0.6}\n",
      "0.488 (+/-0.018) for {'colsample_bytree': 0.5, 'eta': 0.2, 'gamma': 0, 'max_depth': 7, 'min_child_weight': 0.5, 'n_estimators': 100, 'subsample': 0.8}\n",
      "0.484 (+/-0.060) for {'colsample_bytree': 0.5, 'eta': 0.2, 'gamma': 0, 'max_depth': 7, 'min_child_weight': 1, 'n_estimators': 100, 'subsample': 0.5}\n",
      "0.497 (+/-0.053) for {'colsample_bytree': 0.5, 'eta': 0.2, 'gamma': 0, 'max_depth': 7, 'min_child_weight': 1, 'n_estimators': 100, 'subsample': 0.6}\n",
      "0.501 (+/-0.031) for {'colsample_bytree': 0.5, 'eta': 0.2, 'gamma': 0, 'max_depth': 7, 'min_child_weight': 1, 'n_estimators': 100, 'subsample': 0.8}\n",
      "0.484 (+/-0.054) for {'colsample_bytree': 0.5, 'eta': 0.2, 'gamma': 0, 'max_depth': 7, 'min_child_weight': 1.5, 'n_estimators': 100, 'subsample': 0.5}\n",
      "0.494 (+/-0.028) for {'colsample_bytree': 0.5, 'eta': 0.2, 'gamma': 0, 'max_depth': 7, 'min_child_weight': 1.5, 'n_estimators': 100, 'subsample': 0.6}\n",
      "0.493 (+/-0.026) for {'colsample_bytree': 0.5, 'eta': 0.2, 'gamma': 0, 'max_depth': 7, 'min_child_weight': 1.5, 'n_estimators': 100, 'subsample': 0.8}\n",
      "0.483 (+/-0.052) for {'colsample_bytree': 0.5, 'eta': 0.2, 'gamma': 0, 'max_depth': 7, 'min_child_weight': 2, 'n_estimators': 100, 'subsample': 0.5}\n",
      "0.504 (+/-0.016) for {'colsample_bytree': 0.5, 'eta': 0.2, 'gamma': 0, 'max_depth': 7, 'min_child_weight': 2, 'n_estimators': 100, 'subsample': 0.6}\n",
      "0.498 (+/-0.066) for {'colsample_bytree': 0.5, 'eta': 0.2, 'gamma': 0, 'max_depth': 7, 'min_child_weight': 2, 'n_estimators': 100, 'subsample': 0.8}\n",
      "0.487 (+/-0.061) for {'colsample_bytree': 0.5, 'eta': 0.2, 'gamma': 0, 'max_depth': 7, 'min_child_weight': 10, 'n_estimators': 100, 'subsample': 0.5}\n",
      "0.474 (+/-0.052) for {'colsample_bytree': 0.5, 'eta': 0.2, 'gamma': 0, 'max_depth': 7, 'min_child_weight': 10, 'n_estimators': 100, 'subsample': 0.6}\n",
      "0.487 (+/-0.063) for {'colsample_bytree': 0.5, 'eta': 0.2, 'gamma': 0, 'max_depth': 7, 'min_child_weight': 10, 'n_estimators': 100, 'subsample': 0.8}\n",
      "0.471 (+/-0.030) for {'colsample_bytree': 0.5, 'eta': 0.2, 'gamma': 0.1, 'max_depth': 3, 'min_child_weight': 0.5, 'n_estimators': 100, 'subsample': 0.5}\n",
      "0.487 (+/-0.037) for {'colsample_bytree': 0.5, 'eta': 0.2, 'gamma': 0.1, 'max_depth': 3, 'min_child_weight': 0.5, 'n_estimators': 100, 'subsample': 0.6}\n",
      "0.479 (+/-0.051) for {'colsample_bytree': 0.5, 'eta': 0.2, 'gamma': 0.1, 'max_depth': 3, 'min_child_weight': 0.5, 'n_estimators': 100, 'subsample': 0.8}\n",
      "0.474 (+/-0.036) for {'colsample_bytree': 0.5, 'eta': 0.2, 'gamma': 0.1, 'max_depth': 3, 'min_child_weight': 1, 'n_estimators': 100, 'subsample': 0.5}\n",
      "0.482 (+/-0.038) for {'colsample_bytree': 0.5, 'eta': 0.2, 'gamma': 0.1, 'max_depth': 3, 'min_child_weight': 1, 'n_estimators': 100, 'subsample': 0.6}\n",
      "0.495 (+/-0.044) for {'colsample_bytree': 0.5, 'eta': 0.2, 'gamma': 0.1, 'max_depth': 3, 'min_child_weight': 1, 'n_estimators': 100, 'subsample': 0.8}\n",
      "0.460 (+/-0.057) for {'colsample_bytree': 0.5, 'eta': 0.2, 'gamma': 0.1, 'max_depth': 3, 'min_child_weight': 1.5, 'n_estimators': 100, 'subsample': 0.5}\n",
      "0.473 (+/-0.029) for {'colsample_bytree': 0.5, 'eta': 0.2, 'gamma': 0.1, 'max_depth': 3, 'min_child_weight': 1.5, 'n_estimators': 100, 'subsample': 0.6}\n",
      "0.491 (+/-0.049) for {'colsample_bytree': 0.5, 'eta': 0.2, 'gamma': 0.1, 'max_depth': 3, 'min_child_weight': 1.5, 'n_estimators': 100, 'subsample': 0.8}\n",
      "0.459 (+/-0.068) for {'colsample_bytree': 0.5, 'eta': 0.2, 'gamma': 0.1, 'max_depth': 3, 'min_child_weight': 2, 'n_estimators': 100, 'subsample': 0.5}\n",
      "0.467 (+/-0.044) for {'colsample_bytree': 0.5, 'eta': 0.2, 'gamma': 0.1, 'max_depth': 3, 'min_child_weight': 2, 'n_estimators': 100, 'subsample': 0.6}\n",
      "0.483 (+/-0.046) for {'colsample_bytree': 0.5, 'eta': 0.2, 'gamma': 0.1, 'max_depth': 3, 'min_child_weight': 2, 'n_estimators': 100, 'subsample': 0.8}\n",
      "0.458 (+/-0.030) for {'colsample_bytree': 0.5, 'eta': 0.2, 'gamma': 0.1, 'max_depth': 3, 'min_child_weight': 10, 'n_estimators': 100, 'subsample': 0.5}\n",
      "0.462 (+/-0.052) for {'colsample_bytree': 0.5, 'eta': 0.2, 'gamma': 0.1, 'max_depth': 3, 'min_child_weight': 10, 'n_estimators': 100, 'subsample': 0.6}\n",
      "0.480 (+/-0.078) for {'colsample_bytree': 0.5, 'eta': 0.2, 'gamma': 0.1, 'max_depth': 3, 'min_child_weight': 10, 'n_estimators': 100, 'subsample': 0.8}\n",
      "0.481 (+/-0.030) for {'colsample_bytree': 0.5, 'eta': 0.2, 'gamma': 0.1, 'max_depth': 5, 'min_child_weight': 0.5, 'n_estimators': 100, 'subsample': 0.5}\n",
      "0.479 (+/-0.032) for {'colsample_bytree': 0.5, 'eta': 0.2, 'gamma': 0.1, 'max_depth': 5, 'min_child_weight': 0.5, 'n_estimators': 100, 'subsample': 0.6}\n",
      "0.480 (+/-0.037) for {'colsample_bytree': 0.5, 'eta': 0.2, 'gamma': 0.1, 'max_depth': 5, 'min_child_weight': 0.5, 'n_estimators': 100, 'subsample': 0.8}\n",
      "0.476 (+/-0.018) for {'colsample_bytree': 0.5, 'eta': 0.2, 'gamma': 0.1, 'max_depth': 5, 'min_child_weight': 1, 'n_estimators': 100, 'subsample': 0.5}\n",
      "0.472 (+/-0.053) for {'colsample_bytree': 0.5, 'eta': 0.2, 'gamma': 0.1, 'max_depth': 5, 'min_child_weight': 1, 'n_estimators': 100, 'subsample': 0.6}\n",
      "0.469 (+/-0.058) for {'colsample_bytree': 0.5, 'eta': 0.2, 'gamma': 0.1, 'max_depth': 5, 'min_child_weight': 1, 'n_estimators': 100, 'subsample': 0.8}\n",
      "0.476 (+/-0.033) for {'colsample_bytree': 0.5, 'eta': 0.2, 'gamma': 0.1, 'max_depth': 5, 'min_child_weight': 1.5, 'n_estimators': 100, 'subsample': 0.5}\n",
      "0.484 (+/-0.019) for {'colsample_bytree': 0.5, 'eta': 0.2, 'gamma': 0.1, 'max_depth': 5, 'min_child_weight': 1.5, 'n_estimators': 100, 'subsample': 0.6}\n",
      "0.483 (+/-0.025) for {'colsample_bytree': 0.5, 'eta': 0.2, 'gamma': 0.1, 'max_depth': 5, 'min_child_weight': 1.5, 'n_estimators': 100, 'subsample': 0.8}\n",
      "0.482 (+/-0.028) for {'colsample_bytree': 0.5, 'eta': 0.2, 'gamma': 0.1, 'max_depth': 5, 'min_child_weight': 2, 'n_estimators': 100, 'subsample': 0.5}\n",
      "0.491 (+/-0.031) for {'colsample_bytree': 0.5, 'eta': 0.2, 'gamma': 0.1, 'max_depth': 5, 'min_child_weight': 2, 'n_estimators': 100, 'subsample': 0.6}\n",
      "0.496 (+/-0.071) for {'colsample_bytree': 0.5, 'eta': 0.2, 'gamma': 0.1, 'max_depth': 5, 'min_child_weight': 2, 'n_estimators': 100, 'subsample': 0.8}\n",
      "0.487 (+/-0.042) for {'colsample_bytree': 0.5, 'eta': 0.2, 'gamma': 0.1, 'max_depth': 5, 'min_child_weight': 10, 'n_estimators': 100, 'subsample': 0.5}\n",
      "0.481 (+/-0.040) for {'colsample_bytree': 0.5, 'eta': 0.2, 'gamma': 0.1, 'max_depth': 5, 'min_child_weight': 10, 'n_estimators': 100, 'subsample': 0.6}\n",
      "0.490 (+/-0.047) for {'colsample_bytree': 0.5, 'eta': 0.2, 'gamma': 0.1, 'max_depth': 5, 'min_child_weight': 10, 'n_estimators': 100, 'subsample': 0.8}\n",
      "0.471 (+/-0.028) for {'colsample_bytree': 0.5, 'eta': 0.2, 'gamma': 0.1, 'max_depth': 7, 'min_child_weight': 0.5, 'n_estimators': 100, 'subsample': 0.5}\n",
      "0.488 (+/-0.040) for {'colsample_bytree': 0.5, 'eta': 0.2, 'gamma': 0.1, 'max_depth': 7, 'min_child_weight': 0.5, 'n_estimators': 100, 'subsample': 0.6}\n",
      "0.497 (+/-0.067) for {'colsample_bytree': 0.5, 'eta': 0.2, 'gamma': 0.1, 'max_depth': 7, 'min_child_weight': 0.5, 'n_estimators': 100, 'subsample': 0.8}\n",
      "0.483 (+/-0.048) for {'colsample_bytree': 0.5, 'eta': 0.2, 'gamma': 0.1, 'max_depth': 7, 'min_child_weight': 1, 'n_estimators': 100, 'subsample': 0.5}\n",
      "0.482 (+/-0.047) for {'colsample_bytree': 0.5, 'eta': 0.2, 'gamma': 0.1, 'max_depth': 7, 'min_child_weight': 1, 'n_estimators': 100, 'subsample': 0.6}\n",
      "0.493 (+/-0.062) for {'colsample_bytree': 0.5, 'eta': 0.2, 'gamma': 0.1, 'max_depth': 7, 'min_child_weight': 1, 'n_estimators': 100, 'subsample': 0.8}\n",
      "0.475 (+/-0.053) for {'colsample_bytree': 0.5, 'eta': 0.2, 'gamma': 0.1, 'max_depth': 7, 'min_child_weight': 1.5, 'n_estimators': 100, 'subsample': 0.5}\n",
      "0.494 (+/-0.031) for {'colsample_bytree': 0.5, 'eta': 0.2, 'gamma': 0.1, 'max_depth': 7, 'min_child_weight': 1.5, 'n_estimators': 100, 'subsample': 0.6}\n",
      "0.486 (+/-0.036) for {'colsample_bytree': 0.5, 'eta': 0.2, 'gamma': 0.1, 'max_depth': 7, 'min_child_weight': 1.5, 'n_estimators': 100, 'subsample': 0.8}\n",
      "0.499 (+/-0.049) for {'colsample_bytree': 0.5, 'eta': 0.2, 'gamma': 0.1, 'max_depth': 7, 'min_child_weight': 2, 'n_estimators': 100, 'subsample': 0.5}\n",
      "0.507 (+/-0.039) for {'colsample_bytree': 0.5, 'eta': 0.2, 'gamma': 0.1, 'max_depth': 7, 'min_child_weight': 2, 'n_estimators': 100, 'subsample': 0.6}\n",
      "0.478 (+/-0.060) for {'colsample_bytree': 0.5, 'eta': 0.2, 'gamma': 0.1, 'max_depth': 7, 'min_child_weight': 2, 'n_estimators': 100, 'subsample': 0.8}\n",
      "0.481 (+/-0.054) for {'colsample_bytree': 0.5, 'eta': 0.2, 'gamma': 0.1, 'max_depth': 7, 'min_child_weight': 10, 'n_estimators': 100, 'subsample': 0.5}\n",
      "0.482 (+/-0.056) for {'colsample_bytree': 0.5, 'eta': 0.2, 'gamma': 0.1, 'max_depth': 7, 'min_child_weight': 10, 'n_estimators': 100, 'subsample': 0.6}\n",
      "0.507 (+/-0.059) for {'colsample_bytree': 0.5, 'eta': 0.2, 'gamma': 0.1, 'max_depth': 7, 'min_child_weight': 10, 'n_estimators': 100, 'subsample': 0.8}\n",
      "0.471 (+/-0.041) for {'colsample_bytree': 0.5, 'eta': 0.2, 'gamma': 0.2, 'max_depth': 3, 'min_child_weight': 0.5, 'n_estimators': 100, 'subsample': 0.5}\n",
      "0.490 (+/-0.036) for {'colsample_bytree': 0.5, 'eta': 0.2, 'gamma': 0.2, 'max_depth': 3, 'min_child_weight': 0.5, 'n_estimators': 100, 'subsample': 0.6}\n",
      "0.478 (+/-0.033) for {'colsample_bytree': 0.5, 'eta': 0.2, 'gamma': 0.2, 'max_depth': 3, 'min_child_weight': 0.5, 'n_estimators': 100, 'subsample': 0.8}\n",
      "0.463 (+/-0.039) for {'colsample_bytree': 0.5, 'eta': 0.2, 'gamma': 0.2, 'max_depth': 3, 'min_child_weight': 1, 'n_estimators': 100, 'subsample': 0.5}\n",
      "0.481 (+/-0.042) for {'colsample_bytree': 0.5, 'eta': 0.2, 'gamma': 0.2, 'max_depth': 3, 'min_child_weight': 1, 'n_estimators': 100, 'subsample': 0.6}\n",
      "0.496 (+/-0.051) for {'colsample_bytree': 0.5, 'eta': 0.2, 'gamma': 0.2, 'max_depth': 3, 'min_child_weight': 1, 'n_estimators': 100, 'subsample': 0.8}\n",
      "0.458 (+/-0.065) for {'colsample_bytree': 0.5, 'eta': 0.2, 'gamma': 0.2, 'max_depth': 3, 'min_child_weight': 1.5, 'n_estimators': 100, 'subsample': 0.5}\n",
      "0.461 (+/-0.028) for {'colsample_bytree': 0.5, 'eta': 0.2, 'gamma': 0.2, 'max_depth': 3, 'min_child_weight': 1.5, 'n_estimators': 100, 'subsample': 0.6}\n",
      "0.486 (+/-0.029) for {'colsample_bytree': 0.5, 'eta': 0.2, 'gamma': 0.2, 'max_depth': 3, 'min_child_weight': 1.5, 'n_estimators': 100, 'subsample': 0.8}\n",
      "0.453 (+/-0.047) for {'colsample_bytree': 0.5, 'eta': 0.2, 'gamma': 0.2, 'max_depth': 3, 'min_child_weight': 2, 'n_estimators': 100, 'subsample': 0.5}\n",
      "0.470 (+/-0.070) for {'colsample_bytree': 0.5, 'eta': 0.2, 'gamma': 0.2, 'max_depth': 3, 'min_child_weight': 2, 'n_estimators': 100, 'subsample': 0.6}\n",
      "0.481 (+/-0.043) for {'colsample_bytree': 0.5, 'eta': 0.2, 'gamma': 0.2, 'max_depth': 3, 'min_child_weight': 2, 'n_estimators': 100, 'subsample': 0.8}\n",
      "0.461 (+/-0.034) for {'colsample_bytree': 0.5, 'eta': 0.2, 'gamma': 0.2, 'max_depth': 3, 'min_child_weight': 10, 'n_estimators': 100, 'subsample': 0.5}\n",
      "0.462 (+/-0.059) for {'colsample_bytree': 0.5, 'eta': 0.2, 'gamma': 0.2, 'max_depth': 3, 'min_child_weight': 10, 'n_estimators': 100, 'subsample': 0.6}\n",
      "0.478 (+/-0.072) for {'colsample_bytree': 0.5, 'eta': 0.2, 'gamma': 0.2, 'max_depth': 3, 'min_child_weight': 10, 'n_estimators': 100, 'subsample': 0.8}\n",
      "0.487 (+/-0.045) for {'colsample_bytree': 0.5, 'eta': 0.2, 'gamma': 0.2, 'max_depth': 5, 'min_child_weight': 0.5, 'n_estimators': 100, 'subsample': 0.5}\n",
      "0.494 (+/-0.029) for {'colsample_bytree': 0.5, 'eta': 0.2, 'gamma': 0.2, 'max_depth': 5, 'min_child_weight': 0.5, 'n_estimators': 100, 'subsample': 0.6}\n",
      "0.485 (+/-0.029) for {'colsample_bytree': 0.5, 'eta': 0.2, 'gamma': 0.2, 'max_depth': 5, 'min_child_weight': 0.5, 'n_estimators': 100, 'subsample': 0.8}\n",
      "0.476 (+/-0.049) for {'colsample_bytree': 0.5, 'eta': 0.2, 'gamma': 0.2, 'max_depth': 5, 'min_child_weight': 1, 'n_estimators': 100, 'subsample': 0.5}\n",
      "0.501 (+/-0.021) for {'colsample_bytree': 0.5, 'eta': 0.2, 'gamma': 0.2, 'max_depth': 5, 'min_child_weight': 1, 'n_estimators': 100, 'subsample': 0.6}\n",
      "0.477 (+/-0.051) for {'colsample_bytree': 0.5, 'eta': 0.2, 'gamma': 0.2, 'max_depth': 5, 'min_child_weight': 1, 'n_estimators': 100, 'subsample': 0.8}\n",
      "0.465 (+/-0.052) for {'colsample_bytree': 0.5, 'eta': 0.2, 'gamma': 0.2, 'max_depth': 5, 'min_child_weight': 1.5, 'n_estimators': 100, 'subsample': 0.5}\n",
      "0.479 (+/-0.039) for {'colsample_bytree': 0.5, 'eta': 0.2, 'gamma': 0.2, 'max_depth': 5, 'min_child_weight': 1.5, 'n_estimators': 100, 'subsample': 0.6}\n",
      "0.491 (+/-0.038) for {'colsample_bytree': 0.5, 'eta': 0.2, 'gamma': 0.2, 'max_depth': 5, 'min_child_weight': 1.5, 'n_estimators': 100, 'subsample': 0.8}\n",
      "0.488 (+/-0.039) for {'colsample_bytree': 0.5, 'eta': 0.2, 'gamma': 0.2, 'max_depth': 5, 'min_child_weight': 2, 'n_estimators': 100, 'subsample': 0.5}\n",
      "0.488 (+/-0.035) for {'colsample_bytree': 0.5, 'eta': 0.2, 'gamma': 0.2, 'max_depth': 5, 'min_child_weight': 2, 'n_estimators': 100, 'subsample': 0.6}\n",
      "0.497 (+/-0.034) for {'colsample_bytree': 0.5, 'eta': 0.2, 'gamma': 0.2, 'max_depth': 5, 'min_child_weight': 2, 'n_estimators': 100, 'subsample': 0.8}\n",
      "0.476 (+/-0.050) for {'colsample_bytree': 0.5, 'eta': 0.2, 'gamma': 0.2, 'max_depth': 5, 'min_child_weight': 10, 'n_estimators': 100, 'subsample': 0.5}\n",
      "0.489 (+/-0.052) for {'colsample_bytree': 0.5, 'eta': 0.2, 'gamma': 0.2, 'max_depth': 5, 'min_child_weight': 10, 'n_estimators': 100, 'subsample': 0.6}\n",
      "0.489 (+/-0.051) for {'colsample_bytree': 0.5, 'eta': 0.2, 'gamma': 0.2, 'max_depth': 5, 'min_child_weight': 10, 'n_estimators': 100, 'subsample': 0.8}\n",
      "0.479 (+/-0.046) for {'colsample_bytree': 0.5, 'eta': 0.2, 'gamma': 0.2, 'max_depth': 7, 'min_child_weight': 0.5, 'n_estimators': 100, 'subsample': 0.5}\n",
      "0.489 (+/-0.047) for {'colsample_bytree': 0.5, 'eta': 0.2, 'gamma': 0.2, 'max_depth': 7, 'min_child_weight': 0.5, 'n_estimators': 100, 'subsample': 0.6}\n",
      "0.488 (+/-0.043) for {'colsample_bytree': 0.5, 'eta': 0.2, 'gamma': 0.2, 'max_depth': 7, 'min_child_weight': 0.5, 'n_estimators': 100, 'subsample': 0.8}\n",
      "0.473 (+/-0.046) for {'colsample_bytree': 0.5, 'eta': 0.2, 'gamma': 0.2, 'max_depth': 7, 'min_child_weight': 1, 'n_estimators': 100, 'subsample': 0.5}\n",
      "0.484 (+/-0.039) for {'colsample_bytree': 0.5, 'eta': 0.2, 'gamma': 0.2, 'max_depth': 7, 'min_child_weight': 1, 'n_estimators': 100, 'subsample': 0.6}\n",
      "0.484 (+/-0.050) for {'colsample_bytree': 0.5, 'eta': 0.2, 'gamma': 0.2, 'max_depth': 7, 'min_child_weight': 1, 'n_estimators': 100, 'subsample': 0.8}\n",
      "0.489 (+/-0.023) for {'colsample_bytree': 0.5, 'eta': 0.2, 'gamma': 0.2, 'max_depth': 7, 'min_child_weight': 1.5, 'n_estimators': 100, 'subsample': 0.5}\n",
      "0.489 (+/-0.036) for {'colsample_bytree': 0.5, 'eta': 0.2, 'gamma': 0.2, 'max_depth': 7, 'min_child_weight': 1.5, 'n_estimators': 100, 'subsample': 0.6}\n",
      "0.493 (+/-0.053) for {'colsample_bytree': 0.5, 'eta': 0.2, 'gamma': 0.2, 'max_depth': 7, 'min_child_weight': 1.5, 'n_estimators': 100, 'subsample': 0.8}\n",
      "0.475 (+/-0.055) for {'colsample_bytree': 0.5, 'eta': 0.2, 'gamma': 0.2, 'max_depth': 7, 'min_child_weight': 2, 'n_estimators': 100, 'subsample': 0.5}\n",
      "0.498 (+/-0.032) for {'colsample_bytree': 0.5, 'eta': 0.2, 'gamma': 0.2, 'max_depth': 7, 'min_child_weight': 2, 'n_estimators': 100, 'subsample': 0.6}\n",
      "0.482 (+/-0.057) for {'colsample_bytree': 0.5, 'eta': 0.2, 'gamma': 0.2, 'max_depth': 7, 'min_child_weight': 2, 'n_estimators': 100, 'subsample': 0.8}\n",
      "0.479 (+/-0.051) for {'colsample_bytree': 0.5, 'eta': 0.2, 'gamma': 0.2, 'max_depth': 7, 'min_child_weight': 10, 'n_estimators': 100, 'subsample': 0.5}\n",
      "0.478 (+/-0.031) for {'colsample_bytree': 0.5, 'eta': 0.2, 'gamma': 0.2, 'max_depth': 7, 'min_child_weight': 10, 'n_estimators': 100, 'subsample': 0.6}\n",
      "0.500 (+/-0.058) for {'colsample_bytree': 0.5, 'eta': 0.2, 'gamma': 0.2, 'max_depth': 7, 'min_child_weight': 10, 'n_estimators': 100, 'subsample': 0.8}\n",
      "0.474 (+/-0.020) for {'colsample_bytree': 0.6, 'eta': 0.2, 'gamma': 0, 'max_depth': 3, 'min_child_weight': 0.5, 'n_estimators': 100, 'subsample': 0.5}\n",
      "0.477 (+/-0.023) for {'colsample_bytree': 0.6, 'eta': 0.2, 'gamma': 0, 'max_depth': 3, 'min_child_weight': 0.5, 'n_estimators': 100, 'subsample': 0.6}\n",
      "0.483 (+/-0.058) for {'colsample_bytree': 0.6, 'eta': 0.2, 'gamma': 0, 'max_depth': 3, 'min_child_weight': 0.5, 'n_estimators': 100, 'subsample': 0.8}\n",
      "0.472 (+/-0.040) for {'colsample_bytree': 0.6, 'eta': 0.2, 'gamma': 0, 'max_depth': 3, 'min_child_weight': 1, 'n_estimators': 100, 'subsample': 0.5}\n",
      "0.485 (+/-0.033) for {'colsample_bytree': 0.6, 'eta': 0.2, 'gamma': 0, 'max_depth': 3, 'min_child_weight': 1, 'n_estimators': 100, 'subsample': 0.6}\n",
      "0.487 (+/-0.057) for {'colsample_bytree': 0.6, 'eta': 0.2, 'gamma': 0, 'max_depth': 3, 'min_child_weight': 1, 'n_estimators': 100, 'subsample': 0.8}\n",
      "0.459 (+/-0.032) for {'colsample_bytree': 0.6, 'eta': 0.2, 'gamma': 0, 'max_depth': 3, 'min_child_weight': 1.5, 'n_estimators': 100, 'subsample': 0.5}\n",
      "0.478 (+/-0.022) for {'colsample_bytree': 0.6, 'eta': 0.2, 'gamma': 0, 'max_depth': 3, 'min_child_weight': 1.5, 'n_estimators': 100, 'subsample': 0.6}\n",
      "0.501 (+/-0.045) for {'colsample_bytree': 0.6, 'eta': 0.2, 'gamma': 0, 'max_depth': 3, 'min_child_weight': 1.5, 'n_estimators': 100, 'subsample': 0.8}\n",
      "0.462 (+/-0.047) for {'colsample_bytree': 0.6, 'eta': 0.2, 'gamma': 0, 'max_depth': 3, 'min_child_weight': 2, 'n_estimators': 100, 'subsample': 0.5}\n",
      "0.484 (+/-0.046) for {'colsample_bytree': 0.6, 'eta': 0.2, 'gamma': 0, 'max_depth': 3, 'min_child_weight': 2, 'n_estimators': 100, 'subsample': 0.6}\n",
      "0.483 (+/-0.040) for {'colsample_bytree': 0.6, 'eta': 0.2, 'gamma': 0, 'max_depth': 3, 'min_child_weight': 2, 'n_estimators': 100, 'subsample': 0.8}\n",
      "0.463 (+/-0.036) for {'colsample_bytree': 0.6, 'eta': 0.2, 'gamma': 0, 'max_depth': 3, 'min_child_weight': 10, 'n_estimators': 100, 'subsample': 0.5}\n",
      "0.468 (+/-0.033) for {'colsample_bytree': 0.6, 'eta': 0.2, 'gamma': 0, 'max_depth': 3, 'min_child_weight': 10, 'n_estimators': 100, 'subsample': 0.6}\n",
      "0.484 (+/-0.051) for {'colsample_bytree': 0.6, 'eta': 0.2, 'gamma': 0, 'max_depth': 3, 'min_child_weight': 10, 'n_estimators': 100, 'subsample': 0.8}\n",
      "0.483 (+/-0.053) for {'colsample_bytree': 0.6, 'eta': 0.2, 'gamma': 0, 'max_depth': 5, 'min_child_weight': 0.5, 'n_estimators': 100, 'subsample': 0.5}\n",
      "0.474 (+/-0.032) for {'colsample_bytree': 0.6, 'eta': 0.2, 'gamma': 0, 'max_depth': 5, 'min_child_weight': 0.5, 'n_estimators': 100, 'subsample': 0.6}\n",
      "0.495 (+/-0.038) for {'colsample_bytree': 0.6, 'eta': 0.2, 'gamma': 0, 'max_depth': 5, 'min_child_weight': 0.5, 'n_estimators': 100, 'subsample': 0.8}\n",
      "0.470 (+/-0.061) for {'colsample_bytree': 0.6, 'eta': 0.2, 'gamma': 0, 'max_depth': 5, 'min_child_weight': 1, 'n_estimators': 100, 'subsample': 0.5}\n",
      "0.475 (+/-0.037) for {'colsample_bytree': 0.6, 'eta': 0.2, 'gamma': 0, 'max_depth': 5, 'min_child_weight': 1, 'n_estimators': 100, 'subsample': 0.6}\n",
      "0.489 (+/-0.053) for {'colsample_bytree': 0.6, 'eta': 0.2, 'gamma': 0, 'max_depth': 5, 'min_child_weight': 1, 'n_estimators': 100, 'subsample': 0.8}\n",
      "0.483 (+/-0.038) for {'colsample_bytree': 0.6, 'eta': 0.2, 'gamma': 0, 'max_depth': 5, 'min_child_weight': 1.5, 'n_estimators': 100, 'subsample': 0.5}\n",
      "0.488 (+/-0.048) for {'colsample_bytree': 0.6, 'eta': 0.2, 'gamma': 0, 'max_depth': 5, 'min_child_weight': 1.5, 'n_estimators': 100, 'subsample': 0.6}\n",
      "0.492 (+/-0.046) for {'colsample_bytree': 0.6, 'eta': 0.2, 'gamma': 0, 'max_depth': 5, 'min_child_weight': 1.5, 'n_estimators': 100, 'subsample': 0.8}\n",
      "0.475 (+/-0.037) for {'colsample_bytree': 0.6, 'eta': 0.2, 'gamma': 0, 'max_depth': 5, 'min_child_weight': 2, 'n_estimators': 100, 'subsample': 0.5}\n",
      "0.474 (+/-0.049) for {'colsample_bytree': 0.6, 'eta': 0.2, 'gamma': 0, 'max_depth': 5, 'min_child_weight': 2, 'n_estimators': 100, 'subsample': 0.6}\n",
      "0.478 (+/-0.057) for {'colsample_bytree': 0.6, 'eta': 0.2, 'gamma': 0, 'max_depth': 5, 'min_child_weight': 2, 'n_estimators': 100, 'subsample': 0.8}\n",
      "0.462 (+/-0.067) for {'colsample_bytree': 0.6, 'eta': 0.2, 'gamma': 0, 'max_depth': 5, 'min_child_weight': 10, 'n_estimators': 100, 'subsample': 0.5}\n",
      "0.472 (+/-0.058) for {'colsample_bytree': 0.6, 'eta': 0.2, 'gamma': 0, 'max_depth': 5, 'min_child_weight': 10, 'n_estimators': 100, 'subsample': 0.6}\n",
      "0.488 (+/-0.047) for {'colsample_bytree': 0.6, 'eta': 0.2, 'gamma': 0, 'max_depth': 5, 'min_child_weight': 10, 'n_estimators': 100, 'subsample': 0.8}\n",
      "0.475 (+/-0.058) for {'colsample_bytree': 0.6, 'eta': 0.2, 'gamma': 0, 'max_depth': 7, 'min_child_weight': 0.5, 'n_estimators': 100, 'subsample': 0.5}\n",
      "0.484 (+/-0.065) for {'colsample_bytree': 0.6, 'eta': 0.2, 'gamma': 0, 'max_depth': 7, 'min_child_weight': 0.5, 'n_estimators': 100, 'subsample': 0.6}\n",
      "0.489 (+/-0.069) for {'colsample_bytree': 0.6, 'eta': 0.2, 'gamma': 0, 'max_depth': 7, 'min_child_weight': 0.5, 'n_estimators': 100, 'subsample': 0.8}\n",
      "0.477 (+/-0.059) for {'colsample_bytree': 0.6, 'eta': 0.2, 'gamma': 0, 'max_depth': 7, 'min_child_weight': 1, 'n_estimators': 100, 'subsample': 0.5}\n",
      "0.475 (+/-0.065) for {'colsample_bytree': 0.6, 'eta': 0.2, 'gamma': 0, 'max_depth': 7, 'min_child_weight': 1, 'n_estimators': 100, 'subsample': 0.6}\n",
      "0.487 (+/-0.050) for {'colsample_bytree': 0.6, 'eta': 0.2, 'gamma': 0, 'max_depth': 7, 'min_child_weight': 1, 'n_estimators': 100, 'subsample': 0.8}\n",
      "0.486 (+/-0.053) for {'colsample_bytree': 0.6, 'eta': 0.2, 'gamma': 0, 'max_depth': 7, 'min_child_weight': 1.5, 'n_estimators': 100, 'subsample': 0.5}\n",
      "0.475 (+/-0.025) for {'colsample_bytree': 0.6, 'eta': 0.2, 'gamma': 0, 'max_depth': 7, 'min_child_weight': 1.5, 'n_estimators': 100, 'subsample': 0.6}\n",
      "0.482 (+/-0.050) for {'colsample_bytree': 0.6, 'eta': 0.2, 'gamma': 0, 'max_depth': 7, 'min_child_weight': 1.5, 'n_estimators': 100, 'subsample': 0.8}\n",
      "0.483 (+/-0.049) for {'colsample_bytree': 0.6, 'eta': 0.2, 'gamma': 0, 'max_depth': 7, 'min_child_weight': 2, 'n_estimators': 100, 'subsample': 0.5}\n",
      "0.480 (+/-0.020) for {'colsample_bytree': 0.6, 'eta': 0.2, 'gamma': 0, 'max_depth': 7, 'min_child_weight': 2, 'n_estimators': 100, 'subsample': 0.6}\n",
      "0.505 (+/-0.056) for {'colsample_bytree': 0.6, 'eta': 0.2, 'gamma': 0, 'max_depth': 7, 'min_child_weight': 2, 'n_estimators': 100, 'subsample': 0.8}\n",
      "0.473 (+/-0.027) for {'colsample_bytree': 0.6, 'eta': 0.2, 'gamma': 0, 'max_depth': 7, 'min_child_weight': 10, 'n_estimators': 100, 'subsample': 0.5}\n",
      "0.476 (+/-0.049) for {'colsample_bytree': 0.6, 'eta': 0.2, 'gamma': 0, 'max_depth': 7, 'min_child_weight': 10, 'n_estimators': 100, 'subsample': 0.6}\n",
      "0.487 (+/-0.066) for {'colsample_bytree': 0.6, 'eta': 0.2, 'gamma': 0, 'max_depth': 7, 'min_child_weight': 10, 'n_estimators': 100, 'subsample': 0.8}\n",
      "0.476 (+/-0.021) for {'colsample_bytree': 0.6, 'eta': 0.2, 'gamma': 0.1, 'max_depth': 3, 'min_child_weight': 0.5, 'n_estimators': 100, 'subsample': 0.5}\n",
      "0.469 (+/-0.034) for {'colsample_bytree': 0.6, 'eta': 0.2, 'gamma': 0.1, 'max_depth': 3, 'min_child_weight': 0.5, 'n_estimators': 100, 'subsample': 0.6}\n",
      "0.491 (+/-0.032) for {'colsample_bytree': 0.6, 'eta': 0.2, 'gamma': 0.1, 'max_depth': 3, 'min_child_weight': 0.5, 'n_estimators': 100, 'subsample': 0.8}\n",
      "0.469 (+/-0.041) for {'colsample_bytree': 0.6, 'eta': 0.2, 'gamma': 0.1, 'max_depth': 3, 'min_child_weight': 1, 'n_estimators': 100, 'subsample': 0.5}\n",
      "0.488 (+/-0.037) for {'colsample_bytree': 0.6, 'eta': 0.2, 'gamma': 0.1, 'max_depth': 3, 'min_child_weight': 1, 'n_estimators': 100, 'subsample': 0.6}\n",
      "0.488 (+/-0.057) for {'colsample_bytree': 0.6, 'eta': 0.2, 'gamma': 0.1, 'max_depth': 3, 'min_child_weight': 1, 'n_estimators': 100, 'subsample': 0.8}\n",
      "0.460 (+/-0.049) for {'colsample_bytree': 0.6, 'eta': 0.2, 'gamma': 0.1, 'max_depth': 3, 'min_child_weight': 1.5, 'n_estimators': 100, 'subsample': 0.5}\n",
      "0.478 (+/-0.022) for {'colsample_bytree': 0.6, 'eta': 0.2, 'gamma': 0.1, 'max_depth': 3, 'min_child_weight': 1.5, 'n_estimators': 100, 'subsample': 0.6}\n",
      "0.489 (+/-0.059) for {'colsample_bytree': 0.6, 'eta': 0.2, 'gamma': 0.1, 'max_depth': 3, 'min_child_weight': 1.5, 'n_estimators': 100, 'subsample': 0.8}\n",
      "0.459 (+/-0.041) for {'colsample_bytree': 0.6, 'eta': 0.2, 'gamma': 0.1, 'max_depth': 3, 'min_child_weight': 2, 'n_estimators': 100, 'subsample': 0.5}\n",
      "0.482 (+/-0.030) for {'colsample_bytree': 0.6, 'eta': 0.2, 'gamma': 0.1, 'max_depth': 3, 'min_child_weight': 2, 'n_estimators': 100, 'subsample': 0.6}\n",
      "0.481 (+/-0.049) for {'colsample_bytree': 0.6, 'eta': 0.2, 'gamma': 0.1, 'max_depth': 3, 'min_child_weight': 2, 'n_estimators': 100, 'subsample': 0.8}\n",
      "0.463 (+/-0.032) for {'colsample_bytree': 0.6, 'eta': 0.2, 'gamma': 0.1, 'max_depth': 3, 'min_child_weight': 10, 'n_estimators': 100, 'subsample': 0.5}\n",
      "0.468 (+/-0.035) for {'colsample_bytree': 0.6, 'eta': 0.2, 'gamma': 0.1, 'max_depth': 3, 'min_child_weight': 10, 'n_estimators': 100, 'subsample': 0.6}\n",
      "0.479 (+/-0.039) for {'colsample_bytree': 0.6, 'eta': 0.2, 'gamma': 0.1, 'max_depth': 3, 'min_child_weight': 10, 'n_estimators': 100, 'subsample': 0.8}\n",
      "0.486 (+/-0.037) for {'colsample_bytree': 0.6, 'eta': 0.2, 'gamma': 0.1, 'max_depth': 5, 'min_child_weight': 0.5, 'n_estimators': 100, 'subsample': 0.5}\n",
      "0.479 (+/-0.044) for {'colsample_bytree': 0.6, 'eta': 0.2, 'gamma': 0.1, 'max_depth': 5, 'min_child_weight': 0.5, 'n_estimators': 100, 'subsample': 0.6}\n",
      "0.496 (+/-0.044) for {'colsample_bytree': 0.6, 'eta': 0.2, 'gamma': 0.1, 'max_depth': 5, 'min_child_weight': 0.5, 'n_estimators': 100, 'subsample': 0.8}\n",
      "0.478 (+/-0.034) for {'colsample_bytree': 0.6, 'eta': 0.2, 'gamma': 0.1, 'max_depth': 5, 'min_child_weight': 1, 'n_estimators': 100, 'subsample': 0.5}\n",
      "0.484 (+/-0.052) for {'colsample_bytree': 0.6, 'eta': 0.2, 'gamma': 0.1, 'max_depth': 5, 'min_child_weight': 1, 'n_estimators': 100, 'subsample': 0.6}\n",
      "0.485 (+/-0.038) for {'colsample_bytree': 0.6, 'eta': 0.2, 'gamma': 0.1, 'max_depth': 5, 'min_child_weight': 1, 'n_estimators': 100, 'subsample': 0.8}\n",
      "0.476 (+/-0.047) for {'colsample_bytree': 0.6, 'eta': 0.2, 'gamma': 0.1, 'max_depth': 5, 'min_child_weight': 1.5, 'n_estimators': 100, 'subsample': 0.5}\n",
      "0.480 (+/-0.047) for {'colsample_bytree': 0.6, 'eta': 0.2, 'gamma': 0.1, 'max_depth': 5, 'min_child_weight': 1.5, 'n_estimators': 100, 'subsample': 0.6}\n",
      "0.486 (+/-0.043) for {'colsample_bytree': 0.6, 'eta': 0.2, 'gamma': 0.1, 'max_depth': 5, 'min_child_weight': 1.5, 'n_estimators': 100, 'subsample': 0.8}\n",
      "0.492 (+/-0.056) for {'colsample_bytree': 0.6, 'eta': 0.2, 'gamma': 0.1, 'max_depth': 5, 'min_child_weight': 2, 'n_estimators': 100, 'subsample': 0.5}\n",
      "0.477 (+/-0.040) for {'colsample_bytree': 0.6, 'eta': 0.2, 'gamma': 0.1, 'max_depth': 5, 'min_child_weight': 2, 'n_estimators': 100, 'subsample': 0.6}\n",
      "0.484 (+/-0.053) for {'colsample_bytree': 0.6, 'eta': 0.2, 'gamma': 0.1, 'max_depth': 5, 'min_child_weight': 2, 'n_estimators': 100, 'subsample': 0.8}\n",
      "0.478 (+/-0.055) for {'colsample_bytree': 0.6, 'eta': 0.2, 'gamma': 0.1, 'max_depth': 5, 'min_child_weight': 10, 'n_estimators': 100, 'subsample': 0.5}\n",
      "0.471 (+/-0.041) for {'colsample_bytree': 0.6, 'eta': 0.2, 'gamma': 0.1, 'max_depth': 5, 'min_child_weight': 10, 'n_estimators': 100, 'subsample': 0.6}\n",
      "0.482 (+/-0.038) for {'colsample_bytree': 0.6, 'eta': 0.2, 'gamma': 0.1, 'max_depth': 5, 'min_child_weight': 10, 'n_estimators': 100, 'subsample': 0.8}\n",
      "0.480 (+/-0.022) for {'colsample_bytree': 0.6, 'eta': 0.2, 'gamma': 0.1, 'max_depth': 7, 'min_child_weight': 0.5, 'n_estimators': 100, 'subsample': 0.5}\n",
      "0.467 (+/-0.052) for {'colsample_bytree': 0.6, 'eta': 0.2, 'gamma': 0.1, 'max_depth': 7, 'min_child_weight': 0.5, 'n_estimators': 100, 'subsample': 0.6}\n",
      "0.498 (+/-0.045) for {'colsample_bytree': 0.6, 'eta': 0.2, 'gamma': 0.1, 'max_depth': 7, 'min_child_weight': 0.5, 'n_estimators': 100, 'subsample': 0.8}\n",
      "0.490 (+/-0.045) for {'colsample_bytree': 0.6, 'eta': 0.2, 'gamma': 0.1, 'max_depth': 7, 'min_child_weight': 1, 'n_estimators': 100, 'subsample': 0.5}\n",
      "0.480 (+/-0.050) for {'colsample_bytree': 0.6, 'eta': 0.2, 'gamma': 0.1, 'max_depth': 7, 'min_child_weight': 1, 'n_estimators': 100, 'subsample': 0.6}\n",
      "0.486 (+/-0.047) for {'colsample_bytree': 0.6, 'eta': 0.2, 'gamma': 0.1, 'max_depth': 7, 'min_child_weight': 1, 'n_estimators': 100, 'subsample': 0.8}\n",
      "0.473 (+/-0.061) for {'colsample_bytree': 0.6, 'eta': 0.2, 'gamma': 0.1, 'max_depth': 7, 'min_child_weight': 1.5, 'n_estimators': 100, 'subsample': 0.5}\n",
      "0.490 (+/-0.029) for {'colsample_bytree': 0.6, 'eta': 0.2, 'gamma': 0.1, 'max_depth': 7, 'min_child_weight': 1.5, 'n_estimators': 100, 'subsample': 0.6}\n",
      "0.499 (+/-0.051) for {'colsample_bytree': 0.6, 'eta': 0.2, 'gamma': 0.1, 'max_depth': 7, 'min_child_weight': 1.5, 'n_estimators': 100, 'subsample': 0.8}\n",
      "0.489 (+/-0.024) for {'colsample_bytree': 0.6, 'eta': 0.2, 'gamma': 0.1, 'max_depth': 7, 'min_child_weight': 2, 'n_estimators': 100, 'subsample': 0.5}\n",
      "0.498 (+/-0.041) for {'colsample_bytree': 0.6, 'eta': 0.2, 'gamma': 0.1, 'max_depth': 7, 'min_child_weight': 2, 'n_estimators': 100, 'subsample': 0.6}\n",
      "0.486 (+/-0.058) for {'colsample_bytree': 0.6, 'eta': 0.2, 'gamma': 0.1, 'max_depth': 7, 'min_child_weight': 2, 'n_estimators': 100, 'subsample': 0.8}\n",
      "0.479 (+/-0.069) for {'colsample_bytree': 0.6, 'eta': 0.2, 'gamma': 0.1, 'max_depth': 7, 'min_child_weight': 10, 'n_estimators': 100, 'subsample': 0.5}\n",
      "0.478 (+/-0.033) for {'colsample_bytree': 0.6, 'eta': 0.2, 'gamma': 0.1, 'max_depth': 7, 'min_child_weight': 10, 'n_estimators': 100, 'subsample': 0.6}\n",
      "0.481 (+/-0.045) for {'colsample_bytree': 0.6, 'eta': 0.2, 'gamma': 0.1, 'max_depth': 7, 'min_child_weight': 10, 'n_estimators': 100, 'subsample': 0.8}\n",
      "0.469 (+/-0.032) for {'colsample_bytree': 0.6, 'eta': 0.2, 'gamma': 0.2, 'max_depth': 3, 'min_child_weight': 0.5, 'n_estimators': 100, 'subsample': 0.5}\n",
      "0.469 (+/-0.035) for {'colsample_bytree': 0.6, 'eta': 0.2, 'gamma': 0.2, 'max_depth': 3, 'min_child_weight': 0.5, 'n_estimators': 100, 'subsample': 0.6}\n",
      "0.478 (+/-0.038) for {'colsample_bytree': 0.6, 'eta': 0.2, 'gamma': 0.2, 'max_depth': 3, 'min_child_weight': 0.5, 'n_estimators': 100, 'subsample': 0.8}\n",
      "0.463 (+/-0.043) for {'colsample_bytree': 0.6, 'eta': 0.2, 'gamma': 0.2, 'max_depth': 3, 'min_child_weight': 1, 'n_estimators': 100, 'subsample': 0.5}\n",
      "0.479 (+/-0.026) for {'colsample_bytree': 0.6, 'eta': 0.2, 'gamma': 0.2, 'max_depth': 3, 'min_child_weight': 1, 'n_estimators': 100, 'subsample': 0.6}\n",
      "0.485 (+/-0.056) for {'colsample_bytree': 0.6, 'eta': 0.2, 'gamma': 0.2, 'max_depth': 3, 'min_child_weight': 1, 'n_estimators': 100, 'subsample': 0.8}\n",
      "0.464 (+/-0.050) for {'colsample_bytree': 0.6, 'eta': 0.2, 'gamma': 0.2, 'max_depth': 3, 'min_child_weight': 1.5, 'n_estimators': 100, 'subsample': 0.5}\n",
      "0.473 (+/-0.023) for {'colsample_bytree': 0.6, 'eta': 0.2, 'gamma': 0.2, 'max_depth': 3, 'min_child_weight': 1.5, 'n_estimators': 100, 'subsample': 0.6}\n",
      "0.490 (+/-0.068) for {'colsample_bytree': 0.6, 'eta': 0.2, 'gamma': 0.2, 'max_depth': 3, 'min_child_weight': 1.5, 'n_estimators': 100, 'subsample': 0.8}\n",
      "0.464 (+/-0.020) for {'colsample_bytree': 0.6, 'eta': 0.2, 'gamma': 0.2, 'max_depth': 3, 'min_child_weight': 2, 'n_estimators': 100, 'subsample': 0.5}\n",
      "0.466 (+/-0.026) for {'colsample_bytree': 0.6, 'eta': 0.2, 'gamma': 0.2, 'max_depth': 3, 'min_child_weight': 2, 'n_estimators': 100, 'subsample': 0.6}\n",
      "0.484 (+/-0.052) for {'colsample_bytree': 0.6, 'eta': 0.2, 'gamma': 0.2, 'max_depth': 3, 'min_child_weight': 2, 'n_estimators': 100, 'subsample': 0.8}\n",
      "0.463 (+/-0.039) for {'colsample_bytree': 0.6, 'eta': 0.2, 'gamma': 0.2, 'max_depth': 3, 'min_child_weight': 10, 'n_estimators': 100, 'subsample': 0.5}\n",
      "0.464 (+/-0.034) for {'colsample_bytree': 0.6, 'eta': 0.2, 'gamma': 0.2, 'max_depth': 3, 'min_child_weight': 10, 'n_estimators': 100, 'subsample': 0.6}\n",
      "0.477 (+/-0.040) for {'colsample_bytree': 0.6, 'eta': 0.2, 'gamma': 0.2, 'max_depth': 3, 'min_child_weight': 10, 'n_estimators': 100, 'subsample': 0.8}\n",
      "0.477 (+/-0.040) for {'colsample_bytree': 0.6, 'eta': 0.2, 'gamma': 0.2, 'max_depth': 5, 'min_child_weight': 0.5, 'n_estimators': 100, 'subsample': 0.5}\n",
      "0.461 (+/-0.039) for {'colsample_bytree': 0.6, 'eta': 0.2, 'gamma': 0.2, 'max_depth': 5, 'min_child_weight': 0.5, 'n_estimators': 100, 'subsample': 0.6}\n",
      "0.498 (+/-0.068) for {'colsample_bytree': 0.6, 'eta': 0.2, 'gamma': 0.2, 'max_depth': 5, 'min_child_weight': 0.5, 'n_estimators': 100, 'subsample': 0.8}\n",
      "0.491 (+/-0.073) for {'colsample_bytree': 0.6, 'eta': 0.2, 'gamma': 0.2, 'max_depth': 5, 'min_child_weight': 1, 'n_estimators': 100, 'subsample': 0.5}\n",
      "0.474 (+/-0.041) for {'colsample_bytree': 0.6, 'eta': 0.2, 'gamma': 0.2, 'max_depth': 5, 'min_child_weight': 1, 'n_estimators': 100, 'subsample': 0.6}\n",
      "0.492 (+/-0.032) for {'colsample_bytree': 0.6, 'eta': 0.2, 'gamma': 0.2, 'max_depth': 5, 'min_child_weight': 1, 'n_estimators': 100, 'subsample': 0.8}\n",
      "0.468 (+/-0.039) for {'colsample_bytree': 0.6, 'eta': 0.2, 'gamma': 0.2, 'max_depth': 5, 'min_child_weight': 1.5, 'n_estimators': 100, 'subsample': 0.5}\n",
      "0.490 (+/-0.042) for {'colsample_bytree': 0.6, 'eta': 0.2, 'gamma': 0.2, 'max_depth': 5, 'min_child_weight': 1.5, 'n_estimators': 100, 'subsample': 0.6}\n",
      "0.473 (+/-0.045) for {'colsample_bytree': 0.6, 'eta': 0.2, 'gamma': 0.2, 'max_depth': 5, 'min_child_weight': 1.5, 'n_estimators': 100, 'subsample': 0.8}\n",
      "0.474 (+/-0.031) for {'colsample_bytree': 0.6, 'eta': 0.2, 'gamma': 0.2, 'max_depth': 5, 'min_child_weight': 2, 'n_estimators': 100, 'subsample': 0.5}\n",
      "0.486 (+/-0.040) for {'colsample_bytree': 0.6, 'eta': 0.2, 'gamma': 0.2, 'max_depth': 5, 'min_child_weight': 2, 'n_estimators': 100, 'subsample': 0.6}\n",
      "0.491 (+/-0.055) for {'colsample_bytree': 0.6, 'eta': 0.2, 'gamma': 0.2, 'max_depth': 5, 'min_child_weight': 2, 'n_estimators': 100, 'subsample': 0.8}\n",
      "0.475 (+/-0.040) for {'colsample_bytree': 0.6, 'eta': 0.2, 'gamma': 0.2, 'max_depth': 5, 'min_child_weight': 10, 'n_estimators': 100, 'subsample': 0.5}\n",
      "0.464 (+/-0.033) for {'colsample_bytree': 0.6, 'eta': 0.2, 'gamma': 0.2, 'max_depth': 5, 'min_child_weight': 10, 'n_estimators': 100, 'subsample': 0.6}\n",
      "0.476 (+/-0.048) for {'colsample_bytree': 0.6, 'eta': 0.2, 'gamma': 0.2, 'max_depth': 5, 'min_child_weight': 10, 'n_estimators': 100, 'subsample': 0.8}\n",
      "0.482 (+/-0.039) for {'colsample_bytree': 0.6, 'eta': 0.2, 'gamma': 0.2, 'max_depth': 7, 'min_child_weight': 0.5, 'n_estimators': 100, 'subsample': 0.5}\n",
      "0.474 (+/-0.019) for {'colsample_bytree': 0.6, 'eta': 0.2, 'gamma': 0.2, 'max_depth': 7, 'min_child_weight': 0.5, 'n_estimators': 100, 'subsample': 0.6}\n",
      "0.500 (+/-0.056) for {'colsample_bytree': 0.6, 'eta': 0.2, 'gamma': 0.2, 'max_depth': 7, 'min_child_weight': 0.5, 'n_estimators': 100, 'subsample': 0.8}\n",
      "0.474 (+/-0.031) for {'colsample_bytree': 0.6, 'eta': 0.2, 'gamma': 0.2, 'max_depth': 7, 'min_child_weight': 1, 'n_estimators': 100, 'subsample': 0.5}\n",
      "0.481 (+/-0.039) for {'colsample_bytree': 0.6, 'eta': 0.2, 'gamma': 0.2, 'max_depth': 7, 'min_child_weight': 1, 'n_estimators': 100, 'subsample': 0.6}\n",
      "0.502 (+/-0.040) for {'colsample_bytree': 0.6, 'eta': 0.2, 'gamma': 0.2, 'max_depth': 7, 'min_child_weight': 1, 'n_estimators': 100, 'subsample': 0.8}\n",
      "0.486 (+/-0.055) for {'colsample_bytree': 0.6, 'eta': 0.2, 'gamma': 0.2, 'max_depth': 7, 'min_child_weight': 1.5, 'n_estimators': 100, 'subsample': 0.5}\n",
      "0.492 (+/-0.025) for {'colsample_bytree': 0.6, 'eta': 0.2, 'gamma': 0.2, 'max_depth': 7, 'min_child_weight': 1.5, 'n_estimators': 100, 'subsample': 0.6}\n",
      "0.505 (+/-0.051) for {'colsample_bytree': 0.6, 'eta': 0.2, 'gamma': 0.2, 'max_depth': 7, 'min_child_weight': 1.5, 'n_estimators': 100, 'subsample': 0.8}\n",
      "0.482 (+/-0.033) for {'colsample_bytree': 0.6, 'eta': 0.2, 'gamma': 0.2, 'max_depth': 7, 'min_child_weight': 2, 'n_estimators': 100, 'subsample': 0.5}\n",
      "0.508 (+/-0.026) for {'colsample_bytree': 0.6, 'eta': 0.2, 'gamma': 0.2, 'max_depth': 7, 'min_child_weight': 2, 'n_estimators': 100, 'subsample': 0.6}\n",
      "0.490 (+/-0.061) for {'colsample_bytree': 0.6, 'eta': 0.2, 'gamma': 0.2, 'max_depth': 7, 'min_child_weight': 2, 'n_estimators': 100, 'subsample': 0.8}\n",
      "0.478 (+/-0.043) for {'colsample_bytree': 0.6, 'eta': 0.2, 'gamma': 0.2, 'max_depth': 7, 'min_child_weight': 10, 'n_estimators': 100, 'subsample': 0.5}\n",
      "0.472 (+/-0.068) for {'colsample_bytree': 0.6, 'eta': 0.2, 'gamma': 0.2, 'max_depth': 7, 'min_child_weight': 10, 'n_estimators': 100, 'subsample': 0.6}\n",
      "0.484 (+/-0.065) for {'colsample_bytree': 0.6, 'eta': 0.2, 'gamma': 0.2, 'max_depth': 7, 'min_child_weight': 10, 'n_estimators': 100, 'subsample': 0.8}\n",
      "0.456 (+/-0.058) for {'colsample_bytree': 0.8, 'eta': 0.2, 'gamma': 0, 'max_depth': 3, 'min_child_weight': 0.5, 'n_estimators': 100, 'subsample': 0.5}\n",
      "0.486 (+/-0.029) for {'colsample_bytree': 0.8, 'eta': 0.2, 'gamma': 0, 'max_depth': 3, 'min_child_weight': 0.5, 'n_estimators': 100, 'subsample': 0.6}\n",
      "0.488 (+/-0.043) for {'colsample_bytree': 0.8, 'eta': 0.2, 'gamma': 0, 'max_depth': 3, 'min_child_weight': 0.5, 'n_estimators': 100, 'subsample': 0.8}\n",
      "0.467 (+/-0.051) for {'colsample_bytree': 0.8, 'eta': 0.2, 'gamma': 0, 'max_depth': 3, 'min_child_weight': 1, 'n_estimators': 100, 'subsample': 0.5}\n",
      "0.486 (+/-0.025) for {'colsample_bytree': 0.8, 'eta': 0.2, 'gamma': 0, 'max_depth': 3, 'min_child_weight': 1, 'n_estimators': 100, 'subsample': 0.6}\n",
      "0.478 (+/-0.064) for {'colsample_bytree': 0.8, 'eta': 0.2, 'gamma': 0, 'max_depth': 3, 'min_child_weight': 1, 'n_estimators': 100, 'subsample': 0.8}\n",
      "0.464 (+/-0.040) for {'colsample_bytree': 0.8, 'eta': 0.2, 'gamma': 0, 'max_depth': 3, 'min_child_weight': 1.5, 'n_estimators': 100, 'subsample': 0.5}\n",
      "0.483 (+/-0.035) for {'colsample_bytree': 0.8, 'eta': 0.2, 'gamma': 0, 'max_depth': 3, 'min_child_weight': 1.5, 'n_estimators': 100, 'subsample': 0.6}\n",
      "0.496 (+/-0.064) for {'colsample_bytree': 0.8, 'eta': 0.2, 'gamma': 0, 'max_depth': 3, 'min_child_weight': 1.5, 'n_estimators': 100, 'subsample': 0.8}\n",
      "0.462 (+/-0.066) for {'colsample_bytree': 0.8, 'eta': 0.2, 'gamma': 0, 'max_depth': 3, 'min_child_weight': 2, 'n_estimators': 100, 'subsample': 0.5}\n",
      "0.465 (+/-0.038) for {'colsample_bytree': 0.8, 'eta': 0.2, 'gamma': 0, 'max_depth': 3, 'min_child_weight': 2, 'n_estimators': 100, 'subsample': 0.6}\n",
      "0.477 (+/-0.062) for {'colsample_bytree': 0.8, 'eta': 0.2, 'gamma': 0, 'max_depth': 3, 'min_child_weight': 2, 'n_estimators': 100, 'subsample': 0.8}\n",
      "0.448 (+/-0.066) for {'colsample_bytree': 0.8, 'eta': 0.2, 'gamma': 0, 'max_depth': 3, 'min_child_weight': 10, 'n_estimators': 100, 'subsample': 0.5}\n",
      "0.480 (+/-0.069) for {'colsample_bytree': 0.8, 'eta': 0.2, 'gamma': 0, 'max_depth': 3, 'min_child_weight': 10, 'n_estimators': 100, 'subsample': 0.6}\n",
      "0.474 (+/-0.059) for {'colsample_bytree': 0.8, 'eta': 0.2, 'gamma': 0, 'max_depth': 3, 'min_child_weight': 10, 'n_estimators': 100, 'subsample': 0.8}\n",
      "0.467 (+/-0.067) for {'colsample_bytree': 0.8, 'eta': 0.2, 'gamma': 0, 'max_depth': 5, 'min_child_weight': 0.5, 'n_estimators': 100, 'subsample': 0.5}\n",
      "0.463 (+/-0.031) for {'colsample_bytree': 0.8, 'eta': 0.2, 'gamma': 0, 'max_depth': 5, 'min_child_weight': 0.5, 'n_estimators': 100, 'subsample': 0.6}\n",
      "0.480 (+/-0.041) for {'colsample_bytree': 0.8, 'eta': 0.2, 'gamma': 0, 'max_depth': 5, 'min_child_weight': 0.5, 'n_estimators': 100, 'subsample': 0.8}\n",
      "0.477 (+/-0.018) for {'colsample_bytree': 0.8, 'eta': 0.2, 'gamma': 0, 'max_depth': 5, 'min_child_weight': 1, 'n_estimators': 100, 'subsample': 0.5}\n",
      "0.481 (+/-0.049) for {'colsample_bytree': 0.8, 'eta': 0.2, 'gamma': 0, 'max_depth': 5, 'min_child_weight': 1, 'n_estimators': 100, 'subsample': 0.6}\n",
      "0.483 (+/-0.020) for {'colsample_bytree': 0.8, 'eta': 0.2, 'gamma': 0, 'max_depth': 5, 'min_child_weight': 1, 'n_estimators': 100, 'subsample': 0.8}\n",
      "0.477 (+/-0.034) for {'colsample_bytree': 0.8, 'eta': 0.2, 'gamma': 0, 'max_depth': 5, 'min_child_weight': 1.5, 'n_estimators': 100, 'subsample': 0.5}\n",
      "0.479 (+/-0.066) for {'colsample_bytree': 0.8, 'eta': 0.2, 'gamma': 0, 'max_depth': 5, 'min_child_weight': 1.5, 'n_estimators': 100, 'subsample': 0.6}\n",
      "0.487 (+/-0.063) for {'colsample_bytree': 0.8, 'eta': 0.2, 'gamma': 0, 'max_depth': 5, 'min_child_weight': 1.5, 'n_estimators': 100, 'subsample': 0.8}\n",
      "0.481 (+/-0.039) for {'colsample_bytree': 0.8, 'eta': 0.2, 'gamma': 0, 'max_depth': 5, 'min_child_weight': 2, 'n_estimators': 100, 'subsample': 0.5}\n",
      "0.485 (+/-0.044) for {'colsample_bytree': 0.8, 'eta': 0.2, 'gamma': 0, 'max_depth': 5, 'min_child_weight': 2, 'n_estimators': 100, 'subsample': 0.6}\n",
      "0.472 (+/-0.044) for {'colsample_bytree': 0.8, 'eta': 0.2, 'gamma': 0, 'max_depth': 5, 'min_child_weight': 2, 'n_estimators': 100, 'subsample': 0.8}\n",
      "0.462 (+/-0.078) for {'colsample_bytree': 0.8, 'eta': 0.2, 'gamma': 0, 'max_depth': 5, 'min_child_weight': 10, 'n_estimators': 100, 'subsample': 0.5}\n",
      "0.476 (+/-0.048) for {'colsample_bytree': 0.8, 'eta': 0.2, 'gamma': 0, 'max_depth': 5, 'min_child_weight': 10, 'n_estimators': 100, 'subsample': 0.6}\n",
      "0.486 (+/-0.049) for {'colsample_bytree': 0.8, 'eta': 0.2, 'gamma': 0, 'max_depth': 5, 'min_child_weight': 10, 'n_estimators': 100, 'subsample': 0.8}\n",
      "0.472 (+/-0.036) for {'colsample_bytree': 0.8, 'eta': 0.2, 'gamma': 0, 'max_depth': 7, 'min_child_weight': 0.5, 'n_estimators': 100, 'subsample': 0.5}\n",
      "0.453 (+/-0.045) for {'colsample_bytree': 0.8, 'eta': 0.2, 'gamma': 0, 'max_depth': 7, 'min_child_weight': 0.5, 'n_estimators': 100, 'subsample': 0.6}\n",
      "0.486 (+/-0.041) for {'colsample_bytree': 0.8, 'eta': 0.2, 'gamma': 0, 'max_depth': 7, 'min_child_weight': 0.5, 'n_estimators': 100, 'subsample': 0.8}\n",
      "0.460 (+/-0.042) for {'colsample_bytree': 0.8, 'eta': 0.2, 'gamma': 0, 'max_depth': 7, 'min_child_weight': 1, 'n_estimators': 100, 'subsample': 0.5}\n",
      "0.479 (+/-0.032) for {'colsample_bytree': 0.8, 'eta': 0.2, 'gamma': 0, 'max_depth': 7, 'min_child_weight': 1, 'n_estimators': 100, 'subsample': 0.6}\n",
      "0.491 (+/-0.067) for {'colsample_bytree': 0.8, 'eta': 0.2, 'gamma': 0, 'max_depth': 7, 'min_child_weight': 1, 'n_estimators': 100, 'subsample': 0.8}\n",
      "0.504 (+/-0.029) for {'colsample_bytree': 0.8, 'eta': 0.2, 'gamma': 0, 'max_depth': 7, 'min_child_weight': 1.5, 'n_estimators': 100, 'subsample': 0.5}\n",
      "0.488 (+/-0.081) for {'colsample_bytree': 0.8, 'eta': 0.2, 'gamma': 0, 'max_depth': 7, 'min_child_weight': 1.5, 'n_estimators': 100, 'subsample': 0.6}\n",
      "0.486 (+/-0.029) for {'colsample_bytree': 0.8, 'eta': 0.2, 'gamma': 0, 'max_depth': 7, 'min_child_weight': 1.5, 'n_estimators': 100, 'subsample': 0.8}\n",
      "0.467 (+/-0.016) for {'colsample_bytree': 0.8, 'eta': 0.2, 'gamma': 0, 'max_depth': 7, 'min_child_weight': 2, 'n_estimators': 100, 'subsample': 0.5}\n",
      "0.494 (+/-0.037) for {'colsample_bytree': 0.8, 'eta': 0.2, 'gamma': 0, 'max_depth': 7, 'min_child_weight': 2, 'n_estimators': 100, 'subsample': 0.6}\n",
      "0.494 (+/-0.034) for {'colsample_bytree': 0.8, 'eta': 0.2, 'gamma': 0, 'max_depth': 7, 'min_child_weight': 2, 'n_estimators': 100, 'subsample': 0.8}\n",
      "0.469 (+/-0.086) for {'colsample_bytree': 0.8, 'eta': 0.2, 'gamma': 0, 'max_depth': 7, 'min_child_weight': 10, 'n_estimators': 100, 'subsample': 0.5}\n",
      "0.484 (+/-0.052) for {'colsample_bytree': 0.8, 'eta': 0.2, 'gamma': 0, 'max_depth': 7, 'min_child_weight': 10, 'n_estimators': 100, 'subsample': 0.6}\n",
      "0.496 (+/-0.031) for {'colsample_bytree': 0.8, 'eta': 0.2, 'gamma': 0, 'max_depth': 7, 'min_child_weight': 10, 'n_estimators': 100, 'subsample': 0.8}\n",
      "0.462 (+/-0.034) for {'colsample_bytree': 0.8, 'eta': 0.2, 'gamma': 0.1, 'max_depth': 3, 'min_child_weight': 0.5, 'n_estimators': 100, 'subsample': 0.5}\n",
      "0.488 (+/-0.038) for {'colsample_bytree': 0.8, 'eta': 0.2, 'gamma': 0.1, 'max_depth': 3, 'min_child_weight': 0.5, 'n_estimators': 100, 'subsample': 0.6}\n",
      "0.490 (+/-0.037) for {'colsample_bytree': 0.8, 'eta': 0.2, 'gamma': 0.1, 'max_depth': 3, 'min_child_weight': 0.5, 'n_estimators': 100, 'subsample': 0.8}\n",
      "0.476 (+/-0.038) for {'colsample_bytree': 0.8, 'eta': 0.2, 'gamma': 0.1, 'max_depth': 3, 'min_child_weight': 1, 'n_estimators': 100, 'subsample': 0.5}\n",
      "0.487 (+/-0.029) for {'colsample_bytree': 0.8, 'eta': 0.2, 'gamma': 0.1, 'max_depth': 3, 'min_child_weight': 1, 'n_estimators': 100, 'subsample': 0.6}\n",
      "0.481 (+/-0.058) for {'colsample_bytree': 0.8, 'eta': 0.2, 'gamma': 0.1, 'max_depth': 3, 'min_child_weight': 1, 'n_estimators': 100, 'subsample': 0.8}\n",
      "0.473 (+/-0.052) for {'colsample_bytree': 0.8, 'eta': 0.2, 'gamma': 0.1, 'max_depth': 3, 'min_child_weight': 1.5, 'n_estimators': 100, 'subsample': 0.5}\n",
      "0.471 (+/-0.030) for {'colsample_bytree': 0.8, 'eta': 0.2, 'gamma': 0.1, 'max_depth': 3, 'min_child_weight': 1.5, 'n_estimators': 100, 'subsample': 0.6}\n",
      "0.496 (+/-0.058) for {'colsample_bytree': 0.8, 'eta': 0.2, 'gamma': 0.1, 'max_depth': 3, 'min_child_weight': 1.5, 'n_estimators': 100, 'subsample': 0.8}\n",
      "0.464 (+/-0.067) for {'colsample_bytree': 0.8, 'eta': 0.2, 'gamma': 0.1, 'max_depth': 3, 'min_child_weight': 2, 'n_estimators': 100, 'subsample': 0.5}\n",
      "0.468 (+/-0.039) for {'colsample_bytree': 0.8, 'eta': 0.2, 'gamma': 0.1, 'max_depth': 3, 'min_child_weight': 2, 'n_estimators': 100, 'subsample': 0.6}\n",
      "0.483 (+/-0.043) for {'colsample_bytree': 0.8, 'eta': 0.2, 'gamma': 0.1, 'max_depth': 3, 'min_child_weight': 2, 'n_estimators': 100, 'subsample': 0.8}\n",
      "0.451 (+/-0.058) for {'colsample_bytree': 0.8, 'eta': 0.2, 'gamma': 0.1, 'max_depth': 3, 'min_child_weight': 10, 'n_estimators': 100, 'subsample': 0.5}\n",
      "0.476 (+/-0.066) for {'colsample_bytree': 0.8, 'eta': 0.2, 'gamma': 0.1, 'max_depth': 3, 'min_child_weight': 10, 'n_estimators': 100, 'subsample': 0.6}\n",
      "0.476 (+/-0.050) for {'colsample_bytree': 0.8, 'eta': 0.2, 'gamma': 0.1, 'max_depth': 3, 'min_child_weight': 10, 'n_estimators': 100, 'subsample': 0.8}\n",
      "0.481 (+/-0.056) for {'colsample_bytree': 0.8, 'eta': 0.2, 'gamma': 0.1, 'max_depth': 5, 'min_child_weight': 0.5, 'n_estimators': 100, 'subsample': 0.5}\n",
      "0.483 (+/-0.038) for {'colsample_bytree': 0.8, 'eta': 0.2, 'gamma': 0.1, 'max_depth': 5, 'min_child_weight': 0.5, 'n_estimators': 100, 'subsample': 0.6}\n",
      "0.494 (+/-0.038) for {'colsample_bytree': 0.8, 'eta': 0.2, 'gamma': 0.1, 'max_depth': 5, 'min_child_weight': 0.5, 'n_estimators': 100, 'subsample': 0.8}\n",
      "0.468 (+/-0.072) for {'colsample_bytree': 0.8, 'eta': 0.2, 'gamma': 0.1, 'max_depth': 5, 'min_child_weight': 1, 'n_estimators': 100, 'subsample': 0.5}\n",
      "0.481 (+/-0.060) for {'colsample_bytree': 0.8, 'eta': 0.2, 'gamma': 0.1, 'max_depth': 5, 'min_child_weight': 1, 'n_estimators': 100, 'subsample': 0.6}\n",
      "0.476 (+/-0.041) for {'colsample_bytree': 0.8, 'eta': 0.2, 'gamma': 0.1, 'max_depth': 5, 'min_child_weight': 1, 'n_estimators': 100, 'subsample': 0.8}\n",
      "0.482 (+/-0.018) for {'colsample_bytree': 0.8, 'eta': 0.2, 'gamma': 0.1, 'max_depth': 5, 'min_child_weight': 1.5, 'n_estimators': 100, 'subsample': 0.5}\n",
      "0.484 (+/-0.028) for {'colsample_bytree': 0.8, 'eta': 0.2, 'gamma': 0.1, 'max_depth': 5, 'min_child_weight': 1.5, 'n_estimators': 100, 'subsample': 0.6}\n",
      "0.507 (+/-0.070) for {'colsample_bytree': 0.8, 'eta': 0.2, 'gamma': 0.1, 'max_depth': 5, 'min_child_weight': 1.5, 'n_estimators': 100, 'subsample': 0.8}\n",
      "0.469 (+/-0.061) for {'colsample_bytree': 0.8, 'eta': 0.2, 'gamma': 0.1, 'max_depth': 5, 'min_child_weight': 2, 'n_estimators': 100, 'subsample': 0.5}\n",
      "0.480 (+/-0.061) for {'colsample_bytree': 0.8, 'eta': 0.2, 'gamma': 0.1, 'max_depth': 5, 'min_child_weight': 2, 'n_estimators': 100, 'subsample': 0.6}\n",
      "0.483 (+/-0.037) for {'colsample_bytree': 0.8, 'eta': 0.2, 'gamma': 0.1, 'max_depth': 5, 'min_child_weight': 2, 'n_estimators': 100, 'subsample': 0.8}\n",
      "0.476 (+/-0.067) for {'colsample_bytree': 0.8, 'eta': 0.2, 'gamma': 0.1, 'max_depth': 5, 'min_child_weight': 10, 'n_estimators': 100, 'subsample': 0.5}\n",
      "0.480 (+/-0.038) for {'colsample_bytree': 0.8, 'eta': 0.2, 'gamma': 0.1, 'max_depth': 5, 'min_child_weight': 10, 'n_estimators': 100, 'subsample': 0.6}\n",
      "0.486 (+/-0.042) for {'colsample_bytree': 0.8, 'eta': 0.2, 'gamma': 0.1, 'max_depth': 5, 'min_child_weight': 10, 'n_estimators': 100, 'subsample': 0.8}\n",
      "0.477 (+/-0.058) for {'colsample_bytree': 0.8, 'eta': 0.2, 'gamma': 0.1, 'max_depth': 7, 'min_child_weight': 0.5, 'n_estimators': 100, 'subsample': 0.5}\n",
      "0.479 (+/-0.031) for {'colsample_bytree': 0.8, 'eta': 0.2, 'gamma': 0.1, 'max_depth': 7, 'min_child_weight': 0.5, 'n_estimators': 100, 'subsample': 0.6}\n",
      "0.497 (+/-0.028) for {'colsample_bytree': 0.8, 'eta': 0.2, 'gamma': 0.1, 'max_depth': 7, 'min_child_weight': 0.5, 'n_estimators': 100, 'subsample': 0.8}\n",
      "0.477 (+/-0.046) for {'colsample_bytree': 0.8, 'eta': 0.2, 'gamma': 0.1, 'max_depth': 7, 'min_child_weight': 1, 'n_estimators': 100, 'subsample': 0.5}\n",
      "0.482 (+/-0.019) for {'colsample_bytree': 0.8, 'eta': 0.2, 'gamma': 0.1, 'max_depth': 7, 'min_child_weight': 1, 'n_estimators': 100, 'subsample': 0.6}\n",
      "0.485 (+/-0.039) for {'colsample_bytree': 0.8, 'eta': 0.2, 'gamma': 0.1, 'max_depth': 7, 'min_child_weight': 1, 'n_estimators': 100, 'subsample': 0.8}\n",
      "0.489 (+/-0.037) for {'colsample_bytree': 0.8, 'eta': 0.2, 'gamma': 0.1, 'max_depth': 7, 'min_child_weight': 1.5, 'n_estimators': 100, 'subsample': 0.5}\n",
      "0.493 (+/-0.017) for {'colsample_bytree': 0.8, 'eta': 0.2, 'gamma': 0.1, 'max_depth': 7, 'min_child_weight': 1.5, 'n_estimators': 100, 'subsample': 0.6}\n",
      "0.488 (+/-0.064) for {'colsample_bytree': 0.8, 'eta': 0.2, 'gamma': 0.1, 'max_depth': 7, 'min_child_weight': 1.5, 'n_estimators': 100, 'subsample': 0.8}\n",
      "0.490 (+/-0.037) for {'colsample_bytree': 0.8, 'eta': 0.2, 'gamma': 0.1, 'max_depth': 7, 'min_child_weight': 2, 'n_estimators': 100, 'subsample': 0.5}\n",
      "0.485 (+/-0.042) for {'colsample_bytree': 0.8, 'eta': 0.2, 'gamma': 0.1, 'max_depth': 7, 'min_child_weight': 2, 'n_estimators': 100, 'subsample': 0.6}\n",
      "0.483 (+/-0.038) for {'colsample_bytree': 0.8, 'eta': 0.2, 'gamma': 0.1, 'max_depth': 7, 'min_child_weight': 2, 'n_estimators': 100, 'subsample': 0.8}\n",
      "0.469 (+/-0.048) for {'colsample_bytree': 0.8, 'eta': 0.2, 'gamma': 0.1, 'max_depth': 7, 'min_child_weight': 10, 'n_estimators': 100, 'subsample': 0.5}\n",
      "0.489 (+/-0.058) for {'colsample_bytree': 0.8, 'eta': 0.2, 'gamma': 0.1, 'max_depth': 7, 'min_child_weight': 10, 'n_estimators': 100, 'subsample': 0.6}\n",
      "0.489 (+/-0.037) for {'colsample_bytree': 0.8, 'eta': 0.2, 'gamma': 0.1, 'max_depth': 7, 'min_child_weight': 10, 'n_estimators': 100, 'subsample': 0.8}\n",
      "0.461 (+/-0.063) for {'colsample_bytree': 0.8, 'eta': 0.2, 'gamma': 0.2, 'max_depth': 3, 'min_child_weight': 0.5, 'n_estimators': 100, 'subsample': 0.5}\n",
      "0.474 (+/-0.032) for {'colsample_bytree': 0.8, 'eta': 0.2, 'gamma': 0.2, 'max_depth': 3, 'min_child_weight': 0.5, 'n_estimators': 100, 'subsample': 0.6}\n",
      "0.493 (+/-0.048) for {'colsample_bytree': 0.8, 'eta': 0.2, 'gamma': 0.2, 'max_depth': 3, 'min_child_weight': 0.5, 'n_estimators': 100, 'subsample': 0.8}\n",
      "0.463 (+/-0.043) for {'colsample_bytree': 0.8, 'eta': 0.2, 'gamma': 0.2, 'max_depth': 3, 'min_child_weight': 1, 'n_estimators': 100, 'subsample': 0.5}\n",
      "0.488 (+/-0.035) for {'colsample_bytree': 0.8, 'eta': 0.2, 'gamma': 0.2, 'max_depth': 3, 'min_child_weight': 1, 'n_estimators': 100, 'subsample': 0.6}\n",
      "0.476 (+/-0.060) for {'colsample_bytree': 0.8, 'eta': 0.2, 'gamma': 0.2, 'max_depth': 3, 'min_child_weight': 1, 'n_estimators': 100, 'subsample': 0.8}\n",
      "0.469 (+/-0.055) for {'colsample_bytree': 0.8, 'eta': 0.2, 'gamma': 0.2, 'max_depth': 3, 'min_child_weight': 1.5, 'n_estimators': 100, 'subsample': 0.5}\n",
      "0.479 (+/-0.056) for {'colsample_bytree': 0.8, 'eta': 0.2, 'gamma': 0.2, 'max_depth': 3, 'min_child_weight': 1.5, 'n_estimators': 100, 'subsample': 0.6}\n",
      "0.504 (+/-0.038) for {'colsample_bytree': 0.8, 'eta': 0.2, 'gamma': 0.2, 'max_depth': 3, 'min_child_weight': 1.5, 'n_estimators': 100, 'subsample': 0.8}\n",
      "0.466 (+/-0.061) for {'colsample_bytree': 0.8, 'eta': 0.2, 'gamma': 0.2, 'max_depth': 3, 'min_child_weight': 2, 'n_estimators': 100, 'subsample': 0.5}\n",
      "0.469 (+/-0.042) for {'colsample_bytree': 0.8, 'eta': 0.2, 'gamma': 0.2, 'max_depth': 3, 'min_child_weight': 2, 'n_estimators': 100, 'subsample': 0.6}\n",
      "0.478 (+/-0.031) for {'colsample_bytree': 0.8, 'eta': 0.2, 'gamma': 0.2, 'max_depth': 3, 'min_child_weight': 2, 'n_estimators': 100, 'subsample': 0.8}\n",
      "0.450 (+/-0.062) for {'colsample_bytree': 0.8, 'eta': 0.2, 'gamma': 0.2, 'max_depth': 3, 'min_child_weight': 10, 'n_estimators': 100, 'subsample': 0.5}\n",
      "0.477 (+/-0.067) for {'colsample_bytree': 0.8, 'eta': 0.2, 'gamma': 0.2, 'max_depth': 3, 'min_child_weight': 10, 'n_estimators': 100, 'subsample': 0.6}\n",
      "0.479 (+/-0.052) for {'colsample_bytree': 0.8, 'eta': 0.2, 'gamma': 0.2, 'max_depth': 3, 'min_child_weight': 10, 'n_estimators': 100, 'subsample': 0.8}\n",
      "0.473 (+/-0.036) for {'colsample_bytree': 0.8, 'eta': 0.2, 'gamma': 0.2, 'max_depth': 5, 'min_child_weight': 0.5, 'n_estimators': 100, 'subsample': 0.5}\n",
      "0.471 (+/-0.036) for {'colsample_bytree': 0.8, 'eta': 0.2, 'gamma': 0.2, 'max_depth': 5, 'min_child_weight': 0.5, 'n_estimators': 100, 'subsample': 0.6}\n",
      "0.471 (+/-0.015) for {'colsample_bytree': 0.8, 'eta': 0.2, 'gamma': 0.2, 'max_depth': 5, 'min_child_weight': 0.5, 'n_estimators': 100, 'subsample': 0.8}\n",
      "0.490 (+/-0.044) for {'colsample_bytree': 0.8, 'eta': 0.2, 'gamma': 0.2, 'max_depth': 5, 'min_child_weight': 1, 'n_estimators': 100, 'subsample': 0.5}\n",
      "0.487 (+/-0.037) for {'colsample_bytree': 0.8, 'eta': 0.2, 'gamma': 0.2, 'max_depth': 5, 'min_child_weight': 1, 'n_estimators': 100, 'subsample': 0.6}\n",
      "0.483 (+/-0.060) for {'colsample_bytree': 0.8, 'eta': 0.2, 'gamma': 0.2, 'max_depth': 5, 'min_child_weight': 1, 'n_estimators': 100, 'subsample': 0.8}\n",
      "0.480 (+/-0.031) for {'colsample_bytree': 0.8, 'eta': 0.2, 'gamma': 0.2, 'max_depth': 5, 'min_child_weight': 1.5, 'n_estimators': 100, 'subsample': 0.5}\n",
      "0.486 (+/-0.049) for {'colsample_bytree': 0.8, 'eta': 0.2, 'gamma': 0.2, 'max_depth': 5, 'min_child_weight': 1.5, 'n_estimators': 100, 'subsample': 0.6}\n",
      "0.486 (+/-0.027) for {'colsample_bytree': 0.8, 'eta': 0.2, 'gamma': 0.2, 'max_depth': 5, 'min_child_weight': 1.5, 'n_estimators': 100, 'subsample': 0.8}\n",
      "0.465 (+/-0.072) for {'colsample_bytree': 0.8, 'eta': 0.2, 'gamma': 0.2, 'max_depth': 5, 'min_child_weight': 2, 'n_estimators': 100, 'subsample': 0.5}\n",
      "0.477 (+/-0.050) for {'colsample_bytree': 0.8, 'eta': 0.2, 'gamma': 0.2, 'max_depth': 5, 'min_child_weight': 2, 'n_estimators': 100, 'subsample': 0.6}\n",
      "0.493 (+/-0.048) for {'colsample_bytree': 0.8, 'eta': 0.2, 'gamma': 0.2, 'max_depth': 5, 'min_child_weight': 2, 'n_estimators': 100, 'subsample': 0.8}\n",
      "0.473 (+/-0.064) for {'colsample_bytree': 0.8, 'eta': 0.2, 'gamma': 0.2, 'max_depth': 5, 'min_child_weight': 10, 'n_estimators': 100, 'subsample': 0.5}\n",
      "0.476 (+/-0.077) for {'colsample_bytree': 0.8, 'eta': 0.2, 'gamma': 0.2, 'max_depth': 5, 'min_child_weight': 10, 'n_estimators': 100, 'subsample': 0.6}\n",
      "0.488 (+/-0.057) for {'colsample_bytree': 0.8, 'eta': 0.2, 'gamma': 0.2, 'max_depth': 5, 'min_child_weight': 10, 'n_estimators': 100, 'subsample': 0.8}\n",
      "0.481 (+/-0.021) for {'colsample_bytree': 0.8, 'eta': 0.2, 'gamma': 0.2, 'max_depth': 7, 'min_child_weight': 0.5, 'n_estimators': 100, 'subsample': 0.5}\n",
      "0.487 (+/-0.040) for {'colsample_bytree': 0.8, 'eta': 0.2, 'gamma': 0.2, 'max_depth': 7, 'min_child_weight': 0.5, 'n_estimators': 100, 'subsample': 0.6}\n",
      "0.483 (+/-0.039) for {'colsample_bytree': 0.8, 'eta': 0.2, 'gamma': 0.2, 'max_depth': 7, 'min_child_weight': 0.5, 'n_estimators': 100, 'subsample': 0.8}\n",
      "0.490 (+/-0.044) for {'colsample_bytree': 0.8, 'eta': 0.2, 'gamma': 0.2, 'max_depth': 7, 'min_child_weight': 1, 'n_estimators': 100, 'subsample': 0.5}\n",
      "0.494 (+/-0.031) for {'colsample_bytree': 0.8, 'eta': 0.2, 'gamma': 0.2, 'max_depth': 7, 'min_child_weight': 1, 'n_estimators': 100, 'subsample': 0.6}\n",
      "0.481 (+/-0.031) for {'colsample_bytree': 0.8, 'eta': 0.2, 'gamma': 0.2, 'max_depth': 7, 'min_child_weight': 1, 'n_estimators': 100, 'subsample': 0.8}\n",
      "0.461 (+/-0.054) for {'colsample_bytree': 0.8, 'eta': 0.2, 'gamma': 0.2, 'max_depth': 7, 'min_child_weight': 1.5, 'n_estimators': 100, 'subsample': 0.5}\n",
      "0.488 (+/-0.070) for {'colsample_bytree': 0.8, 'eta': 0.2, 'gamma': 0.2, 'max_depth': 7, 'min_child_weight': 1.5, 'n_estimators': 100, 'subsample': 0.6}\n",
      "0.486 (+/-0.030) for {'colsample_bytree': 0.8, 'eta': 0.2, 'gamma': 0.2, 'max_depth': 7, 'min_child_weight': 1.5, 'n_estimators': 100, 'subsample': 0.8}\n",
      "0.468 (+/-0.036) for {'colsample_bytree': 0.8, 'eta': 0.2, 'gamma': 0.2, 'max_depth': 7, 'min_child_weight': 2, 'n_estimators': 100, 'subsample': 0.5}\n",
      "0.490 (+/-0.044) for {'colsample_bytree': 0.8, 'eta': 0.2, 'gamma': 0.2, 'max_depth': 7, 'min_child_weight': 2, 'n_estimators': 100, 'subsample': 0.6}\n",
      "0.485 (+/-0.027) for {'colsample_bytree': 0.8, 'eta': 0.2, 'gamma': 0.2, 'max_depth': 7, 'min_child_weight': 2, 'n_estimators': 100, 'subsample': 0.8}\n",
      "0.464 (+/-0.056) for {'colsample_bytree': 0.8, 'eta': 0.2, 'gamma': 0.2, 'max_depth': 7, 'min_child_weight': 10, 'n_estimators': 100, 'subsample': 0.5}\n",
      "0.479 (+/-0.051) for {'colsample_bytree': 0.8, 'eta': 0.2, 'gamma': 0.2, 'max_depth': 7, 'min_child_weight': 10, 'n_estimators': 100, 'subsample': 0.6}\n",
      "0.492 (+/-0.065) for {'colsample_bytree': 0.8, 'eta': 0.2, 'gamma': 0.2, 'max_depth': 7, 'min_child_weight': 10, 'n_estimators': 100, 'subsample': 0.8}\n"
     ]
    }
   ],
   "source": [
    "from sklearn.model_selection import train_test_split, cross_val_predict, cross_val_score, cross_validate, GridSearchCV\n",
    "\n",
    "cv = xgb.XGBClassifier(n_estimators=30, max_depth = 7)\n",
    "tuned_parameters = {\n",
    "    'n_estimators': [100],\n",
    "    'max_depth': [3,5,7],\n",
    "    'gamma': [0, 0.1, 0.2],\n",
    "    'subsample': [0.5, 0.6, 0.8],\n",
    "    'colsample_bytree': [0.5, 0.6, 0.8],\n",
    "    'min_child_weight': [0.5,1,1.5,2,10],\n",
    "    'eta': [0.2]\n",
    "}\n",
    "clf = GridSearchCV( xgb.XGBClassifier(),\n",
    "    tuned_parameters,\n",
    "    scoring = 'f1'\n",
    ")\n",
    "\n",
    "clf.fit(x_train, y_train)\n",
    "\n",
    "print(\"Best parameters set found on development set:\")\n",
    "print()\n",
    "print(clf.best_params_)\n",
    "means = clf.cv_results_['mean_test_score']\n",
    "stds = clf.cv_results_['std_test_score']\n",
    "for mean, std, params in zip(means, stds, clf.cv_results_['params']):\n",
    "    print(\"%0.3f (+/-%0.03f) for %r\"\n",
    "          % (mean, std * 2, params))\n",
    "from sklearn import preprocessing\n",
    "\n",
    "min_max_scaler = preprocessing.MinMaxScaler()\n",
    "min_max_scaler.transform(x_test.to_numpy())\n",
    "# x_scaled = min_max_scaler.fit_transform(x_train.to_numpy())\n",
    "# scores = cross_validate(cv, x_train, y_train, cv=10, scoring={'p': 'precision', 'r': 'recall'})\n",
    "# (scores['test_p'].mean(), scores['test_r'].mean())"
   ]
  },
  {
   "cell_type": "code",
   "execution_count": 1083,
   "metadata": {},
   "outputs": [],
   "source": [
    "x_test_scaled = min_max_scaler.transform(x_test.to_numpy())\n",
    "pred = cv.predict_proba(x_test_scaled)[:, 1]"
   ]
  },
  {
   "cell_type": "code",
   "execution_count": 1084,
   "metadata": {},
   "outputs": [
    {
     "data": {
      "text/plain": [
       "[<matplotlib.lines.Line2D at 0x13de2a610>]"
      ]
     },
     "execution_count": 1084,
     "metadata": {},
     "output_type": "execute_result"
    },
    {
     "data": {
      "image/png": "[encoded data removed]",
      "text/plain": [
       "<Figure size 432x288 with 1 Axes>"
      ]
     },
     "metadata": {
      "needs_background": "light"
     },
     "output_type": "display_data"
    }
   ],
   "source": [
    "precision, recall ,_ = precision_recall_curve(y_test, pred)\n",
    "plt.plot(recall, precision)"
   ]
  },
  {
   "cell_type": "code",
   "execution_count": 1094,
   "metadata": {},
   "outputs": [
    {
     "ename": "IndentationError",
     "evalue": "unexpected indent (<ipython-input-1094-de117f241c65>, line 6)",
     "output_type": "error",
     "traceback": [
      "\u001b[0;36m  File \u001b[0;32m\"<ipython-input-1094-de117f241c65>\"\u001b[0;36m, line \u001b[0;32m6\u001b[0m\n\u001b[0;31m    y_test.to_numpy()\u001b[0m\n\u001b[0m    ^\u001b[0m\n\u001b[0;31mIndentationError\u001b[0m\u001b[0;31m:\u001b[0m unexpected indent\n"
     ]
    }
   ],
   "source": [
    "from sklearn.metrics import precision_recall_curve\n",
    "from sklearn.metrics import plot_precision_recall_curve\n",
    "from sklearn.model_selection import train_test_split, cross_val_predict, cross_val_score, cross_validate\n",
    "import matplotlib.pyplot as plt\n",
    "\n",
    " y_test.to_numpy()\n",
    "\n",
    "disp = plot_precision_recall_curve(cv, x_test_scaled, y_test.to_numpy())\n"
   ]
  },
  {
   "cell_type": "code",
   "execution_count": 877,
   "metadata": {},
   "outputs": [
    {
     "ename": "ValueError",
     "evalue": "KerasClassifier should be a binary classifier",
     "output_type": "error",
     "traceback": [
      "\u001b[0;31m---------------------------------------------------------------------------\u001b[0m",
      "\u001b[0;31mValueError\u001b[0m                                Traceback (most recent call last)",
      "\u001b[0;32m<ipython-input-877-cd77937a41de>\u001b[0m in \u001b[0;36m<module>\u001b[0;34m\u001b[0m\n\u001b[1;32m      1\u001b[0m \u001b[0mx_test_scaled\u001b[0m \u001b[0;34m=\u001b[0m \u001b[0mmin_max_scaler\u001b[0m\u001b[0;34m.\u001b[0m\u001b[0mtransform\u001b[0m\u001b[0;34m(\u001b[0m\u001b[0mx_test\u001b[0m\u001b[0;34m.\u001b[0m\u001b[0mto_numpy\u001b[0m\u001b[0;34m(\u001b[0m\u001b[0;34m)\u001b[0m\u001b[0;34m)\u001b[0m\u001b[0;34m\u001b[0m\u001b[0;34m\u001b[0m\u001b[0m\n\u001b[1;32m      2\u001b[0m \u001b[0;34m\u001b[0m\u001b[0m\n\u001b[0;32m----> 3\u001b[0;31m \u001b[0mmetrics\u001b[0m\u001b[0;34m.\u001b[0m\u001b[0mplot_roc_curve\u001b[0m\u001b[0;34m(\u001b[0m\u001b[0mcv\u001b[0m\u001b[0;34m,\u001b[0m \u001b[0mx_test_scaled\u001b[0m\u001b[0;34m,\u001b[0m \u001b[0my_test\u001b[0m\u001b[0;34m)\u001b[0m\u001b[0;34m\u001b[0m\u001b[0;34m\u001b[0m\u001b[0m\n\u001b[0m",
      "\u001b[0;32m~/anaconda3/envs/dataserver/lib/python3.7/site-packages/sklearn/metrics/_plot/roc_curve.py\u001b[0m in \u001b[0;36mplot_roc_curve\u001b[0;34m(estimator, X, y, sample_weight, drop_intermediate, response_method, name, ax, **kwargs)\u001b[0m\n\u001b[1;32m    170\u001b[0m     )\n\u001b[1;32m    171\u001b[0m     \u001b[0;32mif\u001b[0m \u001b[0;32mnot\u001b[0m \u001b[0mis_classifier\u001b[0m\u001b[0;34m(\u001b[0m\u001b[0mestimator\u001b[0m\u001b[0;34m)\u001b[0m\u001b[0;34m:\u001b[0m\u001b[0;34m\u001b[0m\u001b[0;34m\u001b[0m\u001b[0m\n\u001b[0;32m--> 172\u001b[0;31m         \u001b[0;32mraise\u001b[0m \u001b[0mValueError\u001b[0m\u001b[0;34m(\u001b[0m\u001b[0mclassification_error\u001b[0m\u001b[0;34m)\u001b[0m\u001b[0;34m\u001b[0m\u001b[0;34m\u001b[0m\u001b[0m\n\u001b[0m\u001b[1;32m    173\u001b[0m \u001b[0;34m\u001b[0m\u001b[0m\n\u001b[1;32m    174\u001b[0m     prediction_method = _check_classifer_response_method(estimator,\n",
      "\u001b[0;31mValueError\u001b[0m: KerasClassifier should be a binary classifier"
     ]
    }
   ],
   "source": [
    "\n",
    "x_test_scaled = min_max_scaler.transform(x_test.to_numpy())\n",
    "\n",
    "metrics.plot_roc_curve(cv, x_test_scaled, y_test)"
   ]
  },
  {
   "cell_type": "code",
   "execution_count": 718,
   "metadata": {},
   "outputs": [
    {
     "data": {
      "text/plain": [
       "<sklearn.metrics._plot.confusion_matrix.ConfusionMatrixDisplay at 0x4433d0650>"
      ]
     },
     "execution_count": 718,
     "metadata": {},
     "output_type": "execute_result"
    },
    {
     "data": {
      "image/png": "[encoded data removed]",
      "text/plain": [
       "<Figure size 432x288 with 2 Axes>"
      ]
     },
     "metadata": {
      "needs_background": "light"
     },
     "output_type": "display_data"
    }
   ],
   "source": [
    "test_pred = model2.predict(x_test)\n",
    "\n",
    "import seaborn as sns\n",
    "from sklearn.metrics import plot_confusion_matrix\n",
    "plot_confusion_matrix(model2, x_test, y_test)"
   ]
  },
  {
   "cell_type": "code",
   "execution_count": null,
   "metadata": {},
   "outputs": [],
   "source": []
  }
 ],
 "metadata": {
  "kernelspec": {
   "display_name": "Python 3",
   "language": "python",
   "name": "python3"
  },
  "language_info": {
   "codemirror_mode": {
    "name": "ipython",
    "version": 3
   },
   "file_extension": ".py",
   "mimetype": "text/x-python",
   "name": "python",
   "nbconvert_exporter": "python",
   "pygments_lexer": "ipython3",
   "version": "3.7.6"
  }
 },
 "nbformat": 4,
 "nbformat_minor": 4
}
