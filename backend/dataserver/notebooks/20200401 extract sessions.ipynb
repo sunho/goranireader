{
 "cells": [
  {
   "cell_type": "code",
   "execution_count": 1,
   "metadata": {},
   "outputs": [],
   "source": [
    "from gorani.booky.book import Book, read_epub"
   ]
  },
  {
   "cell_type": "code",
   "execution_count": 2,
   "metadata": {},
   "outputs": [],
   "source": [
    "from metaflow import Flow"
   ]
  },
  {
   "cell_type": "code",
   "execution_count": 3,
   "metadata": {},
   "outputs": [],
   "source": [
    "run = Flow('MergeFilterPaginate').latest_successful_run"
   ]
  },
  {
   "cell_type": "code",
   "execution_count": 4,
   "metadata": {},
   "outputs": [],
   "source": [
    "df = run.data.pages\n",
    "def extractSessions(time):\n",
    "    i = 0\n",
    "    last = 0\n",
    "    out = []\n",
    "    for x in time:\n",
    "        if last == 0:\n",
    "            last = x\n",
    "        if x - last > 12*60*60:\n",
    "            i += 1\n",
    "            last = x\n",
    "        out.append(i)\n",
    "    return out\n",
    "df = df.sort_values('time')\n",
    "df['session'] = df['time'].groupby(df['userId']).transform(extractSessions)"
   ]
  },
  {
   "cell_type": "code",
   "execution_count": 5,
   "metadata": {},
   "outputs": [
    {
     "ename": "SyntaxError",
     "evalue": "invalid syntax (<ipython-input-5-8182cf9986bb>, line 3)",
     "output_type": "error",
     "traceback": [
      "\u001b[0;36m  File \u001b[0;32m\"<ipython-input-5-8182cf9986bb>\"\u001b[0;36m, line \u001b[0;32m3\u001b[0m\n\u001b[0;31m    df['session'] =\u001b[0m\n\u001b[0m                    ^\u001b[0m\n\u001b[0;31mSyntaxError\u001b[0m\u001b[0;31m:\u001b[0m invalid syntax\n"
     ]
    }
   ],
   "source": [
    "import numpy as np\n",
    "df2 = df.groupby(['userId','session'])['time'].agg(np.ptp) / (60*60)\n",
    "df['session'] = "
   ]
  },
  {
   "cell_type": "code",
   "execution_count": null,
   "metadata": {},
   "outputs": [],
   "source": []
  },
  {
   "cell_type": "code",
   "execution_count": 12,
   "metadata": {},
   "outputs": [
    {
     "ename": "SyntaxError",
     "evalue": "invalid syntax (<ipython-input-12-a9ea8cb37397>, line 25)",
     "output_type": "error",
     "traceback": [
      "\u001b[0;36m  File \u001b[0;32m\"<ipython-input-12-a9ea8cb37397>\"\u001b[0;36m, line \u001b[0;32m25\u001b[0m\n\u001b[0;31m    df = unnesting(df[['userId', 'cheat', 'session', 'time', 'eltime', 'wpm', 'i', 'word', 'signal'], ['word', 'signal'], axis=1)\u001b[0m\n\u001b[0m                                                                                                                              ^\u001b[0m\n\u001b[0;31mSyntaxError\u001b[0m\u001b[0;31m:\u001b[0m invalid syntax\n"
     ]
    }
   ],
   "source": [
    "from gorani.utils import unnesting\n",
    "import numpy as np\n",
    "import pandas as pd\n",
    "df = run.data.pages\n",
    "df['i'] = np.arange(len(df))\n",
    "\n",
    "def to_word(x):\n",
    "    words = []\n",
    "    for i in range(len(x['words'])):\n",
    "        word = x['words'][i].lower()\n",
    "        words.append(word)\n",
    "    return words\n",
    "\n",
    "def to_signal(x):\n",
    "    signals = []\n",
    "    unknown_words = [y.lower() for y in x['unknownWords']]\n",
    "    for i in range(len(x['words'])):\n",
    "        word = x['words'][i].lower()\n",
    "        signal = 0 if word in unknown_words else 1\n",
    "        signals.append(signal)\n",
    "    return signals\n",
    "\n",
    "df['word'] = df.apply(to_word, axis=1)\n",
    "df['signal'] = df.apply(to_signal, axis=1)\n",
    "df = unnesting(df[['userId', 'cheat', 'session', 'time', 'eltime', 'wpm', 'i', 'word', 'signal']], ['word', 'signal'], axis=1)\n",
    "df"
   ]
  },
  {
   "cell_type": "code",
   "execution_count": null,
   "metadata": {},
   "outputs": [],
   "source": []
  }
 ],
 "metadata": {
  "kernelspec": {
   "display_name": "Python 3",
   "language": "python",
   "name": "python3"
  },
  "language_info": {
   "codemirror_mode": {
    "name": "ipython",
    "version": 3
   },
   "file_extension": ".py",
   "mimetype": "text/x-python",
   "name": "python",
   "nbconvert_exporter": "python",
   "pygments_lexer": "ipython3",
   "version": "3.7.6"
  }
 },
 "nbformat": 4,
 "nbformat_minor": 4
}
