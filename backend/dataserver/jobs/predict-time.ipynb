{
 "cells": [
  {
   "cell_type": "code",
   "execution_count": 1,
   "metadata": {},
   "outputs": [],
   "source": [
    "#\n",
    "# Copyright © 2019 Sunho Kim. All rights reserved.\n",
    "#"
   ]
  },
  {
   "cell_type": "code",
   "execution_count": 2,
   "metadata": {},
   "outputs": [
    {
     "name": "stdout",
     "output_type": "stream",
     "text": [
      "/gorani/gorani/backend/dataserver\n"
     ]
    }
   ],
   "source": [
    "cd .."
   ]
  },
  {
   "cell_type": "code",
   "execution_count": 3,
   "metadata": {
    "tags": [
     "parameters"
    ]
   },
   "outputs": [],
   "source": [
    "# parameters\n",
    "model_path = './out'\n",
    "words_in_page = 250\n",
    "dropout = 0.2\n",
    "neuron = 64"
   ]
  },
  {
   "cell_type": "code",
   "execution_count": 4,
   "metadata": {},
   "outputs": [
    {
     "name": "stdout",
     "output_type": "stream",
     "text": [
      "[(1, './out/1-time-model.hdf5'), (10, './out/10-time-model.hdf5')]\n"
     ]
    }
   ],
   "source": [
    "import glob\n",
    "import re\n",
    "files = glob.glob(model_path + '/*-time-model.hdf5')\n",
    "files = sorted(files)\n",
    "model_files = [(int(re.search('([0-9]+)-time-model.hdf5', file, re.IGNORECASE).group(1)), file) for file in files]\n",
    "print(model_files)"
   ]
  },
  {
   "cell_type": "code",
   "execution_count": 5,
   "metadata": {},
   "outputs": [],
   "source": [
    "import tensorflow as tf\n",
    "from gorani.tfmodels import time_model\n",
    "from gorani.tf import FEATURE_LEN\n",
    "\n",
    "class Model:\n",
    "    def __init__(self, path):\n",
    "        self.model = time_model(FEATURE_LEN, neuron, dropout)\n",
    "        self.model.load_weights(path)\n",
    "        self.graph = tf.get_default_graph()\n",
    "\n",
    "    def predict(self, X):\n",
    "        with self.graph.as_default():\n",
    "            return self.model.predict(X)"
   ]
  },
  {
   "cell_type": "code",
   "execution_count": 6,
   "metadata": {},
   "outputs": [
    {
     "name": "stdout",
     "output_type": "stream",
     "text": [
      "user: 1 book: 5 time: 180.64450764656067\n",
      "user: 10 book: 5 time: 734.7628481388092\n",
      "user: 1 book: 1 time: 1272.4791932106018\n",
      "user: 10 book: 1 time: 3272.3232097625732\n",
      "user: 1 book: 2 time: 154.4291074872017\n",
      "user: 10 book: 2 time: 340.76755833625793\n",
      "user: 1 book: 4 time: 206.29908549785614\n",
      "user: 10 book: 4 time: 436.2573823928833\n",
      "user: 1 book: 6 time: 343.33035373687744\n",
      "user: 10 book: 6 time: 824.6146748065948\n",
      "user: 1 book: 3 time: 231.39233523607254\n",
      "user: 10 book: 3 time: 456.58702301979065\n"
     ]
    }
   ],
   "source": [
    "from gorani.datadb import DataDB\n",
    "from gorani.tf import convert_words, transform_to_input\n",
    "from tensorflow.keras import backend as K\n",
    "import numpy as np\n",
    "\n",
    "def chunks(l, n):\n",
    "    for i in range(0, len(l), n):\n",
    "        yield l[i:i + n]\n",
    "out = []\n",
    "datadb = DataDB()\n",
    "books = datadb.get_all('books')\n",
    "for book in books:\n",
    "    words = len(book.content)\n",
    "    ps = chunks(convert_words(book.content), words_in_page)\n",
    "    x = transform_to_input(ps)\n",
    "    for model_file in model_files:\n",
    "        model = Model(model_file[1])\n",
    "        time = 0\n",
    "        for i in range(x.shape[0]):\n",
    "            time += model.predict(x[i:i+1,:,:])[0,0]\n",
    "        print('user: {} book: {} time: {}'.format(model_file[0], book.id, time))\n",
    "        datadb.add_book_estimated_time(model_file[0], book.id, words, time)"
   ]
  },
  {
   "cell_type": "code",
   "execution_count": null,
   "metadata": {},
   "outputs": [],
   "source": []
  }
 ],
 "metadata": {
  "celltoolbar": "Tags",
  "kernelspec": {
   "display_name": "Python 3",
   "language": "python",
   "name": "python3"
  },
  "language_info": {
   "codemirror_mode": {
    "name": "ipython",
    "version": 3
   },
   "file_extension": ".py",
   "mimetype": "text/x-python",
   "name": "python",
   "nbconvert_exporter": "python",
   "pygments_lexer": "ipython3",
   "version": "3.6.7"
  }
 },
 "nbformat": 4,
 "nbformat_minor": 2
}
