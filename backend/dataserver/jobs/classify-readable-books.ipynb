{
 "cells": [
  {
   "cell_type": "code",
   "execution_count": 1,
   "metadata": {},
   "outputs": [],
   "source": [
    "#\n",
    "# Copyright © 2019 Sunho Kim. All rights reserved.\n",
    "#"
   ]
  },
  {
   "cell_type": "code",
   "execution_count": 2,
   "metadata": {},
   "outputs": [
    {
     "name": "stdout",
     "output_type": "stream",
     "text": [
      "/gorani/gorani/backend/dataserver\n"
     ]
    }
   ],
   "source": [
    "cd .."
   ]
  },
  {
   "cell_type": "code",
   "execution_count": 3,
   "metadata": {},
   "outputs": [],
   "source": [
    "from pyspark.sql import SparkSession, DataFrame\n",
    "\n",
    "spark = SparkSession\\\n",
    "    .builder\\\n",
    "    .appName('Classify Readable Book')\\\n",
    "    .getOrCreate()\n",
    "sc = spark.sparkContext"
   ]
  },
  {
   "cell_type": "code",
   "execution_count": 4,
   "metadata": {
    "tags": [
     "parameters"
    ]
   },
   "outputs": [],
   "source": [
    "# parameters\n",
    "auwpp_threshold = 0.3\n",
    "wps_threshold = 67 / 60"
   ]
  },
  {
   "cell_type": "code",
   "execution_count": 5,
   "metadata": {},
   "outputs": [
    {
     "name": "stdout",
     "output_type": "stream",
     "text": [
      "+-------+-------+------------------+\n",
      "|user_id|book_id|               wps|\n",
      "+-------+-------+------------------+\n",
      "|     10|      1|56.608099594760624|\n",
      "|     10|      2| 57.48199949651947|\n",
      "|     10|      3|  57.0865967215464|\n",
      "|     10|      4| 57.36063352930009|\n",
      "|     10|      5|55.190594395995134|\n",
      "|     10|      6| 56.98904088357437|\n",
      "|      1|      1|145.57408325858702|\n",
      "|      1|      2|126.84137269227143|\n",
      "|      1|      3|112.64418121025594|\n",
      "|      1|      4|121.29961552563137|\n",
      "|      1|      5|224.48510657995232|\n",
      "|      1|      6|136.87691641313896|\n",
      "+-------+-------+------------------+\n",
      "\n",
      "+-------+-------+----------+\n",
      "|user_id|book_id|     auwpp|\n",
      "+-------+-------+----------+\n",
      "|     10|      1| 0.8691228|\n",
      "|     10|      2| 0.8658228|\n",
      "|     10|      3|0.86518097|\n",
      "|     10|      4|0.87211883|\n",
      "|     10|      5| 0.8648834|\n",
      "|     10|      6|     0.867|\n",
      "|      1|      1| 0.9767935|\n",
      "|      1|      2| 0.9707848|\n",
      "|      1|      3|0.97398096|\n",
      "|      1|      4|0.97128713|\n",
      "|      1|      5| 0.9704294|\n",
      "|      1|      6| 0.9787021|\n",
      "+-------+-------+----------+\n",
      "\n"
     ]
    }
   ],
   "source": [
    "from gorani.spark import read_data_all\n",
    "import pyspark.sql.functions as F\n",
    "\n",
    "time_df = read_data_all(spark, 'book_estimated_time')\\\n",
    "        .select('user_id', 'book_id', (F.col('total_words') / F.col('estimated_time')).alias('wps'))\n",
    "time_df.show()\n",
    "\n",
    "auwpp_df = read_data_all(spark, 'user_auwpps')\n",
    "auwpp_df.show()"
   ]
  },
  {
   "cell_type": "code",
   "execution_count": 6,
   "metadata": {},
   "outputs": [
    {
     "name": "stdout",
     "output_type": "stream",
     "text": [
      "+-------+-------+\n",
      "|user_id|book_id|\n",
      "+-------+-------+\n",
      "|     10|      1|\n",
      "|     10|      2|\n",
      "|     10|      3|\n",
      "|     10|      4|\n",
      "|     10|      5|\n",
      "|     10|      6|\n",
      "|      1|      1|\n",
      "|      1|      2|\n",
      "|      1|      3|\n",
      "|      1|      4|\n",
      "|      1|      5|\n",
      "|      1|      6|\n",
      "+-------+-------+\n",
      "\n",
      "success\n"
     ]
    }
   ],
   "source": [
    "from gorani.spark import write_data\n",
    "result_df = time_df.join(auwpp_df.alias('f'), (time_df['user_id'] == auwpp_df['user_id']) & (time_df['book_id'] == auwpp_df['book_id']), 'inner')\\\n",
    "        .drop(F.col('f.user_id'))\\\n",
    "        .drop(F.col('f.book_id'))\\\n",
    "        .where((F.col('auwpp') <= auwpp_threshold) | (F.col('wps') >= wps_threshold))\\\n",
    "        .drop(F.col('wps'))\\\n",
    "        .drop(F.col('auwpp'))\n",
    "\n",
    "result_df.show()\n",
    "\n",
    "write_data('readable_books', result_df)\n",
    "\n",
    "print('success')"
   ]
  },
  {
   "cell_type": "code",
   "execution_count": null,
   "metadata": {},
   "outputs": [],
   "source": []
  }
 ],
 "metadata": {
  "celltoolbar": "Tags",
  "kernelspec": {
   "display_name": "pyspark",
   "language": "python",
   "name": "pyspark"
  },
  "language_info": {
   "codemirror_mode": {
    "name": "ipython",
    "version": 3
   },
   "file_extension": ".py",
   "mimetype": "text/x-python",
   "name": "python",
   "nbconvert_exporter": "python",
   "pygments_lexer": "ipython3",
   "version": "3.6.7"
  }
 },
 "nbformat": 4,
 "nbformat_minor": 2
}
