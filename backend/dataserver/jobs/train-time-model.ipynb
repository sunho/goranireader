{
 "cells": [
  {
   "cell_type": "code",
   "execution_count": 1,
   "metadata": {},
   "outputs": [
    {
     "name": "stdout",
     "output_type": "stream",
     "text": [
      "/gorani/gorani/backend/dataserver\n"
     ]
    }
   ],
   "source": [
    "cd .."
   ]
  },
  {
   "cell_type": "code",
   "execution_count": 9,
   "metadata": {},
   "outputs": [],
   "source": [
    "# parameters\n",
    "user_id = 1\n",
    "dropout = 0.2\n",
    "neuron = 64\n",
    "outlie_time = 200"
   ]
  },
  {
   "cell_type": "code",
   "execution_count": 3,
   "metadata": {},
   "outputs": [
    {
     "name": "stdout",
     "output_type": "stream",
     "text": [
      "4 4\n"
     ]
    }
   ],
   "source": [
    "from gorani.tf import FEATURE_LEN, transform_paragraphs\n",
    "from gorani.datadb import DataDB\n",
    "\n",
    "data_db = DataDB()\n",
    "ps = data_db.get_flipped_paragraphs(user_id)\n",
    "\n",
    "x,y = transform_paragraphs(ps)\n",
    "print(len(x), len(y))"
   ]
  },
  {
   "cell_type": "code",
   "execution_count": 10,
   "metadata": {},
   "outputs": [
    {
     "name": "stdout",
     "output_type": "stream",
     "text": [
      "2\n",
      "(2, 268, 44) (2, 1)\n",
      "float32 float32\n"
     ]
    }
   ],
   "source": [
    "import numpy as np\n",
    "idx = np.where(y > outlie_time)\n",
    "print(len(idx))\n",
    "x = np.delete(x, idx, axis=0)\n",
    "y= np.delete(y, idx, axis=0)\n",
    "print(x.shape, y.shape)\n",
    "print(x.dtype, y.dtype)"
   ]
  },
  {
   "cell_type": "code",
   "execution_count": 11,
   "metadata": {
    "scrolled": true
   },
   "outputs": [
    {
     "data": {
      "text/plain": [
       "<matplotlib.axes._subplots.AxesSubplot at 0x7f173c2b3828>"
      ]
     },
     "execution_count": 11,
     "metadata": {},
     "output_type": "execute_result"
    },
    {
     "data": {
      "image/png": "[encoded data removed]",
      "text/plain": [
       "<Figure size 432x288 with 1 Axes>"
      ]
     },
     "metadata": {},
     "output_type": "display_data"
    }
   ],
   "source": [
    "import seaborn as sns\n",
    "sns.set(color_codes=True)\n",
    "sns.countplot(x[:, :, FEATURE_LEN - 1].flatten())"
   ]
  },
  {
   "cell_type": "code",
   "execution_count": 12,
   "metadata": {},
   "outputs": [
    {
     "name": "stdout",
     "output_type": "stream",
     "text": [
      "(1, 268, 44) (1, 1) (1, 268, 44) (1, 1)\n",
      "float32 float32\n",
      "44\n"
     ]
    }
   ],
   "source": [
    "from sklearn.model_selection import train_test_split\n",
    "\n",
    "x_train, x_valid, y_train, y_valid = train_test_split(x, y, test_size=0.2, shuffle= True)\n",
    "print(x_train.shape, y_train.shape, x_valid.shape, y_valid.shape)\n",
    "print(x_train.dtype, y_train.dtype)\n",
    "print(FEATURE_LEN)"
   ]
  },
  {
   "cell_type": "code",
   "execution_count": 13,
   "metadata": {},
   "outputs": [
    {
     "name": "stdout",
     "output_type": "stream",
     "text": [
      "Train on 1 samples, validate on 1 samples\n",
      "Epoch 1/50\n",
      "\n",
      "Epoch 00001: val_loss improved from inf to 83.64104, saving model to out/1-time-model-64-0.2-1558813727.3446398.hdf5\n",
      "1/1 [==============================] - 1s 785ms/step - loss: 19.4907 - val_loss: 83.6410\n",
      "Epoch 2/50\n",
      "\n",
      "Epoch 00002: val_loss improved from 83.64104 to 83.02624, saving model to out/1-time-model-64-0.2-1558813727.3446398.hdf5\n",
      "1/1 [==============================] - 0s 222ms/step - loss: 5.5135 - val_loss: 83.0262\n",
      "Epoch 3/50\n",
      "\n",
      "Epoch 00003: val_loss improved from 83.02624 to 82.24709, saving model to out/1-time-model-64-0.2-1558813727.3446398.hdf5\n",
      "1/1 [==============================] - 0s 224ms/step - loss: 8.5403 - val_loss: 82.2471\n",
      "Epoch 4/50\n",
      "\n",
      "Epoch 00004: val_loss improved from 82.24709 to 81.89771, saving model to out/1-time-model-64-0.2-1558813727.3446398.hdf5\n",
      "1/1 [==============================] - 0s 221ms/step - loss: 1.6020 - val_loss: 81.8977\n",
      "Epoch 5/50\n",
      "\n",
      "Epoch 00005: val_loss improved from 81.89771 to 81.62807, saving model to out/1-time-model-64-0.2-1558813727.3446398.hdf5\n",
      "1/1 [==============================] - 0s 219ms/step - loss: 0.3680 - val_loss: 81.6281\n",
      "Epoch 6/50\n",
      "\n",
      "Epoch 00006: val_loss improved from 81.62807 to 81.47634, saving model to out/1-time-model-64-0.2-1558813727.3446398.hdf5\n",
      "1/1 [==============================] - 0s 218ms/step - loss: 0.0989 - val_loss: 81.4763\n",
      "Epoch 7/50\n",
      "\n",
      "Epoch 00007: val_loss improved from 81.47634 to 81.46208, saving model to out/1-time-model-64-0.2-1558813727.3446398.hdf5\n",
      "1/1 [==============================] - 0s 219ms/step - loss: 6.4820e-04 - val_loss: 81.4621\n",
      "Epoch 8/50\n",
      "\n",
      "Epoch 00008: val_loss improved from 81.46208 to 81.40346, saving model to out/1-time-model-64-0.2-1558813727.3446398.hdf5\n",
      "1/1 [==============================] - 0s 231ms/step - loss: 0.0016 - val_loss: 81.4035\n",
      "Epoch 9/50\n",
      "\n",
      "Epoch 00009: val_loss did not improve from 81.40346\n",
      "1/1 [==============================] - 0s 213ms/step - loss: 0.0016 - val_loss: 81.4517\n",
      "Epoch 10/50\n",
      "\n",
      "Epoch 00010: val_loss improved from 81.40346 to 80.32585, saving model to out/1-time-model-64-0.2-1558813727.3446398.hdf5\n",
      "1/1 [==============================] - 0s 220ms/step - loss: 6.4556 - val_loss: 80.3259\n",
      "Epoch 11/50\n",
      "\n",
      "Epoch 00011: val_loss improved from 80.32585 to 79.09834, saving model to out/1-time-model-64-0.2-1558813727.3446398.hdf5\n",
      "1/1 [==============================] - 0s 218ms/step - loss: 5.5048 - val_loss: 79.0983\n",
      "Epoch 12/50\n",
      "\n",
      "Epoch 00012: val_loss improved from 79.09834 to 77.74155, saving model to out/1-time-model-64-0.2-1558813727.3446398.hdf5\n",
      "1/1 [==============================] - 0s 220ms/step - loss: 2.9232 - val_loss: 77.7415\n",
      "Epoch 13/50\n",
      "\n",
      "Epoch 00013: val_loss did not improve from 77.74155\n",
      "1/1 [==============================] - 0s 217ms/step - loss: 0.3436 - val_loss: 78.2184\n",
      "Epoch 14/50\n",
      "\n",
      "Epoch 00014: val_loss did not improve from 77.74155\n",
      "1/1 [==============================] - 0s 212ms/step - loss: 0.0537 - val_loss: 78.0344\n",
      "Epoch 15/50\n",
      "\n",
      "Epoch 00015: val_loss improved from 77.74155 to 76.54915, saving model to out/1-time-model-64-0.2-1558813727.3446398.hdf5\n",
      "1/1 [==============================] - 0s 219ms/step - loss: 3.3091 - val_loss: 76.5491\n",
      "Epoch 16/50\n",
      "\n",
      "Epoch 00016: val_loss did not improve from 76.54915\n",
      "1/1 [==============================] - 0s 212ms/step - loss: 0.0238 - val_loss: 76.6981\n",
      "Epoch 17/50\n",
      "\n",
      "Epoch 00017: val_loss improved from 76.54915 to 75.06147, saving model to out/1-time-model-64-0.2-1558813727.3446398.hdf5\n",
      "1/1 [==============================] - 0s 233ms/step - loss: 2.4852 - val_loss: 75.0615\n",
      "Epoch 18/50\n",
      "\n",
      "Epoch 00018: val_loss did not improve from 75.06147\n",
      "1/1 [==============================] - 0s 220ms/step - loss: 0.0277 - val_loss: 75.2256\n",
      "Epoch 19/50\n",
      "\n",
      "Epoch 00019: val_loss did not improve from 75.06147\n",
      "1/1 [==============================] - 0s 214ms/step - loss: 0.0026 - val_loss: 75.1638\n",
      "Epoch 20/50\n",
      "\n",
      "Epoch 00020: val_loss did not improve from 75.06147\n",
      "1/1 [==============================] - 0s 212ms/step - loss: 0.0174 - val_loss: 75.3211\n",
      "Epoch 21/50\n",
      "\n",
      "Epoch 00021: val_loss improved from 75.06147 to 73.53718, saving model to out/1-time-model-64-0.2-1558813727.3446398.hdf5\n",
      "1/1 [==============================] - 0s 222ms/step - loss: 1.8285 - val_loss: 73.5372\n",
      "Epoch 22/50\n",
      "\n",
      "Epoch 00022: val_loss did not improve from 73.53718\n",
      "1/1 [==============================] - 0s 212ms/step - loss: 0.0348 - val_loss: 73.7637\n",
      "Epoch 23/50\n",
      "\n",
      "Epoch 00023: val_loss improved from 73.53718 to 72.81479, saving model to out/1-time-model-64-0.2-1558813727.3446398.hdf5\n",
      "1/1 [==============================] - 0s 232ms/step - loss: 0.3012 - val_loss: 72.8148\n",
      "Epoch 24/50\n",
      "\n",
      "Epoch 00024: val_loss did not improve from 72.81479\n",
      "1/1 [==============================] - 0s 214ms/step - loss: 0.0088 - val_loss: 72.9396\n",
      "Epoch 25/50\n",
      "\n",
      "Epoch 00025: val_loss did not improve from 72.81479\n",
      "1/1 [==============================] - 0s 222ms/step - loss: 0.0059 - val_loss: 72.8512\n",
      "Epoch 26/50\n",
      "\n",
      "Epoch 00026: val_loss improved from 72.81479 to 72.60601, saving model to out/1-time-model-64-0.2-1558813727.3446398.hdf5\n",
      "1/1 [==============================] - 0s 219ms/step - loss: 0.0475 - val_loss: 72.6060\n",
      "Epoch 27/50\n",
      "\n",
      "Epoch 00027: val_loss improved from 72.60601 to 72.37674, saving model to out/1-time-model-64-0.2-1558813727.3446398.hdf5\n",
      "1/1 [==============================] - 0s 219ms/step - loss: 0.0557 - val_loss: 72.3767\n",
      "Epoch 28/50\n",
      "\n",
      "Epoch 00028: val_loss did not improve from 72.37674\n",
      "1/1 [==============================] - 0s 209ms/step - loss: 0.0038 - val_loss: 72.4705\n",
      "Epoch 29/50\n",
      "\n",
      "Epoch 00029: val_loss did not improve from 72.37674\n",
      "1/1 [==============================] - 0s 217ms/step - loss: 0.0496 - val_loss: 72.8109\n",
      "Epoch 30/50\n",
      "\n",
      "Epoch 00030: val_loss did not improve from 72.37674\n",
      "1/1 [==============================] - 0s 214ms/step - loss: 0.0400 - val_loss: 72.3843\n",
      "Epoch 31/50\n",
      "\n",
      "Epoch 00031: val_loss improved from 72.37674 to 72.03204, saving model to out/1-time-model-64-0.2-1558813727.3446398.hdf5\n",
      "1/1 [==============================] - 0s 222ms/step - loss: 0.0809 - val_loss: 72.0320\n",
      "Epoch 32/50\n",
      "\n",
      "Epoch 00032: val_loss did not improve from 72.03204\n",
      "1/1 [==============================] - 0s 211ms/step - loss: 0.0673 - val_loss: 72.6443\n",
      "Epoch 33/50\n",
      "\n",
      "Epoch 00033: val_loss did not improve from 72.03204\n",
      "1/1 [==============================] - 0s 218ms/step - loss: 0.1331 - val_loss: 73.1632\n",
      "Epoch 34/50\n",
      "\n",
      "Epoch 00034: val_loss improved from 72.03204 to 71.17200, saving model to out/1-time-model-64-0.2-1558813727.3446398.hdf5\n",
      "1/1 [==============================] - 0s 219ms/step - loss: 1.1593 - val_loss: 71.1720\n",
      "Epoch 35/50\n",
      "\n",
      "Epoch 00035: val_loss did not improve from 71.17200\n",
      "1/1 [==============================] - 0s 215ms/step - loss: 0.0077 - val_loss: 71.2843\n",
      "Epoch 36/50\n",
      "\n",
      "Epoch 00036: val_loss did not improve from 71.17200\n",
      "1/1 [==============================] - 0s 214ms/step - loss: 0.0084 - val_loss: 71.1975\n",
      "Epoch 37/50\n",
      "\n",
      "Epoch 00037: val_loss did not improve from 71.17200\n",
      "1/1 [==============================] - 0s 210ms/step - loss: 6.5812e-06 - val_loss: 71.2002\n",
      "Epoch 38/50\n",
      "\n",
      "Epoch 00038: val_loss improved from 71.17200 to 71.14577, saving model to out/1-time-model-64-0.2-1558813727.3446398.hdf5\n",
      "1/1 [==============================] - 0s 221ms/step - loss: 0.0029 - val_loss: 71.1458\n",
      "Epoch 39/50\n",
      "\n",
      "Epoch 00039: val_loss improved from 71.14577 to 70.89989, saving model to out/1-time-model-64-0.2-1558813727.3446398.hdf5\n",
      "1/1 [==============================] - 0s 220ms/step - loss: 0.0755 - val_loss: 70.8999\n",
      "Epoch 40/50\n",
      "\n",
      "Epoch 00040: val_loss did not improve from 70.89989\n",
      "1/1 [==============================] - 0s 225ms/step - loss: 0.0595 - val_loss: 71.2233\n",
      "Epoch 41/50\n",
      "\n",
      "Epoch 00041: val_loss did not improve from 70.89989\n",
      "1/1 [==============================] - 0s 213ms/step - loss: 4.6236e-05 - val_loss: 71.2150\n",
      "Epoch 42/50\n",
      "\n",
      "Epoch 00042: val_loss did not improve from 70.89989\n",
      "1/1 [==============================] - 0s 214ms/step - loss: 0.0288 - val_loss: 71.0128\n",
      "Epoch 43/50\n",
      "\n",
      "Epoch 00043: val_loss did not improve from 70.89989\n",
      "1/1 [==============================] - 0s 214ms/step - loss: 0.0081 - val_loss: 70.9301\n",
      "Epoch 44/50\n",
      "\n",
      "Epoch 00044: val_loss did not improve from 70.89989\n",
      "1/1 [==============================] - 0s 213ms/step - loss: 0.1634 - val_loss: 71.4798\n"
     ]
    },
    {
     "name": "stdout",
     "output_type": "stream",
     "text": [
      "Epoch 45/50\n",
      "\n",
      "Epoch 00045: val_loss did not improve from 70.89989\n",
      "1/1 [==============================] - 0s 209ms/step - loss: 0.0073 - val_loss: 71.3972\n",
      "Epoch 46/50\n",
      "\n",
      "Epoch 00046: val_loss did not improve from 70.89989\n",
      "1/1 [==============================] - 0s 214ms/step - loss: 9.9087e-04 - val_loss: 71.3640\n",
      "Epoch 47/50\n",
      "\n",
      "Epoch 00047: val_loss did not improve from 70.89989\n",
      "1/1 [==============================] - 0s 210ms/step - loss: 0.2146 - val_loss: 70.9604\n",
      "Epoch 48/50\n",
      "\n",
      "Epoch 00048: val_loss did not improve from 70.89989\n",
      "1/1 [==============================] - 0s 213ms/step - loss: 0.2617 - val_loss: 71.5989\n",
      "Epoch 49/50\n",
      "\n",
      "Epoch 00049: val_loss did not improve from 70.89989\n",
      "1/1 [==============================] - 0s 216ms/step - loss: 0.0012 - val_loss: 71.5697\n",
      "Epoch 50/50\n",
      "\n",
      "Epoch 00050: val_loss improved from 70.89989 to 70.70276, saving model to out/1-time-model-64-0.2-1558813727.3446398.hdf5\n",
      "1/1 [==============================] - 0s 218ms/step - loss: 0.2236 - val_loss: 70.7028\n"
     ]
    }
   ],
   "source": [
    "import tensorflow as tf\n",
    "from tensorflow.keras.models import Sequential\n",
    "from tensorflow.keras.layers import GRU, Dense, Input, Dropout\n",
    "from tensorflow.keras.callbacks import ModelCheckpoint\n",
    "from tensorflow.keras.callbacks import TensorBoard\n",
    "from tensorflow.keras import backend as K\n",
    "from typing import List\n",
    "import time\n",
    "\n",
    "with tf.Graph().as_default():\n",
    "    with tf.Session() as sess:\n",
    "        K.set_session(sess)\n",
    "        model = Sequential()\n",
    "        model.add(GRU(neuron, input_shape=(None, FEATURE_LEN), dropout=dropout, recurrent_dropout=dropout, kernel_initializer='he_uniform'))\n",
    "        model.add(Dense(neuron, activation='relu'))\n",
    "        model.add(Dense(1))\n",
    "        model.compile(loss='mse', optimizer='adagrad')\n",
    "        filepath = \"out/{}-time-model-{}-{}-{}.hdf5\".format(user_id, neuron, dropout, time.time())\n",
    "        checkpoint = ModelCheckpoint(filepath, monitor='val_loss', verbose=1, save_best_only=True, mode='min')\n",
    "        tensorboard = TensorBoard(log_dir='out/logs/{}-{}-{}-time-model-{}'.format(user_id, neuron, dropout, time.time()), histogram_freq=1,\n",
    "                                  write_graph=True, write_images=False)\n",
    "\n",
    "        history = model.fit(x_train, y_train, epochs=50, batch_size=int(x_train.shape[0]/20+1), verbose=1, validation_data=(x_valid, y_valid), callbacks=[checkpoint, tensorboard])\n"
   ]
  },
  {
   "cell_type": "code",
   "execution_count": null,
   "metadata": {},
   "outputs": [],
   "source": []
  }
 ],
 "metadata": {
  "kernelspec": {
   "display_name": "Python 3",
   "language": "python",
   "name": "python3"
  },
  "language_info": {
   "codemirror_mode": {
    "name": "ipython",
    "version": 3
   },
   "file_extension": ".py",
   "mimetype": "text/x-python",
   "name": "python",
   "nbconvert_exporter": "python",
   "pygments_lexer": "ipython3",
   "version": "3.6.7"
  }
 },
 "nbformat": 4,
 "nbformat_minor": 2
}
