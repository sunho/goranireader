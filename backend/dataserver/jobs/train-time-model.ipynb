{
 "cells": [
  {
   "cell_type": "code",
   "execution_count": 1,
   "metadata": {},
   "outputs": [
    {
     "name": "stdout",
     "output_type": "stream",
     "text": [
      "/gorani/gorani/backend/dataserver\n"
     ]
    }
   ],
   "source": [
    "cd .."
   ]
  },
  {
   "cell_type": "code",
   "execution_count": 2,
   "metadata": {},
   "outputs": [],
   "source": [
    "# parameters\n",
    "user_id = 1\n",
    "dropout = 0.2\n",
    "neuron = 64\n",
    "outlie_time = 200"
   ]
  },
  {
   "cell_type": "code",
   "execution_count": 3,
   "metadata": {},
   "outputs": [
    {
     "name": "stdout",
     "output_type": "stream",
     "text": [
      "4 4\n"
     ]
    }
   ],
   "source": [
    "from gorani.tf import FEATURE_LEN, transform_paragraphs\n",
    "from gorani.datadb import DataDB\n",
    "\n",
    "data_db = DataDB()\n",
    "ps = data_db.get_flipped_paragraphs(user_id)\n",
    "\n",
    "x,y = transform_paragraphs(ps)\n",
    "print(len(x), len(y))"
   ]
  },
  {
   "cell_type": "code",
   "execution_count": 4,
   "metadata": {},
   "outputs": [
    {
     "name": "stdout",
     "output_type": "stream",
     "text": [
      "2\n",
      "(2, 268, 44) (2, 1)\n",
      "float32 float32\n"
     ]
    }
   ],
   "source": [
    "import numpy as np\n",
    "idx = np.where(y > outlie_time)\n",
    "print(len(idx))\n",
    "x = np.delete(x, idx, axis=0)\n",
    "y= np.delete(y, idx, axis=0)\n",
    "print(x.shape, y.shape)\n",
    "print(x.dtype, y.dtype)"
   ]
  },
  {
   "cell_type": "code",
   "execution_count": 5,
   "metadata": {
    "scrolled": true
   },
   "outputs": [
    {
     "data": {
      "text/plain": [
       "<matplotlib.axes._subplots.AxesSubplot at 0x7f91eadbbda0>"
      ]
     },
     "execution_count": 5,
     "metadata": {},
     "output_type": "execute_result"
    }
   ],
   "source": [
    "import seaborn as sns\n",
    "sns.set(color_codes=True)\n",
    "sns.countplot(x[:, :, FEATURE_LEN - 1].flatten())"
   ]
  },
  {
   "cell_type": "code",
   "execution_count": 6,
   "metadata": {},
   "outputs": [
    {
     "name": "stdout",
     "output_type": "stream",
     "text": [
      "(1, 268, 44) (1, 1) (1, 268, 44) (1, 1)\n",
      "float32 float32\n",
      "44\n"
     ]
    }
   ],
   "source": [
    "from sklearn.model_selection import train_test_split\n",
    "\n",
    "x_train, x_valid, y_train, y_valid = train_test_split(x, y, test_size=0.2, shuffle= True)\n",
    "print(x_train.shape, y_train.shape, x_valid.shape, y_valid.shape)\n",
    "print(x_train.dtype, y_train.dtype)\n",
    "print(FEATURE_LEN)"
   ]
  },
  {
   "cell_type": "code",
   "execution_count": 7,
   "metadata": {},
   "outputs": [
    {
     "name": "stdout",
     "output_type": "stream",
     "text": [
      "Train on 1 samples, validate on 1 samples\n",
      "Epoch 1/50\n",
      "\n",
      "Epoch 00001: val_loss improved from inf to 83.25948, saving model to out/1-time-model.hdf5\n",
      "1/1 [==============================] - 1s 748ms/step - loss: 6.4234 - val_loss: 83.2595\n",
      "Epoch 2/50\n",
      "\n",
      "Epoch 00002: val_loss improved from 83.25948 to 82.66955, saving model to out/1-time-model.hdf5\n",
      "1/1 [==============================] - 0s 217ms/step - loss: 0.2943 - val_loss: 82.6695\n",
      "Epoch 3/50\n",
      "\n",
      "Epoch 00003: val_loss did not improve from 82.66955\n",
      "1/1 [==============================] - 0s 206ms/step - loss: 0.1076 - val_loss: 83.2570\n",
      "Epoch 4/50\n",
      "\n",
      "Epoch 00004: val_loss improved from 82.66955 to 82.58733, saving model to out/1-time-model.hdf5\n",
      "1/1 [==============================] - 0s 232ms/step - loss: 0.2261 - val_loss: 82.5873\n",
      "Epoch 5/50\n",
      "\n",
      "Epoch 00005: val_loss did not improve from 82.58733\n",
      "1/1 [==============================] - 0s 210ms/step - loss: 0.0974 - val_loss: 83.2530\n",
      "Epoch 6/50\n",
      "\n",
      "Epoch 00006: val_loss improved from 82.58733 to 82.47087, saving model to out/1-time-model.hdf5\n",
      "1/1 [==============================] - 0s 219ms/step - loss: 0.1707 - val_loss: 82.4709\n",
      "Epoch 7/50\n",
      "\n",
      "Epoch 00007: val_loss did not improve from 82.47087\n",
      "1/1 [==============================] - 0s 224ms/step - loss: 0.3155 - val_loss: 83.1331\n",
      "Epoch 8/50\n",
      "\n",
      "Epoch 00008: val_loss did not improve from 82.47087\n",
      "1/1 [==============================] - 0s 206ms/step - loss: 0.1221 - val_loss: 82.6487\n",
      "Epoch 9/50\n",
      "\n",
      "Epoch 00009: val_loss did not improve from 82.47087\n",
      "1/1 [==============================] - 0s 210ms/step - loss: 0.0152 - val_loss: 82.4896\n",
      "Epoch 10/50\n",
      "\n",
      "Epoch 00010: val_loss improved from 82.47087 to 80.94027, saving model to out/1-time-model.hdf5\n",
      "1/1 [==============================] - 0s 219ms/step - loss: 6.2862 - val_loss: 80.9403\n",
      "Epoch 11/50\n",
      "\n",
      "Epoch 00011: val_loss did not improve from 80.94027\n",
      "1/1 [==============================] - 0s 209ms/step - loss: 0.1421 - val_loss: 81.3374\n",
      "Epoch 12/50\n",
      "\n",
      "Epoch 00012: val_loss did not improve from 80.94027\n",
      "1/1 [==============================] - 0s 209ms/step - loss: 0.0101 - val_loss: 81.2307\n",
      "Epoch 13/50\n",
      "\n",
      "Epoch 00013: val_loss did not improve from 80.94027\n",
      "1/1 [==============================] - 0s 209ms/step - loss: 0.0111 - val_loss: 81.3300\n",
      "Epoch 14/50\n",
      "\n",
      "Epoch 00014: val_loss did not improve from 80.94027\n",
      "1/1 [==============================] - 0s 222ms/step - loss: 0.0204 - val_loss: 81.1953\n",
      "Epoch 15/50\n",
      "\n",
      "Epoch 00015: val_loss did not improve from 80.94027\n",
      "1/1 [==============================] - 0s 212ms/step - loss: 0.0038 - val_loss: 81.1315\n",
      "Epoch 16/50\n",
      "\n",
      "Epoch 00016: val_loss did not improve from 80.94027\n",
      "1/1 [==============================] - 0s 210ms/step - loss: 9.1005e-04 - val_loss: 81.1610\n",
      "Epoch 17/50\n",
      "\n",
      "Epoch 00017: val_loss did not improve from 80.94027\n",
      "1/1 [==============================] - 0s 212ms/step - loss: 1.0310e-04 - val_loss: 81.1705\n",
      "Epoch 18/50\n",
      "\n",
      "Epoch 00018: val_loss did not improve from 80.94027\n",
      "1/1 [==============================] - 0s 206ms/step - loss: 3.7506e-04 - val_loss: 81.1915\n",
      "Epoch 19/50\n",
      "\n",
      "Epoch 00019: val_loss did not improve from 80.94027\n",
      "1/1 [==============================] - 0s 210ms/step - loss: 7.6474e-05 - val_loss: 81.2000\n",
      "Epoch 20/50\n",
      "\n",
      "Epoch 00020: val_loss did not improve from 80.94027\n",
      "1/1 [==============================] - 0s 211ms/step - loss: 0.0025 - val_loss: 81.2569\n",
      "Epoch 21/50\n",
      "\n",
      "Epoch 00021: val_loss did not improve from 80.94027\n",
      "1/1 [==============================] - 0s 204ms/step - loss: 0.0195 - val_loss: 81.1314\n",
      "Epoch 22/50\n",
      "\n",
      "Epoch 00022: val_loss did not improve from 80.94027\n",
      "1/1 [==============================] - 0s 206ms/step - loss: 0.0051 - val_loss: 81.1991\n",
      "Epoch 23/50\n",
      "\n",
      "Epoch 00023: val_loss did not improve from 80.94027\n",
      "1/1 [==============================] - 0s 209ms/step - loss: 0.0064 - val_loss: 81.1210\n",
      "Epoch 24/50\n",
      "\n",
      "Epoch 00024: val_loss did not improve from 80.94027\n",
      "1/1 [==============================] - 0s 205ms/step - loss: 0.0058 - val_loss: 81.1999\n",
      "Epoch 25/50\n",
      "\n",
      "Epoch 00025: val_loss did not improve from 80.94027\n",
      "1/1 [==============================] - 0s 205ms/step - loss: 0.0386 - val_loss: 81.3920\n",
      "Epoch 26/50\n",
      "\n",
      "Epoch 00026: val_loss did not improve from 80.94027\n",
      "1/1 [==============================] - 0s 207ms/step - loss: 0.0548 - val_loss: 81.1809\n",
      "Epoch 27/50\n",
      "\n",
      "Epoch 00027: val_loss improved from 80.94027 to 79.70286, saving model to out/1-time-model.hdf5\n",
      "1/1 [==============================] - 0s 213ms/step - loss: 5.7306 - val_loss: 79.7029\n",
      "Epoch 28/50\n",
      "\n",
      "Epoch 00028: val_loss did not improve from 79.70286\n",
      "1/1 [==============================] - 0s 205ms/step - loss: 1.2434e-06 - val_loss: 79.7038\n",
      "Epoch 29/50\n",
      "\n",
      "Epoch 00029: val_loss did not improve from 79.70286\n",
      "1/1 [==============================] - 0s 208ms/step - loss: 0.0780 - val_loss: 79.9506\n",
      "Epoch 30/50\n",
      "\n",
      "Epoch 00030: val_loss did not improve from 79.70286\n",
      "1/1 [==============================] - 0s 211ms/step - loss: 0.0186 - val_loss: 79.8357\n",
      "Epoch 31/50\n",
      "\n",
      "Epoch 00031: val_loss did not improve from 79.70286\n",
      "1/1 [==============================] - 0s 211ms/step - loss: 8.4710e-04 - val_loss: 79.8591\n",
      "Epoch 32/50\n",
      "\n",
      "Epoch 00032: val_loss did not improve from 79.70286\n",
      "1/1 [==============================] - 0s 226ms/step - loss: 3.3678e-04 - val_loss: 79.8739\n",
      "Epoch 33/50\n",
      "\n",
      "Epoch 00033: val_loss did not improve from 79.70286\n",
      "1/1 [==============================] - 0s 208ms/step - loss: 0.0024 - val_loss: 79.9155\n",
      "Epoch 34/50\n",
      "\n",
      "Epoch 00034: val_loss did not improve from 79.70286\n",
      "1/1 [==============================] - 0s 207ms/step - loss: 0.0333 - val_loss: 79.7645\n",
      "Epoch 35/50\n",
      "\n",
      "Epoch 00035: val_loss did not improve from 79.70286\n",
      "1/1 [==============================] - 0s 220ms/step - loss: 0.0252 - val_loss: 79.9093\n",
      "Epoch 36/50\n",
      "\n",
      "Epoch 00036: val_loss did not improve from 79.70286\n",
      "1/1 [==============================] - 0s 215ms/step - loss: 0.0184 - val_loss: 79.8086\n",
      "Epoch 37/50\n",
      "\n",
      "Epoch 00037: val_loss improved from 79.70286 to 78.36382, saving model to out/1-time-model.hdf5\n",
      "1/1 [==============================] - 0s 214ms/step - loss: 3.3263 - val_loss: 78.3638\n",
      "Epoch 38/50\n",
      "\n",
      "Epoch 00038: val_loss did not improve from 78.36382\n",
      "1/1 [==============================] - 0s 211ms/step - loss: 0.0647 - val_loss: 78.5951\n",
      "Epoch 39/50\n",
      "\n",
      "Epoch 00039: val_loss did not improve from 78.36382\n",
      "1/1 [==============================] - 0s 210ms/step - loss: 0.0323 - val_loss: 78.4472\n",
      "Epoch 40/50\n",
      "\n",
      "Epoch 00040: val_loss improved from 78.36382 to 77.08883, saving model to out/1-time-model.hdf5\n",
      "1/1 [==============================] - 0s 213ms/step - loss: 1.8935 - val_loss: 77.0888\n",
      "Epoch 41/50\n",
      "\n",
      "Epoch 00041: val_loss did not improve from 77.08883\n",
      "1/1 [==============================] - 0s 212ms/step - loss: 0.0215 - val_loss: 77.2390\n",
      "Epoch 42/50\n",
      "\n",
      "Epoch 00042: val_loss did not improve from 77.08883\n",
      "1/1 [==============================] - 0s 207ms/step - loss: 0.0222 - val_loss: 77.4378\n",
      "Epoch 43/50\n",
      "\n",
      "Epoch 00043: val_loss did not improve from 77.08883\n",
      "1/1 [==============================] - 0s 206ms/step - loss: 0.1260 - val_loss: 77.1313\n",
      "Epoch 44/50\n",
      "\n",
      "Epoch 00044: val_loss improved from 77.08883 to 75.67107, saving model to out/1-time-model.hdf5\n",
      "1/1 [==============================] - 0s 221ms/step - loss: 1.1356 - val_loss: 75.6711\n",
      "Epoch 45/50\n",
      "\n",
      "Epoch 00045: val_loss did not improve from 75.67107\n",
      "1/1 [==============================] - 0s 205ms/step - loss: 0.0644 - val_loss: 75.9136\n",
      "Epoch 46/50\n",
      "\n",
      "Epoch 00046: val_loss did not improve from 75.67107\n",
      "1/1 [==============================] - 0s 209ms/step - loss: 0.0657 - val_loss: 75.7080\n",
      "Epoch 47/50\n",
      "\n",
      "Epoch 00047: val_loss did not improve from 75.67107\n",
      "1/1 [==============================] - 0s 207ms/step - loss: 0.1470 - val_loss: 76.2585\n",
      "Epoch 48/50\n",
      "\n",
      "Epoch 00048: val_loss did not improve from 75.67107\n",
      "1/1 [==============================] - 0s 208ms/step - loss: 0.0042 - val_loss: 76.2051\n",
      "Epoch 49/50\n",
      "\n",
      "Epoch 00049: val_loss improved from 75.67107 to 74.97480, saving model to out/1-time-model.hdf5\n",
      "1/1 [==============================] - 0s 214ms/step - loss: 0.9032 - val_loss: 74.9748\n",
      "Epoch 50/50\n",
      "\n",
      "Epoch 00050: val_loss did not improve from 74.97480\n",
      "1/1 [==============================] - 0s 213ms/step - loss: 0.0915 - val_loss: 75.2970\n"
     ]
    }
   ],
   "source": [
    "import tensorflow as tf\n",
    "from tensorflow.keras.models import Sequential\n",
    "from tensorflow.keras.layers import GRU, Dense, Input, Dropout\n",
    "from tensorflow.keras.callbacks import ModelCheckpoint\n",
    "from tensorflow.keras.callbacks import TensorBoard\n",
    "from tensorflow.keras import backend as K\n",
    "from typing import List\n",
    "from gorani.tfmodels import time_model\n",
    "import time\n",
    "\n",
    "with tf.Graph().as_default():\n",
    "    with tf.Session() as sess:\n",
    "        K.set_session(sess)\n",
    "        model = time_model(FEATURE_LEN, neuron, dropout)\n",
    "        model.compile(loss='mse', optimizer='adagrad')\n",
    "        filepath = \"out/{}-time-model.hdf5\".format(user_id)\n",
    "        checkpoint = ModelCheckpoint(filepath, monitor='val_loss', verbose=1, save_best_only=True, mode='min')\n",
    "        tensorboard = TensorBoard(log_dir='out/logs/{}-{}-{}-time-model-{}'.format(user_id, neuron, dropout, time.time()), histogram_freq=1,\n",
    "                                  write_graph=True, write_images=False)\n",
    "\n",
    "        history = model.fit(x_train, y_train, epochs=50, batch_size=int(x_train.shape[0]/20+1), verbose=1, validation_data=(x_valid, y_valid), callbacks=[checkpoint, tensorboard])\n"
   ]
  },
  {
   "cell_type": "code",
   "execution_count": null,
   "metadata": {},
   "outputs": [],
   "source": []
  }
 ],
 "metadata": {
  "kernelspec": {
   "display_name": "Python 3",
   "language": "python",
   "name": "python3"
  },
  "language_info": {
   "codemirror_mode": {
    "name": "ipython",
    "version": 3
   },
   "file_extension": ".py",
   "mimetype": "text/x-python",
   "name": "python",
   "nbconvert_exporter": "python",
   "pygments_lexer": "ipython3",
   "version": "3.6.7"
  }
 },
 "nbformat": 4,
 "nbformat_minor": 2
}
