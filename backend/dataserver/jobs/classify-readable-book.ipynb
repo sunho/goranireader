{
 "cells": [
  {
   "cell_type": "code",
   "execution_count": 1,
   "metadata": {},
   "outputs": [],
   "source": [
    "#\n",
    "# Copyright © 2019 Sunho Kim. All rights reserved.\n",
    "#"
   ]
  },
  {
   "cell_type": "code",
   "execution_count": 2,
   "metadata": {},
   "outputs": [
    {
     "name": "stdout",
     "output_type": "stream",
     "text": [
      "/gorani/gorani/backend/dataserver\n"
     ]
    }
   ],
   "source": [
    "cd .."
   ]
  },
  {
   "cell_type": "code",
   "execution_count": 3,
   "metadata": {},
   "outputs": [],
   "source": [
    "from pyspark.sql import SparkSession, DataFrame\n",
    "\n",
    "spark = SparkSession\\\n",
    "    .builder\\\n",
    "    .appName('Classify Readable Book')\\\n",
    "    .getOrCreate()\n",
    "sc = spark.sparkContext"
   ]
  },
  {
   "cell_type": "code",
   "execution_count": 4,
   "metadata": {
    "tags": [
     "parameters"
    ]
   },
   "outputs": [],
   "source": [
    "# parameters\n",
    "auwpp_threshold = 0.3\n",
    "wps_threshold = 67 / 60"
   ]
  },
  {
   "cell_type": "code",
   "execution_count": 5,
   "metadata": {},
   "outputs": [
    {
     "name": "stdout",
     "output_type": "stream",
     "text": [
      "+-------+-------+--------------------+\n",
      "|user_id|book_id|                 wps|\n",
      "+-------+-------+--------------------+\n",
      "|      1|      1|0.006869354610488...|\n",
      "|      1|      2|0.007883862960282604|\n",
      "|      1|      3|0.008877511374808172|\n",
      "|      1|      4| 0.00824404921373138|\n",
      "|      1|      5|0.004454638506915118|\n",
      "|      1|      6|0.007305833782678706|\n",
      "+-------+-------+--------------------+\n",
      "\n",
      "+-------+-------+----------+\n",
      "|user_id|book_id|     auwpp|\n",
      "+-------+-------+----------+\n",
      "|      1|      1| 0.9992443|\n",
      "|      1|      2|0.99113923|\n",
      "|      1|      3|0.99249524|\n",
      "|      1|      4| 0.9906931|\n",
      "|      1|      5| 0.9941841|\n",
      "|      1|      6| 0.9980638|\n",
      "+-------+-------+----------+\n",
      "\n"
     ]
    }
   ],
   "source": [
    "from gorani.spark import read_data_all\n",
    "import pyspark.sql.functions as F\n",
    "\n",
    "time_df = read_data_all(spark, 'book_estimated_time')\\\n",
    "        .select('user_id', 'book_id', (F.col('estimated_time') / F.col('total_words')).alias('wps'))\n",
    "time_df.show()\n",
    "\n",
    "auwpp_df = read_data_all(spark, 'user_auwpps')\n",
    "auwpp_df.show()"
   ]
  },
  {
   "cell_type": "code",
   "execution_count": 12,
   "metadata": {},
   "outputs": [
    {
     "name": "stdout",
     "output_type": "stream",
     "text": [
      "success\n"
     ]
    }
   ],
   "source": [
    "from gorani.spark import write_data\n",
    "result_df = time_df.join(auwpp_df.alias('f'), (time_df['user_id'] == auwpp_df['user_id']) & (time_df['book_id'] == auwpp_df['book_id']), 'inner')\\\n",
    "        .drop(F.col('f.user_id'))\\\n",
    "        .drop(F.col('f.book_id'))\\\n",
    "        .where((F.col('auwpp') <= auwpp_threshold) & (F.col('wps') <= wps_threshold))\\\n",
    "        .drop(F.col('wps'))\\\n",
    "        .drop(F.col('auwpp'))\n",
    "\n",
    "write_data('readable_books', result_df)\n",
    "\n",
    "print('success')"
   ]
  },
  {
   "cell_type": "code",
   "execution_count": null,
   "metadata": {},
   "outputs": [],
   "source": []
  }
 ],
 "metadata": {
  "celltoolbar": "Tags",
  "kernelspec": {
   "display_name": "pyspark",
   "language": "python",
   "name": "pyspark"
  },
  "language_info": {
   "codemirror_mode": {
    "name": "ipython",
    "version": 3
   },
   "file_extension": ".py",
   "mimetype": "text/x-python",
   "name": "python",
   "nbconvert_exporter": "python",
   "pygments_lexer": "ipython3",
   "version": "3.6.7"
  }
 },
 "nbformat": 4,
 "nbformat_minor": 2
}
