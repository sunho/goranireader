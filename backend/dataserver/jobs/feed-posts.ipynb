{
 "cells": [
  {
   "cell_type": "code",
   "execution_count": 1,
   "metadata": {},
   "outputs": [],
   "source": [
    "#\n",
    "# Copyright © 2019 Sunho Kim. All rights reserved.\n",
    "#"
   ]
  },
  {
   "cell_type": "code",
   "execution_count": 2,
   "metadata": {},
   "outputs": [
    {
     "name": "stdout",
     "output_type": "stream",
     "text": [
      "/gorani/gorani/backend/dataserver\n"
     ]
    }
   ],
   "source": [
    "cd .."
   ]
  },
  {
   "cell_type": "code",
   "execution_count": 3,
   "metadata": {},
   "outputs": [],
   "source": [
    "from pyspark.sql import SparkSession, DataFrame\n",
    "\n",
    "spark = SparkSession\\\n",
    "    .builder\\\n",
    "    .appName('App Name')\\\n",
    "    .getOrCreate()\n",
    "sc = spark.sparkContext"
   ]
  },
  {
   "cell_type": "code",
   "execution_count": 4,
   "metadata": {
    "tags": [
     "parameters"
    ]
   },
   "outputs": [],
   "source": [
    "# parameters\n"
   ]
  },
  {
   "cell_type": "code",
   "execution_count": 5,
   "metadata": {},
   "outputs": [],
   "source": [
    "from gorani.spark import read_api_all, read_data_all, write_api\n",
    "\n",
    "cb_df = read_data_all(spark, 'completed_books')\n",
    "\n",
    "post_df = read_api_all(spark, 'sentence_posts').select('book_id', 'id')\n",
    "\n",
    "fp_df = read_api_all(spark, 'feed_posts')"
   ]
  },
  {
   "cell_type": "code",
   "execution_count": 6,
   "metadata": {},
   "outputs": [],
   "source": [
    "import pyspark.sql.functions as F\n",
    "from gorani.utils import uuid\n",
    "\n",
    "df = cb_df.join(post_df.alias('p'), cb_df['book_id'] == post_df['book_id'], 'inner')\\\n",
    "    .select(F.col('id').alias('post_id'), 'p.book_id', 'user_id')\n",
    "df = df.join(fp_df, (df['post_id'] == fp_df['post_id']) & (df['user_id'] == fp_df['user_id']), 'left_anti')\\\n",
    "        .select('user_id', 'post_id')\\\n",
    "        .withColumn('id', uuid())\\\n",
    "        .withColumn('updated_at', F.current_timestamp())\\\n",
    "        .withColumn('created_at', F.current_timestamp())\n",
    "\n",
    "write_api('feed_posts', df)"
   ]
  },
  {
   "cell_type": "code",
   "execution_count": null,
   "metadata": {},
   "outputs": [],
   "source": []
  }
 ],
 "metadata": {
  "celltoolbar": "Tags",
  "kernelspec": {
   "display_name": "pyspark",
   "language": "python",
   "name": "pyspark"
  },
  "language_info": {
   "codemirror_mode": {
    "name": "ipython",
    "version": 3
   },
   "file_extension": ".py",
   "mimetype": "text/x-python",
   "name": "python",
   "nbconvert_exporter": "python",
   "pygments_lexer": "ipython3",
   "version": "3.6.7"
  }
 },
 "nbformat": 4,
 "nbformat_minor": 2
}
