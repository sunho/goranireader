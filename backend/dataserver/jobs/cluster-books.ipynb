{
 "cells": [
  {
   "cell_type": "code",
   "execution_count": 1,
   "metadata": {},
   "outputs": [],
   "source": [
    "#\n",
    "# Copyright © 2019 Sunho Kim. All rights reserved.\n",
    "#"
   ]
  },
  {
   "cell_type": "code",
   "execution_count": 2,
   "metadata": {},
   "outputs": [],
   "source": [
    "from pyspark.sql import SparkSession, DataFrame\n",
    "\n",
    "spark = SparkSession\\\n",
    "    .builder\\\n",
    "    .appName('Cluster Books')\\\n",
    "    .getOrCreate()\n",
    "sc = spark.sparkContext"
   ]
  },
  {
   "cell_type": "code",
   "execution_count": 3,
   "metadata": {
    "tags": [
     "parameters"
    ]
   },
   "outputs": [],
   "source": [
    "# parameters\n",
    "k = 2\n",
    "iteration = 100"
   ]
  },
  {
   "cell_type": "code",
   "execution_count": 5,
   "metadata": {},
   "outputs": [
    {
     "name": "stdout",
     "output_type": "stream",
     "text": [
      "+---+--------------------+\n",
      "| id|                name|\n",
      "+---+--------------------+\n",
      "|  1|Valentin Haüy - t...|\n",
      "|  2|Valentin Haüy - t...|\n",
      "|  3|Valentin Haüy - t...|\n",
      "+---+--------------------+\n",
      "\n"
     ]
    }
   ],
   "source": [
    "import pyspark.sql.functions as F\n",
    "from pyspark.ml.feature import CountVectorizer, Normalizer\n",
    "from pyspark.mllib.linalg.distributed import IndexedRow, IndexedRowMatrix\n",
    "\n",
    "from gorani.spark import read_data_all, write_data\n",
    "from gorani.utils import sparse_to_array\n",
    "\n",
    "SIMILARITY_TYPE = 'cosine'\n",
    "\n",
    "words = read_data_all(spark, 'words', cache = True)\n",
    "books = read_data_all(spark, 'books')\n",
    "print('book list:')\n",
    "books.select('id','name').orderBy('id').show()"
   ]
  },
  {
   "cell_type": "code",
   "execution_count": 13,
   "metadata": {},
   "outputs": [],
   "source": [
    "cv = CountVectorizer()\\\n",
    "    .setInputCol('content')\\\n",
    "    .setOutputCol('tf')\\\n",
    "    .setVocabSize(words.count())\n",
    "cv = cv.fit(books)\n",
    "\n",
    "nor = Normalizer()\\\n",
    "    .setInputCol('tf')\\\n",
    "    .setOutputCol('norm')\n",
    "\n",
    "# normalized book-wordcount matrix\n",
    "tf_mat = nor.transform(cv.transform(books))\n",
    "\n",
    "# convert to SparseMatrix to BlockMatrix\n",
    "mat = IndexedRowMatrix(\n",
    "tf_mat.select(\"id\", \"norm\")\\\n",
    "    .rdd.map(lambda row: IndexedRow(row['id'], row['norm'].toArray())))\\\n",
    "    .toBlockMatrix()\n",
    "\n",
    "# cosine similarity\n",
    "sim_mat_df = mat.multiply(mat.transpose())\\\n",
    "    .toIndexedRowMatrix()\\\n",
    "    .rows.toDF()\n",
    "\n",
    "# change schema\n",
    "sim_af = sim_mat_df.select(F.col('index').alias('id'), F.posexplode(sparse_to_array('vector')))\\\n",
    "    .select('id', F.col('pos').alias('other_id'), F.col('col').alias('value'))\\\n",
    "    .where('id < other_id AND id != 0')\\\n",
    "    .rdd.map(lambda x: tuple([x['id'], x['other_id'], float(x['value'])]))\n"
   ]
  },
  {
   "cell_type": "code",
   "execution_count": 11,
   "metadata": {},
   "outputs": [
    {
     "name": "stdout",
     "output_type": "stream",
     "text": [
      "sim mat:\n"
     ]
    },
    {
     "data": {
      "text/plain": [
       "Text(0.5, 1, 'Book similarity matrix')"
      ]
     },
     "execution_count": 11,
     "metadata": {},
     "output_type": "execute_result"
    },
    {
     "data": {
      "image/png": "[encoded data removed]",
      "text/plain": [
       "<Figure size 288x288 with 2 Axes>"
      ]
     },
     "metadata": {
      "needs_background": "light"
     },
     "output_type": "display_data"
    }
   ],
   "source": [
    "cords = sim_af.collect()\n",
    "size = books.count() + 1\n",
    "matrix = [[0 for x in range(size)] for y in range(size)] \n",
    "for cord in cords:\n",
    "    matrix[cord[0]][cord[0]] = 1\n",
    "    matrix[cord[1]][cord[1]] = 1\n",
    "    matrix[cord[0]][cord[1]] = cord[2]\n",
    "    matrix[cord[1]][cord[0]] = cord[2]\n",
    "\n",
    "import matplotlib.pyplot as plt\n",
    "import seaborn as sns\n",
    "fig = plt.figure(figsize=(size,size))\n",
    "r = sns.heatmap(matrix, cmap='BuPu')\n",
    "r.set_title(\"Book similarity matrix\")"
   ]
  },
  {
   "cell_type": "code",
   "execution_count": 12,
   "metadata": {},
   "outputs": [
    {
     "name": "stdout",
     "output_type": "stream",
     "text": [
      "result\n",
      "+-------+--------------------+\n",
      "|cluster|                name|\n",
      "+-------+--------------------+\n",
      "|      0|Valentin Haüy - t...|\n",
      "|      0|Valentin Haüy - t...|\n",
      "|      1|Valentin Haüy - t...|\n",
      "+-------+--------------------+\n",
      "\n"
     ]
    }
   ],
   "source": [
    "from pyspark.mllib.clustering import PowerIterationClustering, PowerIterationClusteringModel\n",
    "from pyspark.sql import Row\n",
    "\n",
    "model = PowerIterationClustering.train(sim_af, k, iteration)\n",
    "df = model.assignments().toDF()\n",
    "\n",
    "write_data('cluster_books', df)\n",
    "write_data('book_cluster', df)\n",
    "\n",
    "print('result:')\n",
    "books.select('id', 'name').join(df, df['id']==books['id'], 'inner').select('cluster','name').orderBy('cluster').show()"
   ]
  },
  {
   "cell_type": "code",
   "execution_count": null,
   "metadata": {},
   "outputs": [],
   "source": []
  }
 ],
 "metadata": {
  "celltoolbar": "Tags",
  "kernelspec": {
   "display_name": "pyspark",
   "language": "python",
   "name": "pyspark"
  }
 },
 "nbformat": 4,
 "nbformat_minor": 2
}
