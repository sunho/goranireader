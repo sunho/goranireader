{
 "cells": [
  {
   "cell_type": "code",
   "execution_count": 1,
   "metadata": {},
   "outputs": [],
   "source": [
    "#\n",
    "# Copyright © 2019 Sunho Kim. All rights reserved.\n",
    "#"
   ]
  },
  {
   "cell_type": "code",
   "execution_count": 2,
   "metadata": {},
   "outputs": [
    {
     "name": "stdout",
     "output_type": "stream",
     "text": [
      "/home/sunho/Documents/dev/gorani-reader/backend/dataserver\n"
     ]
    }
   ],
   "source": [
    "cd .."
   ]
  },
  {
   "cell_type": "code",
   "execution_count": 3,
   "metadata": {},
   "outputs": [],
   "source": [
    "from pyspark.sql import SparkSession, DataFrame\n",
    "\n",
    "spark = SparkSession\\\n",
    "    .builder\\\n",
    "    .appName('Create Book')\\\n",
    "    .getOrCreate()\n",
    "sc = spark.sparkContext"
   ]
  },
  {
   "cell_type": "code",
   "execution_count": 4,
   "metadata": {
    "tags": [
     "parameters"
    ]
   },
   "outputs": [],
   "source": [
    "# parameters\n",
    "lib_path = './in'"
   ]
  },
  {
   "cell_type": "code",
   "execution_count": 8,
   "metadata": {},
   "outputs": [
    {
     "name": "stdout",
     "output_type": "stream",
     "text": [
      "['./in/1.epub']\n"
     ]
    }
   ],
   "source": [
    "from os import listdir\n",
    "from os.path import isfile, join\n",
    "files = [join(lib_path, f) for f in listdir(lib_path) if isfile(join(lib_path, f)) and f.endswith('.epub')]\n",
    "print(files)"
   ]
  },
  {
   "cell_type": "code",
   "execution_count": 12,
   "metadata": {},
   "outputs": [
    {
     "name": "stdout",
     "output_type": "stream",
     "text": [
      "success\n"
     ]
    }
   ],
   "source": [
    "import pyspark.sql.functions as F\n",
    "from gorani.spark import write_data, read_data_all\n",
    "from ebooklib import epub\n",
    "from nltk.corpus import stopwords\n",
    "from nltk import word_tokenize\n",
    "from nltk.stem import WordNetLemmatizer\n",
    "\n",
    "def get_id(file):\n",
    "    import re\n",
    "    p = re.compile('.+?([0-9]+?)\\.epub')\n",
    "    match = p.match(file)\n",
    "    return int(match.group(1))\n",
    "\n",
    "def clean_html(html):\n",
    "    from bs4 import BeautifulSoup\n",
    "    soup = BeautifulSoup(html)\n",
    "    for script in soup(['script', 'style']):\n",
    "        script.extract()\n",
    "\n",
    "    text = soup.get_text()\n",
    "    lines = (line.strip() for line in text.splitlines())\n",
    "    chunks = (phrase.strip() for line in lines for phrase in line.split(\"  \"))\n",
    "    text = '\\n'.join(chunk for chunk in chunks if chunk)\n",
    "    return text\n",
    "\n",
    "def convert_to_book_words(df, id):\n",
    "    df = df.groupBy('word').count()\\\n",
    "        .select('word', F.col('count').alias('n'))\\\n",
    "        .withColumn('book_id', F.lit(id))\n",
    "    write_data('book_words',df)\n",
    "\n",
    "def covert_to_book(df, title, id):\n",
    "    df = df.agg(F.collect_list('word').alias('content'))\\\n",
    "    .withColumn('id', F.lit(id))\\\n",
    "    .withColumn('name', F.lit(title))\n",
    "    write_data('books',df)\n",
    "\n",
    "for file in files:\n",
    "    lemmatizer = WordNetLemmatizer()\n",
    "    engstopwords = set(stopwords.words('english'))\n",
    "\n",
    "    book = epub.read_epub(file)\n",
    "    # get html text from epub > words array\n",
    "    df = sc.parallelize(book.items)\\\n",
    "        .filter(lambda item: isinstance(item, epub.EpubHtml))\\\n",
    "        .map(lambda item: item.get_content())\\\n",
    "        .map(clean_html) \\\n",
    "        .flatMap(word_tokenize)\\\n",
    "        .map(lambda s: lemmatizer.lemmatize(s))\\\n",
    "        .map(lambda s: s.lower())\\\n",
    "        .filter(lambda s: s not in engstopwords)\\\n",
    "        .toDF('string')\n",
    "    \n",
    "    # filter out the words not in dictionary\n",
    "    words = read_data_all(spark, 'words', cache=True)\n",
    "    sig_df = df.join(words, df['value'] == words['word'], 'inner')\\\n",
    "        .select('word').cache()\n",
    "\n",
    "    id = get_id(file)\n",
    "    convert_to_book_words(sig_df, id)\n",
    "    covert_to_book(sig_df, book.title, id)\n",
    "\n",
    "print('success')"
   ]
  },
  {
   "cell_type": "code",
   "execution_count": null,
   "metadata": {},
   "outputs": [],
   "source": []
  }
 ],
 "metadata": {
  "celltoolbar": "Tags",
  "kernelspec": {
   "display_name": "pyspark",
   "language": "python",
   "name": "pyspark"
  },
  "language_info": {
   "codemirror_mode": {
    "name": "ipython",
    "version": 3
   },
   "file_extension": ".py",
   "mimetype": "text/x-python",
   "name": "python",
   "nbconvert_exporter": "python",
   "pygments_lexer": "ipython3",
   "version": "3.6.7"
  }
 },
 "nbformat": 4,
 "nbformat_minor": 2
}
